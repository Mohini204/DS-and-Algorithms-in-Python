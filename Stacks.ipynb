{
 "cells": [
  {
   "cell_type": "markdown",
   "id": "2a82972b",
   "metadata": {},
   "source": [
    "#### Stack Implementation Using Arrays"
   ]
  },
  {
   "cell_type": "code",
   "execution_count": 2,
   "id": "f4035552",
   "metadata": {},
   "outputs": [],
   "source": [
    "class Stack:\n",
    "    \n",
    "    def __init__(self):\n",
    "        self.__data = []\n",
    "    \n",
    "    def push(self,ele):\n",
    "        \n",
    "        self.__data.append(ele)\n",
    "            \n",
    "    def pop(self):\n",
    "        \n",
    "        if self.isEmpty():\n",
    "            print('Empty stack!')\n",
    "            return\n",
    "                      \n",
    "        return self.__data.pop()\n",
    "    \n",
    "    def top(self):\n",
    "        \n",
    "        if self.isEmpty():\n",
    "            print('Empty stack!')\n",
    "            return\n",
    "        \n",
    "        return __data[len(self.__data)-1]\n",
    "    \n",
    "    def size(self):\n",
    "        \n",
    "        return len(self.__data)\n",
    "    \n",
    "    def isEmpty(self):\n",
    "        \n",
    "        return self.size() == 0"
   ]
  },
  {
   "cell_type": "code",
   "execution_count": 6,
   "id": "0e59c704",
   "metadata": {},
   "outputs": [
    {
     "name": "stdout",
     "output_type": "stream",
     "text": [
      "30\n",
      "20\n",
      "10\n",
      "0\n"
     ]
    }
   ],
   "source": [
    "s = Stack()\n",
    "s.push(10)\n",
    "s.push(20)\n",
    "s.push(30)\n",
    "while s.isEmpty() is False:\n",
    "    \n",
    "    print(s.pop())\n",
    "print(s.size())"
   ]
  },
  {
   "cell_type": "markdown",
   "id": "8f9fe53c",
   "metadata": {},
   "source": [
    "#### Stack Implementation using Linked List"
   ]
  },
  {
   "cell_type": "code",
   "execution_count": 34,
   "id": "f62066dd",
   "metadata": {},
   "outputs": [],
   "source": [
    "class Node:\n",
    "    \n",
    "    def __init__(self,data):\n",
    "        self.data = data\n",
    "        self.next = None\n",
    "\n",
    "\n",
    "class StackLL:\n",
    "    \n",
    "    \n",
    "    def __init__(self):\n",
    "        self.__head = None\n",
    "        self.__count = 0\n",
    "        \n",
    "    def push(self,data):\n",
    "        \n",
    "        newNode = Node(data)\n",
    "\n",
    "        newNode.next = self.__head\n",
    "        self.__head = newNode\n",
    "        self.__count+=1\n",
    "\n",
    "            \n",
    "    def pop(self):\n",
    "        \n",
    "        if self.isEmpty():\n",
    "            print('Empty stack!')\n",
    "            return\n",
    "        \n",
    "        if self.__head.next == None:\n",
    "            self.__head = None\n",
    "            self.__count-=1\n",
    "            return None\n",
    "        \n",
    "        data = self.__head.data\n",
    "        self.__head = self.__head.next\n",
    "        self.__count-=1\n",
    "        \n",
    "        return data\n",
    "    \n",
    "    def top(self):\n",
    "        \n",
    "        if self.isEmpty():\n",
    "            print('Empty stack!')\n",
    "            return\n",
    "        \n",
    "        return self.__head.data\n",
    "    \n",
    "    def size(self):\n",
    "           \n",
    "        return self.__count\n",
    "    \n",
    "    def isEmpty(self):\n",
    "        \n",
    "        return self.size() == 0\n"
   ]
  },
  {
   "cell_type": "code",
   "execution_count": 35,
   "id": "b7d35e43",
   "metadata": {},
   "outputs": [],
   "source": [
    "s = StackLL()"
   ]
  },
  {
   "cell_type": "code",
   "execution_count": 36,
   "id": "597eb84c",
   "metadata": {},
   "outputs": [
    {
     "name": "stdout",
     "output_type": "stream",
     "text": [
      "0\n",
      "Empty stack!\n"
     ]
    }
   ],
   "source": [
    "s.push(13)\n",
    "s.pop()\n",
    "s.isEmpty()\n",
    "print(s.size())\n",
    "s.top()"
   ]
  },
  {
   "cell_type": "markdown",
   "id": "5dd65b95",
   "metadata": {},
   "source": [
    "#### Inbuilt Queue Library Functions"
   ]
  },
  {
   "cell_type": "code",
   "execution_count": 38,
   "id": "66094bae",
   "metadata": {},
   "outputs": [
    {
     "name": "stdout",
     "output_type": "stream",
     "text": [
      "9\n",
      "5\n",
      "3\n",
      "4\n"
     ]
    }
   ],
   "source": [
    "import queue\n",
    "\n",
    "s = queue.Queue()\n",
    "#put method enqueues\n",
    "s.put(9)\n",
    "s.put(5)\n",
    "s.put(3)\n",
    "s.put(4)\n",
    "while not s.empty():\n",
    "    print(s.get()) #get method dequeues"
   ]
  },
  {
   "cell_type": "markdown",
   "id": "d6193793",
   "metadata": {},
   "source": [
    "#### Inbuilt LifoQueue class that does LIFO (Stack) operations"
   ]
  },
  {
   "cell_type": "code",
   "execution_count": 39,
   "id": "d02db6cf",
   "metadata": {},
   "outputs": [
    {
     "name": "stdout",
     "output_type": "stream",
     "text": [
      "4\n",
      "3\n",
      "5\n",
      "9\n"
     ]
    }
   ],
   "source": [
    "s = queue.LifoQueue()\n",
    "s.put(9)\n",
    "s.put(5)\n",
    "s.put(3)\n",
    "s.put(4)\n",
    "while not s.empty():\n",
    "    print(s.get())"
   ]
  },
  {
   "cell_type": "markdown",
   "id": "1219b142",
   "metadata": {},
   "source": [
    "#### Balanced Paranthesis"
   ]
  },
  {
   "cell_type": "code",
   "execution_count": 50,
   "id": "18a68ab5",
   "metadata": {},
   "outputs": [],
   "source": [
    "class Stack:\n",
    "    \n",
    "    def __init__(self):\n",
    "        self.li = []\n",
    "        \n",
    "    def push(self,item):\n",
    "        self.li.append(item)\n",
    "        \n",
    "    def pop(self):\n",
    "        if self.isEmpty():\n",
    "            return -1\n",
    "        \n",
    "        return self.li.pop()\n",
    "    \n",
    "    def top(self):\n",
    "        if self.isEmpty():\n",
    "            return -1\n",
    "        \n",
    "        return self.li[len(self.li)-1]\n",
    "    \n",
    "    def size(self):\n",
    "        return len(self.li)\n",
    "    \n",
    "    def isEmpty(self):\n",
    "        return self.size() == 0"
   ]
  },
  {
   "cell_type": "code",
   "execution_count": 51,
   "id": "b67b2cd8",
   "metadata": {},
   "outputs": [
    {
     "name": "stdout",
     "output_type": "stream",
     "text": [
      "16\n",
      "2\n",
      "False\n"
     ]
    }
   ],
   "source": [
    "s = Stack()\n",
    "s.push(12)\n",
    "s.push(14)\n",
    "s.push(16)\n",
    "print(s.pop())\n",
    "print(s.size())\n",
    "print(s.isEmpty())"
   ]
  },
  {
   "cell_type": "code",
   "execution_count": 65,
   "id": "a4dce8a0",
   "metadata": {},
   "outputs": [],
   "source": [
    "def isBalanced(expression):\n",
    "    \n",
    "    s = Stack()\n",
    "    \n",
    "    for str in expression:\n",
    "        \n",
    "        if str == '(':\n",
    "            s.push(str)\n",
    "            \n",
    "        elif s.isEmpty() is True and str == ')':\n",
    "            return False\n",
    "            \n",
    "        elif str == ')' and s.isEmpty() is False:\n",
    "            s.pop()\n",
    "    \n",
    "    if s.isEmpty():\n",
    "        return True\n",
    "    \n",
    "    return False"
   ]
  },
  {
   "cell_type": "code",
   "execution_count": 67,
   "id": "2f6b07f7",
   "metadata": {},
   "outputs": [
    {
     "name": "stdout",
     "output_type": "stream",
     "text": [
      "true\n"
     ]
    }
   ],
   "source": [
    "expression = '(())'\n",
    "isBalanced(expression)\n",
    "if isBalanced(expression):\n",
    "    print('true')\n",
    "else:\n",
    "    print('false')"
   ]
  },
  {
   "cell_type": "markdown",
   "id": "fffb14d6",
   "metadata": {},
   "source": [
    "#### Reverse Stack"
   ]
  },
  {
   "cell_type": "code",
   "execution_count": 94,
   "id": "49909381",
   "metadata": {},
   "outputs": [],
   "source": [
    "def reverseStack(inputStack, extraStack) :\n",
    "    if len(inputStack) == 0:\n",
    "        return\n",
    "    \n",
    "    #move n-1 elements to empty stack\n",
    "    while (len(inputStack) != 1):\n",
    "        extraStack.append(inputStack.pop())\n",
    "    \n",
    "    #store last ele \n",
    "    lastele = inputStack.pop()\n",
    "    \n",
    "    #move back all the elements to the input stack\n",
    "    while (len(extraStack) != 0):\n",
    "        inputStack.append(extraStack.pop())\n",
    "        \n",
    "    reverseStack(inputStack, extraStack)    \n",
    "    inputStack.append(lastele)\n",
    "    print(inputStack)"
   ]
  },
  {
   "cell_type": "code",
   "execution_count": 95,
   "id": "f4b39961",
   "metadata": {},
   "outputs": [
    {
     "name": "stdout",
     "output_type": "stream",
     "text": [
      "[3]\n",
      "[3, 2]\n",
      "[3, 2, 1]\n"
     ]
    }
   ],
   "source": [
    "inputStack = [1,2,3]\n",
    "extraStack = list()\n",
    "reverseStack(inputStack, extraStack)"
   ]
  },
  {
   "cell_type": "code",
   "execution_count": 147,
   "id": "ca7b1378",
   "metadata": {},
   "outputs": [],
   "source": [
    "def checkRedundantBrackets(expression) :\n",
    "    \n",
    "    s = list()\n",
    "    i = 0\n",
    "\n",
    "    while i<len(expression):\n",
    "        \n",
    "        count = 0\n",
    "        \n",
    "        while expression[i] != ')':\n",
    "            s.append(expression[i])\n",
    "            i+=1\n",
    "            print('i ',i)\n",
    "        \n",
    "        i+=1\n",
    "        \n",
    "        while s[-1] != '(' and len(s) != 0:\n",
    "            count+=1\n",
    "            between = s.pop()\n",
    "            \n",
    "        s.pop()\n",
    "        \n",
    "        if count == 0:\n",
    "            return True\n",
    "        \n",
    "        if count == 1 and (between != '+' or between != '-' or between != '*' or between != '/'):\n",
    "            return True\n",
    "        \n",
    "    return False\n",
    "        "
   ]
  },
  {
   "cell_type": "code",
   "execution_count": 148,
   "id": "8e35383f",
   "metadata": {},
   "outputs": [
    {
     "name": "stdout",
     "output_type": "stream",
     "text": [
      "i  1\n",
      "i  2\n",
      "i  3\n",
      "i  4\n",
      "false\n"
     ]
    }
   ],
   "source": [
    "expression = '(a+b)'\n",
    "ans = checkRedundantBrackets(expression)\n",
    "if ans:\n",
    "    print('true')\n",
    "else:\n",
    "    print('false')"
   ]
  },
  {
   "cell_type": "code",
   "execution_count": 29,
   "id": "29c50fb7",
   "metadata": {},
   "outputs": [],
   "source": [
    "def stockSpan(price, n) :\n",
    "    \n",
    "    s = list()\n",
    "    ans = list()\n",
    "    \n",
    "    #initialization\n",
    "    s.append(0)\n",
    "    ans.append(1)\n",
    "    bp = price[0]\n",
    "    bpidx = 0\n",
    "    i = 1\n",
    "    \n",
    "    while i < len(price):\n",
    "\n",
    "        if price[i] > bp:\n",
    "            \n",
    "            while len(s) != 0:\n",
    "                s.pop()\n",
    "                \n",
    "            s.append(i)\n",
    "            span = i+1\n",
    "            ans.append(span)\n",
    "            bp = price[i]\n",
    "            bpidx = i\n",
    "        \n",
    "        else:\n",
    "            \n",
    "            s.append(i)\n",
    "            span = 1\n",
    "            j = i-1\n",
    "            \n",
    "            while j>bpidx:\n",
    "                if price[i]>price[j]:\n",
    "                    span+=1\n",
    "                    j-=1\n",
    "                else:\n",
    "                    break\n",
    "            ans.append(span)\n",
    "            \n",
    "        i+=1\n",
    "            \n",
    "    return ans"
   ]
  },
  {
   "cell_type": "code",
   "execution_count": 30,
   "id": "cda782b2",
   "metadata": {},
   "outputs": [
    {
     "name": "stdout",
     "output_type": "stream",
     "text": [
      "i  1\n",
      "[1]\n",
      "i  2\n",
      "[1, 1]\n",
      "i  3\n",
      "[1, 1, 1]\n",
      "i  4\n",
      "[1, 1, 1, 2]\n",
      "i  5\n",
      "[1, 1, 1, 2, 1]\n",
      "i  6\n",
      "[1, 1, 1, 2, 1, 4]\n",
      "[1, 1, 1, 2, 1, 4, 6]\n"
     ]
    }
   ],
   "source": [
    "price = [100, 80, 60, 70, 60, 75, 85]\n",
    "ans = stockSpan(price, 7)\n",
    "print(ans)"
   ]
  },
  {
   "cell_type": "code",
   "execution_count": 40,
   "id": "5ebf2fd4",
   "metadata": {},
   "outputs": [],
   "source": [
    "def countBracketReversals(inputString) :\n",
    "    \n",
    "    if len(inputString)%2 != 0:\n",
    "        return -1\n",
    "    \n",
    "    ans = list()\n",
    "        \n",
    "    for ele in inputString:\n",
    "        \n",
    "        if ele == '{':\n",
    "            ans.append(ele)\n",
    "    \n",
    "    for ele in inputString:\n",
    "        \n",
    "        if ele == '}':\n",
    "            if len(ans) != 0:\n",
    "                ans.pop()\n",
    "            \n",
    "    return len(ans)"
   ]
  },
  {
   "cell_type": "code",
   "execution_count": 44,
   "id": "c13a568b",
   "metadata": {},
   "outputs": [
    {
     "name": "stdout",
     "output_type": "stream",
     "text": [
      "2\n"
     ]
    }
   ],
   "source": [
    "inputString = '{{{}'\n",
    "ans = countBracketReversals(inputString)\n",
    "print(ans)"
   ]
  },
  {
   "cell_type": "code",
   "execution_count": 20,
   "id": "b50575b8",
   "metadata": {},
   "outputs": [
    {
     "name": "stdout",
     "output_type": "stream",
     "text": [
      "9\n"
     ]
    }
   ],
   "source": [
    "import queue\n",
    "\n",
    "s = queue.LifoQueue()\n",
    "s.put(4)\n",
    "s.put(9)\n",
    "s.put(7)\n",
    "if s.get() == 7:\n",
    "    print(s.get())"
   ]
  },
  {
   "cell_type": "code",
   "execution_count": 21,
   "id": "6d2b164c",
   "metadata": {},
   "outputs": [
    {
     "data": {
      "text/plain": [
       "0"
      ]
     },
     "execution_count": 21,
     "metadata": {},
     "output_type": "execute_result"
    }
   ],
   "source": [
    "a = []\n",
    "len(a)"
   ]
  },
  {
   "cell_type": "code",
   "execution_count": null,
   "id": "fd7611a6",
   "metadata": {},
   "outputs": [],
   "source": []
  }
 ],
 "metadata": {
  "kernelspec": {
   "display_name": "Python 3",
   "language": "python",
   "name": "python3"
  },
  "language_info": {
   "codemirror_mode": {
    "name": "ipython",
    "version": 3
   },
   "file_extension": ".py",
   "mimetype": "text/x-python",
   "name": "python",
   "nbconvert_exporter": "python",
   "pygments_lexer": "ipython3",
   "version": "3.8.8"
  }
 },
 "nbformat": 4,
 "nbformat_minor": 5
}
