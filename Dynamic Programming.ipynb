{
 "cells": [
  {
   "cell_type": "markdown",
   "id": "8a173886",
   "metadata": {},
   "source": [
    "### Fibonacci Code "
   ]
  },
  {
   "cell_type": "code",
   "execution_count": 1,
   "id": "404d93e8",
   "metadata": {},
   "outputs": [],
   "source": [
    "#Original code\n",
    "\n",
    "def fibb(n):\n",
    "    \n",
    "    #base case\n",
    "    if n == 0 or n == 1:\n",
    "        return n\n",
    "    \n",
    "    #induction hypothesis\n",
    "    ans1 = fibb(n-1)\n",
    "    ans2 = fibb(n-2)\n",
    "    \n",
    "    #induction step\n",
    "    return ans1 + ans2"
   ]
  },
  {
   "cell_type": "code",
   "execution_count": 3,
   "id": "9973e51a",
   "metadata": {},
   "outputs": [
    {
     "name": "stdout",
     "output_type": "stream",
     "text": [
      "8\n",
      "21\n"
     ]
    }
   ],
   "source": [
    "#DP code using recursion\n",
    "\n",
    "def fibb(n, dp):\n",
    "    \n",
    "    #base case\n",
    "    if n == 0 or n == 1:\n",
    "        return n\n",
    "    \n",
    "    #checking if dp list has the ans at the idx \n",
    "    if dp[n-1] == -1:\n",
    "        ans1 = fibb(n-1,dp)\n",
    "        dp[n-1] = ans1\n",
    "    else:\n",
    "        ans1 = dp[n-1]\n",
    "    \n",
    "    if dp[n-2] == -1:\n",
    "        ans2 = fibb(n-2,dp)\n",
    "        dp[n-2] = ans2\n",
    "    else:\n",
    "        ans2 = dp[n-2]\n",
    "    \n",
    "    #induction step\n",
    "    return ans1 + ans2\n",
    "\n",
    "n = int(input())\n",
    "dp = [-1 for i in range(n+1)]\n",
    "ans = fibb(n, dp)\n",
    "print(ans)"
   ]
  },
  {
   "cell_type": "code",
   "execution_count": 24,
   "id": "d18e9a94",
   "metadata": {},
   "outputs": [],
   "source": [
    "#DP code using iterative method\n",
    "\n",
    "def fibbitr(n):\n",
    "    \n",
    "    if n == 0 or n == 1:\n",
    "        return n\n",
    "    \n",
    "    dp = [-1]*(n+1) #*x where x is the number of ele in the list NOT the last idx of this list!\n",
    "    \n",
    "    print(dp)\n",
    "    \n",
    "    dp[0] = 0\n",
    "    dp[1] = 1\n",
    "    \n",
    "    ans = 0\n",
    "    \n",
    "    for i in range(2,n+1):\n",
    "        \n",
    "        dp[i] = dp[i-1] + dp[i-2]\n",
    "        \n",
    "    return dp[n]"
   ]
  },
  {
   "cell_type": "code",
   "execution_count": 25,
   "id": "b806abc0",
   "metadata": {},
   "outputs": [
    {
     "name": "stdout",
     "output_type": "stream",
     "text": [
      "8\n",
      "[-1, -1, -1, -1, -1, -1, -1, -1, -1]\n",
      "21\n"
     ]
    }
   ],
   "source": [
    "n = int(input())\n",
    "ans = fibbitr(n)\n",
    "print(ans)"
   ]
  },
  {
   "cell_type": "markdown",
   "id": "7dfe1c18",
   "metadata": {},
   "source": [
    "### Minimum Steps to 1"
   ]
  },
  {
   "cell_type": "code",
   "execution_count": 233,
   "id": "3e287cbf",
   "metadata": {},
   "outputs": [],
   "source": [
    "#Recurvise Meh Code\n",
    "\n",
    "import sys\n",
    "from sys import maxsize\n",
    "\n",
    "def countMinStepsToOneHelper(n, dp) :\n",
    "    \n",
    "    if n == 1:\n",
    "        return 0\n",
    "    \n",
    "    a2 = sys.maxsize\n",
    "    if n%2 == 0:\n",
    "        if dp[n//2] == -1:\n",
    "            a2 = 1 + countMinStepsToOneHelper(n//2, dp)\n",
    "            dp[n//2] = a2\n",
    "        else:\n",
    "            a2 = dp[n//2]\n",
    "    \n",
    "    a3 = sys.maxsize\n",
    "    if n%3 == 0:\n",
    "        if dp[n//3] == -1:\n",
    "            a3 = 1 + countMinStepsToOneHelper(n//3, dp)\n",
    "            dp[n//3] = a3\n",
    "        else:\n",
    "            a3 = dp[n//3]\n",
    "            \n",
    "    if dp[n-1] == -1:\n",
    "        a1 = 1 + countMinStepsToOneHelper(n-1, dp)\n",
    "        dp[n-1] = a1\n",
    "    else:\n",
    "        a1 = dp[n-1]\n",
    "\n",
    "    ans = min(a1,a2,a3)\n",
    "    \n",
    "    #print('n: ', n,'a1',a1,'a2',a2,'a3',a3)\n",
    "    \n",
    "    return ans\n",
    "\n",
    "def countMinStepsToOne(n) :\n",
    "    \n",
    "    dp = [-1]*(n+1)\n",
    "    ans = countMinStepsToOneHelper(n, dp)\n",
    "    \n",
    "    return ans\n",
    "    "
   ]
  },
  {
   "cell_type": "code",
   "execution_count": 235,
   "id": "50c1f6ad",
   "metadata": {},
   "outputs": [
    {
     "name": "stdout",
     "output_type": "stream",
     "text": [
      "3\n"
     ]
    }
   ],
   "source": [
    "n = 5\n",
    "print(countMinStepsToOneIt(n))"
   ]
  },
  {
   "cell_type": "code",
   "execution_count": 152,
   "id": "1ac2dbb7",
   "metadata": {},
   "outputs": [],
   "source": [
    "#Iterative Brilliant Code\n",
    "\n",
    "def countMinStepsToOneIt(n) :\n",
    "    if n == 1 :\n",
    "        return 0\n",
    "\n",
    "    minSteps = [0] * (n + 1)\n",
    "\n",
    "    minSteps[1] = 0\n",
    "\n",
    "    for currStep in range(2, (n + 1)) :\n",
    "\n",
    "        subtractOne = MAX_VALUE\n",
    "        divideByTwo = MAX_VALUE\n",
    "        divideByThree = MAX_VALUE\n",
    "\n",
    "        subtractOne = minSteps[currStep - 1]\n",
    "\n",
    "        if currStep % 2 == 0 :\n",
    "            divideByTwo = minSteps[currStep // 2]\n",
    "\n",
    "        if currStep % 3 == 0 :\n",
    "            divideByThree = minSteps[currStep // 3]\n",
    "\n",
    "        minSteps[currStep] = 1 + min(subtractOne, divideByTwo, divideByThree)\n",
    "\n",
    "    return minSteps[n]"
   ]
  },
  {
   "cell_type": "markdown",
   "id": "506e86cb",
   "metadata": {},
   "source": [
    "### Minimum Squares to Represent N"
   ]
  },
  {
   "cell_type": "code",
   "execution_count": 240,
   "id": "602f7c2a",
   "metadata": {},
   "outputs": [],
   "source": [
    "#Normal Recursive Code\n",
    "import sys\n",
    "from sys import maxsize\n",
    "\n",
    "def minSquaresToN(n):\n",
    "    \n",
    "    #BC\n",
    "    if n == 0:\n",
    "        return 0\n",
    "    \n",
    "    #IH\n",
    "    ans = sys.maxsize\n",
    "    i = 1\n",
    "    while i*i <= n:\n",
    "        smallAns = minSquaresToN(n-i*i)\n",
    "        currAns = 1 + smallAns    \n",
    "            \n",
    "        ans = min(currAns,ans)    \n",
    "        i+=1\n",
    "    \n",
    "    return ans\n"
   ]
  },
  {
   "cell_type": "code",
   "execution_count": 247,
   "id": "ea73dd6a",
   "metadata": {},
   "outputs": [],
   "source": [
    "#Recursive Code w Memoization\n",
    "\n",
    "import sys\n",
    "from sys import maxsize\n",
    "\n",
    "def minSquaresToNRec(n, dp):\n",
    "    \n",
    "    #BC\n",
    "    if n == 0:\n",
    "        return 0\n",
    "    \n",
    "    #IH\n",
    "    ans = sys.maxsize\n",
    "    i = 1\n",
    "    while i*i <= n:\n",
    "        \n",
    "        if dp[n-i*i] == -1:\n",
    "            smallAns = minSquaresToNRec(n-i*i, dp)\n",
    "            dp[n-i*i] = smallAns\n",
    "            currAns = 1 + smallAns    \n",
    "        else:\n",
    "            currAns = 1 + dp[n-i*i]\n",
    "            \n",
    "        ans = min(currAns,ans)    \n",
    "        i+=1\n",
    "    \n",
    "    return ans"
   ]
  },
  {
   "cell_type": "code",
   "execution_count": 248,
   "id": "2446671f",
   "metadata": {},
   "outputs": [
    {
     "name": "stdout",
     "output_type": "stream",
     "text": [
      "3\n"
     ]
    }
   ],
   "source": [
    "n = 12\n",
    "dp = [-1]*(n+1)  \n",
    "print(minSquaresToNRec(n,dp))"
   ]
  },
  {
   "cell_type": "code",
   "execution_count": 251,
   "id": "da6b32b0",
   "metadata": {},
   "outputs": [
    {
     "name": "stdout",
     "output_type": "stream",
     "text": [
      "3\n"
     ]
    }
   ],
   "source": [
    "#Iterative Code w Memoization\n",
    "\n",
    "import sys, math\n",
    "from sys import maxsize\n",
    "\n",
    "def minSquaresToNItr(n, dp):\n",
    "    \n",
    "    if n == 0:\n",
    "        return 0\n",
    "    \n",
    "    dp = [-1 for i in range(n+1)]\n",
    "    dp[0] = 0\n",
    "    \n",
    "    for i in range(1,n+1):\n",
    "        ans = sys.maxsize\n",
    "        root = int(math.sqrt(i))\n",
    "        for j in range(1,root+1):\n",
    "            currans = 1 + dp[i-j*j]\n",
    "            ans = min(ans,currans)\n",
    "        dp[i] = ans\n",
    "        \n",
    "    return dp[n]\n",
    "\n",
    "n = 12\n",
    "dp = [-1]*(n+1)  \n",
    "print(minSquaresToNItr(n,dp))\n",
    "        "
   ]
  },
  {
   "cell_type": "markdown",
   "id": "9d27f485",
   "metadata": {},
   "source": [
    "### Longest Increasing Sequence"
   ]
  },
  {
   "cell_type": "code",
   "execution_count": 254,
   "id": "f9341f2f",
   "metadata": {},
   "outputs": [],
   "source": [
    "#Horribly wrong approach lol; the following code just gives a count of all the numbers > than the current ele from LtoR starting w that ele \n",
    "#And then it gives overall greatest of this count for the array? which is so bloody wrong it's laughable\n",
    "#Missed the edge case where not necessarily all the numbers that are greater than a particular ele will be in an increasing sequence from LtoR\n",
    "\n",
    "def lisWrong(a, si):\n",
    "    \n",
    "    l = len(a)\n",
    "    \n",
    "    if si == l-1:\n",
    "        return 1\n",
    "    \n",
    "    currseq = 1\n",
    "    for i in range(si,l):\n",
    "        \n",
    "        if a[i] > a[si]:\n",
    "            currseq+=1\n",
    "    \n",
    "    seq = lisWrong(a, si+1)\n",
    "    seq = max(seq,currseq)\n",
    "    \n",
    "    return seq"
   ]
  },
  {
   "cell_type": "code",
   "execution_count": 255,
   "id": "4768d198",
   "metadata": {},
   "outputs": [
    {
     "name": "stdout",
     "output_type": "stream",
     "text": [
      "6 3 1 2 7 0 9\n",
      "4\n"
     ]
    }
   ],
   "source": [
    "a = [int(x) for x in input().split()]\n",
    "print(lisWrong(a,0))"
   ]
  },
  {
   "cell_type": "code",
   "execution_count": 263,
   "id": "82064093",
   "metadata": {},
   "outputs": [],
   "source": [
    "#CN Recursive Code\n",
    "\n",
    "def lis(a, i, n):\n",
    "    \n",
    "    if i == n:\n",
    "        return 0,0\n",
    "    \n",
    "    including_max = 1\n",
    "    for j in range(i+1,n):\n",
    "        if a[j] >= a[i]:\n",
    "            further_including_max = lis(a, j, n)[0]\n",
    "            #to get the max LIS for 1 ele by checking LIS of other ele>curr ele\n",
    "            including_max = max(1+further_including_max,including_max)\n",
    "            \n",
    "    #to compare the result of 1 ele max LIS w the rest of the eles' max LIS        \n",
    "    excluding_max = lis(a, i+1, n)[1]\n",
    "    overall_max = max(including_max, excluding_max)\n",
    "    \n",
    "    return including_max, overall_max"
   ]
  },
  {
   "cell_type": "code",
   "execution_count": 271,
   "id": "2867b5b1",
   "metadata": {},
   "outputs": [
    {
     "name": "stdout",
     "output_type": "stream",
     "text": [
      "6 3 1 2 0 7 9\n",
      "4\n"
     ]
    }
   ],
   "source": [
    "#CN Recursive Code w Memoization\n",
    "\n",
    "def lisRec(a, i, n, dp):\n",
    "    \n",
    "    if i == n:\n",
    "        return 0,0\n",
    "    \n",
    "    including_max = 1\n",
    "    for j in range(i+1,n):\n",
    "        if a[j] >= a[i]:\n",
    "            if dp[j] == -1:\n",
    "                ans = lisRec(a, j, n, dp)\n",
    "                dp[j] = ans\n",
    "                further_including_max = ans[0]\n",
    "            else:\n",
    "                further_including_max = dp[j][0]\n",
    "                \n",
    "            including_max = max(1+further_including_max,including_max)\n",
    "    \n",
    "    if dp[i+1] == -1:\n",
    "        ans = lisRec(a,i+1,n, dp)\n",
    "        dp[i+1] = ans\n",
    "        excluding_max = ans[1]\n",
    "    else:\n",
    "        excluding_max = dp[i+1][1]\n",
    "        \n",
    "    overall_max = max(including_max,excluding_max)\n",
    "    \n",
    "    return including_max, overall_max\n",
    "\n",
    "a = [int(x) for x in input().split()]\n",
    "n = len(a)\n",
    "dp = [-1]*(n+1)\n",
    "print(lisRec(a,0,n,dp)[1])"
   ]
  },
  {
   "cell_type": "code",
   "execution_count": 279,
   "id": "ac47b509",
   "metadata": {},
   "outputs": [
    {
     "name": "stdout",
     "output_type": "stream",
     "text": [
      "6 3 1 2 7 0 9\n",
      "9   1\n",
      "a[i] 0 dp[i] 2\n",
      "a[i] 7 dp[i] 2\n",
      "a[i] 2 dp[i] 3\n",
      "a[i] 1 dp[i] 4\n",
      "a[i] 3 dp[i] 3\n",
      "a[i] 6 dp[i] 3\n",
      "4\n"
     ]
    }
   ],
   "source": [
    "#My version of Iterative DP code; TC - O(n**2) (worst case) and SC - O(n))\n",
    "\n",
    "def lisItr(a, n):\n",
    "    \n",
    "    if n == 1:\n",
    "        return 1\n",
    "    \n",
    "    dp = [-1]*(n)\n",
    "    \n",
    "    dp[n-1] = 1\n",
    "    i = n-2\n",
    "    while i>=0:\n",
    "        j = i+1\n",
    "        currans, ans = 0,1\n",
    "        \n",
    "        while j<n:\n",
    "            if a[j] >= a[i]:\n",
    "                currans = 1+dp[j]\n",
    "            ans = max(ans,currans)\n",
    "            j+=1\n",
    "                \n",
    "        dp[i] = ans \n",
    "        print('a[i]',a[i],'dp[i]', dp[i])\n",
    "        i-=1\n",
    "        \n",
    "    dp.sort()\n",
    "    return dp[n-1]\n",
    "\n",
    "a = [int(x) for x in input().split()]\n",
    "n = len(a)\n",
    "print(lisItr(a,n))"
   ]
  },
  {
   "cell_type": "code",
   "execution_count": 280,
   "id": "5004d3a1",
   "metadata": {},
   "outputs": [
    {
     "name": "stdout",
     "output_type": "stream",
     "text": [
      "6 3 1 2 7 0 9\n",
      "9   1\n",
      "a[i] 0 dp[i] 2\n",
      "a[i] 7 dp[i] 2\n",
      "a[i] 2 dp[i] 3\n",
      "a[i] 1 dp[i] 4\n",
      "a[i] 3 dp[i] 3\n",
      "a[i] 6 dp[i] 3\n",
      "4\n"
     ]
    }
   ],
   "source": [
    "#CN Code ( doesn't use sort method (: ); TC - O(n**2) (worst case) and SC - O(n))\n",
    "\n",
    "def lisItrCN(a, n):\n",
    "    \n",
    "    if n == 1:\n",
    "        return 1\n",
    "    \n",
    "    dp = [[0 for j in range(2)] for i in range(n+1)]\n",
    "\n",
    "    i = n-2\n",
    "    while i>=0:\n",
    "        j = i+1\n",
    "        including_max=1\n",
    "        \n",
    "        while j<n:\n",
    "            if a[j] >= a[i]:\n",
    "                including_max = 1+dp[j][0]\n",
    "            ans = max(ans,including_max)\n",
    "            j+=1\n",
    "                \n",
    "        dp[i][0] = ans \n",
    "        \n",
    "        #as nth ele already initialized w 0,0\n",
    "        excluding_max = dp[i+1][1]\n",
    "        \n",
    "        overall_max = max(ans,excluding_max)\n",
    "        dp[i][1] = overall_max\n",
    "        print('a[i]',a[i],'dp[i]', dp[i])\n",
    "        i-=1\n",
    "        \n",
    "    return dp[0][1]\n",
    "\n",
    "a = [int(x) for x in input().split()]\n",
    "n = len(a)\n",
    "print(lisItr(a,n))"
   ]
  },
  {
   "cell_type": "markdown",
   "id": "254748fa",
   "metadata": {},
   "source": [
    "### Minimum Cost Path"
   ]
  },
  {
   "cell_type": "code",
   "execution_count": 300,
   "id": "7f327530",
   "metadata": {},
   "outputs": [
    {
     "name": "stdout",
     "output_type": "stream",
     "text": [
      "13\n"
     ]
    }
   ],
   "source": [
    "#OG Recursive Code\n",
    "\n",
    "def minCostPath(a, m, n, i, j) :\n",
    "    \n",
    "    #BC\n",
    "    if i == m-1 and j == n-1:\n",
    "        return a[i][j]\n",
    "    \n",
    "    \n",
    "    if i == m-1:\n",
    "        return minCostPath(a, m, n, i, j+1) + a[i][j]\n",
    "    \n",
    "    if j == n-1:\n",
    "        return minCostPath(a, m, n, i+1, j) + a[i][j]\n",
    "    \n",
    "    minsum = a[i][j] + min(minCostPath(a, m, n, i+1, j), minCostPath(a, m, n, i, j+1), minCostPath(a, m, n, i+1,j+1))\n",
    "    \n",
    "    return minsum\n",
    "\n",
    "\n",
    "m,n = 3,4\n",
    "a = [(3,4,1,2),(2,1,8,9),(4,7,8,1)] \n",
    "print(minCostPath(a, m, n, 0, 0))"
   ]
  },
  {
   "cell_type": "code",
   "execution_count": 306,
   "id": "1d1b5087",
   "metadata": {},
   "outputs": [
    {
     "name": "stdout",
     "output_type": "stream",
     "text": [
      "[[9223372036854775807, 9223372036854775807, 9223372036854775807, 9223372036854775807], [9223372036854775807, 9223372036854775807, 9, 10], [20, 16, 9, 1]]\n",
      "[[9223372036854775807, 9223372036854775807, 9223372036854775807, 9223372036854775807], [9223372036854775807, 10, 9, 10], [20, 16, 9, 1]]\n",
      "[[9223372036854775807, 9223372036854775807, 9223372036854775807, 9223372036854775807], [12, 10, 9, 10], [20, 16, 9, 1]]\n",
      "[[9223372036854775807, 9223372036854775807, 9223372036854775807, 9223372036854775807], [12, 10, 9, 10], [20, 16, 9, 1]]\n",
      "[[9223372036854775807, 9223372036854775807, 9223372036854775807, 9223372036854775807], [12, 10, 9, 10], [20, 16, 9, 1]]\n",
      "[[9223372036854775807, 9223372036854775807, 10, 12], [12, 10, 9, 10], [20, 16, 9, 1]]\n",
      "[[9223372036854775807, 9223372036854775807, 10, 12], [12, 10, 9, 10], [20, 16, 9, 1]]\n",
      "[[9223372036854775807, 13, 10, 12], [12, 10, 9, 10], [20, 16, 9, 1]]\n",
      "[[9223372036854775807, 13, 10, 12], [12, 10, 9, 10], [20, 16, 9, 1]]\n",
      "[[13, 13, 10, 12], [12, 10, 9, 10], [20, 16, 9, 1]]\n",
      "13\n"
     ]
    }
   ],
   "source": [
    "#Recursive Code w Memoization; TC = o(m*n) SC = O(m*n)\n",
    "\n",
    "import sys\n",
    "from sys import maxsize\n",
    "\n",
    "def minCostPathRec(a, m, n, i, j, dp) :\n",
    "    \n",
    "    #BC\n",
    "    if i == m-1 and j == n-1:\n",
    "        dp[i][j] = a[i][j]\n",
    "        return a[i][j]\n",
    "    \n",
    "    \n",
    "    if i == m-1:\n",
    "        if dp[i][j] == sys.maxsize:\n",
    "            minsum = minCostPathRec(a, m, n, i, j+1, dp) + a[i][j]\n",
    "            dp[i][j] = minsum\n",
    "        else:\n",
    "            minsum = dp[i][j] \n",
    "        return minsum\n",
    "    \n",
    "    if j == n-1:\n",
    "        if dp[i][j] == sys.maxsize:\n",
    "            minsum = minCostPathRec(a, m, n, i+1, j, dp) + a[i][j]\n",
    "            dp[i][j] = minsum\n",
    "        else:\n",
    "            minsum = dp[i][j] \n",
    "        return minsum\n",
    "    \n",
    "    if dp[i][j] == sys.maxsize:\n",
    "        minsum = a[i][j] + min(minCostPathRec(a, m, n, i+1, j, dp), minCostPathRec(a, m, n, i, j+1, dp), minCostPathRec(a, m, n, i+1,j+1, dp))\n",
    "        dp[i][j] = minsum\n",
    "    else:\n",
    "        minsum = dp[i][j]\n",
    "    \n",
    "    print(dp)\n",
    "    return minsum\n",
    "\n",
    "\n",
    "m,n = 3,4\n",
    "a = [(3,4,1,2),(2,1,8,9),(4,7,8,1)] \n",
    "dp = [[(sys.maxsize) for i in range(n)] for j in range(m)]\n",
    "print(minCostPathRec(a, m, n, 0, 0, dp))"
   ]
  },
  {
   "cell_type": "markdown",
   "id": "1652d280",
   "metadata": {},
   "source": [
    "#### Bottom Up Approach"
   ]
  },
  {
   "cell_type": "code",
   "execution_count": 309,
   "id": "b70519b8",
   "metadata": {},
   "outputs": [
    {
     "name": "stdout",
     "output_type": "stream",
     "text": [
      "[[9223372036854775807, 9223372036854775807, 9223372036854775807, 12], [9223372036854775807, 9223372036854775807, 9223372036854775807, 10], [9223372036854775807, 9223372036854775807, 9223372036854775807, 1]]\n",
      "[[9223372036854775807, 9223372036854775807, 9223372036854775807, 12], [9223372036854775807, 9223372036854775807, 9223372036854775807, 10], [20, 16, 9, 1]]\n",
      "[[13, 13, 10, 12], [12, 10, 9, 10], [20, 16, 9, 1]]\n",
      "13\n"
     ]
    }
   ],
   "source": [
    "#DP Code Iterative\n",
    "\n",
    "def minCostPathItrBU(a, m, n) :\n",
    "    \n",
    "    dp = [[sys.maxsize for j in range(n)] for i in range(m)]\n",
    "    \n",
    "    \n",
    "    sumv = 0\n",
    "    for i in range(m-1,-1,-1):\n",
    "        sumv = sumv + a[i][n-1]\n",
    "        dp[i][n-1] = sumv\n",
    "\n",
    "        \n",
    "    sumh = 0\n",
    "    for i in range(n-1,-1,-1):\n",
    "        sumh = sumh + a[m-1][i]\n",
    "        dp[m-1][i] = sumh\n",
    "\n",
    "        \n",
    "    for j in range(n-1,-1,-1):\n",
    "        for i in range(m-1,-1,-1):\n",
    "            if dp[i][j] == sys.maxsize:\n",
    "                dp[i][j] = a[i][j] + min(dp[i][j+1], dp[i+1][j], dp[i+1][j+1])\n",
    "\n",
    "                \n",
    "    return dp[0][0]\n",
    "\n",
    "m,n = 3,4\n",
    "a = [(3,4,1,2),(2,1,8,9),(4,7,8,1)] \n",
    "print(minCostPathItrBU(a, m, n))      "
   ]
  },
  {
   "cell_type": "markdown",
   "id": "d1915b74",
   "metadata": {},
   "source": [
    "#### Top Down Approach"
   ]
  },
  {
   "cell_type": "code",
   "execution_count": 313,
   "id": "798c9baf",
   "metadata": {},
   "outputs": [
    {
     "name": "stdout",
     "output_type": "stream",
     "text": [
      "[[9223372036854775807, 9223372036854775807, 9223372036854775807, 9223372036854775807, 9223372036854775807], [9223372036854775807, 3, 7, 8, 10], [9223372036854775807, 9223372036854775807, 9223372036854775807, 9223372036854775807, 9223372036854775807], [9223372036854775807, 9223372036854775807, 9223372036854775807, 9223372036854775807, 9223372036854775807]]\n",
      "[[9223372036854775807, 9223372036854775807, 9223372036854775807, 9223372036854775807, 9223372036854775807], [9223372036854775807, 3, 7, 8, 10], [9223372036854775807, 5, 4, 12, 17], [9223372036854775807, 9223372036854775807, 9223372036854775807, 9223372036854775807, 9223372036854775807]]\n",
      "[[9223372036854775807, 9223372036854775807, 9223372036854775807, 9223372036854775807, 9223372036854775807], [9223372036854775807, 3, 7, 8, 10], [9223372036854775807, 5, 4, 12, 17], [9223372036854775807, 9, 11, 12, 13]]\n",
      "13\n"
     ]
    }
   ],
   "source": [
    "def minCostPathItrTD(a, m, n) :\n",
    "    \n",
    "    dp = [[sys.maxsize for j in range(n+1)] for i in range(m+1)]\n",
    "        \n",
    "    for i in range(1,m+1):\n",
    "        for j in range(1,n+1):\n",
    "            if i == 1 and j == 1:\n",
    "                dp[i][j] = a[0][0]\n",
    "            else:\n",
    "                ans1 = dp[i-1][j]\n",
    "                ans2 = dp[i][j-1]\n",
    "                ans3 = dp[i-1][j-1]\n",
    "                dp[i][j] = a[i-1][j-1] + min(ans1,ans2,ans3)\n",
    "\n",
    "        print(dp)\n",
    "    \n",
    "    return dp[m][n]\n",
    "\n",
    "m,n = 3,4\n",
    "a = [(3,4,1,2),(2,1,8,9),(4,7,8,1)] \n",
    "print(minCostPathItrTD(a, m, n))"
   ]
  },
  {
   "cell_type": "markdown",
   "id": "e43b10da",
   "metadata": {},
   "source": [
    "### Longest Common Sequence"
   ]
  },
  {
   "cell_type": "code",
   "execution_count": 325,
   "id": "8d022a2c",
   "metadata": {},
   "outputs": [
    {
     "name": "stdout",
     "output_type": "stream",
     "text": [
      "abdgec\n",
      "bfdmgjc\n",
      "4\n"
     ]
    }
   ],
   "source": [
    "#OG Recursive Code\n",
    "from sys import stdin\n",
    "\n",
    "def lcs(s,t, i, j):\n",
    "    \n",
    "    if i == len(s):\n",
    "        return 0\n",
    "    \n",
    "    if j == len(t):\n",
    "        return 0\n",
    "    \n",
    "\n",
    "    if s[i] == t[j]:\n",
    "        lcsm = 1 + lcs(s,t,i+1,j+1)\n",
    "    else:\n",
    "        lcswi = lcs(s,t,i,j+1)\n",
    "        lcswj = lcs(s,t,i+1,j)\n",
    "        lcsm = max(lcswi,lcswj)\n",
    "\n",
    "    return lcsm\n",
    "\n",
    "\n",
    "\n",
    "s = input().strip()\n",
    "t = input().strip()\n",
    "print(lcs(s,t,0,0))"
   ]
  },
  {
   "cell_type": "code",
   "execution_count": 19,
   "id": "3391ec47",
   "metadata": {},
   "outputs": [
    {
     "name": "stdout",
     "output_type": "stream",
     "text": [
      "abdgec\n",
      "bfdmgjc\n",
      "4\n"
     ]
    }
   ],
   "source": [
    "#DP Recursive Code\n",
    "\n",
    "def lcsRec(s,t,i,j,dp):\n",
    "    \n",
    "    if i == len(t) or j == len(s):\n",
    "        return 0\n",
    "    \n",
    "    if t[i] == s[j]:\n",
    "        if dp[i+1][j+1] == -1:\n",
    "            smallans = lcsRec(s,t,i+1,j+1,dp)\n",
    "            dp[i+1][j+1] = smallans\n",
    "            ans = 1 + smallans\n",
    "        else:\n",
    "            ans = 1 + dp[i+1][j+1]\n",
    "            \n",
    "    else:\n",
    "        if dp[i+1][j] == -1:\n",
    "            ans2 = lcsRec(s,t,i+1,j,dp)\n",
    "            dp[i+1][j] = ans2\n",
    "        else:\n",
    "            ans2 = dp[i+1][j]\n",
    "            \n",
    "        if dp[i][j+1] == -1:\n",
    "            ans1 = lcsRec(s,t,i,j+1,dp)\n",
    "            dp[i][j+1] = ans1\n",
    "        else:\n",
    "            ans1 = dp[i][j+1]\n",
    "            \n",
    "        if dp[i+1][j] == -1:\n",
    "            ans2 = lcsRec(s,t,i+1,j,dp)\n",
    "            dp[i+1][j] = ans2\n",
    "        else:\n",
    "            ans2 = dp[i+1][j]\n",
    "            \n",
    "        ans = max(ans1,ans2)\n",
    "            \n",
    "    return ans\n",
    "            \n",
    "s = input().strip()\n",
    "t = input().strip()\n",
    "n = len(s)\n",
    "m = len(t)\n",
    "dp = [[-1 for j in range(n+1)] for i in range(m+1)]\n",
    "print(lcsRec(s,t,0,0,dp))            \n"
   ]
  },
  {
   "cell_type": "code",
   "execution_count": 23,
   "id": "161f03c7",
   "metadata": {},
   "outputs": [
    {
     "name": "stdout",
     "output_type": "stream",
     "text": [
      "abdgec\n",
      "bfdmgjc\n",
      "4\n"
     ]
    }
   ],
   "source": [
    "#DP Iterative Code\n",
    "\n",
    "def lcsItr(s,t):\n",
    "    \n",
    "    n = len(s)\n",
    "    m = len(t)\n",
    "    \n",
    "    dp = [[0 for j in range(m+1)] for i in range(n+1)]\n",
    "    \n",
    "    i, j = n-1, m-1\n",
    "    \n",
    "    for i in range(n-1,-1,-1):\n",
    "        for j in range(m-1,-1,-1):\n",
    "            \n",
    "            if s[i] == t[j]:\n",
    "                dp[i][j] = 1 + dp[i+1][j+1]\n",
    "            \n",
    "            else:\n",
    "                dp[i][j] = max(dp[i][j+1],dp[i+1][j])\n",
    "                            \n",
    "    return dp[0][0]\n",
    "\n",
    "s = input().strip()\n",
    "t = input().strip()\n",
    "print(lcsItr(s,t))\n"
   ]
  },
  {
   "cell_type": "markdown",
   "id": "c89589bb",
   "metadata": {},
   "source": [
    "### Knapsack Problem"
   ]
  },
  {
   "cell_type": "code",
   "execution_count": 24,
   "id": "6f281ef7",
   "metadata": {},
   "outputs": [],
   "source": [
    "#OG Recursive Code\n",
    "\n",
    "def knapsack(wt, val, n, maxWeight, i) :\n",
    "    \n",
    "    if i == n:\n",
    "        return 0\n",
    "    \n",
    "    if wt[i] <= maxWeight:\n",
    "        ans_excl = knapsack(wt, val, n, maxWeight, i+1)\n",
    "        ans_incl = val[i] + knapsack(wt, val, n, maxWeight-wt[i], i+1)\n",
    "        \n",
    "        maxval = max(ans_excl,ans_incl)\n",
    "        \n",
    "    else:\n",
    "        \n",
    "        maxval = knapsack(wt,val,n,maxWeight,i+1)\n",
    "        \n",
    "    return maxval"
   ]
  },
  {
   "cell_type": "code",
   "execution_count": 25,
   "id": "b86c3b26",
   "metadata": {},
   "outputs": [
    {
     "name": "stdout",
     "output_type": "stream",
     "text": [
      "13\n"
     ]
    }
   ],
   "source": [
    "wt = [1,2,4,5]\n",
    "val = [5,4,8,6]\n",
    "print(knapsack(wt, val, len(wt), 5, 0))"
   ]
  },
  {
   "cell_type": "code",
   "execution_count": 51,
   "id": "e8a5c157",
   "metadata": {},
   "outputs": [
    {
     "name": "stdout",
     "output_type": "stream",
     "text": [
      "90\n"
     ]
    }
   ],
   "source": [
    "#Recursive Code (GFG cos CN has a crappy complex code for this)\n",
    "\n",
    "def knapsackGFG(wt, val, n, maxWeight) :\n",
    "    \n",
    "    if n == 0 or maxWeight <= 0:\n",
    "        return 0\n",
    "    \n",
    "    if wt[n-1] > maxWeight:\n",
    "        \n",
    "        return knapsackGFG(wt, val, n-1, maxWeight)\n",
    "    \n",
    "    else:\n",
    "        \n",
    "        return max(val[n-1] + knapsackGFG(wt, val, n-1, maxWeight-wt[n-1]),knapsackGFG(wt, val, n-1, maxWeight))\n",
    "\n",
    "wt = [5,4,6,3]\n",
    "val = [10,40,30,50]\n",
    "maxWeight = 10\n",
    "dp = [[-1 for j in range(maxWeight+1)] for i in range(len(val)+1)]\n",
    "print(knapsackGFG(wt, val, len(wt), maxWeight))"
   ]
  },
  {
   "cell_type": "code",
   "execution_count": 67,
   "id": "27b044e3",
   "metadata": {},
   "outputs": [
    {
     "name": "stdout",
     "output_type": "stream",
     "text": [
      "[[-1, -1, -1, -1, -1, -1], [-1, 5, -1, -1, -1, -1], [-1, -1, -1, -1, -1, -1], [-1, -1, -1, -1, -1, -1], [-1, -1, -1, -1, -1, -1]]\n",
      "[[-1, -1, -1, -1, -1, -1], [-1, 5, -1, -1, -1, -1], [-1, 5, -1, -1, -1, -1], [-1, -1, -1, -1, -1, -1], [-1, -1, -1, -1, -1, -1]]\n",
      "[[-1, -1, -1, -1, -1, -1], [-1, 5, -1, 5, -1, -1], [-1, 5, -1, -1, -1, -1], [-1, -1, -1, -1, -1, -1], [-1, -1, -1, -1, -1, -1]]\n",
      "[[-1, -1, -1, -1, -1, -1], [-1, 5, -1, 5, -1, 5], [-1, 5, -1, -1, -1, -1], [-1, -1, -1, -1, -1, -1], [-1, -1, -1, -1, -1, -1]]\n",
      "[[-1, -1, -1, -1, -1, -1], [-1, 5, -1, 5, -1, 5], [-1, 5, -1, -1, -1, 9], [-1, -1, -1, -1, -1, -1], [-1, -1, -1, -1, -1, -1]]\n",
      "[[-1, -1, -1, -1, -1, -1], [-1, 5, -1, 5, -1, 5], [-1, 5, -1, -1, -1, 9], [-1, -1, -1, -1, -1, 13], [-1, -1, -1, -1, -1, -1]]\n",
      "[[-1, -1, -1, -1, -1, -1], [-1, 5, -1, 5, -1, 5], [-1, 5, -1, -1, -1, 9], [-1, -1, -1, -1, -1, 13], [-1, -1, -1, -1, -1, 13]]\n",
      "13\n"
     ]
    }
   ],
   "source": [
    "#DP Recursive Code GFG\n",
    "\n",
    "def knapsackdpGFG(wt, val, n, maxWeight, dp) :\n",
    "\n",
    "    if n == 0 or maxWeight <= 0:\n",
    "        return 0\n",
    "    \n",
    "    if dp[n-1][maxWeight] != -1:\n",
    "        return dp[n][maxWeight]\n",
    "    \n",
    "    if wt[n-1] > maxWeight:\n",
    "        \n",
    "        dp[n][maxWeight] = knapsackdpGFG(wt, val, n-1, maxWeight, dp)\n",
    "        print(dp)\n",
    "        return dp[n][maxWeight]\n",
    "        \n",
    "    else:\n",
    "        \n",
    "        dp[n][maxWeight] = max(val[n-1] + knapsackdpGFG(wt, val, n-1, maxWeight-wt[n-1], dp),knapsackdpGFG(wt, val, n-1, maxWeight, dp))    \n",
    "        print(dp)\n",
    "        return dp[n][maxWeight]\n",
    "    \n",
    "wt = [1,2,4,5]\n",
    "val = [5,4,8,6]\n",
    "maxWeight = 5\n",
    "dp = [[-1 for j in range(maxWeight+1)] for i in range(len(val)+1)]\n",
    "print(knapsackdpGFG(wt, val, len(val), maxWeight, dp))"
   ]
  },
  {
   "cell_type": "code",
   "execution_count": 14,
   "id": "70414118",
   "metadata": {},
   "outputs": [
    {
     "name": "stdout",
     "output_type": "stream",
     "text": [
      "13\n"
     ]
    }
   ],
   "source": [
    "#DP Iterative Code - Bottom Up Approach\n",
    "\n",
    "def knapsackItr(wt, val, n, maxWeight) :\n",
    "    \n",
    "    dp = [[0 for j in range(maxWeight+2)] for i in range(n+1)]\n",
    "        \n",
    "    for i in range(n-1,-1,-1):\n",
    "        for j in range(maxWeight,-1,-1):\n",
    "\n",
    "            if j < wt[i]:\n",
    "                dp[i][j] = dp[i+1][j]\n",
    "            else:\n",
    "                ans1 = val[i] + dp[i+1][j-wt[i]]\n",
    "                ans2 = dp[i+1][j]\n",
    "                dp[i][j] = max(ans1,ans2)\n",
    "                \n",
    "    return dp[0][maxWeight]\n",
    "\n",
    "\n",
    "wt = [1,2,4,5]\n",
    "val = [5,4,8,6]\n",
    "maxWeight = 5\n",
    "print(knapsackItr(wt, val, len(val), maxWeight))"
   ]
  },
  {
   "cell_type": "markdown",
   "id": "305d5207",
   "metadata": {},
   "source": [
    "### Matrix Chain Multiplication"
   ]
  },
  {
   "cell_type": "code",
   "execution_count": 25,
   "id": "0d56a0b1",
   "metadata": {},
   "outputs": [],
   "source": [
    "#Recursion code for MCM\n",
    "\n",
    "import sys\n",
    "from sys import maxsize\n",
    "\n",
    "dp = [[sys.maxsize for i in range(n)] for j in range(n)]\n",
    "\n",
    "def mcm(p,n,i,j):\n",
    "    \n",
    "    if i == j:\n",
    "        return 0\n",
    "    \n",
    "    ans = sys.maxsize\n",
    "    \n",
    "    for k in range(i,j):\n",
    "        \n",
    "        count = mcm(p,n,i,k) + mcm(p,n,k+1,j) + p[i-1]*p[k]*p[j]\n",
    "        \n",
    "    \n",
    "    ans = min(count,ans)\n",
    "    \n",
    "    return ans"
   ]
  },
  {
   "cell_type": "code",
   "execution_count": 26,
   "id": "b066ff18",
   "metadata": {},
   "outputs": [
    {
     "name": "stdout",
     "output_type": "stream",
     "text": [
      "4\n",
      "10 15 20 25\n",
      "8000\n"
     ]
    }
   ],
   "source": [
    "n = int(input())\n",
    "p = [int(x) for x in input().split()]\n",
    "i, j = 1, n-1\n",
    "print(mcm(p,n,i,j))"
   ]
  },
  {
   "cell_type": "code",
   "execution_count": 33,
   "id": "f84d2184",
   "metadata": {},
   "outputs": [],
   "source": [
    "#Recursive DP code for MCM\n",
    "\n",
    "import sys\n",
    "from sys import maxsize\n",
    "\n",
    "def mcmdp(p,n,i,j,dp):\n",
    "\n",
    "    if i == j:\n",
    "        return 0\n",
    "    \n",
    "    if dp[i][j] != sys.maxsize:\n",
    "        return dp[i][j]\n",
    "\n",
    "        \n",
    "    for k in range(i,j):\n",
    "        \n",
    "        dp[i][j] = min(dp[i][j],mcmdp(p,n,i,k,dp) + mcmdp(p,n,k+1,j,dp) + p[i-1]*p[k]*p[j])\n",
    "           \n",
    "    \n",
    "    return dp[i][j]"
   ]
  },
  {
   "cell_type": "code",
   "execution_count": 34,
   "id": "a47089c6",
   "metadata": {},
   "outputs": [
    {
     "name": "stdout",
     "output_type": "stream",
     "text": [
      "3\n",
      "10 15 20 25\n",
      "8000\n"
     ]
    }
   ],
   "source": [
    "n = int(input())\n",
    "p = [int(x) for x in input().split()]\n",
    "i, j = 1, n\n",
    "dp = [[sys.maxsize for i in range(n+1)] for j in range(n+1)]\n",
    "print(mcmdp(p,n,i,j,dp))"
   ]
  },
  {
   "cell_type": "code",
   "execution_count": null,
   "id": "6538806c",
   "metadata": {},
   "outputs": [],
   "source": []
  }
 ],
 "metadata": {
  "kernelspec": {
   "display_name": "Python 3",
   "language": "python",
   "name": "python3"
  },
  "language_info": {
   "codemirror_mode": {
    "name": "ipython",
    "version": 3
   },
   "file_extension": ".py",
   "mimetype": "text/x-python",
   "name": "python",
   "nbconvert_exporter": "python",
   "pygments_lexer": "ipython3",
   "version": "3.8.8"
  }
 },
 "nbformat": 4,
 "nbformat_minor": 5
}
