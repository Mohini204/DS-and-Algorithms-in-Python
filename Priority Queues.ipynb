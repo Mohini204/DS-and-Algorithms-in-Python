{
 "cells": [
  {
   "cell_type": "markdown",
   "id": "efcce3d2",
   "metadata": {},
   "source": [
    "#### Implementation of Min Heap Using List"
   ]
  },
  {
   "cell_type": "code",
   "execution_count": 4,
   "id": "83331afa",
   "metadata": {},
   "outputs": [],
   "source": [
    "#The list is a list of priority nodes and every ele contains the value and the priority of the value\n",
    "\n",
    "class PriorityQueueNode:\n",
    "    \n",
    "    def __init__(self,value,priority):\n",
    "        self.value = value\n",
    "        self.priority = priority\n",
    "\n",
    "class PriorityQueue:\n",
    "    \n",
    "    def __init__(self):\n",
    "        self.pq = []\n",
    "        \n",
    "    def getSize(self):\n",
    "        \n",
    "        return len(self.pq)\n",
    "    \n",
    "    def isEmpty(self):\n",
    "        \n",
    "        return self.getSize() == 0\n",
    "        \n",
    "    def getMin(self):\n",
    "        \n",
    "        if self.isEmpty() is True:\n",
    "            return None\n",
    "        \n",
    "        return self.pq[0].value\n",
    "    \n",
    "    def insert(self,value,priority):\n",
    "        \n",
    "        #Node creation\n",
    "        pqNode = PriorityQueueNode(value,priority)\n",
    "        \n",
    "        #Node addition at the end of the list(heap)\n",
    "        self.pq.append(pqNode)\n",
    "        \n",
    "        self.__percolateUp()\n",
    "        \n",
    "    def __percolateUp(self):\n",
    "        #ci = child index, pi = parent index\n",
    "        ci = self.getSize() - 1\n",
    "        while ci > 0:\n",
    "            pi = (ci - 1)//2\n",
    "            if self.pq[ci].priority < self.pq[pi].priority:\n",
    "                self.pq[ci],self.pq[pi] = self.pq[pi],self.pq[ci]\n",
    "                ci = pi\n",
    "            else:\n",
    "                break\n",
    "        \n",
    "    def removeMin(self):\n",
    "\n",
    "        if self.isEmpty():\n",
    "            return None\n",
    "        \n",
    "        #save top node\n",
    "        temp = self.pq[0].value\n",
    "        \n",
    "        #swap last node with top node and pop last node\n",
    "        self.pq[0] = self.pq[self.getSize() - 1]\n",
    "        pop = self.pq.pop()\n",
    "        \n",
    "        self.__percolateDown()\n",
    "        \n",
    "        return temp\n",
    "        \n",
    "    def __percolateDown(self):\n",
    "        \n",
    "        #initialize\n",
    "        pi = 0\n",
    "        lci, rci = 2*pi+1, 2*pi+2\n",
    "        \n",
    "        #whoever is smallest, will become mi\n",
    "        while lci < self.getSize():\n",
    "            #initializing mi as pi first\n",
    "            mi = pi\n",
    "            if self.pq[mi].priority > self.pq[lci].priority:\n",
    "                mi = lci\n",
    "            \n",
    "            #need to ensure rci is < array limit since last ele has been popped\n",
    "            if rci < self.getSize() and self.pq[mi].priority > self.pq[rci].priority:\n",
    "                mi = rci\n",
    "            \n",
    "            if mi == pi:\n",
    "                break\n",
    "            \n",
    "            self.pq[pi],self.pq[mi] = self.pq[mi],self.pq[pi]\n",
    "            pi = mi\n",
    "                \n",
    "            lci = 2*pi+1\n",
    "            rci =  2*pi+2\n",
    "            "
   ]
  },
  {
   "cell_type": "code",
   "execution_count": 7,
   "id": "ad32775f",
   "metadata": {},
   "outputs": [
    {
     "name": "stdout",
     "output_type": "stream",
     "text": [
      "4\n",
      "A\n",
      "3\n",
      "D\n"
     ]
    },
    {
     "data": {
      "text/plain": [
       "False"
      ]
     },
     "execution_count": 7,
     "metadata": {},
     "output_type": "execute_result"
    }
   ],
   "source": [
    "pq = PriorityQueue()\n",
    "pq.insert('A',10)\n",
    "pq.insert('B',20)\n",
    "pq.insert('C',25)\n",
    "pq.insert('D',15)\n",
    "print(pq.getSize())\n",
    "print(pq.removeMin())\n",
    "print(pq.getSize())\n",
    "print(pq.getMin())\n",
    "pq.isEmpty()"
   ]
  },
  {
   "cell_type": "markdown",
   "id": "2352fa48",
   "metadata": {},
   "source": [
    "#### Implementation of Max Heap Using Arrays"
   ]
  },
  {
   "cell_type": "code",
   "execution_count": null,
   "id": "d0a29f7d",
   "metadata": {},
   "outputs": [],
   "source": [
    "class PriorityQueueNodeMax:\n",
    "    \n",
    "    def __init__(self,value,priority):\n",
    "        self.value = value\n",
    "        self.priority = priority\n",
    "        \n",
    "class PriorityQueueMax:\n",
    "    \n",
    "    def __init__(self):\n",
    "        self.pq = []\n",
    "        \n",
    "    def getSizeMax(self):\n",
    "        \n",
    "        return len(self.pq)\n",
    "    \n",
    "    def isEmptyMax(self):\n",
    "        \n",
    "        return self.getSizeMax() == 0\n",
    "    \n",
    "    def getMax(self):\n",
    "        \n",
    "        if self.isEmptyMax() is True:\n",
    "            return None\n",
    "        \n",
    "        return self.pq[0]\n",
    "    \n",
    "    def insertMax(self,value,priority):\n",
    "        \n",
    "        pqNode = PriorityQueueNodeMax(value,priority)\n",
    "        \n",
    "        self.pq.append(pqNode)\n",
    "        \n",
    "        self.__percolateUpMax()\n",
    "        \n",
    "    def __percolateUpMax(self):\n",
    "        \n",
    "        #initialize ci\n",
    "        ci = self.getSizeMax() - 1\n",
    "        \n",
    "        while ci > 0:\n",
    "            pi = (ci-1)//2\n",
    "            \n",
    "            if self.pq[ci].priority > self.pq[pi].priority:\n",
    "                self.pq[ci],self.pq[pi] = self.pq[pi],self.pq[ci]\n",
    "                ci = pi\n",
    "            else:\n",
    "                break\n",
    "                \n",
    "    def removeMax(self):\n",
    "        \n",
    "        #save max in temp\n",
    "        temp = self.pq[0].value\n",
    "        \n",
    "        #remove last node and allocate value to top node address\n",
    "        self.pq[0] = self.pq[self.getSize()-1]\n",
    "        self.pop()\n",
    "        \n",
    "        self.__percolateDownMax()\n",
    "        \n",
    "        return temp\n",
    "        \n",
    "    def __percolateDownMax():\n",
    "        \n",
    "        #initialize pi\n",
    "        pi = 0\n",
    "        lci, rci = 2*pi+1, 2*pi+2\n",
    "        \n",
    "        while lci < self.getSize():\n",
    "            mi = pi\n",
    "            if self.pq[mi].priority < self.pq[lci].priority:\n",
    "                mi = lci\n",
    "            if rci < self.getSize() and self.pq[mi].priority < self.pq[rci].priority:\n",
    "                mi = rci\n",
    "            \n",
    "            if mi == pi:\n",
    "                break\n",
    "                \n",
    "            self.pq[mi],self.pq[pi] = self.pq[pi],self.pq[mi]\n",
    "            lci = 2*pi+1\n",
    "            rci = 2*pi+2\n",
    "            pi = mi"
   ]
  },
  {
   "cell_type": "markdown",
   "id": "ec428248",
   "metadata": {},
   "source": [
    "#### Inplace Heap Sort\n",
    "\n",
    "TC - O(nlogn)\n",
    "SC - O(1)"
   ]
  },
  {
   "cell_type": "code",
   "execution_count": 30,
   "id": "ccf1f490",
   "metadata": {},
   "outputs": [],
   "source": [
    "def percolateDown(arr, i, n):\n",
    "    \n",
    "    pi = i\n",
    "    lci = 2*pi+1\n",
    "    rci = 2*pi+2\n",
    "    \n",
    "    while lci < n:\n",
    "        mi = pi \n",
    "        if arr[mi] > arr[lci]:\n",
    "            mi = lci\n",
    "        if rci < n and arr[mi] > arr[rci]:\n",
    "            mi = rci\n",
    "        \n",
    "        if mi == pi:\n",
    "            return\n",
    "            \n",
    "        arr[mi],arr[pi] = arr[pi],arr[mi]\n",
    "        pi = mi\n",
    "        lci = 2*pi+1\n",
    "        rci = 2*pi+2\n",
    "        \n",
    "    return\n",
    "        \n",
    "    \n",
    "\n",
    "def heapSort(arr):\n",
    "    \n",
    "    n = len(arr)\n",
    "    \n",
    "    #Build heap\n",
    "    for i in  range(n//2-1,-1,-1):\n",
    "        percolateDown(arr,i,n)\n",
    "        \n",
    "    #Removing min elements from the heap and pt them in correct position\n",
    "    for i in range(n-1,0,-1):\n",
    "        arr[0],arr[i], = arr[i],arr[0]\n",
    "        \n",
    "        percolateDown(arr,0,i)\n",
    "        \n",
    "    return"
   ]
  },
  {
   "cell_type": "code",
   "execution_count": 32,
   "id": "3e37a206",
   "metadata": {},
   "outputs": [
    {
     "name": "stdout",
     "output_type": "stream",
     "text": [
      "5 4 13 12 11\n",
      "4 5 11 12 13 "
     ]
    }
   ],
   "source": [
    "arr = [int(ele) for ele in input().split()]\n",
    "heapSort(arr)\n",
    "#for ascending order\n",
    "for ele in arr[::-1]:\n",
    "    print(ele, end=' ')"
   ]
  },
  {
   "cell_type": "markdown",
   "id": "65d848cc",
   "metadata": {},
   "source": [
    "#### Inbuilt Min Heap"
   ]
  },
  {
   "cell_type": "code",
   "execution_count": 9,
   "id": "dfc84128",
   "metadata": {},
   "outputs": [],
   "source": [
    "import heapq\n",
    "\n",
    "li = [1,5,4,8,7,9,11]\n",
    "heapq.heapify(li)"
   ]
  },
  {
   "cell_type": "code",
   "execution_count": 10,
   "id": "e2345248",
   "metadata": {},
   "outputs": [
    {
     "name": "stdout",
     "output_type": "stream",
     "text": [
      "[1, 5, 4, 8, 7, 9, 11]\n"
     ]
    }
   ],
   "source": [
    "print(li)"
   ]
  },
  {
   "cell_type": "code",
   "execution_count": 11,
   "id": "056b72c4",
   "metadata": {},
   "outputs": [
    {
     "name": "stdout",
     "output_type": "stream",
     "text": [
      "[1, 2, 4, 5, 7, 9, 11, 8]\n"
     ]
    }
   ],
   "source": [
    "heapq.heappush(li,2)\n",
    "print(li)"
   ]
  },
  {
   "cell_type": "code",
   "execution_count": 12,
   "id": "30556cd9",
   "metadata": {},
   "outputs": [
    {
     "name": "stdout",
     "output_type": "stream",
     "text": [
      "1\n",
      "[2, 5, 4, 8, 7, 9, 11]\n"
     ]
    }
   ],
   "source": [
    "print(heapq.heappop(li))\n",
    "print(li)"
   ]
  },
  {
   "cell_type": "code",
   "execution_count": 13,
   "id": "733d2070",
   "metadata": {},
   "outputs": [
    {
     "data": {
      "text/plain": [
       "2"
      ]
     },
     "execution_count": 13,
     "metadata": {},
     "output_type": "execute_result"
    }
   ],
   "source": [
    "heapq.heapreplace(li,6)"
   ]
  },
  {
   "cell_type": "code",
   "execution_count": 15,
   "id": "b7bd143d",
   "metadata": {},
   "outputs": [
    {
     "name": "stdout",
     "output_type": "stream",
     "text": [
      "[4, 5, 6, 8, 7, 9, 11]\n"
     ]
    }
   ],
   "source": [
    "print(li)"
   ]
  },
  {
   "cell_type": "markdown",
   "id": "c24249be",
   "metadata": {},
   "source": [
    "#### Inbuilt Max Heap"
   ]
  },
  {
   "cell_type": "code",
   "execution_count": 16,
   "id": "be575e06",
   "metadata": {},
   "outputs": [],
   "source": [
    "import heapq\n",
    "\n",
    "li = [5,4,6,2,8,1]\n",
    "heapq._heapify_max(li)"
   ]
  },
  {
   "cell_type": "code",
   "execution_count": 17,
   "id": "2f58e6da",
   "metadata": {},
   "outputs": [
    {
     "name": "stdout",
     "output_type": "stream",
     "text": [
      "[8, 5, 6, 2, 4, 1]\n"
     ]
    }
   ],
   "source": [
    "print(li)"
   ]
  },
  {
   "cell_type": "code",
   "execution_count": 18,
   "id": "0633a3e3",
   "metadata": {},
   "outputs": [
    {
     "name": "stdout",
     "output_type": "stream",
     "text": [
      "8\n"
     ]
    }
   ],
   "source": [
    "print(heapq._heappop_max(li))"
   ]
  },
  {
   "cell_type": "code",
   "execution_count": 20,
   "id": "3cdce33d",
   "metadata": {},
   "outputs": [
    {
     "name": "stdout",
     "output_type": "stream",
     "text": [
      "[5, 4, 1, 2, 0]\n"
     ]
    }
   ],
   "source": [
    "heapq._heapreplace_max(li,0)\n",
    "print(li)"
   ]
  },
  {
   "cell_type": "code",
   "execution_count": 21,
   "id": "24036d28",
   "metadata": {},
   "outputs": [],
   "source": [
    "li.append(6)\n",
    "\n",
    "\n",
    "#element in max heap can be inserted or pushed using the foll method\n",
    "#args taken - heap, starting pos till where ele needs to be shifted, pos where the ele currently is (at the end)\n",
    "heapq._siftdown_max(li,0,len(li)-1)"
   ]
  },
  {
   "cell_type": "code",
   "execution_count": 22,
   "id": "3f0d8661",
   "metadata": {},
   "outputs": [
    {
     "name": "stdout",
     "output_type": "stream",
     "text": [
      "[6, 4, 5, 2, 0, 1]\n"
     ]
    }
   ],
   "source": [
    "print(li)"
   ]
  },
  {
   "cell_type": "markdown",
   "id": "46957d3a",
   "metadata": {},
   "source": [
    "#### K Smallest Elements in List"
   ]
  },
  {
   "cell_type": "code",
   "execution_count": 41,
   "id": "e2c132a6",
   "metadata": {},
   "outputs": [
    {
     "name": "stdout",
     "output_type": "stream",
     "text": [
      "[5, 4, 1, 2]\n"
     ]
    }
   ],
   "source": [
    "import heapq\n",
    "\n",
    "lst = [5,4,6,2,8,1]\n",
    "k=4\n",
    "kSmallest(lst,k)\n",
    "\n",
    "def kSmallest(lst, k):\n",
    "    \n",
    "    li = lst[:k]\n",
    "    heapq._heapify_max(li)\n",
    "    \n",
    "    for i in range(k,len(lst)):\n",
    "        \n",
    "        if lst[i] < li[0]:\n",
    "            heapq._heapreplace_max(li,lst[i])\n",
    "            \n",
    "    print(li)"
   ]
  },
  {
   "cell_type": "code",
   "execution_count": 42,
   "id": "30f46994",
   "metadata": {},
   "outputs": [],
   "source": [
    "#if you can only use Min heap! This is a good logic where all the elements are negated first \n",
    "#to get the largest elements at the top of the heap as negative numbers\n",
    "\n",
    "def kSmallest(lst, k):\n",
    "    maxHeap = []\n",
    "    heapq.heapify(maxHeap)\n",
    "    n = len(lst)\n",
    "    for  i in range(0,k):\n",
    "        heapq.heappush(maxHeap,-1*lst[i])\n",
    "    for i in range(k,n):\n",
    "        if -1*lst[i]>maxHeap[0]:\n",
    "            heapq.heappop(maxHeap)\n",
    "            heapq.heappush(maxHeap, -1*lst[i])\n",
    "    multiplied_list = [element * -1 for element in maxHeap]\n",
    "    return multiplied_list"
   ]
  },
  {
   "cell_type": "markdown",
   "id": "adaecaf2",
   "metadata": {},
   "source": [
    "#### K Largest Elements in a List"
   ]
  },
  {
   "cell_type": "code",
   "execution_count": 45,
   "id": "6a7605c6",
   "metadata": {},
   "outputs": [
    {
     "name": "stdout",
     "output_type": "stream",
     "text": [
      "[4, 5, 6, 8]\n"
     ]
    }
   ],
   "source": [
    "import heapq\n",
    "\n",
    "lst = [5,4,6,2,8,1]\n",
    "k=4\n",
    "kLargest(lst,k)\n",
    "\n",
    "def kLargest(lst, k):\n",
    "    \n",
    "    li = lst[:k]\n",
    "    heapq.heapify(li)\n",
    "    \n",
    "    for i in range(k,len(lst)):\n",
    "        \n",
    "        if lst[i] > li[0]:\n",
    "            heapq.heapreplace(li,lst[i])\n",
    "            \n",
    "    print(li)"
   ]
  },
  {
   "cell_type": "markdown",
   "id": "ab06fe8f",
   "metadata": {},
   "source": [
    "#### ASSIGNMENT QUESTIONS"
   ]
  },
  {
   "cell_type": "code",
   "execution_count": 46,
   "id": "8b9990c6",
   "metadata": {},
   "outputs": [],
   "source": [
    "def checkMaxHeap(lst):\n",
    "    \n",
    "    n = len(lst)\n",
    "    \n",
    "    for i in range(n//2):\n",
    "        \n",
    "        lci = 2*i+1\n",
    "        rci = 2*i+2\n",
    "        \n",
    "        if lst[lci] > lst[i]:\n",
    "            return False\n",
    "        if rci < n and lst[rci] > lst[i]:\n",
    "            return False\n",
    "        \n",
    "    return True"
   ]
  },
  {
   "cell_type": "code",
   "execution_count": 47,
   "id": "bef13a13",
   "metadata": {},
   "outputs": [
    {
     "name": "stdout",
     "output_type": "stream",
     "text": [
      "42 20 18 8 6 14 11 9 4\n",
      "False\n"
     ]
    }
   ],
   "source": [
    "lst = [int(x) for x in input().split()]\n",
    "print(checkMaxHeap(lst))"
   ]
  },
  {
   "cell_type": "markdown",
   "id": "effd0e83",
   "metadata": {},
   "source": [
    "#### kth Largest Element"
   ]
  },
  {
   "cell_type": "code",
   "execution_count": 48,
   "id": "a64bfa90",
   "metadata": {},
   "outputs": [],
   "source": [
    "import heapq\n",
    "\n",
    "def kthLargest(lst, k):\n",
    "    \n",
    "    li = lst[:k]\n",
    "    heapq.heapify(li)\n",
    "    \n",
    "    for i in range(k,len(lst)):\n",
    "        \n",
    "        if lst[i] > li[0]:\n",
    "            heapq.heapreplace(li,lst[i])\n",
    "            \n",
    "    return li[0]"
   ]
  },
  {
   "cell_type": "code",
   "execution_count": 49,
   "id": "7973d43d",
   "metadata": {},
   "outputs": [
    {
     "name": "stdout",
     "output_type": "stream",
     "text": [
      "9 4 8 7 11 3\n",
      "11\n"
     ]
    }
   ],
   "source": [
    "lst = [int(x) for x in input().split()]\n",
    "print(kthLargest(lst,1))"
   ]
  },
  {
   "cell_type": "markdown",
   "id": "e7b51c40",
   "metadata": {},
   "source": [
    "#### Buy a Ticket"
   ]
  },
  {
   "cell_type": "code",
   "execution_count": 50,
   "id": "3c07c03a",
   "metadata": {},
   "outputs": [],
   "source": [
    "import heapq\n",
    "\n",
    "class LinkedListNode :\n",
    "    def __init__(self, data) :\n",
    "        self.data = data\n",
    "        self.next = None\n",
    "        \n",
    "class Queue :\n",
    "    def __init__(self) :\n",
    "        self.head = None \n",
    "        self.tail = None\n",
    "        self.size = 0\n",
    "        \n",
    "    def enqueue(self, data) :\n",
    "        newNode = LinkedListNode(data)\n",
    "        if self.head is None :\n",
    "            self.head = self.tail = newNode\n",
    "        else :\n",
    "            self.tail.next = newNode\n",
    "            self.tail = newNode\n",
    "        self.size += 1\n",
    "        return\n",
    "        \n",
    "    def dequeue(self) :\n",
    "        if self.head is None :\n",
    "            return None\n",
    "        data = self.head.data\n",
    "        self.head = self.head.next\n",
    "        self.size -= 1\n",
    "        return data\n",
    "    \n",
    "    def getSize(self) :\n",
    "        return self.size\n",
    "    \n",
    "    def isEmpty(self) :\n",
    "        if self.head is None :\n",
    "            return True\n",
    "        return False\n",
    "    \n",
    "    def peek(self) :\n",
    "        if self.head is None :\n",
    "            return None\n",
    "        return self.head.data\n",
    "    \n",
    "def buyTicket(arr, n, k) : \n",
    "    \n",
    "    q = Queue()\n",
    "    \n",
    "    currindex = k\n",
    "    time = 0\n",
    "    \n",
    "    for ele in arr:\n",
    "        \n",
    "        q.enqueue(ele)\n",
    "        \n",
    "    heapq._heapify_max(arr)\n",
    "    \n",
    "    while q.getSize() != 0:\n",
    "        \n",
    "        #if our priority element has come in the front of the queue\n",
    "        if currindex == 0:\n",
    "            \n",
    "            #if our priority is at the top of the heap as well\n",
    "            if arr[0] == q.peek():\n",
    "                q.dequeue()\n",
    "                time+=1\n",
    "                return time\n",
    "            else:\n",
    "                ele = q.dequeue()\n",
    "                q.enqueue(ele)\n",
    "                currindex = q.getSize()-1\n",
    "        \n",
    "        #for all other elements in the queue\n",
    "        else:\n",
    "            \n",
    "            #if the element in the front of the queue is the one with max priority\n",
    "            if arr[0] == q.peek():\n",
    "                q.dequeue()\n",
    "                time+=1\n",
    "                heapq._heappop_max(arr)\n",
    "                currindex-=1\n",
    "            else:\n",
    "                ele = q.dequeue()\n",
    "                q.enqueue(ele)\n",
    "                currindex-=1\n",
    "                \n",
    "    return time"
   ]
  },
  {
   "cell_type": "code",
   "execution_count": 53,
   "id": "75c03811",
   "metadata": {},
   "outputs": [
    {
     "name": "stdout",
     "output_type": "stream",
     "text": [
      "2 3 2 2 4\n",
      "4\n"
     ]
    }
   ],
   "source": [
    "arr = [int(x) for x in input().split()]\n",
    "print(buyTicket(arr, len(arr), 3))"
   ]
  },
  {
   "cell_type": "code",
   "execution_count": null,
   "id": "9d950ab6",
   "metadata": {},
   "outputs": [],
   "source": []
  }
 ],
 "metadata": {
  "kernelspec": {
   "display_name": "Python 3",
   "language": "python",
   "name": "python3"
  },
  "language_info": {
   "codemirror_mode": {
    "name": "ipython",
    "version": 3
   },
   "file_extension": ".py",
   "mimetype": "text/x-python",
   "name": "python",
   "nbconvert_exporter": "python",
   "pygments_lexer": "ipython3",
   "version": "3.8.8"
  }
 },
 "nbformat": 4,
 "nbformat_minor": 5
}
