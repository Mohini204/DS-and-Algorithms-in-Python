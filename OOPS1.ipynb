{
 "cells": [
  {
   "cell_type": "markdown",
   "id": "08a8a88d",
   "metadata": {},
   "source": [
    "### Introduction"
   ]
  },
  {
   "cell_type": "code",
   "execution_count": 10,
   "id": "998268e0",
   "metadata": {},
   "outputs": [],
   "source": [
    "class ExpenseTrackerTry:\n",
    "    \"\"\"This is a class to do expense tracking\"\"\"\n",
    "    #constructor\n",
    "    def __init__(self):\n",
    "        pass"
   ]
  },
  {
   "cell_type": "code",
   "execution_count": 11,
   "id": "4b6a337b",
   "metadata": {},
   "outputs": [],
   "source": [
    "obj1 = ExpenseTrackerTry()"
   ]
  },
  {
   "cell_type": "code",
   "execution_count": 201,
   "id": "0253791a",
   "metadata": {},
   "outputs": [],
   "source": [
    "class ExpenseTracker:\n",
    "    \"\"\"This is a class to do expense tracking\"\"\"\n",
    "    \n",
    "    ExpenseTracker_version = 0.1\n",
    "    \n",
    "    def __init__(self,date,desc,transactionType,amount):\n",
    "        self.date = date\n",
    "        self.desc = desc\n",
    "        self.transactionType = transactionType\n",
    "        self.amount = amount"
   ]
  },
  {
   "cell_type": "code",
   "execution_count": 26,
   "id": "01a78597",
   "metadata": {},
   "outputs": [],
   "source": [
    "obj2 = ExpenseTracker(\"12Jan\",\"frnds\",\"debit\",100)"
   ]
  },
  {
   "cell_type": "code",
   "execution_count": 27,
   "id": "eb97d77b",
   "metadata": {},
   "outputs": [],
   "source": [
    "obj3 = ExpenseTracker(\"18Jan\",\"family\",\"credit\",120)"
   ]
  },
  {
   "cell_type": "code",
   "execution_count": 28,
   "id": "38dac447",
   "metadata": {},
   "outputs": [
    {
     "data": {
      "text/plain": [
       "100"
      ]
     },
     "execution_count": 28,
     "metadata": {},
     "output_type": "execute_result"
    }
   ],
   "source": [
    "obj2.amount"
   ]
  },
  {
   "cell_type": "code",
   "execution_count": 29,
   "id": "7473768a",
   "metadata": {},
   "outputs": [
    {
     "data": {
      "text/plain": [
       "'family'"
      ]
     },
     "execution_count": 29,
     "metadata": {},
     "output_type": "execute_result"
    }
   ],
   "source": [
    "obj3.desc"
   ]
  },
  {
   "cell_type": "code",
   "execution_count": 202,
   "id": "88f85301",
   "metadata": {},
   "outputs": [],
   "source": [
    "class ExpenseTracker():\n",
    "    \n",
    "    #class attribute\n",
    "    ExpenseTracker_version = 0.2\n",
    "    \n",
    "    def __init__(self,trackerCategory,balance,budget):\n",
    "        self.trackerCategory = trackerCategory\n",
    "        self.balance = balance\n",
    "        self.budget = budget   "
   ]
  },
  {
   "cell_type": "code",
   "execution_count": 31,
   "id": "f21074b8",
   "metadata": {},
   "outputs": [],
   "source": [
    "home_tracker = ExpenseTracker('home',4000,200)"
   ]
  },
  {
   "cell_type": "code",
   "execution_count": 32,
   "id": "4ab70b23",
   "metadata": {},
   "outputs": [
    {
     "data": {
      "text/plain": [
       "4000"
      ]
     },
     "execution_count": 32,
     "metadata": {},
     "output_type": "execute_result"
    }
   ],
   "source": [
    "home_tracker.balance"
   ]
  },
  {
   "cell_type": "code",
   "execution_count": 33,
   "id": "0bb92a07",
   "metadata": {},
   "outputs": [],
   "source": [
    "shopping_tracker = ExpenseTracker('shopping',5000,100)"
   ]
  },
  {
   "cell_type": "code",
   "execution_count": 34,
   "id": "f3272e1f",
   "metadata": {},
   "outputs": [
    {
     "data": {
      "text/plain": [
       "5000"
      ]
     },
     "execution_count": 34,
     "metadata": {},
     "output_type": "execute_result"
    }
   ],
   "source": [
    "shopping_tracker.balance"
   ]
  },
  {
   "cell_type": "markdown",
   "id": "e0b8a290",
   "metadata": {},
   "source": [
    "#### Attribute Methods"
   ]
  },
  {
   "cell_type": "code",
   "execution_count": 38,
   "id": "f2bc193b",
   "metadata": {},
   "outputs": [
    {
     "data": {
      "text/plain": [
       "{'trackerCategory': 'shopping', 'balance': 5000, 'budget': 100}"
      ]
     },
     "execution_count": 38,
     "metadata": {},
     "output_type": "execute_result"
    }
   ],
   "source": [
    "#built-in class attribute dict that stores copy of attributes for the object\n",
    "\n",
    "shopping_tracker.__dict__\n",
    "#shopping_tracker.__dict__.items() will give a list with tuples of key value pairs"
   ]
  },
  {
   "cell_type": "code",
   "execution_count": 40,
   "id": "897a92e4",
   "metadata": {},
   "outputs": [
    {
     "data": {
      "text/plain": [
       "4000"
      ]
     },
     "execution_count": 40,
     "metadata": {},
     "output_type": "execute_result"
    }
   ],
   "source": [
    "getattr(home_tracker,'balance')\n",
    "#getattr(home_tracker,'opening') will give attr error"
   ]
  },
  {
   "cell_type": "code",
   "execution_count": 41,
   "id": "559c7660",
   "metadata": {},
   "outputs": [
    {
     "data": {
      "text/plain": [
       "False"
      ]
     },
     "execution_count": 41,
     "metadata": {},
     "output_type": "execute_result"
    }
   ],
   "source": [
    "hasattr(home_tracker,'opening')"
   ]
  },
  {
   "cell_type": "code",
   "execution_count": 42,
   "id": "1b262a14",
   "metadata": {},
   "outputs": [],
   "source": [
    "delattr(home_tracker,'balance')"
   ]
  },
  {
   "cell_type": "code",
   "execution_count": 43,
   "id": "0c81c548",
   "metadata": {},
   "outputs": [
    {
     "data": {
      "text/plain": [
       "{'trackerCategory': 'home', 'budget': 200}"
      ]
     },
     "execution_count": 43,
     "metadata": {},
     "output_type": "execute_result"
    }
   ],
   "source": [
    "home_tracker.__dict__"
   ]
  },
  {
   "cell_type": "code",
   "execution_count": 203,
   "id": "ec74157d",
   "metadata": {},
   "outputs": [],
   "source": [
    "class ExpenseTracker:\n",
    "    \"\"\"This is a class to do expense tracking\"\"\"\n",
    "    \n",
    "    #class attribute\n",
    "    ExpenseTracker_version = 0.2\n",
    "    \n",
    "    \n",
    "    #instance/object attributes\n",
    "    def __init__(self,trackerCategory,runningBalance,budget):\n",
    "        self.trackerCategory = trackerCategory\n",
    "        self.runningBalance = runningBalance\n",
    "        self.budget = budget  "
   ]
  },
  {
   "cell_type": "code",
   "execution_count": 54,
   "id": "cc6100aa",
   "metadata": {},
   "outputs": [],
   "source": [
    "home_tracker = ExpenseTracker('family',4000,300)"
   ]
  },
  {
   "cell_type": "code",
   "execution_count": 55,
   "id": "b2714b8c",
   "metadata": {},
   "outputs": [],
   "source": [
    "shopping_tracker = ExpenseTracker('friends',500,20)"
   ]
  },
  {
   "cell_type": "code",
   "execution_count": 57,
   "id": "4fc8f14f",
   "metadata": {},
   "outputs": [
    {
     "name": "stdout",
     "output_type": "stream",
     "text": [
      "500\n",
      "20\n",
      "0.2\n",
      "0.2\n"
     ]
    }
   ],
   "source": [
    "#output of obj attributes and class attributes being diff and same respectively for diff objs\n",
    "print(shopping_tracker.runningBalance)\n",
    "print(getattr(shopping_tracker,'budget'))\n",
    "print(home_tracker.ExpenseTracker_version)\n",
    "print(shopping_tracker.ExpenseTracker_version)"
   ]
  },
  {
   "cell_type": "code",
   "execution_count": 58,
   "id": "f64b651c",
   "metadata": {},
   "outputs": [],
   "source": [
    "#class variable values can also be changed for a specific obj or can be changed directly in the class def\n",
    "home_tracker.ExpenseTracker_version = 0.4"
   ]
  },
  {
   "cell_type": "code",
   "execution_count": 59,
   "id": "84308c63",
   "metadata": {},
   "outputs": [
    {
     "data": {
      "text/plain": [
       "0.4"
      ]
     },
     "execution_count": 59,
     "metadata": {},
     "output_type": "execute_result"
    }
   ],
   "source": [
    "home_tracker.ExpenseTracker_version"
   ]
  },
  {
   "cell_type": "code",
   "execution_count": 60,
   "id": "a5b0add9",
   "metadata": {},
   "outputs": [
    {
     "data": {
      "text/plain": [
       "0.2"
      ]
     },
     "execution_count": 60,
     "metadata": {},
     "output_type": "execute_result"
    }
   ],
   "source": [
    "shopping_tracker.ExpenseTracker_version "
   ]
  },
  {
   "cell_type": "markdown",
   "id": "c9339bb0",
   "metadata": {},
   "source": [
    "#### Predict Output questions"
   ]
  },
  {
   "cell_type": "code",
   "execution_count": 64,
   "id": "ca994087",
   "metadata": {},
   "outputs": [
    {
     "name": "stdout",
     "output_type": "stream",
     "text": [
      "Parikh 60\n"
     ]
    }
   ],
   "source": [
    "class Student:\n",
    "    name = 'Parikh'\n",
    "    def store_details(self):\n",
    "        self.age = 60\n",
    "    def print_details(self):\n",
    "        print(self.name, end=' ')\n",
    "        print(self.age)\n",
    "s = Student()\n",
    "s.store_details()\n",
    "s.print_details()\n",
    "\n",
    "#age attr is permanent and has been initialized for obj s"
   ]
  },
  {
   "cell_type": "code",
   "execution_count": 67,
   "id": "bb11d2d9",
   "metadata": {},
   "outputs": [
    {
     "ename": "AttributeError",
     "evalue": "'Student' object has no attribute 'age'",
     "output_type": "error",
     "traceback": [
      "\u001b[1;31m---------------------------------------------------------------------------\u001b[0m",
      "\u001b[1;31mAttributeError\u001b[0m                            Traceback (most recent call last)",
      "\u001b[1;32m<ipython-input-67-424f776c1603>\u001b[0m in \u001b[0;36m<module>\u001b[1;34m\u001b[0m\n\u001b[0;32m      8\u001b[0m \u001b[0ms\u001b[0m\u001b[1;33m.\u001b[0m\u001b[0mstore_details\u001b[0m\u001b[1;33m(\u001b[0m\u001b[1;33m)\u001b[0m\u001b[1;33m\u001b[0m\u001b[1;33m\u001b[0m\u001b[0m\n\u001b[0;32m      9\u001b[0m \u001b[0ms1\u001b[0m \u001b[1;33m=\u001b[0m \u001b[0mStudent\u001b[0m\u001b[1;33m(\u001b[0m\u001b[1;33m)\u001b[0m\u001b[1;33m\u001b[0m\u001b[1;33m\u001b[0m\u001b[0m\n\u001b[1;32m---> 10\u001b[1;33m \u001b[0ms1\u001b[0m\u001b[1;33m.\u001b[0m\u001b[0mprint_age\u001b[0m\u001b[1;33m(\u001b[0m\u001b[1;33m)\u001b[0m\u001b[1;33m\u001b[0m\u001b[1;33m\u001b[0m\u001b[0m\n\u001b[0m",
      "\u001b[1;32m<ipython-input-67-424f776c1603>\u001b[0m in \u001b[0;36mprint_age\u001b[1;34m(self)\u001b[0m\n\u001b[0;32m      4\u001b[0m         \u001b[0mself\u001b[0m\u001b[1;33m.\u001b[0m\u001b[0mage\u001b[0m \u001b[1;33m=\u001b[0m \u001b[1;36m60\u001b[0m\u001b[1;33m\u001b[0m\u001b[1;33m\u001b[0m\u001b[0m\n\u001b[0;32m      5\u001b[0m     \u001b[1;32mdef\u001b[0m \u001b[0mprint_age\u001b[0m\u001b[1;33m(\u001b[0m\u001b[0mself\u001b[0m\u001b[1;33m)\u001b[0m\u001b[1;33m:\u001b[0m\u001b[1;33m\u001b[0m\u001b[1;33m\u001b[0m\u001b[0m\n\u001b[1;32m----> 6\u001b[1;33m         \u001b[0mprint\u001b[0m\u001b[1;33m(\u001b[0m\u001b[0mself\u001b[0m\u001b[1;33m.\u001b[0m\u001b[0mage\u001b[0m\u001b[1;33m)\u001b[0m\u001b[1;33m\u001b[0m\u001b[1;33m\u001b[0m\u001b[0m\n\u001b[0m\u001b[0;32m      7\u001b[0m \u001b[0ms\u001b[0m \u001b[1;33m=\u001b[0m \u001b[0mStudent\u001b[0m\u001b[1;33m(\u001b[0m\u001b[1;33m)\u001b[0m\u001b[1;33m\u001b[0m\u001b[1;33m\u001b[0m\u001b[0m\n\u001b[0;32m      8\u001b[0m \u001b[0ms\u001b[0m\u001b[1;33m.\u001b[0m\u001b[0mstore_details\u001b[0m\u001b[1;33m(\u001b[0m\u001b[1;33m)\u001b[0m\u001b[1;33m\u001b[0m\u001b[1;33m\u001b[0m\u001b[0m\n",
      "\u001b[1;31mAttributeError\u001b[0m: 'Student' object has no attribute 'age'"
     ]
    }
   ],
   "source": [
    "class Student:\n",
    "    name = 'Parikh'\n",
    "    def store_details(self):\n",
    "        self.age = 60\n",
    "    def print_age(self):\n",
    "        print(self.age)\n",
    "s = Student()\n",
    "s.store_details()\n",
    "s1 = Student()\n",
    "s1.print_age()\n",
    "\n",
    "#will give error since age is not initialized or defined for obj s1"
   ]
  },
  {
   "cell_type": "markdown",
   "id": "20141e16",
   "metadata": {},
   "source": [
    "#### Instance methods"
   ]
  },
  {
   "cell_type": "code",
   "execution_count": 4,
   "id": "91e9a810",
   "metadata": {},
   "outputs": [],
   "source": [
    "class ExpenseTracker:\n",
    "    \n",
    "    expenseTracker_version = 0.3\n",
    "    \n",
    "    def __init__(self,trackerCategory,runningBalance,budget):\n",
    "        self.trackerCategory = trackerCategory\n",
    "        \n",
    "        # making them private\n",
    "        self.__runningBalance = runningBalance\n",
    "        self.__budget = budget\n",
    "     \n",
    "    #instance method (now private)\n",
    "    def __get_running_balance(self):\n",
    "        return self.__runningBalance\n",
    "    \n",
    "    def checkBalance(self,limit=400): #this limit can be explicitly changed while calling the method with an obj\n",
    "        if self.budget <= limit:\n",
    "            return True\n",
    "        else:\n",
    "            return \"You cannot afford to have this budget!\"\n",
    "        \n",
    "    @staticmethod #decorator\n",
    "    def convertAmnt(budget):\n",
    "        return float(budget)\n",
    "    \n",
    "    @classmethod # also known as factory method\n",
    "    def getAttrFromStr(cls,diaryEntry):\n",
    "        trackerEntry, trackerBalance, trackerBudget = diaryEntry.split()\n",
    "        \n",
    "        return ExpenseTracker(trackerEntry.upper(),\n",
    "                              cls.convertAmnt(trackerBalance), \n",
    "                              cls.convertAmnt(trackerBudget)) \n",
    "        "
   ]
  },
  {
   "cell_type": "code",
   "execution_count": 185,
   "id": "a7c96dcd",
   "metadata": {},
   "outputs": [
    {
     "ename": "AttributeError",
     "evalue": "'ExpenseTracker' object has no attribute '__get_running_balance'",
     "output_type": "error",
     "traceback": [
      "\u001b[1;31m---------------------------------------------------------------------------\u001b[0m",
      "\u001b[1;31mAttributeError\u001b[0m                            Traceback (most recent call last)",
      "\u001b[1;32m<ipython-input-185-0bac4839639a>\u001b[0m in \u001b[0;36m<module>\u001b[1;34m\u001b[0m\n\u001b[0;32m      1\u001b[0m \u001b[0mobj\u001b[0m \u001b[1;33m=\u001b[0m \u001b[0mExpenseTracker\u001b[0m\u001b[1;33m(\u001b[0m\u001b[1;34m'dinner'\u001b[0m\u001b[1;33m,\u001b[0m\u001b[1;36m3400\u001b[0m\u001b[1;33m,\u001b[0m\u001b[1;36m400\u001b[0m\u001b[1;33m)\u001b[0m\u001b[1;33m\u001b[0m\u001b[1;33m\u001b[0m\u001b[0m\n\u001b[1;32m----> 2\u001b[1;33m \u001b[0mobj\u001b[0m\u001b[1;33m.\u001b[0m\u001b[0m__get_running_balance\u001b[0m\u001b[1;33m(\u001b[0m\u001b[1;33m)\u001b[0m\u001b[1;33m\u001b[0m\u001b[1;33m\u001b[0m\u001b[0m\n\u001b[0m",
      "\u001b[1;31mAttributeError\u001b[0m: 'ExpenseTracker' object has no attribute '__get_running_balance'"
     ]
    }
   ],
   "source": [
    "obj = ExpenseTracker('dinner',3400,400)\n",
    "obj.__get_running_balance()"
   ]
  },
  {
   "cell_type": "code",
   "execution_count": 137,
   "id": "2040feb2",
   "metadata": {},
   "outputs": [
    {
     "ename": "NameError",
     "evalue": "name 'get_running_balance' is not defined",
     "output_type": "error",
     "traceback": [
      "\u001b[1;31m---------------------------------------------------------------------------\u001b[0m",
      "\u001b[1;31mNameError\u001b[0m                                 Traceback (most recent call last)",
      "\u001b[1;32m<ipython-input-137-7aa306a1c577>\u001b[0m in \u001b[0;36m<module>\u001b[1;34m\u001b[0m\n\u001b[1;32m----> 1\u001b[1;33m \u001b[0mget_running_balance\u001b[0m\u001b[1;33m(\u001b[0m\u001b[1;33m)\u001b[0m\u001b[1;33m\u001b[0m\u001b[1;33m\u001b[0m\u001b[0m\n\u001b[0m\u001b[0;32m      2\u001b[0m \u001b[1;31m#ExpenseTracker.get_running_balance() will also throw error\u001b[0m\u001b[1;33m\u001b[0m\u001b[1;33m\u001b[0m\u001b[1;33m\u001b[0m\u001b[0m\n",
      "\u001b[1;31mNameError\u001b[0m: name 'get_running_balance' is not defined"
     ]
    }
   ],
   "source": [
    "get_running_balance()\n",
    "#ExpenseTracker.get_running_balance() will also throw error"
   ]
  },
  {
   "cell_type": "code",
   "execution_count": 138,
   "id": "feebce87",
   "metadata": {},
   "outputs": [
    {
     "data": {
      "text/plain": [
       "True"
      ]
     },
     "execution_count": 138,
     "metadata": {},
     "output_type": "execute_result"
    }
   ],
   "source": [
    "obj.checkBalance()"
   ]
  },
  {
   "cell_type": "code",
   "execution_count": 127,
   "id": "4b92737c",
   "metadata": {},
   "outputs": [
    {
     "data": {
      "text/plain": [
       "'You cannot afford to have this budget!'"
      ]
     },
     "execution_count": 127,
     "metadata": {},
     "output_type": "execute_result"
    }
   ],
   "source": [
    "obj.checkBalance(limit = 200)"
   ]
  },
  {
   "cell_type": "markdown",
   "id": "cba33f13",
   "metadata": {},
   "source": [
    "#### Static Methods"
   ]
  },
  {
   "cell_type": "code",
   "execution_count": 152,
   "id": "70eabadc",
   "metadata": {},
   "outputs": [
    {
     "data": {
      "text/plain": [
       "400.0"
      ]
     },
     "execution_count": 152,
     "metadata": {},
     "output_type": "execute_result"
    }
   ],
   "source": [
    "obj.convertAmnt(400)"
   ]
  },
  {
   "cell_type": "code",
   "execution_count": 163,
   "id": "b6db9594",
   "metadata": {},
   "outputs": [],
   "source": [
    "class Student:\n",
    "\n",
    "    def __init__(self,name,age):\n",
    "        self.name = 'Rohan'\n",
    "        self.age = 20\n",
    "\n",
    "    def print_student_details():\n",
    "        print(self.name, end= ' ')\n",
    "        print(self.age)"
   ]
  },
  {
   "cell_type": "code",
   "execution_count": 164,
   "id": "6cad97c9",
   "metadata": {},
   "outputs": [
    {
     "ename": "TypeError",
     "evalue": "print_student_details() takes 0 positional arguments but 1 was given",
     "output_type": "error",
     "traceback": [
      "\u001b[1;31m---------------------------------------------------------------------------\u001b[0m",
      "\u001b[1;31mTypeError\u001b[0m                                 Traceback (most recent call last)",
      "\u001b[1;32m<ipython-input-164-4b986063c231>\u001b[0m in \u001b[0;36m<module>\u001b[1;34m\u001b[0m\n\u001b[0;32m      1\u001b[0m \u001b[0ms\u001b[0m \u001b[1;33m=\u001b[0m \u001b[0mStudent\u001b[0m\u001b[1;33m(\u001b[0m\u001b[1;34m'Mo'\u001b[0m\u001b[1;33m,\u001b[0m\u001b[1;36m8\u001b[0m\u001b[1;33m)\u001b[0m\u001b[1;33m\u001b[0m\u001b[1;33m\u001b[0m\u001b[0m\n\u001b[1;32m----> 2\u001b[1;33m \u001b[0ms\u001b[0m\u001b[1;33m.\u001b[0m\u001b[0mprint_student_details\u001b[0m\u001b[1;33m(\u001b[0m\u001b[1;33m)\u001b[0m\u001b[1;33m\u001b[0m\u001b[1;33m\u001b[0m\u001b[0m\n\u001b[0m",
      "\u001b[1;31mTypeError\u001b[0m: print_student_details() takes 0 positional arguments but 1 was given"
     ]
    }
   ],
   "source": [
    "s = Student('Mo',8)\n",
    "s.print_student_details()"
   ]
  },
  {
   "cell_type": "markdown",
   "id": "64a913fa",
   "metadata": {},
   "source": [
    "#### Class Methods"
   ]
  },
  {
   "cell_type": "code",
   "execution_count": 214,
   "id": "345db556",
   "metadata": {},
   "outputs": [],
   "source": [
    "classObj = ExpenseTracker.getAttrFromStr(\"Home 1000 300\")"
   ]
  },
  {
   "cell_type": "code",
   "execution_count": 215,
   "id": "42d9ec5a",
   "metadata": {},
   "outputs": [
    {
     "data": {
      "text/plain": [
       "{'trackerCategory': 'HOME',\n",
       " '_ExpenseTracker__runningBalance': 1000.0,\n",
       " '_ExpenseTracker__budget': 300.0}"
      ]
     },
     "execution_count": 215,
     "metadata": {},
     "output_type": "execute_result"
    }
   ],
   "source": [
    "classObj.__dict__"
   ]
  },
  {
   "cell_type": "markdown",
   "id": "88c2755e",
   "metadata": {},
   "source": [
    "#### Private and Public Modifiers"
   ]
  },
  {
   "cell_type": "code",
   "execution_count": 5,
   "id": "7f77065e",
   "metadata": {},
   "outputs": [],
   "source": [
    "home = ExpenseTracker('home', 0, 1000)"
   ]
  },
  {
   "cell_type": "code",
   "execution_count": 6,
   "id": "ee645d4f",
   "metadata": {},
   "outputs": [
    {
     "ename": "AttributeError",
     "evalue": "'ExpenseTracker' object has no attribute '__running_balance'",
     "output_type": "error",
     "traceback": [
      "\u001b[1;31m---------------------------------------------------------------------------\u001b[0m",
      "\u001b[1;31mAttributeError\u001b[0m                            Traceback (most recent call last)",
      "\u001b[1;32m<ipython-input-6-c69ba9a92113>\u001b[0m in \u001b[0;36m<module>\u001b[1;34m\u001b[0m\n\u001b[1;32m----> 1\u001b[1;33m \u001b[0mhome\u001b[0m\u001b[1;33m.\u001b[0m\u001b[0m__running_balance\u001b[0m\u001b[1;33m(\u001b[0m\u001b[1;33m)\u001b[0m\u001b[1;33m\u001b[0m\u001b[1;33m\u001b[0m\u001b[0m\n\u001b[0m\u001b[0;32m      2\u001b[0m \u001b[1;31m#home.__running_balance\u001b[0m\u001b[1;33m\u001b[0m\u001b[1;33m\u001b[0m\u001b[1;33m\u001b[0m\u001b[0m\n",
      "\u001b[1;31mAttributeError\u001b[0m: 'ExpenseTracker' object has no attribute '__running_balance'"
     ]
    }
   ],
   "source": [
    "home.__running_balance()\n",
    "#home.__running_balance"
   ]
  },
  {
   "cell_type": "code",
   "execution_count": 208,
   "id": "1901371c",
   "metadata": {},
   "outputs": [
    {
     "data": {
      "text/plain": [
       "{'trackerCategory': 'home',\n",
       " '_ExpenseTracker__runningBalance': 0,\n",
       " '_ExpenseTracker__budget': 1000}"
      ]
     },
     "execution_count": 208,
     "metadata": {},
     "output_type": "execute_result"
    }
   ],
   "source": [
    "home.__dict__"
   ]
  },
  {
   "cell_type": "code",
   "execution_count": 209,
   "id": "fb133f43",
   "metadata": {},
   "outputs": [
    {
     "data": {
      "text/plain": [
       "0"
      ]
     },
     "execution_count": 209,
     "metadata": {},
     "output_type": "execute_result"
    }
   ],
   "source": [
    "#to access private attributes\n",
    "\n",
    "home._ExpenseTracker__runningBalance"
   ]
  },
  {
   "cell_type": "code",
   "execution_count": 212,
   "id": "8a8d9c3c",
   "metadata": {},
   "outputs": [
    {
     "data": {
      "text/plain": [
       "0"
      ]
     },
     "execution_count": 212,
     "metadata": {},
     "output_type": "execute_result"
    }
   ],
   "source": [
    "home._ExpenseTracker__get_running_balance()\n",
    "#if __runningBalance is not made private inside the method, we won't be able to access it and it'll throw error"
   ]
  },
  {
   "cell_type": "code",
   "execution_count": null,
   "id": "09b1804a",
   "metadata": {},
   "outputs": [],
   "source": []
  }
 ],
 "metadata": {
  "kernelspec": {
   "display_name": "Python 3",
   "language": "python",
   "name": "python3"
  },
  "language_info": {
   "codemirror_mode": {
    "name": "ipython",
    "version": 3
   },
   "file_extension": ".py",
   "mimetype": "text/x-python",
   "name": "python",
   "nbconvert_exporter": "python",
   "pygments_lexer": "ipython3",
   "version": "3.8.8"
  }
 },
 "nbformat": 4,
 "nbformat_minor": 5
}
