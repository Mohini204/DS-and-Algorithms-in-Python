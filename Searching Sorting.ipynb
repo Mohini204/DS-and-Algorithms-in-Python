{
 "cells": [
  {
   "cell_type": "markdown",
   "id": "dfef0f98",
   "metadata": {},
   "source": [
    "## SEARCHING AND SORTING"
   ]
  },
  {
   "cell_type": "markdown",
   "id": "2e3ac7a5",
   "metadata": {},
   "source": [
    "### Binary Search"
   ]
  },
  {
   "cell_type": "code",
   "execution_count": 14,
   "id": "1f0fee5f",
   "metadata": {},
   "outputs": [
    {
     "name": "stdout",
     "output_type": "stream",
     "text": [
      "5\n",
      "1 2 3 4 5\n",
      "6\n",
      "(-1, 'hoorray')\n"
     ]
    }
   ],
   "source": [
    "#Binary search code\n",
    "\n",
    "def binarySearch(arr, n, x):\n",
    "    size = n-1\n",
    "    l = 0\n",
    "    u = size\n",
    "    while u >= l:\n",
    "        m = (l+u)//2\n",
    "        if x == arr[m]:\n",
    "            return m\n",
    "        elif x > arr[m]:\n",
    "            l = m+1\n",
    "        else:\n",
    "            u = m-1\n",
    "    \n",
    "    return -1\n",
    "\n",
    "n = int(input())\n",
    "arr = [int(x) for x in input().split()]\n",
    "x = int(input())\n",
    "print(binarySearch(arr, n, x))"
   ]
  },
  {
   "cell_type": "markdown",
   "id": "51c217bb",
   "metadata": {},
   "source": [
    "### Selection Sort"
   ]
  },
  {
   "cell_type": "code",
   "execution_count": 20,
   "id": "ba016150",
   "metadata": {},
   "outputs": [
    {
     "name": "stdout",
     "output_type": "stream",
     "text": [
      "5\n",
      "4 6 2 3 4\n",
      "[2, 3, 4, 4, 6]\n"
     ]
    }
   ],
   "source": [
    "#Keep a min and start comparing the rest of the elements, then swap the min\n",
    "\n",
    "def selectionSort(arr, n):\n",
    "    for i in range(n):\n",
    "        index = i\n",
    "        for j in range(i+1,n):\n",
    "            if arr[index] > arr[j]:\n",
    "                index = j\n",
    "                \n",
    "        arr[i],arr[index] = arr[index],arr[i]\n",
    "    return arr\n",
    "\n",
    "n = int(input())\n",
    "arr = [int(x) for x in input().split()]\n",
    "print(selectionSort(arr, n))"
   ]
  },
  {
   "cell_type": "markdown",
   "id": "af02c173",
   "metadata": {},
   "source": [
    "### Bubble Sort"
   ]
  },
  {
   "cell_type": "code",
   "execution_count": 22,
   "id": "9cb61a45",
   "metadata": {},
   "outputs": [
    {
     "name": "stdout",
     "output_type": "stream",
     "text": [
      "7\n",
      "2 13 4 1 3 6 28\n",
      "[1, 2, 3, 4, 6, 13, 28]\n"
     ]
    }
   ],
   "source": [
    "#Make adjacent pairs and compare the two numbers\n",
    "\n",
    "def bubbleSort(arr, n):\n",
    "    for i in range(n):\n",
    "        for j in range(n-1):\n",
    "            if arr[j] > arr[j+1]:\n",
    "                arr[j],arr[j+1] = arr[j+1],arr[j]\n",
    "        \n",
    "    return arr\n",
    "\n",
    "\n",
    "n = int(input())\n",
    "arr = [int(x) for x in input().split()]\n",
    "print(bubbleSort(arr, n))"
   ]
  },
  {
   "cell_type": "code",
   "execution_count": 28,
   "id": "53b17e61",
   "metadata": {},
   "outputs": [
    {
     "name": "stdout",
     "output_type": "stream",
     "text": [
      "7\n",
      "2 13 4 1 3 6 28\n",
      "[1, 2, 3, 4, 6, 13, 28]\n"
     ]
    }
   ],
   "source": [
    "#Optimized version\n",
    "\n",
    "def bubbleSort(arr, n):\n",
    "    for i in range(n):\n",
    "        for j in range(n-i-1):\n",
    "            if arr[j] > arr[j+1]:\n",
    "                arr[j],arr[j+1] = arr[j+1],arr[j]\n",
    "        \n",
    "    return arr\n",
    "\n",
    "\n",
    "n = int(input())\n",
    "arr = [int(x) for x in input().split()]\n",
    "print(bubbleSort(arr, n))"
   ]
  },
  {
   "cell_type": "markdown",
   "id": "1291e795",
   "metadata": {},
   "source": [
    "### Insertion Sort"
   ]
  },
  {
   "cell_type": "code",
   "execution_count": 46,
   "id": "352d13e3",
   "metadata": {},
   "outputs": [
    {
     "name": "stdout",
     "output_type": "stream",
     "text": [
      "4\n",
      "5 4 3 2\n",
      "[2, 3, 4, 5]\n"
     ]
    }
   ],
   "source": [
    "#assume 1st to be sorted, keep adding to sorted array by going RtoL and in sorted from LtoR\n",
    "\n",
    "def insertionSort(arr, n):\n",
    "    for i in range(n-1):\n",
    "        for j in range(i,-1,-1):\n",
    "            if arr[j] > arr[j+1]:\n",
    "                arr[j], arr[j+1] = arr[j+1], arr[j]\n",
    "                \n",
    "    return arr\n",
    "\n",
    "\n",
    "n = int(input())\n",
    "arr = [int(x) for x in input().split()]\n",
    "insertionSort(arr, n)\n",
    "print(arr)"
   ]
  },
  {
   "cell_type": "code",
   "execution_count": 51,
   "id": "22ca71b7",
   "metadata": {},
   "outputs": [
    {
     "name": "stdout",
     "output_type": "stream",
     "text": [
      "4\n",
      "2 3 4 5\n",
      "7\n",
      "3 4 5 6 7 8 9\n",
      "[2, 3, 3, 4, 4, 5, 5, 6, 7, 8, 9]\n"
     ]
    }
   ],
   "source": [
    "#Merge two sorted arrays\n",
    "\n",
    "def merge(arr1, n, arr2, m) :\n",
    "    i,j = 0,0\n",
    "    arr3 = []\n",
    "    while i<n and j<m:\n",
    "        if arr1[i] < arr2[j]:\n",
    "            arr3.append(arr1[i])\n",
    "            i+=1\n",
    "        else:\n",
    "            arr3.append(arr2[j])\n",
    "            j+=1\n",
    "        \n",
    "    if n>m:\n",
    "        arr3.extend(arr1[i:n+1:1])\n",
    "    elif m>n:\n",
    "        arr3.extend(arr2[j:m+1:1])\n",
    "        \n",
    "    return arr3\n",
    "\n",
    "n = int(input())\n",
    "a = [int(x) for x in input().split()]\n",
    "m = int(input())\n",
    "b = [int(x) for x in input().split()]\n",
    "print(merge(a, n, b, m))"
   ]
  },
  {
   "cell_type": "markdown",
   "id": "00aec7b6",
   "metadata": {},
   "source": [
    "### Assignment Questions"
   ]
  },
  {
   "cell_type": "code",
   "execution_count": 56,
   "id": "4f74d00d",
   "metadata": {},
   "outputs": [
    {
     "name": "stdout",
     "output_type": "stream",
     "text": [
      "6\n",
      "2 0 0 1 3 0\n",
      "[2, 1, 3, 0, 0, 0]\n"
     ]
    }
   ],
   "source": [
    "#push all zeroes to end\n",
    "\n",
    "def pushZerosAtEnd(arr, n):\n",
    "    z = 0\n",
    "    for i in range(n):\n",
    "        if arr[i] != 0:\n",
    "            temp = arr[z]\n",
    "            arr[z] = arr[i]\n",
    "            arr[i] = temp\n",
    "            z+=1\n",
    "    \n",
    "\n",
    "n = int(input())\n",
    "arr = [int(x) for x in input().split()]\n",
    "pushZerosAtEnd(arr, n)\n",
    "print(arr)"
   ]
  },
  {
   "cell_type": "code",
   "execution_count": 67,
   "id": "3fea489a",
   "metadata": {},
   "outputs": [
    {
     "name": "stdout",
     "output_type": "stream",
     "text": [
      "6\n",
      "1 2 3 4 5 6\n",
      "4\n",
      "[5, 6, 1, 2, 3, 4]\n"
     ]
    }
   ],
   "source": [
    "#Rotate array by D elements\n",
    "\n",
    "def rotate(arr, n, d):\n",
    "    for i in range(d):\n",
    "        temp = arr[0]\n",
    "        j = 0\n",
    "        while j+1 < n:\n",
    "            arr[j] = arr[j+1]\n",
    "            j+=1\n",
    "            \n",
    "        arr[n-1] = temp\n",
    "\n",
    "n = int(input())\n",
    "arr = [int(x) for x in input().split()]\n",
    "d = int(input())\n",
    "rotate(arr, n, d)\n",
    "print(arr)"
   ]
  },
  {
   "cell_type": "code",
   "execution_count": 85,
   "id": "92fa5024",
   "metadata": {},
   "outputs": [
    {
     "name": "stdout",
     "output_type": "stream",
     "text": [
      "6\n",
      "1 2 3 4 5 6\n",
      "2\n",
      "[3, 4, 5, 6, 1, 2]\n"
     ]
    }
   ],
   "source": [
    "#More optimized solution with less time complexity\n",
    "\n",
    "def rotate(arr, n, d):\n",
    "    arr1 = []\n",
    "    arr1.extend(arr[:d])\n",
    "\n",
    "    for i in range(0,n-d):\n",
    "        arr[i] = arr[d+i]\n",
    "        \n",
    "    for i in range(d):\n",
    "        arr[n-d+i] = arr1[i]\n",
    "\n",
    "    \n",
    "n = int(input())\n",
    "arr = [int(x) for x in input().split()]\n",
    "d = int(input())\n",
    "rotate(arr, n, d)\n",
    "print(arr)"
   ]
  },
  {
   "cell_type": "code",
   "execution_count": 102,
   "id": "69c36d72",
   "metadata": {},
   "outputs": [
    {
     "name": "stdout",
     "output_type": "stream",
     "text": [
      "5\n",
      "5 5 5 5 5\n",
      "-2147483648\n"
     ]
    }
   ],
   "source": [
    "#Find 2nd largest in a list\n",
    "\n",
    "\n",
    "def findLargest(arr,n):\n",
    "    max = 0\n",
    "    i = 0\n",
    "    for i in range(n):\n",
    "        if arr[i] > max:\n",
    "            max = arr[i]\n",
    "            \n",
    "    return max\n",
    "\n",
    "\n",
    "def secondLargestElement(arr, n):\n",
    "    max = findLargest(arr,n)\n",
    "    i,max2 = 0,-2147483648\n",
    "    for i in range(n):\n",
    "        if arr[i] != max:\n",
    "            if arr[i] > max2:\n",
    "                max2 = arr[i]\n",
    "            \n",
    "    return max2\n",
    "    \n",
    "        \n",
    "\n",
    "n = int(input())\n",
    "arr = [int(x) for x in input().split()]\n",
    "ans = secondLargestElement(arr, n)\n",
    "print(ans)\n"
   ]
  },
  {
   "cell_type": "code",
   "execution_count": 106,
   "id": "9603282b",
   "metadata": {},
   "outputs": [
    {
     "name": "stdout",
     "output_type": "stream",
     "text": [
      "4\n",
      "10 20 30 1\n",
      "3\n"
     ]
    }
   ],
   "source": [
    "#Check rotation in a list\n",
    "\n",
    "def arrayRotateCheck(arr, n):\n",
    "    i = 0\n",
    "    while i+1 < n:\n",
    "        if arr[i+1] < arr[i]:\n",
    "            return i+1\n",
    "        i+=1\n",
    "    return 0\n",
    "    \n",
    "\n",
    "n = int(input())\n",
    "arr = [int(x) for x in input().split()]\n",
    "ans = arrayRotateCheck(arr, n)\n",
    "print(ans)"
   ]
  },
  {
   "cell_type": "code",
   "execution_count": 139,
   "id": "53170ed6",
   "metadata": {},
   "outputs": [
    {
     "name": "stdout",
     "output_type": "stream",
     "text": [
      "6\n",
      "2 1 0 1 2 0\n",
      "[0, 0, 1, 1, 2, 2]\n"
     ]
    }
   ],
   "source": [
    "#Sort 0s 1s and 2s\n",
    "\n",
    "def sort012(arr, n):\n",
    "    nz = 0\n",
    "    nt = n-1\n",
    "    i = 0\n",
    "    while i < n and i <= nt:\n",
    "        if arr[i] == 0:\n",
    "            temp = arr[nz]\n",
    "            arr[nz] = arr[i]\n",
    "            arr[i] = temp\n",
    "            nz+=1\n",
    "            i+=1\n",
    "        elif arr[i] == 2:\n",
    "            temp = arr[nt]\n",
    "            arr[nt] = arr[i]\n",
    "            arr[i] = temp\n",
    "            nt-=1\n",
    "        else:\n",
    "            i+=1\n",
    "            \n",
    "    return arr\n",
    "\n",
    "n = int(input())\n",
    "arr= [int(x) for x in input().split()]\n",
    "print(sort012(arr, n))"
   ]
  },
  {
   "cell_type": "code",
   "execution_count": 145,
   "id": "223b6720",
   "metadata": {},
   "outputs": [
    {
     "name": "stdout",
     "output_type": "stream",
     "text": [
      "4\n",
      "9 7 6 1\n",
      "3\n",
      "4 5 9\n",
      "[1, 0, 2, 2, 0]\n"
     ]
    }
   ],
   "source": [
    "#sum of 2 arrays carry\n",
    "\n",
    "def sumOfTwoArrays(arr1, n, arr2, m, output):\n",
    "    o = len(output)\n",
    "    i,j,k = n-1, m-1, o-1\n",
    "    sum, carry = 0, 0\n",
    "    while i >=0 and j >= 0 and k >= 0:\n",
    "        sum = arr1[i] + arr2[j] + carry\n",
    "        if sum > 9:\n",
    "            carry = 1\n",
    "            output[k] = sum%10\n",
    "        else:\n",
    "            carry = 0\n",
    "            output[k] = sum\n",
    "        i-=1\n",
    "        j-=1\n",
    "        k-=1\n",
    "        \n",
    "    if n>m:\n",
    "        while i >= 0 and k >= 0:\n",
    "            sum = arr1[i] + carry\n",
    "            if sum > 9:\n",
    "                carry = 1\n",
    "                output[k] = sum%10\n",
    "            else:\n",
    "                carry = 0\n",
    "                output[k] = sum\n",
    "            i-=1\n",
    "            k-=1\n",
    "    elif m>n:\n",
    "        while j >= 0 and k >= 0:\n",
    "            sum = arr1[j] + carry\n",
    "            if sum > 9:\n",
    "                carry = 1\n",
    "                output[k] = sum%10\n",
    "            else:\n",
    "                carry = 0\n",
    "                output[k] = sum\n",
    "            j-=1\n",
    "            k-=1\n",
    "                \n",
    "    output[0] = carry\n",
    "    \n",
    "    return output\n",
    "    \n",
    "\n",
    "n = int(input())\n",
    "arr1= [int(x) for x in input().split()]\n",
    "m = int(input())\n",
    "arr2 = [int(x) for x in input().split()]\n",
    "outputSize = (1 + max(n, m))\n",
    "output = outputSize * [0]\n",
    "print(sumOfTwoArrays(arr1, n, arr2, m, output))"
   ]
  },
  {
   "cell_type": "code",
   "execution_count": null,
   "id": "77e99c6e",
   "metadata": {},
   "outputs": [],
   "source": []
  }
 ],
 "metadata": {
  "kernelspec": {
   "display_name": "Python 3",
   "language": "python",
   "name": "python3"
  },
  "language_info": {
   "codemirror_mode": {
    "name": "ipython",
    "version": 3
   },
   "file_extension": ".py",
   "mimetype": "text/x-python",
   "name": "python",
   "nbconvert_exporter": "python",
   "pygments_lexer": "ipython3",
   "version": "3.8.8"
  }
 },
 "nbformat": 4,
 "nbformat_minor": 5
}
