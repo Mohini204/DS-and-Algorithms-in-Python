{
 "cells": [
  {
   "cell_type": "code",
   "execution_count": 6,
   "id": "8b4f5451",
   "metadata": {},
   "outputs": [
    {
     "name": "stdout",
     "output_type": "stream",
     "text": [
      "5\n",
      "3\n",
      "10\n"
     ]
    }
   ],
   "source": [
    "def fact(n):\n",
    "    fact = 1\n",
    "    for i in range(1,n+1):\n",
    "        fact = fact*i\n",
    "    return fact\n",
    "\n",
    "n = int(input())\n",
    "r = int(input())\n",
    "r_fact = fact(r)\n",
    "n_fact = fact(n)\n",
    "n_rfact = fact(n-r)\n",
    "ans = n_fact//(r_fact*n_rfact)\n",
    "print(ans)"
   ]
  },
  {
   "cell_type": "markdown",
   "id": "bcdd7c8e",
   "metadata": {},
   "source": [
    "Why are functions important:\n",
    "1) Improves readability\n",
    "2) Avoids repetition\n",
    "3) Testing becomes easy"
   ]
  },
  {
   "cell_type": "code",
   "execution_count": 9,
   "id": "70682349",
   "metadata": {},
   "outputs": [],
   "source": [
    "def isPrime(n):\n",
    "    for i in range(2,n):\n",
    "        if n % i == 0:\n",
    "            break\n",
    "    \n",
    "    else:\n",
    "        return True\n",
    "    \n",
    "    return False"
   ]
  },
  {
   "cell_type": "code",
   "execution_count": 10,
   "id": "47ffdf0d",
   "metadata": {},
   "outputs": [
    {
     "name": "stdout",
     "output_type": "stream",
     "text": [
      "5\n",
      "True\n"
     ]
    }
   ],
   "source": [
    "n = int(input())\n",
    "print(isPrime(n))"
   ]
  },
  {
   "cell_type": "code",
   "execution_count": 13,
   "id": "1f55a64f",
   "metadata": {},
   "outputs": [
    {
     "name": "stdout",
     "output_type": "stream",
     "text": [
      "5\n",
      "12\n",
      "0\n",
      "7\n"
     ]
    }
   ],
   "source": [
    "#giving default value to arguments in a function\n",
    "def sum(a, b, c = 0):\n",
    "    print(c)\n",
    "    return a + b + c\n",
    "\n",
    "print(sum(3, 4, 5))\n",
    "print(sum(3, 4))"
   ]
  },
  {
   "cell_type": "markdown",
   "id": "3d0538f2",
   "metadata": {},
   "source": [
    "### Assignment Questions"
   ]
  },
  {
   "cell_type": "code",
   "execution_count": 15,
   "id": "2994c5d6",
   "metadata": {},
   "outputs": [
    {
     "name": "stdout",
     "output_type": "stream",
     "text": [
      "0\n",
      "120\n",
      "20\n",
      "0 \t -17\n",
      "20 \t -6\n",
      "40 \t 4\n",
      "60 \t 15\n",
      "80 \t 26\n",
      "100 \t 37\n"
     ]
    }
   ],
   "source": [
    "#FtoC degrees\n",
    "S = int(input())\n",
    "E = int(input())\n",
    "W = int(input())\n",
    "C = 0\n",
    "for i in range(S,E,W):\n",
    "    C = int((i-32)*5/9)\n",
    "    print(i,'\\t',C)"
   ]
  },
  {
   "cell_type": "code",
   "execution_count": 18,
   "id": "3e6ebc1a",
   "metadata": {},
   "outputs": [
    {
     "name": "stdout",
     "output_type": "stream",
     "text": [
      "21\n",
      "true\n"
     ]
    }
   ],
   "source": [
    "#Check if nth number part of Fibonacci\n",
    "def checkMember(n):\n",
    "    curr = 0\n",
    "    prev1 = 1\n",
    "    prev2 = 0\n",
    "    i = 0\n",
    "    while(curr<=n):\n",
    "            if curr == n:\n",
    "                return True\n",
    "            else:\n",
    "                curr = prev1+prev2\n",
    "                prev2 = prev1\n",
    "                prev1 = curr\n",
    "            i+=1\n",
    "            \n",
    "    else:\n",
    "        return False\n",
    "\n",
    "n=int(input())\n",
    "if(checkMember(n)):\n",
    "    print(\"true\")\n",
    "else:\n",
    "    print(\"false\")\n",
    "    "
   ]
  },
  {
   "cell_type": "code",
   "execution_count": 28,
   "id": "d09981a6",
   "metadata": {},
   "outputs": [
    {
     "name": "stdout",
     "output_type": "stream",
     "text": [
      "2332\n",
      "i  2\n",
      "n  233\n",
      "i  3\n",
      "n  23\n",
      "i  3\n",
      "n  2\n",
      "i  2\n",
      "n  0\n",
      "true\n"
     ]
    }
   ],
   "source": [
    "#Check if number is palindrome\n",
    "def checkPalindrome(num):\n",
    "    n = num\n",
    "    rev = 0\n",
    "    i = 0\n",
    "    while(n>0):\n",
    "        i = n%10\n",
    "        rev = rev*10 + i\n",
    "        n = n//10\n",
    "    #i = n%10\n",
    "    #print('i ', i)\n",
    "    #print('n ', n)\n",
    "    #rev = rev*10 + i\n",
    "    if num == rev:\n",
    "        return True\n",
    "    return False\n",
    "\n",
    "num = int(input())\n",
    "isPalindrome = checkPalindrome(num)\n",
    "if(isPalindrome):\n",
    "    print('true')\n",
    "else:\n",
    "    print('false')"
   ]
  },
  {
   "cell_type": "code",
   "execution_count": 38,
   "id": "d5c302ec",
   "metadata": {},
   "outputs": [
    {
     "name": "stdout",
     "output_type": "stream",
     "text": [
      "1634\n",
      "True\n"
     ]
    }
   ],
   "source": [
    "def checkArmstrong(num):\n",
    "    i = num\n",
    "    n = 0\n",
    "    while(i//10>0):\n",
    "        n+=1\n",
    "        i = i//10\n",
    "    n = n+1\n",
    "    i = num\n",
    "    sum = 0\n",
    "    while(i>0):\n",
    "        arm = i%10\n",
    "        sum = sum + arm**n\n",
    "        i = i//10\n",
    "    if num == sum:\n",
    "        return True\n",
    "    return False\n",
    "\n",
    "\n",
    "num = int(input())\n",
    "checkArmstrong = checkArmstrong(num)\n",
    "if (checkArmstrong):\n",
    "    print('True')\n",
    "else:\n",
    "    print('False')"
   ]
  },
  {
   "cell_type": "markdown",
   "id": "c3cd6bd8",
   "metadata": {},
   "source": [
    "## TEST 1"
   ]
  },
  {
   "cell_type": "code",
   "execution_count": 40,
   "id": "8e90bdbb",
   "metadata": {},
   "outputs": [
    {
     "name": "stdout",
     "output_type": "stream",
     "text": [
      "5\n",
      "5432*\n",
      "543*1\n",
      "54*21\n",
      "5*321\n",
      "*4321\n"
     ]
    }
   ],
   "source": [
    "#1\n",
    "n = int(input())\n",
    "i = 1\n",
    "while (i<=n):\n",
    "    j = 1\n",
    "    while (j <= n):\n",
    "        if (n-j+1) == i:\n",
    "            print('*', end='')\n",
    "        else:\n",
    "            print(n-j+1, end='')\n",
    "        j+=1\n",
    "    print()\n",
    "    i+=1"
   ]
  },
  {
   "cell_type": "code",
   "execution_count": 42,
   "id": "adab0707",
   "metadata": {},
   "outputs": [
    {
     "name": "stdout",
     "output_type": "stream",
     "text": [
      "3\n",
      "*00*00*\n",
      "0*0*0*0\n",
      "00***00\n"
     ]
    }
   ],
   "source": [
    "#2\n",
    "n = int(input())\n",
    "i = 1\n",
    "while (i<=n):\n",
    "    j=1\n",
    "    while (j<=n):\n",
    "        if j == i:\n",
    "            print('*', end='')\n",
    "        else:\n",
    "            print(0, end='')\n",
    "        j+=1\n",
    "    print('*', end='')\n",
    "    j = 1\n",
    "    while (j<=n):\n",
    "        if (n-j+1) == i:\n",
    "            print('*', end='')\n",
    "        else:\n",
    "            print(0, end='')\n",
    "        j+=1\n",
    "    print() \n",
    "    i+=1\n",
    "    "
   ]
  },
  {
   "cell_type": "code",
   "execution_count": 52,
   "id": "1652b526",
   "metadata": {},
   "outputs": [
    {
     "name": "stdout",
     "output_type": "stream",
     "text": [
      "1\n",
      "true\n"
     ]
    }
   ],
   "source": [
    "#3\n",
    "def checkArmstrong(num):\n",
    "    i = num\n",
    "    n = 0\n",
    "    while (i//10>0):\n",
    "        n+=1\n",
    "        i = i//10\n",
    "    \n",
    "    n = n+1\n",
    "    \n",
    "    i = num\n",
    "    dig = 0\n",
    "    arm = 0\n",
    "    while (i>0):\n",
    "        dig = i%10\n",
    "        arm = arm + dig**n\n",
    "        i = i//10\n",
    "    \n",
    "    if arm == num:\n",
    "        return True\n",
    "    return False\n",
    "\n",
    "n = int(input())\n",
    "checkArm = checkArmstrong(n)\n",
    "if (checkArm):\n",
    "    print('true')\n",
    "else:\n",
    "    print('false')"
   ]
  },
  {
   "cell_type": "code",
   "execution_count": null,
   "id": "9bc1df8b",
   "metadata": {},
   "outputs": [],
   "source": []
  }
 ],
 "metadata": {
  "kernelspec": {
   "display_name": "Python 3",
   "language": "python",
   "name": "python3"
  },
  "language_info": {
   "codemirror_mode": {
    "name": "ipython",
    "version": 3
   },
   "file_extension": ".py",
   "mimetype": "text/x-python",
   "name": "python",
   "nbconvert_exporter": "python",
   "pygments_lexer": "ipython3",
   "version": "3.8.8"
  }
 },
 "nbformat": 4,
 "nbformat_minor": 5
}
