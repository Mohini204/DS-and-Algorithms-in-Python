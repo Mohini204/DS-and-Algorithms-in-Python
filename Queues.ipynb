{
 "cells": [
  {
   "cell_type": "markdown",
   "id": "4d96b22c",
   "metadata": {},
   "source": [
    "#### Queue Implementation Using Arrays"
   ]
  },
  {
   "cell_type": "code",
   "execution_count": 28,
   "id": "7232a02b",
   "metadata": {},
   "outputs": [],
   "source": [
    "class Queue:\n",
    "    \n",
    "    __front = 0\n",
    "    __count = 0\n",
    "    \n",
    "    def __init__(self):\n",
    "        self.__data = []\n",
    "        \n",
    "    def enqueue(self,item):\n",
    "        \n",
    "        self.__data.append(item)\n",
    "        self.__count+=1\n",
    "        \n",
    "    def dequeue(self):\n",
    "        \n",
    "        if self.size() != 0:\n",
    "            ele = self.__data[self.__front]\n",
    "            self.__front = self.__front + 1\n",
    "            self.__count-=1\n",
    "        \n",
    "        return ele\n",
    "    \n",
    "    def size(self):\n",
    "        \n",
    "        return self.__count\n",
    "    \n",
    "    def front(self):\n",
    "        \n",
    "        return self.__data[self.__front]\n",
    "    \n",
    "    def isEmpty(self):\n",
    "        \n",
    "        return self.size() == 0"
   ]
  },
  {
   "cell_type": "code",
   "execution_count": 29,
   "id": "4f329008",
   "metadata": {},
   "outputs": [],
   "source": [
    "q = Queue()"
   ]
  },
  {
   "cell_type": "code",
   "execution_count": 30,
   "id": "15ff0f7d",
   "metadata": {},
   "outputs": [],
   "source": [
    "q.enqueue(12)"
   ]
  },
  {
   "cell_type": "code",
   "execution_count": 31,
   "id": "7239859b",
   "metadata": {},
   "outputs": [
    {
     "data": {
      "text/plain": [
       "12"
      ]
     },
     "execution_count": 31,
     "metadata": {},
     "output_type": "execute_result"
    }
   ],
   "source": [
    "q.dequeue()"
   ]
  },
  {
   "cell_type": "code",
   "execution_count": 32,
   "id": "de40aed0",
   "metadata": {},
   "outputs": [
    {
     "data": {
      "text/plain": [
       "True"
      ]
     },
     "execution_count": 32,
     "metadata": {},
     "output_type": "execute_result"
    }
   ],
   "source": [
    "q.isEmpty()"
   ]
  },
  {
   "cell_type": "code",
   "execution_count": 33,
   "id": "efe00177",
   "metadata": {},
   "outputs": [
    {
     "data": {
      "text/plain": [
       "0"
      ]
     },
     "execution_count": 33,
     "metadata": {},
     "output_type": "execute_result"
    }
   ],
   "source": [
    "q.size()"
   ]
  },
  {
   "cell_type": "code",
   "execution_count": 35,
   "id": "2782278c",
   "metadata": {},
   "outputs": [],
   "source": [
    "q.enqueue(1)\n",
    "q.enqueue(4)\n",
    "q.enqueue(5)\n",
    "q.enqueue(2)"
   ]
  },
  {
   "cell_type": "code",
   "execution_count": 41,
   "id": "b38150ec",
   "metadata": {},
   "outputs": [
    {
     "data": {
      "text/plain": [
       "1"
      ]
     },
     "execution_count": 41,
     "metadata": {},
     "output_type": "execute_result"
    }
   ],
   "source": [
    "q.dequeue()"
   ]
  },
  {
   "cell_type": "code",
   "execution_count": 42,
   "id": "c1d99b12",
   "metadata": {},
   "outputs": [
    {
     "data": {
      "text/plain": [
       "4"
      ]
     },
     "execution_count": 42,
     "metadata": {},
     "output_type": "execute_result"
    }
   ],
   "source": [
    "q.size()"
   ]
  },
  {
   "cell_type": "markdown",
   "id": "5b05bd27",
   "metadata": {},
   "source": [
    "#### Queue Using Linked List"
   ]
  },
  {
   "cell_type": "code",
   "execution_count": 52,
   "id": "9fb4e5d7",
   "metadata": {},
   "outputs": [],
   "source": [
    "class Node:\n",
    "    \n",
    "    def __init__(self,data):\n",
    "        self.data = data\n",
    "        self.next = None\n",
    "        \n",
    "class QueueL:\n",
    "    \n",
    "    def __init__(self):\n",
    "        self.__head = None\n",
    "        self.__count = 0\n",
    "        \n",
    "    def enqueue(self,item):\n",
    "        \n",
    "        newNode = Node(item)\n",
    "        \n",
    "        if self.__head is None:\n",
    "            self.__head = newNode\n",
    "            self.__curr = self.__head\n",
    "            \n",
    "        else:\n",
    "            self.__curr.next = newNode\n",
    "            self.__curr = self.__curr.next\n",
    "        self.__count+=1\n",
    "        \n",
    "    def dequeue(self):\n",
    "        \n",
    "        ele = self.__head.data\n",
    "        self.__head = self.__head.next\n",
    "        self.__count-=1\n",
    "        \n",
    "        return ele\n",
    "    \n",
    "    def front(self):\n",
    "        \n",
    "        return self.__head\n",
    "    \n",
    "    def size(self):\n",
    "        \n",
    "        return self.__count\n",
    "    \n",
    "    def isEmpty(self):\n",
    "        \n",
    "        return self.size() == 0"
   ]
  },
  {
   "cell_type": "code",
   "execution_count": 56,
   "id": "49aa8d75",
   "metadata": {},
   "outputs": [],
   "source": [
    "q = QueueL()"
   ]
  },
  {
   "cell_type": "code",
   "execution_count": 57,
   "id": "8e157012",
   "metadata": {},
   "outputs": [],
   "source": [
    "q.enqueue(5)\n",
    "q.enqueue(6)\n",
    "q.enqueue(7)\n",
    "q.enqueue(8)"
   ]
  },
  {
   "cell_type": "code",
   "execution_count": 58,
   "id": "2c6c8173",
   "metadata": {},
   "outputs": [
    {
     "data": {
      "text/plain": [
       "5"
      ]
     },
     "execution_count": 58,
     "metadata": {},
     "output_type": "execute_result"
    }
   ],
   "source": [
    "q.dequeue()"
   ]
  },
  {
   "cell_type": "code",
   "execution_count": 59,
   "id": "ac0b101f",
   "metadata": {},
   "outputs": [
    {
     "data": {
      "text/plain": [
       "3"
      ]
     },
     "execution_count": 59,
     "metadata": {},
     "output_type": "execute_result"
    }
   ],
   "source": [
    "q.size()"
   ]
  },
  {
   "cell_type": "code",
   "execution_count": 60,
   "id": "29694bd1",
   "metadata": {},
   "outputs": [
    {
     "data": {
      "text/plain": [
       "False"
      ]
     },
     "execution_count": 60,
     "metadata": {},
     "output_type": "execute_result"
    }
   ],
   "source": [
    "q.isEmpty()"
   ]
  },
  {
   "cell_type": "markdown",
   "id": "ad0bfd57",
   "metadata": {},
   "source": [
    "#### Queue Using Two Stacks"
   ]
  },
  {
   "cell_type": "code",
   "execution_count": 68,
   "id": "8b068b84",
   "metadata": {},
   "outputs": [],
   "source": [
    "class QueuewithStacks:\n",
    "    \n",
    "    __count = 0\n",
    "    \n",
    "    def __init__(self):\n",
    "        self.s1 = []\n",
    "        self.s2 = []\n",
    "        \n",
    "    def enqueue(self,data):\n",
    "    #O(n)\n",
    "    \n",
    "        if self.isEmpty():\n",
    "            self.s1.append(data)\n",
    "            \n",
    "        else:\n",
    "            while len(self.s1) > 0:\n",
    "                self.s2.append(self.s1.pop())\n",
    "                \n",
    "            self.s1.append(data)\n",
    "            \n",
    "            while len(self.s2) > 0:\n",
    "                self.s1.append(self.s2.pop())\n",
    "         \n",
    "        self.__count+=1\n",
    "        \n",
    "    def dequeue(self):\n",
    "    #O(1)\n",
    "        if self.isEmpty():\n",
    "            return -1\n",
    "        \n",
    "        self.__count-=1\n",
    "        \n",
    "        return self.s1.pop()\n",
    "    \n",
    "    def size(self):\n",
    "        \n",
    "        return self.__count\n",
    "    \n",
    "    def isEmpty(self):\n",
    "        \n",
    "        return self.size() == 0\n",
    "        \n",
    "    def front(self):\n",
    "        \n",
    "        return s1[-1]"
   ]
  },
  {
   "cell_type": "code",
   "execution_count": 71,
   "id": "6f98e5a8",
   "metadata": {},
   "outputs": [
    {
     "name": "stdout",
     "output_type": "stream",
     "text": [
      "1\n",
      "3\n"
     ]
    },
    {
     "data": {
      "text/plain": [
       "False"
      ]
     },
     "execution_count": 71,
     "metadata": {},
     "output_type": "execute_result"
    }
   ],
   "source": [
    "q = QueuewithStacks()\n",
    "q.enqueue(1)\n",
    "q.enqueue(2)\n",
    "q.enqueue(3)\n",
    "q.enqueue(4)\n",
    "print(q.dequeue())\n",
    "print(q.size())\n",
    "q.isEmpty()"
   ]
  },
  {
   "cell_type": "code",
   "execution_count": 72,
   "id": "61150e1d",
   "metadata": {},
   "outputs": [],
   "source": [
    "import queue"
   ]
  },
  {
   "cell_type": "code",
   "execution_count": 73,
   "id": "ed84097c",
   "metadata": {},
   "outputs": [],
   "source": [
    "q = queue.Queue()\n",
    "q.put(1)\n",
    "q.put(2)\n",
    "q.put(3)"
   ]
  },
  {
   "cell_type": "code",
   "execution_count": 74,
   "id": "e09aa48e",
   "metadata": {},
   "outputs": [
    {
     "data": {
      "text/plain": [
       "1"
      ]
     },
     "execution_count": 74,
     "metadata": {},
     "output_type": "execute_result"
    }
   ],
   "source": [
    "q.get()"
   ]
  },
  {
   "cell_type": "markdown",
   "id": "a87c0d87",
   "metadata": {},
   "source": [
    "#### Stack Implementation Using Two Queues"
   ]
  },
  {
   "cell_type": "code",
   "execution_count": 91,
   "id": "ca2e214c",
   "metadata": {},
   "outputs": [],
   "source": [
    "class Stack :\n",
    "\n",
    "    def __init__(self):\n",
    "        self.q1 = queue.Queue()\n",
    "        self.q2 = queue.Queue()\n",
    "\n",
    "\n",
    "    def getSize(self) :\n",
    "        \n",
    "        return self.q1.qsize()\n",
    "\n",
    "    def isEmpty(self) :\n",
    "        \n",
    "        return self.q1.qsize() == 0\n",
    "\n",
    "\n",
    "    def push(self, data) :\n",
    "        \n",
    "        self.q1.put(data)\n",
    "\n",
    "\n",
    "    def pop(self) :\n",
    "        \n",
    "        if self.isEmpty():\n",
    "            return -1\n",
    "        \n",
    "        while self.q1.qsize() != 1:\n",
    "            self.q2.put(self.q1.get())\n",
    "        \n",
    "        ele = self.q1.get()\n",
    "    \n",
    "        while self.q2.qsize() != 0:\n",
    "            self.q1.put(self.q2.get())\n",
    "\n",
    "        return ele\n",
    "    \n",
    "    def top(self) :\n",
    "        \n",
    "        if self.isEmpty():\n",
    "            return -1\n",
    "        \n",
    "        while self.q1.qsize() != 1:\n",
    "            self.q2.put(self.q1.get())\n",
    "        \n",
    "        ele = self.q1.get()\n",
    "        self.q1.put(ele)\n",
    "    \n",
    "        while self.q2.qsize() != 0:\n",
    "            self.q1.put(self.q2.get())\n",
    "\n",
    "        return ele\n",
    "        \n",
    "\n"
   ]
  },
  {
   "cell_type": "code",
   "execution_count": 92,
   "id": "31bb7914",
   "metadata": {},
   "outputs": [],
   "source": [
    "s = Stack()"
   ]
  },
  {
   "cell_type": "code",
   "execution_count": 93,
   "id": "c3b03688",
   "metadata": {},
   "outputs": [],
   "source": [
    "s.push(1)\n",
    "s.push(2)\n",
    "s.push(3)\n",
    "s.push(4)"
   ]
  },
  {
   "cell_type": "code",
   "execution_count": 94,
   "id": "519ca860",
   "metadata": {},
   "outputs": [
    {
     "data": {
      "text/plain": [
       "4"
      ]
     },
     "execution_count": 94,
     "metadata": {},
     "output_type": "execute_result"
    }
   ],
   "source": [
    "s.pop()"
   ]
  },
  {
   "cell_type": "code",
   "execution_count": 95,
   "id": "3ac4d572",
   "metadata": {},
   "outputs": [],
   "source": [
    "import queue\n",
    "def reverseQueue(inputQueue) :\n",
    "    \n",
    "    if inputQueue.qsize() == 1:\n",
    "        return\n",
    "    \n",
    "    front = inputQueue.get()\n",
    "    \n",
    "    reverseQueue(inputQueue)\n",
    "    inputQueue.put(front)\n",
    "    \n",
    "    return inputQueue"
   ]
  },
  {
   "cell_type": "code",
   "execution_count": 97,
   "id": "3f51da8d",
   "metadata": {},
   "outputs": [
    {
     "name": "stdout",
     "output_type": "stream",
     "text": [
      "5\n",
      "4\n",
      "3\n",
      "2\n",
      "1\n"
     ]
    }
   ],
   "source": [
    "q = queue.Queue()\n",
    "q.put(1)\n",
    "q.put(2)\n",
    "q.put(3)\n",
    "q.put(4)\n",
    "q.put(5)\n",
    "q = reverseQueue(q)\n",
    "while q.qsize() != 0:\n",
    "    print(q.get())"
   ]
  },
  {
   "cell_type": "code",
   "execution_count": 102,
   "id": "3f9f70d8",
   "metadata": {},
   "outputs": [],
   "source": [
    "def reverseKElements(inputQueue, k) :\n",
    "    \n",
    "    count = 0\n",
    "    q2 = queue.Queue()\n",
    "    \n",
    "    while count < k:\n",
    "        q2.put(inputQueue.get())\n",
    "        count+=1\n",
    "        \n",
    "    q2 = reverseQueue(q2)\n",
    "    \n",
    "    while inputQueue.qsize() != 0:\n",
    "        q2.put(inputQueue.get())\n",
    "        \n",
    "    return q2"
   ]
  },
  {
   "cell_type": "code",
   "execution_count": 103,
   "id": "65688344",
   "metadata": {},
   "outputs": [
    {
     "name": "stdout",
     "output_type": "stream",
     "text": [
      "3\n",
      "2\n",
      "1\n",
      "4\n",
      "5\n"
     ]
    }
   ],
   "source": [
    "q = queue.Queue()\n",
    "q.put(1)\n",
    "q.put(2)\n",
    "q.put(3)\n",
    "q.put(4)\n",
    "q.put(5)\n",
    "q = reverseKElements(q, 3)\n",
    "while q.qsize() != 0:\n",
    "    print(q.get())"
   ]
  },
  {
   "cell_type": "code",
   "execution_count": null,
   "id": "0308b9c2",
   "metadata": {},
   "outputs": [],
   "source": []
  }
 ],
 "metadata": {
  "kernelspec": {
   "display_name": "Python 3",
   "language": "python",
   "name": "python3"
  },
  "language_info": {
   "codemirror_mode": {
    "name": "ipython",
    "version": 3
   },
   "file_extension": ".py",
   "mimetype": "text/x-python",
   "name": "python",
   "nbconvert_exporter": "python",
   "pygments_lexer": "ipython3",
   "version": "3.8.8"
  }
 },
 "nbformat": 4,
 "nbformat_minor": 5
}
