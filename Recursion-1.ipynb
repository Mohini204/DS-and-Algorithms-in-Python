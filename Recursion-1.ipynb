{
 "cells": [
  {
   "cell_type": "markdown",
   "id": "58b40198",
   "metadata": {},
   "source": [
    "### Introduction"
   ]
  },
  {
   "cell_type": "code",
   "execution_count": 1,
   "id": "8dcab8cb",
   "metadata": {},
   "outputs": [],
   "source": [
    "\n",
    "def fact(n):\n",
    "    if n == 1:\n",
    "        return 1\n",
    "    return n*fact(n-1)\n"
   ]
  },
  {
   "cell_type": "code",
   "execution_count": 3,
   "id": "09c8421b",
   "metadata": {},
   "outputs": [],
   "source": [
    "def sum_n(n):\n",
    "    if n == 0:\n",
    "        return 0\n",
    "    smallOutput = sum_n(n-1)\n",
    "    output = smallOutput + n\n",
    "    return output"
   ]
  },
  {
   "cell_type": "code",
   "execution_count": 4,
   "id": "0d7dc00c",
   "metadata": {},
   "outputs": [
    {
     "name": "stdout",
     "output_type": "stream",
     "text": [
      "5\n",
      "120\n",
      "15\n"
     ]
    }
   ],
   "source": [
    "n = int(input())\n",
    "print(fact(n))\n",
    "print(sum_n(n))"
   ]
  },
  {
   "cell_type": "code",
   "execution_count": 13,
   "id": "5a080e6d",
   "metadata": {},
   "outputs": [
    {
     "name": "stdout",
     "output_type": "stream",
     "text": [
      "3 3\n",
      "27\n"
     ]
    }
   ],
   "source": [
    "#find a to the power b\n",
    "\n",
    "def power(a,b):\n",
    "    if b == 0:\n",
    "        return 1\n",
    "    return a*power(a,b-1)\n",
    "\n",
    "a, b = input().split()\n",
    "a = int(a)\n",
    "b = int(b)\n",
    "print(power(a,b))"
   ]
  },
  {
   "cell_type": "code",
   "execution_count": 22,
   "id": "9ae8c0aa",
   "metadata": {},
   "outputs": [
    {
     "name": "stdout",
     "output_type": "stream",
     "text": [
      "10\n",
      "1\n",
      "2\n",
      "3\n",
      "4\n",
      "5\n",
      "6\n",
      "7\n",
      "8\n",
      "9\n",
      "10\n"
     ]
    }
   ],
   "source": [
    "#print numbers from 1 to n\n",
    "\n",
    "def print1ton(n):\n",
    "    if n == 0:\n",
    "        return\n",
    "    print1ton(n-1)\n",
    "    print(n)\n",
    "\n",
    "n = int(input())\n",
    "print1ton(n)"
   ]
  },
  {
   "cell_type": "code",
   "execution_count": 21,
   "id": "32ddc7d0",
   "metadata": {},
   "outputs": [
    {
     "name": "stdout",
     "output_type": "stream",
     "text": [
      "10\n",
      "10\n",
      "9\n",
      "8\n",
      "7\n",
      "6\n",
      "5\n",
      "4\n",
      "3\n",
      "2\n",
      "1\n"
     ]
    }
   ],
   "source": [
    "#print numbers from n to 1\n",
    "\n",
    "def printnto1(n):\n",
    "    if n == 0:\n",
    "        return\n",
    "    print(n)\n",
    "    return printnto1(n-1)\n",
    "\n",
    "n = int(input())\n",
    "printnto1(n)"
   ]
  },
  {
   "cell_type": "code",
   "execution_count": 5,
   "id": "3ac9d4da",
   "metadata": {},
   "outputs": [
    {
     "name": "stdout",
     "output_type": "stream",
     "text": [
      "8\n",
      "21\n"
     ]
    }
   ],
   "source": [
    "#nth Fibonacci number\n",
    "\n",
    "def fib(n):\n",
    "    if n == 1 or n == 0:\n",
    "        return n\n",
    "    ans = fib(n-1) + fib(n-2)\n",
    "    return ans\n",
    "\n",
    "n = int(input())\n",
    "print(fib(n))"
   ]
  },
  {
   "cell_type": "code",
   "execution_count": 28,
   "id": "6b9a1035",
   "metadata": {},
   "outputs": [],
   "source": [
    "#limit can be increased by setting the recursion limit\n",
    "import sys\n",
    "sys.setrecursionlimit(3000)\n",
    "#every system may have different recursion limits, Java or C++ don't have a limit set, Python takes up more space I think that's why this limit is set"
   ]
  },
  {
   "cell_type": "markdown",
   "id": "f8caa6bd",
   "metadata": {},
   "source": [
    "#### Check if list is sorted or not (slicing method - not efficient)"
   ]
  },
  {
   "cell_type": "code",
   "execution_count": 1,
   "id": "f5b5e5a2",
   "metadata": {},
   "outputs": [
    {
     "data": {
      "text/plain": [
       "False"
      ]
     },
     "execution_count": 1,
     "metadata": {},
     "output_type": "execute_result"
    }
   ],
   "source": [
    "#check if list is sorted with recursion\n",
    "\n",
    "def isSorted(a):\n",
    "    if len(a) == 0 or len(a) == 1:\n",
    "        return True\n",
    "    \n",
    "    if a[0] > a[1]:\n",
    "        return False\n",
    "    \n",
    "    #smallerList = a[1:]\n",
    "    isSmallerListSorted = isSorted(a[1:])\n",
    "    return isSmallerListSorted\n",
    "    \n",
    "a = [1,2,4,3,5,6]\n",
    "isSorted(a)"
   ]
  },
  {
   "cell_type": "markdown",
   "id": "20040f1f",
   "metadata": {},
   "source": [
    "#### In Lecture Assignment"
   ]
  },
  {
   "cell_type": "code",
   "execution_count": 44,
   "id": "dc9259f4",
   "metadata": {},
   "outputs": [
    {
     "data": {
      "text/plain": [
       "26"
      ]
     },
     "execution_count": 44,
     "metadata": {},
     "output_type": "execute_result"
    }
   ],
   "source": [
    "#Sum of elements in an array\n",
    "\n",
    "def sumArr(a):\n",
    "    if len(a) == 1:\n",
    "        return a[0]\n",
    "    sumf = a[0] + sumArr(a[1:])\n",
    "    return sumf\n",
    "\n",
    "a = [9,8,9]\n",
    "sumArr(a)"
   ]
  },
  {
   "cell_type": "code",
   "execution_count": 4,
   "id": "78b957cc",
   "metadata": {},
   "outputs": [
    {
     "name": "stdout",
     "output_type": "stream",
     "text": [
      "5\n",
      "1 2 3 4 5\n",
      "5\n",
      "true\n"
     ]
    }
   ],
   "source": [
    "#check if number exists in array (check for better version towards the end)\n",
    "\n",
    "def checkNumber(arr, x):\n",
    "    # Please add your code here\n",
    "    if arr[0] == x and len(arr) == 1:\n",
    "        return True\n",
    "    elif len(arr) == 1 and arr[0] != x:\n",
    "        return False\n",
    "    ans = False\n",
    "    if arr[0] == x:\n",
    "        ans = True\n",
    "        return ans\n",
    "    else:\n",
    "        ans = checkNumber(arr[1:],x)\n",
    "    return ans\n",
    "\n",
    "n=int(input())\n",
    "arr=list(int(i) for i in input().strip().split(' '))\n",
    "x=int(input())\n",
    "if checkNumber(arr, x):\n",
    "    print('true')\n",
    "else:\n",
    "    print('false')"
   ]
  },
  {
   "cell_type": "markdown",
   "id": "85df8ff5",
   "metadata": {},
   "source": [
    "#### Efficient method of checking if the list is sorted"
   ]
  },
  {
   "cell_type": "code",
   "execution_count": 80,
   "id": "dac3fe23",
   "metadata": {},
   "outputs": [
    {
     "data": {
      "text/plain": [
       "True"
      ]
     },
     "execution_count": 80,
     "metadata": {},
     "output_type": "execute_result"
    }
   ],
   "source": [
    "#Better version of checking whether a list is sorted using recursion\n",
    "\n",
    "def isSortedBetter(a, si):\n",
    "    l = len(a)\n",
    "    if si == l-1 or si == l:\n",
    "        return True\n",
    "    \n",
    "    if a[si] > a[si+1]:\n",
    "        return False\n",
    "\n",
    "    isSmallerSorted = isSortedBetter(a, si+1) #incrementing the si by 1 so that recursion gets 1 element less portion of the array\n",
    "    return isSmallerSorted\n",
    "\n",
    "    \n",
    "a = [1,2,3,4,5,6]\n",
    "isSortedBetter(a,0)"
   ]
  },
  {
   "cell_type": "code",
   "execution_count": 100,
   "id": "b3b94596",
   "metadata": {},
   "outputs": [
    {
     "data": {
      "text/plain": [
       "1"
      ]
     },
     "execution_count": 100,
     "metadata": {},
     "output_type": "execute_result"
    }
   ],
   "source": [
    "#Find the first index of the number\n",
    "\n",
    "def firstIndex(a,si,x):\n",
    "    l = len(a)\n",
    "    if si == l:\n",
    "        return -1\n",
    "    if a[si] == x:\n",
    "        return si\n",
    "    \n",
    "    smallans = firstIndex(a,si+1,x)\n",
    "    \n",
    "    return smallans\n",
    "\n",
    "\n",
    "a = [1,2,3,2,8,4,2]\n",
    "firstIndex(a,0,2)"
   ]
  },
  {
   "cell_type": "code",
   "execution_count": 89,
   "id": "5e96401b",
   "metadata": {},
   "outputs": [
    {
     "data": {
      "text/plain": [
       "3"
      ]
     },
     "execution_count": 89,
     "metadata": {},
     "output_type": "execute_result"
    }
   ],
   "source": [
    "#Inefficient method that uses slicing - just to learn\n",
    "\n",
    "def firstIndex(a,x):\n",
    "    l = len(a)\n",
    "    if l == 0:\n",
    "        return -1\n",
    "    \n",
    "    if a[0] == x:\n",
    "        return 0\n",
    "    \n",
    "    smallList = a[1:]\n",
    "    smallans = firstIndex(smallList,x)\n",
    "    \n",
    "    if smallans == -1:\n",
    "        return -1\n",
    "    else:\n",
    "        return smallans + 1\n",
    "    \n",
    "\n",
    "a = [1,3,4,2,8,4,2]\n",
    "firstIndex(a,2)"
   ]
  },
  {
   "cell_type": "code",
   "execution_count": 101,
   "id": "62f56549",
   "metadata": {},
   "outputs": [
    {
     "data": {
      "text/plain": [
       "-1"
      ]
     },
     "execution_count": 101,
     "metadata": {},
     "output_type": "execute_result"
    }
   ],
   "source": [
    "#Find the last index of the number\n",
    "\n",
    "def lastIndex(a,si,x):\n",
    "    if si == -1:\n",
    "        return -1\n",
    "    if a[si] == x:\n",
    "        return si\n",
    "    \n",
    "    smallans = lastIndex(a,si-1,x)\n",
    "    \n",
    "    return smallans\n",
    "\n",
    "\n",
    "a = [0,8,3,0,8,4,1]\n",
    "l = len(a) - 1\n",
    "si = l\n",
    "lastIndex(a,si,2)"
   ]
  },
  {
   "cell_type": "code",
   "execution_count": 103,
   "id": "beda6938",
   "metadata": {},
   "outputs": [
    {
     "data": {
      "text/plain": [
       "2"
      ]
     },
     "execution_count": 103,
     "metadata": {},
     "output_type": "execute_result"
    }
   ],
   "source": [
    "#CodingNinja learning using copying the elements method\n",
    "\n",
    "def lastIndex1(a,x):\n",
    "    l = len(a)\n",
    "    if l == 0:\n",
    "        return -1\n",
    "    \n",
    "    smallerList = a[1:]\n",
    "    smallerListOutput = lastIndex1(smallerList,x)\n",
    "    \n",
    "    if smallerListOutput != -1:\n",
    "        return smallerListOutput + 1\n",
    "    else:\n",
    "        if a[0] == x:\n",
    "            return 0\n",
    "        else:\n",
    "            return -1\n",
    "\n",
    "\n",
    "a = [2,8,2,0,8,4,1]\n",
    "lastIndex1(a,2)"
   ]
  },
  {
   "cell_type": "code",
   "execution_count": 107,
   "id": "0aab3a88",
   "metadata": {},
   "outputs": [
    {
     "data": {
      "text/plain": [
       "2"
      ]
     },
     "execution_count": 107,
     "metadata": {},
     "output_type": "execute_result"
    }
   ],
   "source": [
    "#Using si and traversing from 0th element only\n",
    "\n",
    "def lastIndex1(a,x,si):\n",
    "    l = len(a)\n",
    "    if si == l:\n",
    "        return -1\n",
    "    \n",
    "    smallerListOutput = lastIndex1(a,x,si+1)\n",
    "    \n",
    "    if smallerListOutput != -1:\n",
    "        return smallerListOutput\n",
    "    else:\n",
    "        if a[si] == x:\n",
    "            return si\n",
    "        else:\n",
    "            return -1\n",
    "\n",
    "\n",
    "a = [2,8,2,0,8,4,1]\n",
    "lastIndex1(a,2,0)"
   ]
  },
  {
   "cell_type": "code",
   "execution_count": 8,
   "id": "44409616",
   "metadata": {},
   "outputs": [
    {
     "name": "stdout",
     "output_type": "stream",
     "text": [
      "5\n",
      "1 2 3 4 5\n",
      "6\n",
      "false\n"
     ]
    }
   ],
   "source": [
    "#check number in array - simpler version but with slicing\n",
    "\n",
    "def checkNumber(arr, x):\n",
    "    #base case\n",
    "    if len(arr) == 0:\n",
    "        return False\n",
    "    \n",
    "    #induction hypothesis\n",
    "    smallOutput = checkNumber(arr[1:],x)\n",
    "    \n",
    "    \n",
    "    #Induction step\n",
    "    if arr[0] == x:\n",
    "        return True\n",
    "    else:  \n",
    "        return smallOutput\n",
    "    \n",
    "    \n",
    "\n",
    "n=int(input())\n",
    "arr=list(int(i) for i in input().strip().split(' '))\n",
    "x=int(input())\n",
    "if checkNumber(arr, x):\n",
    "    print('true')\n",
    "else:\n",
    "    print('false')"
   ]
  },
  {
   "cell_type": "code",
   "execution_count": null,
   "id": "5434e9b0",
   "metadata": {},
   "outputs": [],
   "source": []
  }
 ],
 "metadata": {
  "kernelspec": {
   "display_name": "Python 3",
   "language": "python",
   "name": "python3"
  },
  "language_info": {
   "codemirror_mode": {
    "name": "ipython",
    "version": 3
   },
   "file_extension": ".py",
   "mimetype": "text/x-python",
   "name": "python",
   "nbconvert_exporter": "python",
   "pygments_lexer": "ipython3",
   "version": "3.8.8"
  }
 },
 "nbformat": 4,
 "nbformat_minor": 5
}
