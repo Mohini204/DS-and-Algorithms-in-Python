{
 "cells": [
  {
   "cell_type": "markdown",
   "id": "558d693d",
   "metadata": {},
   "source": [
    "#### Create Binary tree Node"
   ]
  },
  {
   "cell_type": "code",
   "execution_count": 1,
   "id": "b76bf774",
   "metadata": {},
   "outputs": [],
   "source": [
    "class BinaryTreeNode:\n",
    "    def __init__(self,data):\n",
    "        self.data = data\n",
    "        self.left = None\n",
    "        self.right = None\n",
    "        "
   ]
  },
  {
   "cell_type": "markdown",
   "id": "6334196b",
   "metadata": {},
   "source": [
    "#### Printing Binary Tree"
   ]
  },
  {
   "cell_type": "code",
   "execution_count": 2,
   "id": "71af303d",
   "metadata": {},
   "outputs": [],
   "source": [
    "#basic output with no clarity of child parent relationship\n",
    "\n",
    "def printTree(root):\n",
    "    \n",
    "    #base case\n",
    "    if root is None:\n",
    "        return\n",
    "    \n",
    "    print(root.data, end=\":\")\n",
    "    printTree(root.left)\n",
    "    printTree(root.right)"
   ]
  },
  {
   "cell_type": "code",
   "execution_count": 3,
   "id": "420eff4d",
   "metadata": {},
   "outputs": [],
   "source": [
    "#better clarity with this output\n",
    "\n",
    "def printTreeBetter(root):\n",
    "    \n",
    "    #base case\n",
    "    if root is None:\n",
    "        return\n",
    "    \n",
    "    print(root.data, end=\":\")\n",
    "    if root.left is not None:\n",
    "        print(root.left.data, end = ',')\n",
    "    if root.right is not None:\n",
    "        print(root.right.data,end='')\n",
    "    print()\n",
    "    \n",
    "    printTreeBetter(root.left)\n",
    "    printTreeBetter(root.right)"
   ]
  },
  {
   "cell_type": "code",
   "execution_count": 4,
   "id": "418ff473",
   "metadata": {},
   "outputs": [],
   "source": [
    "btn1 = BinaryTreeNode(1)\n",
    "btn2 = BinaryTreeNode(4)\n",
    "btn3 = BinaryTreeNode(5)\n",
    "btn4 = BinaryTreeNode(6)\n",
    "btn5 = BinaryTreeNode(2)\n",
    "btn6 = BinaryTreeNode(6)\n",
    "btn7 = BinaryTreeNode(7)"
   ]
  },
  {
   "cell_type": "code",
   "execution_count": 5,
   "id": "4626a3a8",
   "metadata": {},
   "outputs": [
    {
     "name": "stdout",
     "output_type": "stream",
     "text": [
      "1:4,5\n",
      "4:\n",
      "5:6,\n",
      "6:6,7\n",
      "6:\n",
      "7:\n"
     ]
    }
   ],
   "source": [
    "btn1.left = btn2\n",
    "btn1.right = btn3\n",
    "btn3.left = btn4\n",
    "btn4.left = btn6\n",
    "btn4.right = btn7\n",
    "btn5.left = btn4\n",
    "printTreeBetter(btn1)"
   ]
  },
  {
   "cell_type": "markdown",
   "id": "d086c167",
   "metadata": {},
   "source": [
    "#### Taking Input Binary Tree"
   ]
  },
  {
   "cell_type": "code",
   "execution_count": 3,
   "id": "49e47eaa",
   "metadata": {},
   "outputs": [],
   "source": [
    "def treeInput():\n",
    "    \n",
    "    rootdata = int(input())\n",
    "    \n",
    "    #base case\n",
    "    if rootdata == -1:\n",
    "        return None\n",
    "     \n",
    "    root = BinaryTreeNode(rootdata)\n",
    "    lefttree = treeInput()\n",
    "    righttree = treeInput()\n",
    "    root.left = lefttree\n",
    "    root.right = righttree\n",
    "    return root"
   ]
  },
  {
   "cell_type": "code",
   "execution_count": null,
   "id": "eafa1424",
   "metadata": {},
   "outputs": [],
   "source": [
    "root = treeInput()\n",
    "printTreeBetter(root)"
   ]
  },
  {
   "cell_type": "markdown",
   "id": "82dde35e",
   "metadata": {},
   "source": [
    "#### Count Nodes in a Binary Tree"
   ]
  },
  {
   "cell_type": "code",
   "execution_count": null,
   "id": "a0e413a8",
   "metadata": {},
   "outputs": [],
   "source": [
    "def countNodes(root):\n",
    "    \n",
    "    if root is None:\n",
    "        return 0\n",
    "    \n",
    "    leftcount = countNodes(root.left)\n",
    "    rightcount = countNodes(root.right)\n",
    "    \n",
    "    count = leftcount+rightcount\n",
    "    return 1 + count"
   ]
  },
  {
   "cell_type": "code",
   "execution_count": null,
   "id": "06c670e4",
   "metadata": {},
   "outputs": [],
   "source": [
    "root = treeInput()\n",
    "print(countNodes(root))"
   ]
  },
  {
   "cell_type": "markdown",
   "id": "59a9d334",
   "metadata": {},
   "source": [
    "#### Sum of Nodes"
   ]
  },
  {
   "cell_type": "code",
   "execution_count": null,
   "id": "a7313835",
   "metadata": {},
   "outputs": [],
   "source": [
    "def getSum(root):\n",
    "    \n",
    "    if root is None:\n",
    "        return 0\n",
    "    \n",
    "    leftn = getSum(root.left)\n",
    "    rightn = getSum(root.right)\n",
    "    sumn = root.data + leftn + rightn\n",
    "    return sumn"
   ]
  },
  {
   "cell_type": "code",
   "execution_count": null,
   "id": "1cca6e6d",
   "metadata": {},
   "outputs": [],
   "source": [
    "root = treeInput()\n",
    "print(getSum(root))"
   ]
  },
  {
   "cell_type": "markdown",
   "id": "90733198",
   "metadata": {},
   "source": [
    "#### Largest Node"
   ]
  },
  {
   "cell_type": "code",
   "execution_count": 6,
   "id": "81f6bfaa",
   "metadata": {},
   "outputs": [],
   "source": [
    "def largestNode(root):\n",
    "    \n",
    "    #base case\n",
    "    if root is None:\n",
    "        return -1\n",
    "    \n",
    "    largest = root.data\n",
    "    leftl = largestNode(root.left)\n",
    "    rightl = largestNode(root.right)\n",
    "    \n",
    "    if leftl > largest and leftl>rightl:\n",
    "        return root.left.data\n",
    "    elif rightl>largest and rightl>leftl:\n",
    "        return root.right.data\n",
    "    else:\n",
    "        return root.data"
   ]
  },
  {
   "cell_type": "code",
   "execution_count": 8,
   "id": "d13e0699",
   "metadata": {},
   "outputs": [
    {
     "name": "stdout",
     "output_type": "stream",
     "text": [
      "1\n",
      "2\n",
      "3\n",
      "-1\n",
      "-1\n",
      "4\n",
      "-1\n",
      "-1\n",
      "5\n",
      "-1\n",
      "-1\n",
      "5\n"
     ]
    }
   ],
   "source": [
    "root = treeInput()\n",
    "print(largestNode(root))"
   ]
  },
  {
   "cell_type": "markdown",
   "id": "8d8cc7bf",
   "metadata": {},
   "source": [
    "#### Count Nodes Greater than x"
   ]
  },
  {
   "cell_type": "code",
   "execution_count": 12,
   "id": "3a213f00",
   "metadata": {},
   "outputs": [],
   "source": [
    "def countNodesGreaterThanX(root, x) :\n",
    "    \n",
    "    #base case\n",
    "    if root is None:\n",
    "        return 0\n",
    "    \n",
    "    leftn = countNodesGreaterThanX(root.left,x)\n",
    "    rightn = countNodesGreaterThanX(root.right,x)\n",
    "    if root.data > x:\n",
    "        return 1 + leftn + rightn    \n",
    "    else:\n",
    "        return leftn + rightn"
   ]
  },
  {
   "cell_type": "code",
   "execution_count": 10,
   "id": "d2c246f8",
   "metadata": {},
   "outputs": [
    {
     "name": "stdout",
     "output_type": "stream",
     "text": [
      "1\n",
      "2\n",
      "3\n",
      "-1\n",
      "-1\n",
      "4\n",
      "-1\n",
      "-1\n",
      "5\n",
      "6\n",
      "-1\n",
      "-1\n",
      "7\n",
      "-1\n",
      "-1\n",
      "None\n"
     ]
    }
   ],
   "source": [
    "root = treeInput()\n",
    "print(countNodesGreaterThanX(root, 4))"
   ]
  },
  {
   "cell_type": "markdown",
   "id": "fe538f0f",
   "metadata": {},
   "source": [
    "#### Find height of Tree"
   ]
  },
  {
   "cell_type": "code",
   "execution_count": 13,
   "id": "ec6ab240",
   "metadata": {},
   "outputs": [],
   "source": [
    "def height(root) :\n",
    "    \n",
    "    if root is None:\n",
    "        return 0\n",
    "    \n",
    "    lefth = height(root.left)\n",
    "    righth = height(root.right)\n",
    "    \n",
    "    if lefth>righth:\n",
    "        return 1 + lefth\n",
    "    else:\n",
    "        return 1 + righth\n",
    "    "
   ]
  },
  {
   "cell_type": "code",
   "execution_count": 14,
   "id": "e22fb675",
   "metadata": {},
   "outputs": [
    {
     "name": "stdout",
     "output_type": "stream",
     "text": [
      "1\n",
      "2\n",
      "3\n",
      "-1\n",
      "-1\n",
      "4\n",
      "-1\n",
      "-1\n",
      "5\n",
      "6\n",
      "-1\n",
      "-1\n",
      "7\n",
      "-1\n",
      "-1\n",
      "3\n"
     ]
    }
   ],
   "source": [
    "root = treeInput()\n",
    "print(height(root))"
   ]
  },
  {
   "cell_type": "markdown",
   "id": "6912b202",
   "metadata": {},
   "source": [
    "#### Number of Leaf Nodes in a Binary Tree"
   ]
  },
  {
   "cell_type": "code",
   "execution_count": 15,
   "id": "6daea6db",
   "metadata": {},
   "outputs": [],
   "source": [
    "def numleafNodes(root):\n",
    "    if root is None:\n",
    "        return 0\n",
    "    \n",
    "    if root.left is None and root.right is None:\n",
    "        return 1\n",
    "    \n",
    "    leftn = numleafNodes(root.left)\n",
    "    rightn = numleafNodes(root.right)\n",
    "    return leftn+rightn"
   ]
  },
  {
   "cell_type": "code",
   "execution_count": 16,
   "id": "40b58e2e",
   "metadata": {},
   "outputs": [
    {
     "name": "stdout",
     "output_type": "stream",
     "text": [
      "1\n",
      "2\n",
      "3\n",
      "-1\n",
      "-1\n",
      "4\n",
      "-1\n",
      "-1\n",
      "5\n",
      "6\n",
      "-1\n",
      "-1\n",
      "7\n",
      "-1\n",
      "-1\n",
      "4\n"
     ]
    }
   ],
   "source": [
    "root = treeInput()\n",
    "print(numleafNodes(root))"
   ]
  },
  {
   "cell_type": "markdown",
   "id": "80a309c8",
   "metadata": {},
   "source": [
    "#### Print Nodes at depth K"
   ]
  },
  {
   "cell_type": "code",
   "execution_count": 6,
   "id": "ec1f6169",
   "metadata": {},
   "outputs": [],
   "source": [
    "def nodesatdepth(root,k):\n",
    "    \n",
    "    if root is None:\n",
    "        return 0\n",
    "    if k == 0:\n",
    "        print(root.data)\n",
    "        return\n",
    "    \n",
    "    leftn = nodesatdepth(root.left,k-1)\n",
    "    rightn = nodesatdepth(root.right,k-1)"
   ]
  },
  {
   "cell_type": "code",
   "execution_count": null,
   "id": "7b977d42",
   "metadata": {
    "scrolled": true
   },
   "outputs": [],
   "source": [
    "root = treeInput()\n",
    "print(nodesatdepth(root,1))"
   ]
  },
  {
   "cell_type": "code",
   "execution_count": 13,
   "id": "b52015d6",
   "metadata": {},
   "outputs": [],
   "source": [
    "#different and useful version\n",
    "\n",
    "def nodesatdepth1(root,k,d=0):\n",
    "    \n",
    "    if root is None:\n",
    "        return\n",
    "    if k == d:\n",
    "        print(root.data)\n",
    "        return\n",
    "    \n",
    "    leftn = nodesatdepth1(root.left,k,d+1)\n",
    "    rightn = nodesatdepth1(root.right,k,d+1)"
   ]
  },
  {
   "cell_type": "code",
   "execution_count": 16,
   "id": "e624eaf9",
   "metadata": {},
   "outputs": [
    {
     "name": "stdout",
     "output_type": "stream",
     "text": [
      "4\n",
      "5\n",
      "6\n"
     ]
    }
   ],
   "source": [
    "nodesatdepth1(root,2,d=0)"
   ]
  },
  {
   "cell_type": "markdown",
   "id": "44108587",
   "metadata": {},
   "source": [
    "#### Replace Node with depth"
   ]
  },
  {
   "cell_type": "code",
   "execution_count": 17,
   "id": "79c4c902",
   "metadata": {},
   "outputs": [],
   "source": [
    "def changeToDepthTree(root, d=0) :\n",
    "    \n",
    "    if root is None:\n",
    "        return\n",
    "    \n",
    "    root.data = d\n",
    "    \n",
    "    changeToDepthTree(root.left, d+1)\n",
    "    changeToDepthTree(root.right, d+1)\n",
    "    "
   ]
  },
  {
   "cell_type": "code",
   "execution_count": 24,
   "id": "2105aef6",
   "metadata": {},
   "outputs": [
    {
     "name": "stdout",
     "output_type": "stream",
     "text": [
      "2\n",
      "35\n",
      "2\n",
      "-1\n",
      "-1\n",
      "3\n",
      "-1\n",
      "-1\n",
      "10\n",
      "5\n",
      "-1\n",
      "-1\n",
      "2\n",
      "-1\n",
      "-1\n",
      "0:1,1\n",
      "1:2,2\n",
      "2:\n",
      "2:\n",
      "1:2,2\n",
      "2:\n",
      "2:\n"
     ]
    }
   ],
   "source": [
    "root = treeInput()\n",
    "changeToDepthTree(root, d=0)\n",
    "printTreeBetter(root)"
   ]
  },
  {
   "cell_type": "markdown",
   "id": "f7856c02",
   "metadata": {},
   "source": [
    "### Assignment Questions"
   ]
  },
  {
   "cell_type": "markdown",
   "id": "7d541043",
   "metadata": {},
   "source": [
    "#### Detect x in Node Data"
   ]
  },
  {
   "cell_type": "code",
   "execution_count": 25,
   "id": "a4e3fb8f",
   "metadata": {},
   "outputs": [],
   "source": [
    "def isNodePresent(root, x):\n",
    "    \n",
    "    if root is None:\n",
    "        return False\n",
    "    \n",
    "    if root.data == x:\n",
    "        return True\n",
    "    \n",
    "    leftn = isNodePresent(root.left, x)\n",
    "    rightn = isNodePresent(root.right, x)\n",
    "    \n",
    "    return leftn or rightn"
   ]
  },
  {
   "cell_type": "code",
   "execution_count": 28,
   "id": "7196ec0f",
   "metadata": {},
   "outputs": [
    {
     "name": "stdout",
     "output_type": "stream",
     "text": [
      "8\n",
      "3\n",
      "1\n",
      "-1\n",
      "-1\n",
      "6\n",
      "4\n",
      "-1\n",
      "-1\n",
      "7\n",
      "-1\n",
      "-1\n",
      "10\n",
      "-1\n",
      "14\n",
      "13\n",
      "-1\n",
      "-1\n",
      "-1\n",
      "True\n"
     ]
    }
   ],
   "source": [
    "root = treeInput()\n",
    "print(isNodePresent(root, 3))"
   ]
  },
  {
   "cell_type": "markdown",
   "id": "194639f2",
   "metadata": {},
   "source": [
    "#### Print Nodes that have no Siblings"
   ]
  },
  {
   "cell_type": "code",
   "execution_count": null,
   "id": "185ad52d",
   "metadata": {},
   "outputs": [],
   "source": [
    "def printNodesWithoutSibling(root) :\n",
    "    \n",
    "    if root is None:\n",
    "        return\n",
    "        \n",
    "    #the below if statement is ideally not required \n",
    "    #cos for leaf nodes, flow will skip the ifs with print statement\n",
    "    #flow will reach rec statements and reach base case\n",
    "    if root.left is None and root.right is None:\n",
    "        return\n",
    "    \n",
    "    if root.left is None and root.right is not None:\n",
    "        print(root.right.data, end = ' ')\n",
    "    if root.right is None and root.left is not None:\n",
    "        print(root.left.data, end = ' ')\n",
    "        \n",
    "    printNodesWithoutSibling(root.left)\n",
    "    printNodesWithoutSibling(root.right)"
   ]
  },
  {
   "cell_type": "code",
   "execution_count": 33,
   "id": "ae1cbe5c",
   "metadata": {},
   "outputs": [
    {
     "name": "stdout",
     "output_type": "stream",
     "text": [
      "5\n",
      "6\n",
      "2\n",
      "-1\n",
      "-1\n",
      "3\n",
      "-1\n",
      "-1\n",
      "10\n",
      "-1\n",
      "9\n",
      "-1\n",
      "-1\n",
      "9 None\n"
     ]
    }
   ],
   "source": [
    "root = treeInput()\n",
    "printNodesWithoutSibling(root)"
   ]
  },
  {
   "cell_type": "code",
   "execution_count": null,
   "id": "779a3e67",
   "metadata": {},
   "outputs": [],
   "source": []
  }
 ],
 "metadata": {
  "kernelspec": {
   "display_name": "Python 3",
   "language": "python",
   "name": "python3"
  },
  "language_info": {
   "codemirror_mode": {
    "name": "ipython",
    "version": 3
   },
   "file_extension": ".py",
   "mimetype": "text/x-python",
   "name": "python",
   "nbconvert_exporter": "python",
   "pygments_lexer": "ipython3",
   "version": "3.8.8"
  }
 },
 "nbformat": 4,
 "nbformat_minor": 5
}
