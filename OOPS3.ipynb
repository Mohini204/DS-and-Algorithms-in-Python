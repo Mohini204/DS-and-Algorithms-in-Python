{
 "cells": [
  {
   "cell_type": "markdown",
   "id": "a8a3c99a",
   "metadata": {},
   "source": [
    "### Intro to Abstract Classes and Methods"
   ]
  },
  {
   "cell_type": "code",
   "execution_count": null,
   "id": "7f0cec0e",
   "metadata": {},
   "outputs": [],
   "source": [
    "from abc import ABC, abstractmethod"
   ]
  },
  {
   "cell_type": "code",
   "execution_count": null,
   "id": "5a0bfa33",
   "metadata": {},
   "outputs": [],
   "source": [
    "#our class is the inherited class of ABC class\n",
    "class Universe(ABC):\n",
    "    \n",
    "    @abstractmethod\n",
    "    def get_dist(self):\n",
    "        pass\n",
    "    \n",
    "class Planet(Universe):\n",
    "    \n",
    "    def __init__(self,name,status,dist):\n",
    "        \n",
    "        self.name = name\n",
    "        self.status = status\n",
    "        self.dist = dist\n",
    "        \n",
    "    def get_dist(self):\n",
    "        return 10*self.dist"
   ]
  },
  {
   "cell_type": "code",
   "execution_count": null,
   "id": "29669222",
   "metadata": {},
   "outputs": [],
   "source": [
    "myobj = Planet('earth',True,400)"
   ]
  },
  {
   "cell_type": "code",
   "execution_count": null,
   "id": "73e5086c",
   "metadata": {},
   "outputs": [],
   "source": [
    "myobj = Planet('earth',True,400)"
   ]
  },
  {
   "cell_type": "code",
   "execution_count": null,
   "id": "1b0a5139",
   "metadata": {},
   "outputs": [],
   "source": [
    "myobj.get_dist()"
   ]
  },
  {
   "cell_type": "code",
   "execution_count": null,
   "id": "965a8abf",
   "metadata": {},
   "outputs": [],
   "source": [
    "# abstract classes cannot be instantiated since \n",
    "myobj1 = Universe()"
   ]
  },
  {
   "cell_type": "markdown",
   "id": "7eaab62d",
   "metadata": {},
   "source": [
    "#### Predict the Output"
   ]
  },
  {
   "cell_type": "code",
   "execution_count": null,
   "id": "4e54918f",
   "metadata": {},
   "outputs": [],
   "source": [
    "class A(ABC):\n",
    "\n",
    "    @abstractmethod\n",
    "    def fun1(self):\n",
    "        pass\n",
    "\n",
    "    @abstractmethod\n",
    "    def fun2(self):\n",
    "        pass\n",
    "\n",
    "class B(A):\n",
    "\n",
    "    def fun1(self):\n",
    "        print('function 1 called')"
   ]
  },
  {
   "cell_type": "code",
   "execution_count": null,
   "id": "69dd15f0",
   "metadata": {},
   "outputs": [],
   "source": [
    "# gives error since ALL the abstract metods are not instantiated\n",
    "\n",
    "o = B()\n",
    "o.fun1()"
   ]
  },
  {
   "cell_type": "markdown",
   "id": "2f1b9f81",
   "metadata": {},
   "source": [
    "#### Abstract Classes Continued"
   ]
  },
  {
   "cell_type": "code",
   "execution_count": null,
   "id": "e28c4087",
   "metadata": {},
   "outputs": [],
   "source": [
    "# Here we're creating init method in abstract\n",
    "\n",
    "class TextReaderAbstract(ABC):\n",
    "    \n",
    "    def __init__(self,path,filename):\n",
    "        self.path = path\n",
    "        self.filename = filename\n",
    "        \n",
    "    @abstractmethod  # this is just an interface\n",
    "    def get_path(self):\n",
    "        pass\n",
    "    \n",
    "    def get_filename(self):\n",
    "        pass"
   ]
  },
  {
   "cell_type": "code",
   "execution_count": null,
   "id": "b0350181",
   "metadata": {},
   "outputs": [],
   "source": [
    "class TextReader(TextReaderAbstract):\n",
    "    \n",
    "    # no need of super since abstract class is enforcing all these methods\n",
    "    def get_path(self):\n",
    "        return self.path\n",
    "    \n",
    "    def get_filename(self):\n",
    "        return self.filename"
   ]
  },
  {
   "cell_type": "code",
   "execution_count": null,
   "id": "8f6daa3b",
   "metadata": {},
   "outputs": [],
   "source": [
    "obj1 = TextReader(\"user/download\",\"sample.txt\")"
   ]
  },
  {
   "cell_type": "code",
   "execution_count": null,
   "id": "e3e17b29",
   "metadata": {},
   "outputs": [],
   "source": [
    "obj1.get_path()"
   ]
  },
  {
   "cell_type": "code",
   "execution_count": null,
   "id": "16e3f6ee",
   "metadata": {},
   "outputs": [],
   "source": [
    "obj1.get_filename()"
   ]
  },
  {
   "cell_type": "code",
   "execution_count": null,
   "id": "c775c71a",
   "metadata": {},
   "outputs": [],
   "source": [
    "# another quick example\n",
    "\n",
    "class Bank(ABC):\n",
    "    \n",
    "    @abstractmethod\n",
    "    def get_interest(self):\n",
    "        pass"
   ]
  },
  {
   "cell_type": "code",
   "execution_count": null,
   "id": "0b9cd5f2",
   "metadata": {},
   "outputs": [],
   "source": [
    "class HDFC(Bank):\n",
    "    \n",
    "    def get_interest(self):\n",
    "        return 8.9"
   ]
  },
  {
   "cell_type": "code",
   "execution_count": null,
   "id": "f1268fda",
   "metadata": {},
   "outputs": [],
   "source": [
    "obj2 = HDFC()"
   ]
  },
  {
   "cell_type": "code",
   "execution_count": null,
   "id": "75ccc838",
   "metadata": {},
   "outputs": [],
   "source": [
    "obj2.get_interest()"
   ]
  },
  {
   "cell_type": "markdown",
   "id": "dbb59c92",
   "metadata": {},
   "source": [
    "#### Predict the Output"
   ]
  },
  {
   "cell_type": "code",
   "execution_count": null,
   "id": "aff327fb",
   "metadata": {},
   "outputs": [],
   "source": [
    "class A(ABC):\n",
    "\n",
    "    @abstractmethod\n",
    "    def fun1(self):\n",
    "        print('function of class A called')\n",
    "\n",
    "    @abstractmethod\n",
    "    def fun2(self):\n",
    "        pass\n",
    "    \n",
    "class B(A):\n",
    "    def fun1(self):\n",
    "        print('function 1 called')\n",
    "    def fun2(self):\n",
    "        print('function 2 called')"
   ]
  },
  {
   "cell_type": "code",
   "execution_count": null,
   "id": "cbbf51ef",
   "metadata": {},
   "outputs": [],
   "source": [
    "o = B()\n",
    "o.fun1()"
   ]
  },
  {
   "cell_type": "code",
   "execution_count": null,
   "id": "4c42012c",
   "metadata": {},
   "outputs": [],
   "source": [
    "# In this ques super() is used to define the fun1 abstract method in the inherited class\n",
    "\n",
    "class A(ABC):\n",
    "\n",
    "    @abstractmethod\n",
    "    def fun1(self):\n",
    "        print('function of class A called')\n",
    "\n",
    "    @abstractmethod\n",
    "    def fun2(self):\n",
    "        pass\n",
    "\n",
    "class B(A):\n",
    "    def fun1(self):\n",
    "        super().fun1()\n",
    "    def fun2(self):\n",
    "        print('function 2 called')"
   ]
  },
  {
   "cell_type": "code",
   "execution_count": null,
   "id": "d2e4efb7",
   "metadata": {},
   "outputs": [],
   "source": [
    "o = B()\n",
    "o.fun1()"
   ]
  },
  {
   "cell_type": "markdown",
   "id": "7f851ce5",
   "metadata": {},
   "source": [
    "### Errors and Exceptions"
   ]
  },
  {
   "cell_type": "code",
   "execution_count": null,
   "id": "10e9792e",
   "metadata": {},
   "outputs": [],
   "source": [
    "if:\n",
    "    <our logic>\n",
    "else:\n",
    "    <alternative logic>"
   ]
  },
  {
   "cell_type": "code",
   "execution_count": null,
   "id": "5af1a7b2",
   "metadata": {},
   "outputs": [],
   "source": [
    "try:\n",
    "    a+b\n",
    "# takes only one exception at a time\n",
    "except:\n",
    "    int(a) + int(b)"
   ]
  },
  {
   "cell_type": "code",
   "execution_count": null,
   "id": "96be9c90",
   "metadata": {},
   "outputs": [],
   "source": [
    "class Bike:\n",
    "    \n",
    "    def __init__(self,model):\n",
    "        self.model = model\n",
    "        \n",
    "    def get_value(self):\n",
    "        try:\n",
    "            age = 2021 - self.model\n",
    "            return 1000*(1/age)\n",
    "        \n",
    "        # if name of error is not passed (TypeError), everything will bypass which is not good code\n",
    "        # since we need to be specific with our exceptions to handle them differently\n",
    "        except TypeError:\n",
    "            age = 2021 - int(self.model)\n",
    "            return 1000*(1/age)\n",
    "        except ZeroDivisionError:\n",
    "            return 'new'"
   ]
  },
  {
   "cell_type": "code",
   "execution_count": null,
   "id": "d49d7872",
   "metadata": {},
   "outputs": [],
   "source": [
    "obj3 = Bike('2020')\n",
    "obj3.get_value()"
   ]
  },
  {
   "cell_type": "code",
   "execution_count": null,
   "id": "ab8042f0",
   "metadata": {},
   "outputs": [],
   "source": [
    "obj3 = Bike(2021)\n",
    "obj3.get_value()"
   ]
  },
  {
   "cell_type": "code",
   "execution_count": null,
   "id": "952234f0",
   "metadata": {
    "scrolled": false
   },
   "outputs": [],
   "source": [
    "#this has multiple logical errors\n",
    "\n",
    "obj3 = Bike('2021')\n",
    "obj3.get_value()"
   ]
  },
  {
   "cell_type": "markdown",
   "id": "6887e334",
   "metadata": {},
   "source": [
    "#### Multiple Exceptions"
   ]
  },
  {
   "cell_type": "code",
   "execution_count": 44,
   "id": "15ddc4e0",
   "metadata": {},
   "outputs": [],
   "source": [
    "class Bike1:\n",
    "    \n",
    "    def __init__(self,model):\n",
    "        self.model = model\n",
    "        \n",
    "    def get_value(self):\n",
    "        try:\n",
    "            age = 2021 - self.model\n",
    "            return 1000*(1/age)\n",
    "        except TypeError:\n",
    "            try:\n",
    "                age = 2021 - int(self.model)\n",
    "                return 1000*(1/age)\n",
    "            except ZeroDivisionError:\n",
    "                return 'new'"
   ]
  },
  {
   "cell_type": "code",
   "execution_count": 46,
   "id": "68fb5ba9",
   "metadata": {},
   "outputs": [
    {
     "data": {
      "text/plain": [
       "'new'"
      ]
     },
     "execution_count": 46,
     "metadata": {},
     "output_type": "execute_result"
    }
   ],
   "source": [
    "obj3 = Bike1('2021')\n",
    "obj3.get_value()"
   ]
  },
  {
   "cell_type": "markdown",
   "id": "85b5704b",
   "metadata": {},
   "source": [
    "#### Predict the Output"
   ]
  },
  {
   "cell_type": "code",
   "execution_count": null,
   "id": "f85a85dc",
   "metadata": {},
   "outputs": [],
   "source": [
    "try:\n",
    "    a = 10\n",
    "    b = 0\n",
    "    c = a/b\n",
    "    print(c)\n",
    "except ValueError:\n",
    "    print('Exception occured')"
   ]
  },
  {
   "cell_type": "code",
   "execution_count": 47,
   "id": "57942c74",
   "metadata": {},
   "outputs": [
    {
     "name": "stdout",
     "output_type": "stream",
     "text": [
      "Name Error occured\n"
     ]
    }
   ],
   "source": [
    "try:\n",
    "    a = 10\n",
    "    b = 0\n",
    "    print(d)\n",
    "    c = a/b\n",
    "except NameError:\n",
    "    print('Name Error occured')\n",
    "except ZeroDivisionError:\n",
    "    print('Zero Division Error occured')"
   ]
  },
  {
   "cell_type": "markdown",
   "id": "a9088b38",
   "metadata": {},
   "source": [
    "### Custom Exceptions"
   ]
  },
  {
   "cell_type": "code",
   "execution_count": 46,
   "id": "7e0d5cb2",
   "metadata": {},
   "outputs": [],
   "source": [
    "class NegativeCarValue(Exception):\n",
    "    \n",
    "    #this class only has the message to be part of exception\n",
    "    \n",
    "    def __init__(self,value,message = \"Car value cannot be negative\"):\n",
    "        self.value = value\n",
    "        self.message = message\n",
    "        \n",
    "        #inheriting from the Exception class and passing the message so that Exception class keeps it\n",
    "        super().__init__(self.message)\n",
    "        \n",
    "    def __str__(self):\n",
    "        return f'{self.message} --> {self.value}'"
   ]
  },
  {
   "cell_type": "code",
   "execution_count": 21,
   "id": "6089ca9c",
   "metadata": {},
   "outputs": [
    {
     "ename": "NegativeCarValue",
     "evalue": "Car value cannot be negative --> -1",
     "output_type": "error",
     "traceback": [
      "\u001b[1;31m---------------------------------------------------------------------------\u001b[0m",
      "\u001b[1;31mNegativeCarValue\u001b[0m                          Traceback (most recent call last)",
      "\u001b[1;32m<ipython-input-21-924c41ab8e60>\u001b[0m in \u001b[0;36m<module>\u001b[1;34m\u001b[0m\n\u001b[0;32m      1\u001b[0m \u001b[0ma\u001b[0m \u001b[1;33m=\u001b[0m \u001b[1;33m-\u001b[0m\u001b[1;36m1\u001b[0m\u001b[1;33m\u001b[0m\u001b[1;33m\u001b[0m\u001b[0m\n\u001b[0;32m      2\u001b[0m \u001b[1;32mif\u001b[0m \u001b[0ma\u001b[0m \u001b[1;33m<\u001b[0m \u001b[1;36m0\u001b[0m\u001b[1;33m:\u001b[0m\u001b[1;33m\u001b[0m\u001b[1;33m\u001b[0m\u001b[0m\n\u001b[1;32m----> 3\u001b[1;33m     \u001b[1;32mraise\u001b[0m \u001b[0mNegativeCarValue\u001b[0m\u001b[1;33m(\u001b[0m\u001b[0ma\u001b[0m\u001b[1;33m)\u001b[0m\u001b[1;33m\u001b[0m\u001b[1;33m\u001b[0m\u001b[0m\n\u001b[0m",
      "\u001b[1;31mNegativeCarValue\u001b[0m: Car value cannot be negative --> -1"
     ]
    }
   ],
   "source": [
    "a = -1\n",
    "if a < 0:\n",
    "    raise NegativeCarValue(a)"
   ]
  },
  {
   "cell_type": "code",
   "execution_count": 49,
   "id": "e1e081f5",
   "metadata": {},
   "outputs": [],
   "source": [
    "class Vehicle():\n",
    "\n",
    "    def __init__(self,make,model,fuel):\n",
    "        self.make = make\n",
    "        self.model = model\n",
    "        self.fuel = fuel\n",
    "        self.current_yr = 2021\n",
    "        \n",
    "    def get_value(self):\n",
    "        \n",
    "        age = self.current_yr - self.model\n",
    "        \n",
    "        if age < 0:\n",
    "            raise NegativeCarValue(age)\n",
    "        else:\n",
    "            return 1000*(1/age)"
   ]
  },
  {
   "cell_type": "code",
   "execution_count": 50,
   "id": "f5973367",
   "metadata": {},
   "outputs": [
    {
     "data": {
      "text/plain": [
       "500.0"
      ]
     },
     "execution_count": 50,
     "metadata": {},
     "output_type": "execute_result"
    }
   ],
   "source": [
    "car = Vehicle('bmw',2019,'gas')\n",
    "car.get_value()"
   ]
  },
  {
   "cell_type": "code",
   "execution_count": 51,
   "id": "110e0bd5",
   "metadata": {},
   "outputs": [
    {
     "ename": "NegativeCarValue",
     "evalue": "Car value cannot be negative --> -2",
     "output_type": "error",
     "traceback": [
      "\u001b[1;31m---------------------------------------------------------------------------\u001b[0m",
      "\u001b[1;31mNegativeCarValue\u001b[0m                          Traceback (most recent call last)",
      "\u001b[1;32m<ipython-input-51-b04c80264d64>\u001b[0m in \u001b[0;36m<module>\u001b[1;34m\u001b[0m\n\u001b[0;32m      1\u001b[0m \u001b[0mcar\u001b[0m \u001b[1;33m=\u001b[0m \u001b[0mVehicle\u001b[0m\u001b[1;33m(\u001b[0m\u001b[1;34m'bmw'\u001b[0m\u001b[1;33m,\u001b[0m\u001b[1;36m2023\u001b[0m\u001b[1;33m,\u001b[0m\u001b[1;34m'gas'\u001b[0m\u001b[1;33m)\u001b[0m\u001b[1;33m\u001b[0m\u001b[1;33m\u001b[0m\u001b[0m\n\u001b[1;32m----> 2\u001b[1;33m \u001b[0mcar\u001b[0m\u001b[1;33m.\u001b[0m\u001b[0mget_value\u001b[0m\u001b[1;33m(\u001b[0m\u001b[1;33m)\u001b[0m\u001b[1;33m\u001b[0m\u001b[1;33m\u001b[0m\u001b[0m\n\u001b[0m",
      "\u001b[1;32m<ipython-input-49-710768a5571c>\u001b[0m in \u001b[0;36mget_value\u001b[1;34m(self)\u001b[0m\n\u001b[0;32m     12\u001b[0m \u001b[1;33m\u001b[0m\u001b[0m\n\u001b[0;32m     13\u001b[0m         \u001b[1;32mif\u001b[0m \u001b[0mage\u001b[0m \u001b[1;33m<\u001b[0m \u001b[1;36m0\u001b[0m\u001b[1;33m:\u001b[0m\u001b[1;33m\u001b[0m\u001b[1;33m\u001b[0m\u001b[0m\n\u001b[1;32m---> 14\u001b[1;33m             \u001b[1;32mraise\u001b[0m \u001b[0mNegativeCarValue\u001b[0m\u001b[1;33m(\u001b[0m\u001b[0mage\u001b[0m\u001b[1;33m)\u001b[0m\u001b[1;33m\u001b[0m\u001b[1;33m\u001b[0m\u001b[0m\n\u001b[0m\u001b[0;32m     15\u001b[0m         \u001b[1;32melse\u001b[0m\u001b[1;33m:\u001b[0m\u001b[1;33m\u001b[0m\u001b[1;33m\u001b[0m\u001b[0m\n\u001b[0;32m     16\u001b[0m             \u001b[1;32mreturn\u001b[0m \u001b[1;36m1000\u001b[0m\u001b[1;33m*\u001b[0m\u001b[1;33m(\u001b[0m\u001b[1;36m1\u001b[0m\u001b[1;33m/\u001b[0m\u001b[0mage\u001b[0m\u001b[1;33m)\u001b[0m\u001b[1;33m\u001b[0m\u001b[1;33m\u001b[0m\u001b[0m\n",
      "\u001b[1;31mNegativeCarValue\u001b[0m: Car value cannot be negative --> -2"
     ]
    }
   ],
   "source": [
    "car = Vehicle('bmw',2023,'gas')\n",
    "car.get_value()"
   ]
  },
  {
   "cell_type": "markdown",
   "id": "74f041b6",
   "metadata": {},
   "source": [
    "#### Predict the Output"
   ]
  },
  {
   "cell_type": "code",
   "execution_count": 52,
   "id": "bfc58e49",
   "metadata": {
    "scrolled": true
   },
   "outputs": [
    {
     "ename": "ZeroDenominatorError",
     "evalue": "",
     "output_type": "error",
     "traceback": [
      "\u001b[1;31m---------------------------------------------------------------------------\u001b[0m",
      "\u001b[1;31mZeroDenominatorError\u001b[0m                      Traceback (most recent call last)",
      "\u001b[1;32m<ipython-input-52-c9ebb5ac2a06>\u001b[0m in \u001b[0;36m<module>\u001b[1;34m\u001b[0m\n\u001b[0;32m      5\u001b[0m     \u001b[0mb\u001b[0m \u001b[1;33m=\u001b[0m \u001b[1;36m0\u001b[0m\u001b[1;33m\u001b[0m\u001b[1;33m\u001b[0m\u001b[0m\n\u001b[0;32m      6\u001b[0m     \u001b[1;32mif\u001b[0m\u001b[1;33m(\u001b[0m\u001b[0mb\u001b[0m\u001b[1;33m==\u001b[0m\u001b[1;36m0\u001b[0m\u001b[1;33m)\u001b[0m\u001b[1;33m:\u001b[0m\u001b[1;33m\u001b[0m\u001b[1;33m\u001b[0m\u001b[0m\n\u001b[1;32m----> 7\u001b[1;33m         \u001b[1;32mraise\u001b[0m \u001b[0mZeroDenominatorError\u001b[0m\u001b[1;33m(\u001b[0m\u001b[1;33m)\u001b[0m\u001b[1;33m\u001b[0m\u001b[1;33m\u001b[0m\u001b[0m\n\u001b[0m\u001b[0;32m      8\u001b[0m     \u001b[0mc\u001b[0m \u001b[1;33m=\u001b[0m \u001b[0ma\u001b[0m\u001b[1;33m/\u001b[0m\u001b[0mb\u001b[0m\u001b[1;33m\u001b[0m\u001b[1;33m\u001b[0m\u001b[0m\n\u001b[0;32m      9\u001b[0m \u001b[1;32mexcept\u001b[0m \u001b[0mZeroDivisionError\u001b[0m\u001b[1;33m:\u001b[0m\u001b[1;33m\u001b[0m\u001b[1;33m\u001b[0m\u001b[0m\n",
      "\u001b[1;31mZeroDenominatorError\u001b[0m: "
     ]
    }
   ],
   "source": [
    "class ZeroDenominatorError(Exception):\n",
    "    pass\n",
    "try:\n",
    "    a = 10\n",
    "    b = 0\n",
    "    if(b==0):\n",
    "        raise ZeroDenominatorError() \n",
    "    c = a/b\n",
    "except ZeroDivisionError:\n",
    "    print('Zero Division Error occured')"
   ]
  },
  {
   "cell_type": "code",
   "execution_count": 63,
   "id": "28a7b044",
   "metadata": {},
   "outputs": [
    {
     "name": "stdout",
     "output_type": "stream",
     "text": [
      "Zero Denominator Error occured\n"
     ]
    }
   ],
   "source": [
    "class ZeroDenominatorError(ZeroDivisionError):\n",
    "    pass\n",
    "try:\n",
    "    a = 10\n",
    "    b = 0\n",
    "    if(b==0):\n",
    "        raise ZeroDenominatorError()\n",
    "    c = a/b\n",
    "except ZeroDivisionError:\n",
    "    print('Zero Division Error occured')\n",
    "except ZeroDenominatorError:\n",
    "    print('Zero Denominator Error occured')"
   ]
  },
  {
   "cell_type": "code",
   "execution_count": 54,
   "id": "0ce7c8d6",
   "metadata": {},
   "outputs": [],
   "source": [
    "#when we want to show the error gracefully \n",
    "#**this except e will only be handled if the try block as the raise exception statement\n",
    "\n",
    "class Vehicle():\n",
    "\n",
    "    def __init__(self,make,model,fuel):\n",
    "        self.make = make\n",
    "        self.model = model\n",
    "        self.fuel = fuel\n",
    "        self.current_yr = 2021\n",
    "        \n",
    "    def get_value(self):\n",
    "        \n",
    "        age = self.current_yr - self.model\n",
    "        \n",
    "        try:\n",
    "            if age < 0:\n",
    "                raise NegativeCarValue(age)\n",
    "            else:\n",
    "                return 1000*(1/age)\n",
    "        except NegativeCarValue as e:\n",
    "            print('error ****',e)"
   ]
  },
  {
   "cell_type": "code",
   "execution_count": 56,
   "id": "e1004e19",
   "metadata": {},
   "outputs": [
    {
     "name": "stdout",
     "output_type": "stream",
     "text": [
      "error **** Car value cannot be negative --> -2\n"
     ]
    }
   ],
   "source": [
    "car = Vehicle('bmw',2023,'gas')\n",
    "car.get_value()"
   ]
  },
  {
   "cell_type": "code",
   "execution_count": 70,
   "id": "18e90d27",
   "metadata": {},
   "outputs": [],
   "source": [
    "class NegativeCarValue(Exception):\n",
    "    \n",
    "    #this class only has the message to be part of exception\n",
    "    \n",
    "    def __init__(self,value,message = \"Model year cannot be greater than or equal to 2021\"):\n",
    "        self.value = value\n",
    "        self.message = message\n",
    "        \n",
    "        #inheriting from the Exception class and passing the message so that Exception class keeps it\n",
    "        super().__init__(self.message)\n",
    "        \n",
    "    def __str__(self):\n",
    "        return f'{self.message} --> {self.value}'\n",
    "    \n",
    "class CarModelYearStr(Exception):\n",
    "    \n",
    "    def __init__(self,value,message = \"Model year cannot be passed as string\"):\n",
    "        self.value = value\n",
    "        self.message = message\n",
    "        super().__init__(self.message)\n",
    "        \n",
    "    def __str__(self):\n",
    "        return f'{self.message} --> {self.value}'"
   ]
  },
  {
   "cell_type": "code",
   "execution_count": 84,
   "id": "1d531a5b",
   "metadata": {},
   "outputs": [],
   "source": [
    "class Vehicle():\n",
    "    \n",
    "    def __init__(self,make,model,fuel):\n",
    "        self.make = make\n",
    "        self.model = model\n",
    "        self.fuel = fuel\n",
    "        self.current_yr = 2021\n",
    "        self.value = None\n",
    "        \n",
    "    def get_value(self):\n",
    "        \n",
    "        try:\n",
    "            if type(self.model) == str:\n",
    "                status = 'custom'\n",
    "                raise CarModelYearStr(self.model)\n",
    "            elif self.model >= self.current_yr:\n",
    "                status = 'custom'\n",
    "                raise NegativeCarValue(self.model)\n",
    "            else:\n",
    "                self.age = self.current_yr - self.model\n",
    "                self.value = 1000*(1/self.age)\n",
    "                staus = 'success'\n",
    "        \n",
    "        #we need to give except after try or else code doesn't work\n",
    "        except TypeError:\n",
    "            self.age = self.current_yr - int(self.model)\n",
    "            self.value = 1000*(1/self.age)\n",
    "            status = 'inbuilt'\n",
    "        \n",
    "        # if the code doesn't go through except block it goes to else\n",
    "        else:\n",
    "            print('code ran without exceptions')\n",
    "        \n",
    "        # Finally will always be executed no matter what\n",
    "        finally:\n",
    "            if status == 'custom':\n",
    "                print('custom exception')\n",
    "            elif status == 'inbuilt':\n",
    "                print('inbuilt exception')\n",
    "            else:\n",
    "                print('the value with no exception', self.value)"
   ]
  },
  {
   "cell_type": "code",
   "execution_count": 85,
   "id": "cab83f4b",
   "metadata": {},
   "outputs": [
    {
     "name": "stdout",
     "output_type": "stream",
     "text": [
      "custom exception\n"
     ]
    },
    {
     "ename": "NegativeCarValue",
     "evalue": "Model year cannot be greater than or equal to 2021 --> 2022",
     "output_type": "error",
     "traceback": [
      "\u001b[1;31m---------------------------------------------------------------------------\u001b[0m",
      "\u001b[1;31mNegativeCarValue\u001b[0m                          Traceback (most recent call last)",
      "\u001b[1;32m<ipython-input-85-0a154b5169f6>\u001b[0m in \u001b[0;36m<module>\u001b[1;34m\u001b[0m\n\u001b[0;32m      1\u001b[0m \u001b[0mtry1\u001b[0m \u001b[1;33m=\u001b[0m \u001b[0mVehicle\u001b[0m\u001b[1;33m(\u001b[0m\u001b[1;34m'bms'\u001b[0m\u001b[1;33m,\u001b[0m\u001b[1;36m2022\u001b[0m\u001b[1;33m,\u001b[0m\u001b[1;34m'gas'\u001b[0m\u001b[1;33m)\u001b[0m\u001b[1;33m\u001b[0m\u001b[1;33m\u001b[0m\u001b[0m\n\u001b[1;32m----> 2\u001b[1;33m \u001b[0mtry1\u001b[0m\u001b[1;33m.\u001b[0m\u001b[0mget_value\u001b[0m\u001b[1;33m(\u001b[0m\u001b[1;33m)\u001b[0m\u001b[1;33m\u001b[0m\u001b[1;33m\u001b[0m\u001b[0m\n\u001b[0m",
      "\u001b[1;32m<ipython-input-84-162a94ee8e59>\u001b[0m in \u001b[0;36mget_value\u001b[1;34m(self)\u001b[0m\n\u001b[0;32m     16\u001b[0m             \u001b[1;32melif\u001b[0m \u001b[0mself\u001b[0m\u001b[1;33m.\u001b[0m\u001b[0mmodel\u001b[0m \u001b[1;33m>=\u001b[0m \u001b[0mself\u001b[0m\u001b[1;33m.\u001b[0m\u001b[0mcurrent_yr\u001b[0m\u001b[1;33m:\u001b[0m\u001b[1;33m\u001b[0m\u001b[1;33m\u001b[0m\u001b[0m\n\u001b[0;32m     17\u001b[0m                 \u001b[0mstatus\u001b[0m \u001b[1;33m=\u001b[0m \u001b[1;34m'custom'\u001b[0m\u001b[1;33m\u001b[0m\u001b[1;33m\u001b[0m\u001b[0m\n\u001b[1;32m---> 18\u001b[1;33m                 \u001b[1;32mraise\u001b[0m \u001b[0mNegativeCarValue\u001b[0m\u001b[1;33m(\u001b[0m\u001b[0mself\u001b[0m\u001b[1;33m.\u001b[0m\u001b[0mmodel\u001b[0m\u001b[1;33m)\u001b[0m\u001b[1;33m\u001b[0m\u001b[1;33m\u001b[0m\u001b[0m\n\u001b[0m\u001b[0;32m     19\u001b[0m             \u001b[1;32melse\u001b[0m\u001b[1;33m:\u001b[0m\u001b[1;33m\u001b[0m\u001b[1;33m\u001b[0m\u001b[0m\n\u001b[0;32m     20\u001b[0m                 \u001b[0mself\u001b[0m\u001b[1;33m.\u001b[0m\u001b[0mage\u001b[0m \u001b[1;33m=\u001b[0m \u001b[0mself\u001b[0m\u001b[1;33m.\u001b[0m\u001b[0mcurrent_yr\u001b[0m \u001b[1;33m-\u001b[0m \u001b[0mself\u001b[0m\u001b[1;33m.\u001b[0m\u001b[0mmodel\u001b[0m\u001b[1;33m\u001b[0m\u001b[1;33m\u001b[0m\u001b[0m\n",
      "\u001b[1;31mNegativeCarValue\u001b[0m: Model year cannot be greater than or equal to 2021 --> 2022"
     ]
    }
   ],
   "source": [
    "try1 = Vehicle('bms',2022,'gas')\n",
    "try1.get_value()"
   ]
  },
  {
   "cell_type": "markdown",
   "id": "5c07148b",
   "metadata": {},
   "source": [
    "#### Predict the Output"
   ]
  },
  {
   "cell_type": "code",
   "execution_count": 88,
   "id": "61d2b8d7",
   "metadata": {},
   "outputs": [
    {
     "name": "stdout",
     "output_type": "stream",
     "text": [
      "Zero Division Error occured "
     ]
    }
   ],
   "source": [
    "class ZeroDenominatorError(ZeroDivisionError):\n",
    "    pass\n",
    "try:\n",
    "    a = 10\n",
    "    b = 0\n",
    "    if(b==0):\n",
    "        raise ZeroDenominatorError()\n",
    "    c = a/b\n",
    "except ZeroDivisionError:\n",
    "    print('Zero Division Error occured',end= ' ')\n",
    "except ZeroDenominatorError:\n",
    "    print('Zero Denominator Error occured',end = ' ')\n",
    "else:\n",
    "    print('else works')"
   ]
  },
  {
   "cell_type": "code",
   "execution_count": null,
   "id": "7b85e065",
   "metadata": {},
   "outputs": [],
   "source": []
  }
 ],
 "metadata": {
  "kernelspec": {
   "display_name": "Python 3",
   "language": "python",
   "name": "python3"
  },
  "language_info": {
   "codemirror_mode": {
    "name": "ipython",
    "version": 3
   },
   "file_extension": ".py",
   "mimetype": "text/x-python",
   "name": "python",
   "nbconvert_exporter": "python",
   "pygments_lexer": "ipython3",
   "version": "3.8.8"
  }
 },
 "nbformat": 4,
 "nbformat_minor": 5
}
