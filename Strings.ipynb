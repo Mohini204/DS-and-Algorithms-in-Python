{
 "cells": [
  {
   "cell_type": "markdown",
   "id": "a66ddf8b",
   "metadata": {},
   "source": [
    "### Introduction"
   ]
  },
  {
   "cell_type": "code",
   "execution_count": 1,
   "id": "e861a86d",
   "metadata": {},
   "outputs": [],
   "source": [
    "s = 'my name is Punnu'\n",
    "t = \"my name s Punnu\"\n",
    "q = '''my name is\n",
    "Punnu!'''"
   ]
  },
  {
   "cell_type": "code",
   "execution_count": 2,
   "id": "c3452d82",
   "metadata": {},
   "outputs": [
    {
     "name": "stdout",
     "output_type": "stream",
     "text": [
      "my name is Punnu\n",
      "my name is\n",
      "Punnu!\n"
     ]
    }
   ],
   "source": [
    "print(s)\n",
    "print(q)"
   ]
  },
  {
   "cell_type": "code",
   "execution_count": 3,
   "id": "bab570b5",
   "metadata": {},
   "outputs": [
    {
     "data": {
      "text/plain": [
       "'m'"
      ]
     },
     "execution_count": 3,
     "metadata": {},
     "output_type": "execute_result"
    }
   ],
   "source": [
    "#indexing same as list\n",
    "s[0]"
   ]
  },
  {
   "cell_type": "code",
   "execution_count": 4,
   "id": "e22ada32",
   "metadata": {},
   "outputs": [
    {
     "data": {
      "text/plain": [
       "'n'"
      ]
     },
     "execution_count": 4,
     "metadata": {},
     "output_type": "execute_result"
    }
   ],
   "source": [
    "s[-2]"
   ]
  },
  {
   "cell_type": "code",
   "execution_count": 5,
   "id": "4c1ae837",
   "metadata": {},
   "outputs": [
    {
     "data": {
      "text/plain": [
       "'u'"
      ]
     },
     "execution_count": 5,
     "metadata": {},
     "output_type": "execute_result"
    }
   ],
   "source": [
    "s[-1]"
   ]
  },
  {
   "cell_type": "code",
   "execution_count": 7,
   "id": "ae03a78b",
   "metadata": {},
   "outputs": [
    {
     "data": {
      "text/plain": [
       "'\\n'"
      ]
     },
     "execution_count": 7,
     "metadata": {},
     "output_type": "execute_result"
    }
   ],
   "source": [
    "q[2]\n",
    "q[-7]"
   ]
  },
  {
   "cell_type": "markdown",
   "id": "a4cb18b1",
   "metadata": {},
   "source": [
    "### How are strings stored?\n",
    "They are immutable as well"
   ]
  },
  {
   "cell_type": "code",
   "execution_count": 8,
   "id": "0b91915e",
   "metadata": {},
   "outputs": [],
   "source": [
    "a = 'Punnu'"
   ]
  },
  {
   "cell_type": "code",
   "execution_count": 9,
   "id": "b9c39888",
   "metadata": {},
   "outputs": [],
   "source": [
    "b = 'Pun Pun'"
   ]
  },
  {
   "cell_type": "code",
   "execution_count": 10,
   "id": "b890fc1a",
   "metadata": {},
   "outputs": [
    {
     "data": {
      "text/plain": [
       "2387982705584"
      ]
     },
     "execution_count": 10,
     "metadata": {},
     "output_type": "execute_result"
    }
   ],
   "source": [
    "id(a)"
   ]
  },
  {
   "cell_type": "code",
   "execution_count": 11,
   "id": "7a298608",
   "metadata": {},
   "outputs": [
    {
     "data": {
      "text/plain": [
       "2387982706992"
      ]
     },
     "execution_count": 11,
     "metadata": {},
     "output_type": "execute_result"
    }
   ],
   "source": [
    "id(b)"
   ]
  },
  {
   "cell_type": "code",
   "execution_count": 12,
   "id": "e5ffbd99",
   "metadata": {},
   "outputs": [],
   "source": [
    "b = 'Punnu'"
   ]
  },
  {
   "cell_type": "code",
   "execution_count": 13,
   "id": "d30a7fb3",
   "metadata": {},
   "outputs": [
    {
     "data": {
      "text/plain": [
       "2387982705584"
      ]
     },
     "execution_count": 13,
     "metadata": {},
     "output_type": "execute_result"
    }
   ],
   "source": [
    "id(b)\n",
    "#this is now pointing to the same address as a since both the strings are same!"
   ]
  },
  {
   "cell_type": "code",
   "execution_count": 14,
   "id": "59b8a69a",
   "metadata": {},
   "outputs": [
    {
     "ename": "TypeError",
     "evalue": "'str' object does not support item assignment",
     "output_type": "error",
     "traceback": [
      "\u001b[1;31m---------------------------------------------------------------------------\u001b[0m",
      "\u001b[1;31mTypeError\u001b[0m                                 Traceback (most recent call last)",
      "\u001b[1;32m<ipython-input-14-4dc45ac90727>\u001b[0m in \u001b[0;36m<module>\u001b[1;34m\u001b[0m\n\u001b[0;32m      1\u001b[0m \u001b[1;31m#How are strings immutable\u001b[0m\u001b[1;33m\u001b[0m\u001b[1;33m\u001b[0m\u001b[1;33m\u001b[0m\u001b[0m\n\u001b[0;32m      2\u001b[0m \u001b[0ma\u001b[0m \u001b[1;33m=\u001b[0m \u001b[1;34m'Pun Pun'\u001b[0m\u001b[1;33m\u001b[0m\u001b[1;33m\u001b[0m\u001b[0m\n\u001b[1;32m----> 3\u001b[1;33m \u001b[0ma\u001b[0m\u001b[1;33m[\u001b[0m\u001b[1;36m2\u001b[0m\u001b[1;33m]\u001b[0m \u001b[1;33m=\u001b[0m \u001b[1;34m'i'\u001b[0m\u001b[1;33m\u001b[0m\u001b[1;33m\u001b[0m\u001b[0m\n\u001b[0m",
      "\u001b[1;31mTypeError\u001b[0m: 'str' object does not support item assignment"
     ]
    }
   ],
   "source": [
    "#How are strings immutable\n",
    "a = 'Pun Pun'\n",
    "a[2] = 'i'"
   ]
  },
  {
   "cell_type": "code",
   "execution_count": 15,
   "id": "52ad6ed0",
   "metadata": {},
   "outputs": [
    {
     "data": {
      "text/plain": [
       "2387983036016"
      ]
     },
     "execution_count": 15,
     "metadata": {},
     "output_type": "execute_result"
    }
   ],
   "source": [
    "#Strings are immutable just like variables and unlike lists\n",
    "\n",
    "a = 'Pun'\n",
    "id(a)"
   ]
  },
  {
   "cell_type": "code",
   "execution_count": 16,
   "id": "37c44d57",
   "metadata": {},
   "outputs": [],
   "source": [
    "a = 'PunPun'"
   ]
  },
  {
   "cell_type": "code",
   "execution_count": 17,
   "id": "ab441897",
   "metadata": {},
   "outputs": [
    {
     "data": {
      "text/plain": [
       "2387983382064"
      ]
     },
     "execution_count": 17,
     "metadata": {},
     "output_type": "execute_result"
    }
   ],
   "source": [
    "id(a)"
   ]
  },
  {
   "cell_type": "code",
   "execution_count": 19,
   "id": "58c4419a",
   "metadata": {},
   "outputs": [
    {
     "data": {
      "text/plain": [
       "'PunPun lovely lovely'"
      ]
     },
     "execution_count": 19,
     "metadata": {},
     "output_type": "execute_result"
    }
   ],
   "source": [
    "#concatenation is simply done using the plus sign :)\n",
    "a+= ' lovely'\n",
    "a"
   ]
  },
  {
   "cell_type": "code",
   "execution_count": 20,
   "id": "0e5782a3",
   "metadata": {},
   "outputs": [
    {
     "data": {
      "text/plain": [
       "'PunPun lovely lovelyPunPun lovely lovely'"
      ]
     },
     "execution_count": 20,
     "metadata": {},
     "output_type": "execute_result"
    }
   ],
   "source": [
    "a = a*2\n",
    "a"
   ]
  },
  {
   "cell_type": "code",
   "execution_count": 22,
   "id": "a6f82a33",
   "metadata": {},
   "outputs": [
    {
     "data": {
      "text/plain": [
       "'blue33'"
      ]
     },
     "execution_count": 22,
     "metadata": {},
     "output_type": "execute_result"
    }
   ],
   "source": [
    "a = 'blue'\n",
    "a = a + '3'\n",
    "#or\n",
    "a = a + str(3)\n",
    "a"
   ]
  },
  {
   "cell_type": "code",
   "execution_count": 23,
   "id": "866dc207",
   "metadata": {},
   "outputs": [
    {
     "data": {
      "text/plain": [
       "'ulls'"
      ]
     },
     "execution_count": 23,
     "metadata": {},
     "output_type": "execute_result"
    }
   ],
   "source": [
    "a = 'bullshit'\n",
    "#same format as lists, [start:end:step]\n",
    "a[1:5:1]"
   ]
  },
  {
   "cell_type": "code",
   "execution_count": 24,
   "id": "a47a48c6",
   "metadata": {},
   "outputs": [
    {
     "data": {
      "text/plain": [
       "''"
      ]
     },
     "execution_count": 24,
     "metadata": {},
     "output_type": "execute_result"
    }
   ],
   "source": [
    "a[5:1]\n",
    "#start cannot be greater than the end obv"
   ]
  },
  {
   "cell_type": "code",
   "execution_count": 31,
   "id": "94be7a54",
   "metadata": {},
   "outputs": [
    {
     "data": {
      "text/plain": [
       "'shi'"
      ]
     },
     "execution_count": 31,
     "metadata": {},
     "output_type": "execute_result"
    }
   ],
   "source": [
    "#negative indexing\n",
    "a[-4:-1:1]"
   ]
  },
  {
   "cell_type": "code",
   "execution_count": 32,
   "id": "44f73e40",
   "metadata": {},
   "outputs": [
    {
     "data": {
      "text/plain": [
       "'tihsllub'"
      ]
     },
     "execution_count": 32,
     "metadata": {},
     "output_type": "execute_result"
    }
   ],
   "source": [
    "#a is now pointing to a new string, slicing creates a new string!!!\n",
    "a[7::-1]"
   ]
  },
  {
   "cell_type": "code",
   "execution_count": 33,
   "id": "1daa3958",
   "metadata": {},
   "outputs": [
    {
     "data": {
      "text/plain": [
       "'reverse'"
      ]
     },
     "execution_count": 33,
     "metadata": {},
     "output_type": "execute_result"
    }
   ],
   "source": [
    "a = 'reverse'\n",
    "a[-7::]\n",
    "#and that's how you can get the string till the last element!!"
   ]
  },
  {
   "cell_type": "markdown",
   "id": "f57a7b60",
   "metadata": {},
   "source": [
    "#### Iterating on Strings"
   ]
  },
  {
   "cell_type": "code",
   "execution_count": 34,
   "id": "9bb2b3ed",
   "metadata": {},
   "outputs": [
    {
     "name": "stdout",
     "output_type": "stream",
     "text": [
      "3\n"
     ]
    }
   ],
   "source": [
    "#Calculate number of ls in the string\n",
    "s = 'Hello world'\n",
    "count = 0\n",
    "for ele in s:\n",
    "    if ele == 'l':\n",
    "        count+=1\n",
    "print(count)"
   ]
  },
  {
   "cell_type": "markdown",
   "id": "e08395b0",
   "metadata": {},
   "source": [
    "#### Comparison operators in strings"
   ]
  },
  {
   "cell_type": "code",
   "execution_count": 42,
   "id": "029d661e",
   "metadata": {},
   "outputs": [
    {
     "data": {
      "text/plain": [
       "True"
      ]
     },
     "execution_count": 42,
     "metadata": {},
     "output_type": "execute_result"
    }
   ],
   "source": [
    "#Uses ASCII values for comparison woah\n",
    "a = \"Pun\" <= \"Run\"\n",
    "a"
   ]
  },
  {
   "cell_type": "code",
   "execution_count": 43,
   "id": "3146996d",
   "metadata": {},
   "outputs": [
    {
     "data": {
      "text/plain": [
       "False"
      ]
     },
     "execution_count": 43,
     "metadata": {},
     "output_type": "execute_result"
    }
   ],
   "source": [
    "'Parikh' >= 'parikh'"
   ]
  },
  {
   "cell_type": "code",
   "execution_count": 44,
   "id": "15befd55",
   "metadata": {},
   "outputs": [
    {
     "data": {
      "text/plain": [
       "True"
      ]
     },
     "execution_count": 44,
     "metadata": {},
     "output_type": "execute_result"
    }
   ],
   "source": [
    "'Par' <= 'Parikh?'"
   ]
  },
  {
   "cell_type": "markdown",
   "id": "205bb77f",
   "metadata": {},
   "source": [
    "##### In between lecture assignment ques:"
   ]
  },
  {
   "cell_type": "code",
   "execution_count": 48,
   "id": "1c2c9119",
   "metadata": {},
   "outputs": [
    {
     "name": "stdout",
     "output_type": "stream",
     "text": [
      "malayalam\n"
     ]
    },
    {
     "data": {
      "text/plain": [
       "True"
      ]
     },
     "execution_count": 48,
     "metadata": {},
     "output_type": "execute_result"
    }
   ],
   "source": [
    "#Palindrome\n",
    "\n",
    "string = input()\n",
    "ans = string[len(string)::-1] == string\n",
    "ans"
   ]
  },
  {
   "cell_type": "code",
   "execution_count": 50,
   "id": "7cdf6b46",
   "metadata": {},
   "outputs": [
    {
     "data": {
      "text/plain": [
       "True"
      ]
     },
     "execution_count": 50,
     "metadata": {},
     "output_type": "execute_result"
    }
   ],
   "source": [
    "a = \"abce\" >= \"abcdef\"\n",
    "a"
   ]
  },
  {
   "cell_type": "code",
   "execution_count": 51,
   "id": "dec4b6d4",
   "metadata": {},
   "outputs": [
    {
     "ename": "TypeError",
     "evalue": "ord() expected a character, but string of length 4 found",
     "output_type": "error",
     "traceback": [
      "\u001b[1;31m---------------------------------------------------------------------------\u001b[0m",
      "\u001b[1;31mTypeError\u001b[0m                                 Traceback (most recent call last)",
      "\u001b[1;32m<ipython-input-51-b0636ed283ab>\u001b[0m in \u001b[0;36m<module>\u001b[1;34m\u001b[0m\n\u001b[1;32m----> 1\u001b[1;33m \u001b[0mord\u001b[0m\u001b[1;33m(\u001b[0m\u001b[1;34m'abce'\u001b[0m\u001b[1;33m)\u001b[0m\u001b[1;33m\u001b[0m\u001b[1;33m\u001b[0m\u001b[0m\n\u001b[0m",
      "\u001b[1;31mTypeError\u001b[0m: ord() expected a character, but string of length 4 found"
     ]
    }
   ],
   "source": [
    "ord('abce')"
   ]
  },
  {
   "cell_type": "markdown",
   "id": "2d6b128f",
   "metadata": {},
   "source": [
    "### Functions in String"
   ]
  },
  {
   "cell_type": "markdown",
   "id": "4cb13a38",
   "metadata": {},
   "source": [
    "##### Split"
   ]
  },
  {
   "cell_type": "code",
   "execution_count": 52,
   "id": "d3a9187b",
   "metadata": {},
   "outputs": [
    {
     "name": "stdout",
     "output_type": "stream",
     "text": [
      "['My', 'name', 'is', 'Mohini']\n"
     ]
    }
   ],
   "source": [
    "string = 'My name is Mohini'\n",
    "li = string.split()\n",
    "print(li)"
   ]
  },
  {
   "cell_type": "code",
   "execution_count": 57,
   "id": "f5ba7fb2",
   "metadata": {},
   "outputs": [
    {
     "data": {
      "text/plain": [
       "['dont', 'sit', 'with,us']"
      ]
     },
     "execution_count": 57,
     "metadata": {},
     "output_type": "execute_result"
    }
   ],
   "source": [
    "string = 'dont,sit,with,us'\n",
    "li = string.split(',',2)\n",
    "li"
   ]
  },
  {
   "cell_type": "markdown",
   "id": "375887d3",
   "metadata": {},
   "source": [
    "##### Replace"
   ]
  },
  {
   "cell_type": "code",
   "execution_count": 56,
   "id": "d965e6d7",
   "metadata": {},
   "outputs": [
    {
     "data": {
      "text/plain": [
       "'unlearn unlearn learn it'"
      ]
     },
     "execution_count": 56,
     "metadata": {},
     "output_type": "execute_result"
    }
   ],
   "source": [
    "#need a variable to store replace since strings are immutable\n",
    "string = 'learn learn learn it'\n",
    "string = string.replace('learn', 'unlearn',2)\n",
    "string"
   ]
  },
  {
   "cell_type": "markdown",
   "id": "c2cc171d",
   "metadata": {},
   "source": [
    "##### Find"
   ]
  },
  {
   "cell_type": "code",
   "execution_count": 58,
   "id": "2efd2bd1",
   "metadata": {},
   "outputs": [],
   "source": [
    "#Find returns integer \n",
    "index = string.find('ear')"
   ]
  },
  {
   "cell_type": "code",
   "execution_count": 59,
   "id": "15dc6874",
   "metadata": {},
   "outputs": [
    {
     "data": {
      "text/plain": [
       "-1"
      ]
     },
     "execution_count": 59,
     "metadata": {},
     "output_type": "execute_result"
    }
   ],
   "source": [
    "index"
   ]
  },
  {
   "cell_type": "code",
   "execution_count": 68,
   "id": "e40bff99",
   "metadata": {},
   "outputs": [
    {
     "data": {
      "text/plain": [
       "16"
      ]
     },
     "execution_count": 68,
     "metadata": {},
     "output_type": "execute_result"
    }
   ],
   "source": [
    "#when we try to give the index range\n",
    "string = 'why did it not come up'\n",
    "index = string.find('ome')\n",
    "index"
   ]
  },
  {
   "cell_type": "code",
   "execution_count": 67,
   "id": "df4f5521",
   "metadata": {},
   "outputs": [
    {
     "data": {
      "text/plain": [
       "16"
      ]
     },
     "execution_count": 67,
     "metadata": {},
     "output_type": "execute_result"
    }
   ],
   "source": [
    "string = 'why did it not come up'\n",
    "dex = string.find('ome', 10,20)\n",
    "#for index = str.find('ome', 10,16), o/p = -1, since end index for ome i.e. 16 is not included in the range given\n",
    "dex"
   ]
  },
  {
   "cell_type": "markdown",
   "id": "b331388a",
   "metadata": {},
   "source": [
    "##### lower and upper"
   ]
  },
  {
   "cell_type": "code",
   "execution_count": 70,
   "id": "df5e069e",
   "metadata": {},
   "outputs": [
    {
     "data": {
      "text/plain": [
       "'WHY DID IT NOT COME UP'"
      ]
     },
     "execution_count": 70,
     "metadata": {},
     "output_type": "execute_result"
    }
   ],
   "source": [
    "string = string.upper()\n",
    "string"
   ]
  },
  {
   "cell_type": "markdown",
   "id": "6307fc47",
   "metadata": {},
   "source": [
    "##### startswith"
   ]
  },
  {
   "cell_type": "code",
   "execution_count": 71,
   "id": "f5bec9d6",
   "metadata": {},
   "outputs": [
    {
     "data": {
      "text/plain": [
       "True"
      ]
     },
     "execution_count": 71,
     "metadata": {},
     "output_type": "execute_result"
    }
   ],
   "source": [
    "#function returns in boolean\n",
    "bool = string.startswith('WHY ')\n",
    "bool"
   ]
  },
  {
   "cell_type": "code",
   "execution_count": 75,
   "id": "d7136f16",
   "metadata": {},
   "outputs": [
    {
     "name": "stdout",
     "output_type": "stream",
     "text": [
      "sasdiessasfgs\n"
     ]
    }
   ],
   "source": [
    "#replace particular char in a string\n",
    "\n",
    "string = 'nandiensanfgn'\n",
    "string = replaceChar(string,'n','s')\n",
    "print(string)\n",
    "\n",
    "def replaceChar(string,char1,char2):\n",
    "    newstr = ''\n",
    "    for char in string:\n",
    "        if char == char1:\n",
    "            newstr += char2\n",
    "        else:\n",
    "            newstr+= char\n",
    "    return newstr"
   ]
  },
  {
   "cell_type": "code",
   "execution_count": 79,
   "id": "57389067",
   "metadata": {},
   "outputs": [
    {
     "name": "stdout",
     "output_type": "stream",
     "text": [
      "7 21 6 4\n"
     ]
    }
   ],
   "source": [
    "#question: count vowels, consonants, special chars and digits in a string\n",
    "\n",
    "def findVCDS(string):\n",
    "    v,c,d,s = 0,0,0,0\n",
    "    \n",
    "    for char in string:\n",
    "        \n",
    "        if (char >= 'a' and char <= 'z') or (char >= 'A' and char <= 'Z'):\n",
    "            \n",
    "            char = char.lower()\n",
    "            if char == 'a' or char == 'e' or char == 'i' or char == 'o' or char == 'u':\n",
    "                v+=1\n",
    "            else:\n",
    "                c+=1\n",
    "        \n",
    "        elif char >= '0' and char <= '9':\n",
    "            d+=1\n",
    "        \n",
    "        else:\n",
    "            s+=1\n",
    "    \n",
    "    return v,c,d,s\n",
    "\n",
    "string = 'amfkdVs37&d8jJaNCSNwgroi248#$%BHsnieor'\n",
    "v,c,d,s = findVCDS(string)\n",
    "print(v,c,d,s)"
   ]
  },
  {
   "cell_type": "markdown",
   "id": "fd73b0c4",
   "metadata": {},
   "source": [
    "### Assignment Questions"
   ]
  },
  {
   "cell_type": "code",
   "execution_count": 80,
   "id": "d75b4432",
   "metadata": {},
   "outputs": [],
   "source": [
    "from sys import stdin"
   ]
  },
  {
   "cell_type": "code",
   "execution_count": 112,
   "id": "45dfc1c8",
   "metadata": {},
   "outputs": [
    {
     "name": "stdout",
     "output_type": "stream",
     "text": [
      "aabil\n",
      "baali\n",
      "a   bAAli\n",
      "false\n"
     ]
    }
   ],
   "source": [
    "#check if strings are permutable\n",
    "#this doesn't work on all TCs cos replace will convert to uppercase all the same consecutive letters!\n",
    "#Example failed TC: aabil, baali; this code will replace both a with uppercase A and give false\n",
    "\n",
    "def isPermutation(string1, string2):\n",
    "    \n",
    "    if len(string1) != len(string2):\n",
    "        return False\n",
    "    \n",
    "    for ele in string1:\n",
    "        index = string2.find(ele)\n",
    "        if index == -1:\n",
    "            return False\n",
    "        else:\n",
    "            string2 = string2.replace(string2[index], string2[index].upper()) \n",
    "            print(ele, ' ', string2)\n",
    "    return True\n",
    "\n",
    "#main\n",
    "string1 = input();\n",
    "string2 = input();\n",
    "\n",
    "ans = isPermutation(string1, string2)\n",
    "\n",
    "if ans :\n",
    "    print('true')\n",
    "else :\n",
    "    print('false')"
   ]
  },
  {
   "cell_type": "code",
   "execution_count": 95,
   "id": "b6bdcc95",
   "metadata": {},
   "outputs": [
    {
     "name": "stdout",
     "output_type": "stream",
     "text": [
      "guilan\n",
      "naluig\n",
      "true\n"
     ]
    }
   ],
   "source": [
    "#Frequency array method, very efficient :)\n",
    "\n",
    "def isPermutation(string1, string2):\n",
    "    \n",
    "    if len(string1) != len(string2):\n",
    "        return False\n",
    "    \n",
    "    li = 256 *[0]\n",
    "    \n",
    "    for ele in string1:\n",
    "        li[ord(ele)]+=1\n",
    "        \n",
    "    for ele in string2:\n",
    "        li[ord(ele)]-=1\n",
    "        \n",
    "    for ele in li:\n",
    "        if ele != 0:\n",
    "            return False\n",
    "        \n",
    "    return True\n",
    "\n",
    "#main\n",
    "string1 = input();\n",
    "string2 = input();\n",
    "\n",
    "ans = isPermutation(string1, string2)\n",
    "\n",
    "if ans :\n",
    "    print('true')\n",
    "else :\n",
    "    print('false')"
   ]
  },
  {
   "cell_type": "code",
   "execution_count": 119,
   "id": "e83a54b1",
   "metadata": {},
   "outputs": [
    {
     "name": "stdout",
     "output_type": "stream",
     "text": [
      "xxyyzxx\n",
      "i  1 str[i]  x temp  x output  x\n",
      "i  2 str[i]  y temp  x output  x\n",
      "i  3 str[i]  y temp  y output  xy\n",
      "i  4 str[i]  z temp  y output  xy\n",
      "i  5 str[i]  x temp  z output  xyz\n",
      "i  6 str[i]  x temp  x output  xyzx\n",
      "xyzx\n"
     ]
    }
   ],
   "source": [
    "#Remove same consecutive chars\n",
    "\n",
    "def removeConsecutiveDuplicates(string):\n",
    "    temp = string[0]\n",
    "    i = 1\n",
    "    output = string[0]\n",
    "    while i < len(string):\n",
    "        #print('i ', i, 'str[i] ', str[i], 'temp ', temp, 'output ', output)\n",
    "        \n",
    "        if string[i] != temp:\n",
    "            \n",
    "            output+= string[i]\n",
    "            temp = string[i]\n",
    "            \n",
    "        i+=1\n",
    "            \n",
    "    return output\n",
    "\n",
    "#main\n",
    "string = input()\n",
    "\n",
    "ans = removeConsecutiveDuplicates(string)\n",
    "\n",
    "print(ans)"
   ]
  },
  {
   "cell_type": "code",
   "execution_count": 128,
   "id": "d1dc794a",
   "metadata": {},
   "outputs": [
    {
     "name": "stdout",
     "output_type": "stream",
     "text": [
      "i evol nup nup\n",
      "i love pun pun\n"
     ]
    }
   ],
   "source": [
    "#Reverse each word in a sentence\n",
    "\n",
    "def reverseEachWord(string):\n",
    "    \n",
    "    rev = ''\n",
    "    output = ''\n",
    "    i = 0\n",
    "    while i < len(string):\n",
    "        \n",
    "        #print('i ', i, 'string[i] ', string[i], 'rev ', rev, 'output ', output)\n",
    "        if string[i] != ' ':\n",
    "            rev = string[i] + rev\n",
    "        else:\n",
    "            output = output + rev + ' '\n",
    "            rev = ''\n",
    "            \n",
    "        i+=1\n",
    "        \n",
    "    output = output + rev\n",
    "        \n",
    "    return output\n",
    "\n",
    "string = input()\n",
    "\n",
    "ans = reverseEachWord(string)\n",
    "\n",
    "print(ans)"
   ]
  },
  {
   "cell_type": "code",
   "execution_count": 130,
   "id": "1f63e974",
   "metadata": {},
   "outputs": [
    {
     "name": "stdout",
     "output_type": "stream",
     "text": [
      "chaaastt\n",
      "a\n",
      "chstt\n"
     ]
    }
   ],
   "source": [
    "#Remove X from the string\n",
    "\n",
    "def removeAllOccurrencesOfChar(string, ch):\n",
    "    output = ''\n",
    "    \n",
    "    for ele in string:\n",
    "        \n",
    "        if ele != ch:\n",
    "            output = output + ele\n",
    "            \n",
    "    return output\n",
    "\n",
    "string = input()\n",
    "ch = input()\n",
    "ans = removeAllOccurrencesOfChar(string, ch)\n",
    "print(ans)"
   ]
  },
  {
   "cell_type": "code",
   "execution_count": 137,
   "id": "75b3019d",
   "metadata": {},
   "outputs": [
    {
     "name": "stdout",
     "output_type": "stream",
     "text": [
      "aaabdheaagnj\n",
      "a\n"
     ]
    }
   ],
   "source": [
    "#print the highest occuring character in the string\n",
    "\n",
    "def highestOccuringChar(string):\n",
    "    \n",
    "    #create freq array\n",
    "    li = 256*[0]\n",
    "    for ele in string:\n",
    "        li[ord(ele)]+=1\n",
    "        \n",
    "    #find the index with the largest number\n",
    "    index, largest = 0, li[0]\n",
    "    for i in range(len(li)):\n",
    "        \n",
    "        if largest < li[i]:\n",
    "            largest = li[i]\n",
    "            index = i\n",
    "            \n",
    "    return chr(index)\n",
    "\n",
    "\n",
    "string = input()\n",
    "\n",
    "ans = highestOccuringChar(string)\n",
    "\n",
    "print(ans)"
   ]
  },
  {
   "cell_type": "code",
   "execution_count": 142,
   "id": "4118f7bc",
   "metadata": {},
   "outputs": [
    {
     "name": "stdout",
     "output_type": "stream",
     "text": [
      "aaaabdhewraa\n",
      "a4bdhewra2\n"
     ]
    }
   ],
   "source": [
    "#Compress a string\n",
    "#had to convert int to string using f'{}' since I used str as a variable somewhere in the notebook; \n",
    "#doesn't work even after changing cos str is stored in the memory now as a variable somewhere\n",
    "\n",
    "def getCompressedString(string):\n",
    "    \n",
    "    temp, count, output = string[0], 0, ''\n",
    "    for i in range(len(string)):\n",
    "        \n",
    "        if string[i] == temp:\n",
    "            count+=1\n",
    "            \n",
    "        else:\n",
    "            if count != 1:\n",
    "                output = output + temp + f'{count}'\n",
    "            else:\n",
    "                output = output + temp\n",
    "                \n",
    "            count = 1\n",
    "            temp = string[i]\n",
    "    \n",
    "    if count != 1:\n",
    "        output = output + temp + f'{count}'\n",
    "        \n",
    "    else:\n",
    "        output = output + temp\n",
    "        \n",
    "    return output\n",
    "\n",
    "string = input()\n",
    "ans = getCompressedString(string)\n",
    "print(ans)"
   ]
  },
  {
   "cell_type": "code",
   "execution_count": null,
   "id": "a11d4667",
   "metadata": {},
   "outputs": [],
   "source": []
  }
 ],
 "metadata": {
  "kernelspec": {
   "display_name": "Python 3",
   "language": "python",
   "name": "python3"
  },
  "language_info": {
   "codemirror_mode": {
    "name": "ipython",
    "version": 3
   },
   "file_extension": ".py",
   "mimetype": "text/x-python",
   "name": "python",
   "nbconvert_exporter": "python",
   "pygments_lexer": "ipython3",
   "version": "3.8.8"
  }
 },
 "nbformat": 4,
 "nbformat_minor": 5
}
