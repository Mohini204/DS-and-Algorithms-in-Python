{
 "cells": [
  {
   "cell_type": "markdown",
   "id": "a4f7458e",
   "metadata": {},
   "source": [
    "### Intro"
   ]
  },
  {
   "cell_type": "code",
   "execution_count": 23,
   "id": "070e502a",
   "metadata": {},
   "outputs": [],
   "source": [
    "#parent class\n",
    "class Vehicle():\n",
    "    def __init__(self,make,model,fuel):\n",
    "        self.make = make\n",
    "        self.model = model\n",
    "        self.fuel = fuel\n",
    "        \n",
    "    def __private_method_parent(self):\n",
    "        print('this is private')\n",
    "\n",
    "        \n",
    "#child class\n",
    "class Car(Vehicle):\n",
    "    def __init__(self,make,model,fuel,air_conditioning,sunroof):\n",
    "        \n",
    "        #parent attr\n",
    "        Vehicle.make = make\n",
    "        Vehicle.model = model\n",
    "        Vehicle.fuel = fuel\n",
    "        \n",
    "        #child attr\n",
    "        self.air_conditioning = air_conditioning\n",
    "        self.sunroof = sunroof\n",
    "     \n",
    "    \n",
    "    def show_parent_attr(self):\n",
    "        print(Vehicle.make,Vehicle.model,Vehicle.fuel)\n",
    "        \n",
    "    def show_private_method_of_parent(self):\n",
    "        self._Vehicle__private_method_parent()"
   ]
  },
  {
   "cell_type": "code",
   "execution_count": 25,
   "id": "fcd6b042",
   "metadata": {},
   "outputs": [],
   "source": [
    "obj = Car('Tesla',2020,'electric',True,True)"
   ]
  },
  {
   "cell_type": "code",
   "execution_count": 14,
   "id": "8caa97fc",
   "metadata": {},
   "outputs": [
    {
     "data": {
      "text/plain": [
       "{'air_conditioning': True, 'sunroof': True}"
      ]
     },
     "execution_count": 14,
     "metadata": {},
     "output_type": "execute_result"
    }
   ],
   "source": [
    "obj.__dict__"
   ]
  },
  {
   "cell_type": "code",
   "execution_count": 15,
   "id": "38527156",
   "metadata": {},
   "outputs": [
    {
     "name": "stdout",
     "output_type": "stream",
     "text": [
      "Tesla 2020 electric\n"
     ]
    }
   ],
   "source": [
    "obj.show_parent_attr()"
   ]
  },
  {
   "cell_type": "code",
   "execution_count": 16,
   "id": "64b3ba7f",
   "metadata": {
    "scrolled": true
   },
   "outputs": [
    {
     "data": {
      "text/plain": [
       "'Tesla'"
      ]
     },
     "execution_count": 16,
     "metadata": {},
     "output_type": "execute_result"
    }
   ],
   "source": [
    "obj.make"
   ]
  },
  {
   "cell_type": "code",
   "execution_count": 43,
   "id": "a86e7a1b",
   "metadata": {},
   "outputs": [
    {
     "name": "stdout",
     "output_type": "stream",
     "text": [
      "this is private\n"
     ]
    }
   ],
   "source": [
    "obj._Vehicle__private_method_parent()"
   ]
  },
  {
   "cell_type": "markdown",
   "id": "3b6b1146",
   "metadata": {},
   "source": [
    "#### Predict the Output"
   ]
  },
  {
   "cell_type": "code",
   "execution_count": 18,
   "id": "e83a2d13",
   "metadata": {},
   "outputs": [
    {
     "ename": "AttributeError",
     "evalue": "'Car' object has no attribute 'color'",
     "output_type": "error",
     "traceback": [
      "\u001b[1;31m---------------------------------------------------------------------------\u001b[0m",
      "\u001b[1;31mAttributeError\u001b[0m                            Traceback (most recent call last)",
      "\u001b[1;32m<ipython-input-18-941b8493acd7>\u001b[0m in \u001b[0;36m<module>\u001b[1;34m\u001b[0m\n\u001b[0;32m      6\u001b[0m          \u001b[0mself\u001b[0m\u001b[1;33m.\u001b[0m\u001b[0mnumGears\u001b[0m \u001b[1;33m=\u001b[0m \u001b[0mnumGears\u001b[0m\u001b[1;33m\u001b[0m\u001b[1;33m\u001b[0m\u001b[0m\n\u001b[0;32m      7\u001b[0m \u001b[0mc\u001b[0m\u001b[1;33m=\u001b[0m \u001b[0mCar\u001b[0m\u001b[1;33m(\u001b[0m\u001b[1;34m\"black\"\u001b[0m\u001b[1;33m,\u001b[0m\u001b[1;36m5\u001b[0m\u001b[1;33m)\u001b[0m\u001b[1;33m\u001b[0m\u001b[1;33m\u001b[0m\u001b[0m\n\u001b[1;32m----> 8\u001b[1;33m \u001b[0mprint\u001b[0m\u001b[1;33m(\u001b[0m\u001b[0mc\u001b[0m\u001b[1;33m.\u001b[0m\u001b[0mcolor\u001b[0m\u001b[1;33m)\u001b[0m\u001b[1;33m\u001b[0m\u001b[1;33m\u001b[0m\u001b[0m\n\u001b[0m",
      "\u001b[1;31mAttributeError\u001b[0m: 'Car' object has no attribute 'color'"
     ]
    }
   ],
   "source": [
    "class Vehicle:\n",
    "     def __init__(self,color):\n",
    "         self.color = color\n",
    "class Car(Vehicle):\n",
    "     def __init__(self,color,numGears):\n",
    "         self.numGears = numGears\n",
    "c= Car(\"black\",5)\n",
    "print(c.color)\n"
   ]
  },
  {
   "cell_type": "code",
   "execution_count": 20,
   "id": "9a532245",
   "metadata": {},
   "outputs": [
    {
     "name": "stdout",
     "output_type": "stream",
     "text": [
      "black\n"
     ]
    }
   ],
   "source": [
    "#using super() function to define parent class attr in child class\n",
    "\n",
    "class Vehicle:\n",
    "    def __init__(self,color):\n",
    "        self.color = color\n",
    "class Car(Vehicle):\n",
    "    def __init__(self,color,numGears):\n",
    "        super().__init__(color) # defining the parent attrs\n",
    "        self.numGears = numGears\n",
    "c= Car(\"black\",5)\n",
    "print(c.color)"
   ]
  },
  {
   "cell_type": "code",
   "execution_count": 28,
   "id": "46c53fad",
   "metadata": {},
   "outputs": [
    {
     "ename": "AttributeError",
     "evalue": "'Car' object has no attribute '__private_method_parent'",
     "output_type": "error",
     "traceback": [
      "\u001b[1;31m---------------------------------------------------------------------------\u001b[0m",
      "\u001b[1;31mAttributeError\u001b[0m                            Traceback (most recent call last)",
      "\u001b[1;32m<ipython-input-28-91d844911dc9>\u001b[0m in \u001b[0;36m<module>\u001b[1;34m\u001b[0m\n\u001b[1;32m----> 1\u001b[1;33m \u001b[0mobj\u001b[0m\u001b[1;33m.\u001b[0m\u001b[0m__private_method_parent\u001b[0m\u001b[1;33m(\u001b[0m\u001b[1;33m)\u001b[0m\u001b[1;33m\u001b[0m\u001b[1;33m\u001b[0m\u001b[0m\n\u001b[0m",
      "\u001b[1;31mAttributeError\u001b[0m: 'Car' object has no attribute '__private_method_parent'"
     ]
    }
   ],
   "source": [
    "# cannot see private parent method this way just like normal private methods\n",
    "\n",
    "obj.__private_method_parent()"
   ]
  },
  {
   "cell_type": "code",
   "execution_count": 27,
   "id": "80e48a2a",
   "metadata": {
    "scrolled": true
   },
   "outputs": [
    {
     "name": "stdout",
     "output_type": "stream",
     "text": [
      "this is private\n"
     ]
    }
   ],
   "source": [
    "# How to access private method of parent\n",
    "\n",
    "obj.show_private_method_of_parent()"
   ]
  },
  {
   "cell_type": "code",
   "execution_count": 33,
   "id": "bba4c7cc",
   "metadata": {},
   "outputs": [],
   "source": [
    "#### Predict the Output"
   ]
  },
  {
   "cell_type": "code",
   "execution_count": 34,
   "id": "78b19484",
   "metadata": {},
   "outputs": [
    {
     "ename": "AttributeError",
     "evalue": "'Car' object has no attribute '_Car__color'",
     "output_type": "error",
     "traceback": [
      "\u001b[1;31m---------------------------------------------------------------------------\u001b[0m",
      "\u001b[1;31mAttributeError\u001b[0m                            Traceback (most recent call last)",
      "\u001b[1;32m<ipython-input-34-ea42bb66d1a5>\u001b[0m in \u001b[0;36m<module>\u001b[1;34m\u001b[0m\n\u001b[0;32m     10\u001b[0m         \u001b[0mprint\u001b[0m\u001b[1;33m(\u001b[0m\u001b[0mc\u001b[0m\u001b[1;33m.\u001b[0m\u001b[0mnumGears\u001b[0m\u001b[1;33m)\u001b[0m\u001b[1;33m\u001b[0m\u001b[1;33m\u001b[0m\u001b[0m\n\u001b[0;32m     11\u001b[0m \u001b[0mc\u001b[0m \u001b[1;33m=\u001b[0m \u001b[0mCar\u001b[0m\u001b[1;33m(\u001b[0m\u001b[1;34m\"black\"\u001b[0m\u001b[1;33m,\u001b[0m\u001b[1;36m5\u001b[0m\u001b[1;33m)\u001b[0m\u001b[1;33m\u001b[0m\u001b[1;33m\u001b[0m\u001b[0m\n\u001b[1;32m---> 12\u001b[1;33m \u001b[0mc\u001b[0m\u001b[1;33m.\u001b[0m\u001b[0mprintCar\u001b[0m\u001b[1;33m(\u001b[0m\u001b[1;33m)\u001b[0m\u001b[1;33m\u001b[0m\u001b[1;33m\u001b[0m\u001b[0m\n\u001b[0m",
      "\u001b[1;32m<ipython-input-34-ea42bb66d1a5>\u001b[0m in \u001b[0;36mprintCar\u001b[1;34m(self)\u001b[0m\n\u001b[0;32m      7\u001b[0m         \u001b[0mself\u001b[0m\u001b[1;33m.\u001b[0m\u001b[0mnumGears\u001b[0m \u001b[1;33m=\u001b[0m \u001b[0mnumGears\u001b[0m\u001b[1;33m\u001b[0m\u001b[1;33m\u001b[0m\u001b[0m\n\u001b[0;32m      8\u001b[0m     \u001b[1;32mdef\u001b[0m \u001b[0mprintCar\u001b[0m\u001b[1;33m(\u001b[0m\u001b[0mself\u001b[0m\u001b[1;33m)\u001b[0m\u001b[1;33m:\u001b[0m\u001b[1;33m\u001b[0m\u001b[1;33m\u001b[0m\u001b[0m\n\u001b[1;32m----> 9\u001b[1;33m         \u001b[0mprint\u001b[0m\u001b[1;33m(\u001b[0m\u001b[0mc\u001b[0m\u001b[1;33m.\u001b[0m\u001b[0m__color\u001b[0m\u001b[1;33m,\u001b[0m\u001b[0mend\u001b[0m\u001b[1;33m=\u001b[0m\u001b[1;34m' '\u001b[0m \u001b[1;33m)\u001b[0m\u001b[1;33m\u001b[0m\u001b[1;33m\u001b[0m\u001b[0m\n\u001b[0m\u001b[0;32m     10\u001b[0m         \u001b[0mprint\u001b[0m\u001b[1;33m(\u001b[0m\u001b[0mc\u001b[0m\u001b[1;33m.\u001b[0m\u001b[0mnumGears\u001b[0m\u001b[1;33m)\u001b[0m\u001b[1;33m\u001b[0m\u001b[1;33m\u001b[0m\u001b[0m\n\u001b[0;32m     11\u001b[0m \u001b[0mc\u001b[0m \u001b[1;33m=\u001b[0m \u001b[0mCar\u001b[0m\u001b[1;33m(\u001b[0m\u001b[1;34m\"black\"\u001b[0m\u001b[1;33m,\u001b[0m\u001b[1;36m5\u001b[0m\u001b[1;33m)\u001b[0m\u001b[1;33m\u001b[0m\u001b[1;33m\u001b[0m\u001b[0m\n",
      "\u001b[1;31mAttributeError\u001b[0m: 'Car' object has no attribute '_Car__color'"
     ]
    }
   ],
   "source": [
    "class Vehicle:\n",
    "     def __init__(self,color):\n",
    "         self.__color = color\n",
    "class Car(Vehicle):\n",
    "    def __init__(self,color,numGears):\n",
    "        super().__init__(color)\n",
    "        self.numGears = numGears\n",
    "    def printCar(self):\n",
    "        print(c.__color,end=' ' )\n",
    "        print(c.numGears)\n",
    "c = Car(\"black\",5)\n",
    "c.printCar()"
   ]
  },
  {
   "cell_type": "code",
   "execution_count": 35,
   "id": "600687d1",
   "metadata": {},
   "outputs": [
    {
     "name": "stdout",
     "output_type": "stream",
     "text": [
      "black 5\n"
     ]
    }
   ],
   "source": [
    "# Solution - to access private attr via a show method in child class, give it as _<class name>__attribute \n",
    "\n",
    "class Vehicle:\n",
    "     def __init__(self,color):\n",
    "         self.__color = color\n",
    "class Car(Vehicle):\n",
    "    def __init__(self,color,numGears):\n",
    "        super().__init__(color)\n",
    "        self.numGears = numGears\n",
    "    def printCar(self):\n",
    "        print(c._Vehicle__color,end=' ' )\n",
    "        print(c.numGears)\n",
    "c = Car(\"black\",5)\n",
    "c.printCar()"
   ]
  },
  {
   "cell_type": "markdown",
   "id": "c7bc116a",
   "metadata": {},
   "source": [
    "#### Super Method"
   ]
  },
  {
   "cell_type": "code",
   "execution_count": 139,
   "id": "0274ceb8",
   "metadata": {},
   "outputs": [],
   "source": [
    "class Vehicle1():\n",
    "     \n",
    "    current_year = 2022\n",
    "    base_price = 1000\n",
    "    \n",
    "    def __init__(self,make,model,fuel):\n",
    "        self.make = make\n",
    "        self.__model = model\n",
    "        self.__fuel = fuel\n",
    "        \n",
    "    def __private_method_parent(self):\n",
    "        print('this is private')\n",
    "    \n",
    "    #default function to get value of vehicle\n",
    "    def get_value(self):\n",
    "        \n",
    "        age = Vehicle1.current_year - self.__model\n",
    "        print('default method')\n",
    "        return Vehicle1.base_price*(1/age)"
   ]
  },
  {
   "cell_type": "code",
   "execution_count": 140,
   "id": "683226fe",
   "metadata": {},
   "outputs": [],
   "source": [
    "#child class\n",
    "class Car1(Vehicle1):\n",
    "    def __init__(self,make,model,fuel,air_conditioning,sunroof):\n",
    "        \n",
    "        #parent attr with super method\n",
    "        super(Car1,self).__init__(make,model,fuel)\n",
    "        \n",
    "        #child attr\n",
    "        self.air_conditioning = air_conditioning\n",
    "        self.sunroof = sunroof\n",
    "        \n",
    "        \n",
    "        #overriden method to get value of car\n",
    "        def get_value(self):\n",
    "            Vehicle1.base_price = 500\n",
    "            age = Vehicle1.current_year - self._Vehicle1__model\n",
    "            print(self.model)\n",
    "            print('child overriding method')\n",
    "            return Vehicle1.base_price*(1/age)"
   ]
  },
  {
   "cell_type": "code",
   "execution_count": 141,
   "id": "1c91dca7",
   "metadata": {},
   "outputs": [],
   "source": [
    "obj1 = Car1('Suzuki',2020,'petrol',True,True)"
   ]
  },
  {
   "cell_type": "code",
   "execution_count": 142,
   "id": "d59bc790",
   "metadata": {},
   "outputs": [
    {
     "data": {
      "text/plain": [
       "{'make': 'Suzuki',\n",
       " '_Vehicle1__model': 2020,\n",
       " '_Vehicle1__fuel': 'petrol',\n",
       " 'air_conditioning': True,\n",
       " 'sunroof': True}"
      ]
     },
     "execution_count": 142,
     "metadata": {},
     "output_type": "execute_result"
    }
   ],
   "source": [
    "obj1.__dict__"
   ]
  },
  {
   "cell_type": "code",
   "execution_count": 143,
   "id": "03e3703a",
   "metadata": {},
   "outputs": [
    {
     "name": "stdout",
     "output_type": "stream",
     "text": [
      "this is private\n"
     ]
    }
   ],
   "source": [
    "obj1._Vehicle1__private_method_parent()"
   ]
  },
  {
   "cell_type": "code",
   "execution_count": 144,
   "id": "097f90a1",
   "metadata": {},
   "outputs": [
    {
     "name": "stdout",
     "output_type": "stream",
     "text": [
      "default method\n"
     ]
    },
    {
     "data": {
      "text/plain": [
       "500.0"
      ]
     },
     "execution_count": 144,
     "metadata": {},
     "output_type": "execute_result"
    }
   ],
   "source": [
    "obj1.get_value()"
   ]
  },
  {
   "cell_type": "code",
   "execution_count": 145,
   "id": "802c7e36",
   "metadata": {},
   "outputs": [],
   "source": [
    "obj2 = Vehicle1('ford',2019,'diesel')"
   ]
  },
  {
   "cell_type": "code",
   "execution_count": 146,
   "id": "129eb470",
   "metadata": {},
   "outputs": [
    {
     "name": "stdout",
     "output_type": "stream",
     "text": [
      "default method\n"
     ]
    },
    {
     "data": {
      "text/plain": [
       "333.3333333333333"
      ]
     },
     "execution_count": 146,
     "metadata": {},
     "output_type": "execute_result"
    }
   ],
   "source": [
    "obj2.get_value()"
   ]
  },
  {
   "cell_type": "markdown",
   "id": "c45d3d7f",
   "metadata": {},
   "source": [
    "#### Predict the Output"
   ]
  },
  {
   "cell_type": "code",
   "execution_count": null,
   "id": "a7c46f47",
   "metadata": {
    "scrolled": true
   },
   "outputs": [],
   "source": [
    "class Vehicle:\n",
    "    def __init__(self,color):\n",
    "        self.color = color\n",
    "    def print(self):\n",
    "        print(c.color,end='')\n",
    "class Car(Vehicle):\n",
    "    def __init__(self,color,numGears):\n",
    "        super().__init__(color)\n",
    "        self.numGears = numGears\n",
    "    def print(self):\n",
    "        self.print()\n",
    "        print(c.numGears)\n",
    "c = Car('black',5)\n",
    "c.print()"
   ]
  },
  {
   "cell_type": "markdown",
   "id": "1cc07505",
   "metadata": {},
   "source": [
    "#### Protected Members"
   ]
  },
  {
   "cell_type": "code",
   "execution_count": 154,
   "id": "f82fb4c5",
   "metadata": {},
   "outputs": [],
   "source": [
    "class Vehicle2():\n",
    "     \n",
    "    current_year = 2022\n",
    "    base_price = 1000\n",
    "    \n",
    "    \n",
    "    # protected attr\n",
    "    def __init__(self,make,model,fuel):\n",
    "        self.make = make\n",
    "        self._model = model\n",
    "        self._fuel = fuel\n",
    "        \n",
    "    def __private_method_parent(self):\n",
    "        print('this is private')\n",
    "    \n",
    "    #default protected function to get value of vehicle\n",
    "    def _get_value(self):\n",
    "        \n",
    "        age = Vehicle2.current_year - self._model\n",
    "        print('default method')\n",
    "        return Vehicle2.base_price*(1/age)"
   ]
  },
  {
   "cell_type": "code",
   "execution_count": 171,
   "id": "22c44734",
   "metadata": {},
   "outputs": [],
   "source": [
    "#child class\n",
    "class Car2(Vehicle2):\n",
    "    def __init__(self,make,model,fuel,air_conditioning,sunroof):\n",
    "        \n",
    "        #parent attr with super method\n",
    "        super(Car2,self).__init__(make,model,fuel)\n",
    "        \n",
    "        #child attr\n",
    "        self._air_conditioning = air_conditioning\n",
    "        self._sunroof = sunroof\n",
    "        \n",
    "        \n",
    "        #overriden protected method to get value of car\n",
    "        def _get_value(self):\n",
    "            Vehicle2.base_price = 500\n",
    "            age = Vehicle2.current_year - self._model\n",
    "            print(self.model)\n",
    "            print('child overriding method')\n",
    "            return Vehicle2.base_price*(1/age)"
   ]
  },
  {
   "cell_type": "code",
   "execution_count": 172,
   "id": "4ea49b4c",
   "metadata": {},
   "outputs": [],
   "source": [
    "myOb = Car2('BMW',2020,'petrol',True,True)"
   ]
  },
  {
   "cell_type": "code",
   "execution_count": 173,
   "id": "c0d5349b",
   "metadata": {},
   "outputs": [
    {
     "name": "stdout",
     "output_type": "stream",
     "text": [
      "default method\n"
     ]
    },
    {
     "data": {
      "text/plain": [
       "500.0"
      ]
     },
     "execution_count": 173,
     "metadata": {},
     "output_type": "execute_result"
    }
   ],
   "source": [
    "myOb._get_value()"
   ]
  },
  {
   "cell_type": "code",
   "execution_count": 174,
   "id": "1b2fdceb",
   "metadata": {},
   "outputs": [
    {
     "data": {
      "text/plain": [
       "True"
      ]
     },
     "execution_count": 174,
     "metadata": {},
     "output_type": "execute_result"
    }
   ],
   "source": [
    "myOb._sunroof"
   ]
  },
  {
   "cell_type": "markdown",
   "id": "465d8250",
   "metadata": {},
   "source": [
    "#### Object Class"
   ]
  },
  {
   "cell_type": "code",
   "execution_count": 175,
   "id": "c677bb8e",
   "metadata": {},
   "outputs": [],
   "source": [
    "class Circle(object):\n",
    "    \n",
    "    def __init__(self,radius):\n",
    "        self.__radius = radius"
   ]
  },
  {
   "cell_type": "code",
   "execution_count": 176,
   "id": "a5b153a2",
   "metadata": {},
   "outputs": [
    {
     "name": "stdout",
     "output_type": "stream",
     "text": [
      "<__main__.Circle object at 0x000001F34D2D5250>\n"
     ]
    }
   ],
   "source": [
    "# if we print c object, the description is as per the default __str__ method in the python Object class\n",
    "\n",
    "c = Circle(3)\n",
    "print(c)"
   ]
  },
  {
   "cell_type": "code",
   "execution_count": 177,
   "id": "83fdcb48",
   "metadata": {},
   "outputs": [],
   "source": [
    "class Circle(object):\n",
    "    \n",
    "    def __init__(self,radius):\n",
    "        self.__radius = radius\n",
    "        \n",
    "    \n",
    "    # this is default __str__ method override\n",
    "    def __str__(self):\n",
    "        return \"This is the Circle class providing the radius\""
   ]
  },
  {
   "cell_type": "code",
   "execution_count": 178,
   "id": "b9b603ce",
   "metadata": {},
   "outputs": [
    {
     "name": "stdout",
     "output_type": "stream",
     "text": [
      "This is the Circle class providing the radius\n"
     ]
    }
   ],
   "source": [
    "c = Circle(3)\n",
    "print(c)"
   ]
  },
  {
   "cell_type": "markdown",
   "id": "50eb084f",
   "metadata": {},
   "source": [
    "### Multi-level Inheritance"
   ]
  },
  {
   "cell_type": "code",
   "execution_count": 197,
   "id": "fd8c8331",
   "metadata": {},
   "outputs": [],
   "source": [
    "class A:\n",
    "\n",
    "    def __init__(self):\n",
    "        print('init of A called')\n",
    "class B:\n",
    "    def __init__(self):\n",
    "        print('init of B called')\n",
    "\n",
    "class C(B):\n",
    "    def __init__(self):\n",
    "        super(C,self).__init__()\n",
    "\n"
   ]
  },
  {
   "cell_type": "code",
   "execution_count": 198,
   "id": "e8e3e5b7",
   "metadata": {},
   "outputs": [
    {
     "name": "stdout",
     "output_type": "stream",
     "text": [
      "init of B called\n"
     ]
    }
   ],
   "source": [
    "c = C()"
   ]
  },
  {
   "cell_type": "code",
   "execution_count": 210,
   "id": "cc9f76da",
   "metadata": {},
   "outputs": [],
   "source": [
    "class Books:\n",
    "    \n",
    "    def __init__(self,title,year,publisher):\n",
    "        self.__title = title\n",
    "        self.__year = year\n",
    "        self.publisher = publisher\n",
    "        \n",
    "    def tryIt(self):\n",
    "        return 'well tried 1'\n",
    "        \n",
    "\n",
    "class Fiction(Books):\n",
    "    \n",
    "    def __init__(self,title,year,publisher,genre):\n",
    "        \n",
    "        super(Fiction,self).__init__(title,year,publisher)\n",
    "        self._genre = genre\n",
    "        \n",
    "    def tryIt(self):\n",
    "        return 'well tried 2'\n",
    "        \n",
    "class ScienceFict(Fiction):\n",
    "    \n",
    "    def __init__(self,title,year,publisher,genre,author):\n",
    "        \n",
    "        super(ScienceFict,self).__init__(title,year,publisher,genre)\n",
    "        self.author = author\n",
    "        \n",
    "    def tryIt(self):\n",
    "        return 'well tried 3'"
   ]
  },
  {
   "cell_type": "code",
   "execution_count": 211,
   "id": "02607ad1",
   "metadata": {},
   "outputs": [],
   "source": [
    "book = ScienceFict('now',2020,'abc','Comedy','Mark')"
   ]
  },
  {
   "cell_type": "code",
   "execution_count": 212,
   "id": "d55127cf",
   "metadata": {},
   "outputs": [
    {
     "data": {
      "text/plain": [
       "'now'"
      ]
     },
     "execution_count": 212,
     "metadata": {},
     "output_type": "execute_result"
    }
   ],
   "source": [
    "book._Books__title"
   ]
  },
  {
   "cell_type": "code",
   "execution_count": 213,
   "id": "60ee0235",
   "metadata": {},
   "outputs": [
    {
     "data": {
      "text/plain": [
       "'Mark'"
      ]
     },
     "execution_count": 213,
     "metadata": {},
     "output_type": "execute_result"
    }
   ],
   "source": [
    "book.author"
   ]
  },
  {
   "cell_type": "code",
   "execution_count": 214,
   "id": "dbc9ce7f",
   "metadata": {},
   "outputs": [
    {
     "data": {
      "text/plain": [
       "{'_Books__title': 'now',\n",
       " '_Books__year': 2020,\n",
       " 'publisher': 'abc',\n",
       " '_genre': 'Comedy',\n",
       " 'author': 'Mark'}"
      ]
     },
     "execution_count": 214,
     "metadata": {},
     "output_type": "execute_result"
    }
   ],
   "source": [
    "book.__dict__"
   ]
  },
  {
   "cell_type": "code",
   "execution_count": 215,
   "id": "3afbd8e5",
   "metadata": {},
   "outputs": [],
   "source": [
    "fict = Fiction('past',2020,'abc','romance')"
   ]
  },
  {
   "cell_type": "code",
   "execution_count": 216,
   "id": "7a32baee",
   "metadata": {},
   "outputs": [
    {
     "data": {
      "text/plain": [
       "{'_Books__title': 'past',\n",
       " '_Books__year': 2020,\n",
       " 'publisher': 'abc',\n",
       " '_genre': 'romance'}"
      ]
     },
     "execution_count": 216,
     "metadata": {},
     "output_type": "execute_result"
    }
   ],
   "source": [
    "fict.__dict__"
   ]
  },
  {
   "cell_type": "code",
   "execution_count": 217,
   "id": "604ef529",
   "metadata": {},
   "outputs": [
    {
     "data": {
      "text/plain": [
       "'well tried 3'"
      ]
     },
     "execution_count": 217,
     "metadata": {},
     "output_type": "execute_result"
    }
   ],
   "source": [
    "book.tryIt()"
   ]
  },
  {
   "cell_type": "code",
   "execution_count": 218,
   "id": "31fdafbe",
   "metadata": {},
   "outputs": [
    {
     "data": {
      "text/plain": [
       "'well tried 2'"
      ]
     },
     "execution_count": 218,
     "metadata": {},
     "output_type": "execute_result"
    }
   ],
   "source": [
    "fict.tryIt()"
   ]
  },
  {
   "cell_type": "markdown",
   "id": "b78dd4d8",
   "metadata": {},
   "source": [
    "### Multiple Inheritance"
   ]
  },
  {
   "cell_type": "code",
   "execution_count": 23,
   "id": "54d34360",
   "metadata": {},
   "outputs": [],
   "source": [
    "class Skincare():\n",
    "    \n",
    "    def __init__(self,typeof,method,year):\n",
    "        self.type = typeof\n",
    "        self.method = method\n",
    "        self.year = year\n",
    "        \n",
    "    def printit(self):\n",
    "        return 'skincare it is'\n",
    "    \n",
    "class Makeup():\n",
    "    \n",
    "    def __init__(self,typeof,method,year):\n",
    "        self.typeof = typeof\n",
    "        self.method = method\n",
    "        self.year = year\n",
    "        #self.brand = brand\n",
    "        \n",
    "    def __init__(self):\n",
    "        return 'Makeup it is'\n",
    "\n",
    "       \n",
    "class Favour(Skincare,Makeup):\n",
    "    \n",
    "    def __init__(self,typeof,method,year):\n",
    "        super().__init__(typeof,method,year)\n",
    "        \n",
    "        #self.fav = fav\n"
   ]
  },
  {
   "cell_type": "code",
   "execution_count": 24,
   "id": "f157bfd0",
   "metadata": {},
   "outputs": [],
   "source": [
    "skin = Skincare('natural','apply',2020)"
   ]
  },
  {
   "cell_type": "code",
   "execution_count": 25,
   "id": "81cd64c5",
   "metadata": {},
   "outputs": [
    {
     "data": {
      "text/plain": [
       "'skincare it is'"
      ]
     },
     "execution_count": 25,
     "metadata": {},
     "output_type": "execute_result"
    }
   ],
   "source": [
    "skin.printit()"
   ]
  },
  {
   "cell_type": "code",
   "execution_count": 26,
   "id": "d970d901",
   "metadata": {},
   "outputs": [],
   "source": [
    "fav = Favour('natural','apply',2020)"
   ]
  },
  {
   "cell_type": "code",
   "execution_count": 27,
   "id": "1021d05a",
   "metadata": {},
   "outputs": [
    {
     "data": {
      "text/plain": [
       "'skincare it is'"
      ]
     },
     "execution_count": 27,
     "metadata": {},
     "output_type": "execute_result"
    }
   ],
   "source": [
    "fav.printit() #since skincare is written first"
   ]
  },
  {
   "cell_type": "code",
   "execution_count": 29,
   "id": "7283e4ed",
   "metadata": {},
   "outputs": [
    {
     "data": {
      "text/plain": [
       "(__main__.Favour, __main__.Skincare, __main__.Makeup, object)"
      ]
     },
     "execution_count": 29,
     "metadata": {},
     "output_type": "execute_result"
    }
   ],
   "source": [
    "#to check order\n",
    "Favour.__mro__"
   ]
  },
  {
   "cell_type": "code",
   "execution_count": 30,
   "id": "5ba05052",
   "metadata": {},
   "outputs": [
    {
     "data": {
      "text/plain": [
       "[__main__.Favour, __main__.Skincare, __main__.Makeup, object]"
      ]
     },
     "execution_count": 30,
     "metadata": {},
     "output_type": "execute_result"
    }
   ],
   "source": [
    "Favour.mro()"
   ]
  },
  {
   "cell_type": "markdown",
   "id": "8c74491f",
   "metadata": {},
   "source": [
    "#### Predict Output"
   ]
  },
  {
   "cell_type": "code",
   "execution_count": 31,
   "id": "5425ef17",
   "metadata": {},
   "outputs": [],
   "source": [
    "class X: pass\n",
    "class Y: pass\n",
    "class Z:pass\n",
    "class A(X,Y):pass\n",
    "class B(Y,Z):pass\n",
    "class C(B,A,Y):pass"
   ]
  },
  {
   "cell_type": "code",
   "execution_count": 33,
   "id": "ef15b1f9",
   "metadata": {},
   "outputs": [
    {
     "data": {
      "text/plain": [
       "(__main__.C,\n",
       " __main__.B,\n",
       " __main__.A,\n",
       " __main__.X,\n",
       " __main__.Y,\n",
       " __main__.Z,\n",
       " object)"
      ]
     },
     "execution_count": 33,
     "metadata": {},
     "output_type": "execute_result"
    }
   ],
   "source": [
    "C.__mro__"
   ]
  },
  {
   "cell_type": "markdown",
   "id": "1ae9a875",
   "metadata": {},
   "source": [
    "#### Operator Overloading"
   ]
  },
  {
   "cell_type": "code",
   "execution_count": 34,
   "id": "69a74e89",
   "metadata": {},
   "outputs": [],
   "source": [
    "#read magic functions python documentation for more\n",
    "\n",
    "class Furniture:\n",
    "    \n",
    "    def __init__(self,types,fare):\n",
    "        self.types = types\n",
    "        self.fare = fare\n",
    "        \n",
    "    def __sub__(self,other):\n",
    "        return self.fare - other.fare"
   ]
  },
  {
   "cell_type": "code",
   "execution_count": 35,
   "id": "a8fa8561",
   "metadata": {},
   "outputs": [],
   "source": [
    "fur1 = Furniture('couch',230)\n",
    "fur2 = Furniture('table',30)"
   ]
  },
  {
   "cell_type": "code",
   "execution_count": 36,
   "id": "ecbe4637",
   "metadata": {},
   "outputs": [
    {
     "data": {
      "text/plain": [
       "200"
      ]
     },
     "execution_count": 36,
     "metadata": {},
     "output_type": "execute_result"
    }
   ],
   "source": [
    "fur1-fur2"
   ]
  },
  {
   "cell_type": "code",
   "execution_count": null,
   "id": "37235a1c",
   "metadata": {},
   "outputs": [],
   "source": []
  }
 ],
 "metadata": {
  "kernelspec": {
   "display_name": "Python 3",
   "language": "python",
   "name": "python3"
  },
  "language_info": {
   "codemirror_mode": {
    "name": "ipython",
    "version": 3
   },
   "file_extension": ".py",
   "mimetype": "text/x-python",
   "name": "python",
   "nbconvert_exporter": "python",
   "pygments_lexer": "ipython3",
   "version": "3.8.8"
  }
 },
 "nbformat": 4,
 "nbformat_minor": 5
}
