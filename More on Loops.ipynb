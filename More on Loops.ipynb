{
 "cells": [
  {
   "cell_type": "code",
   "execution_count": 1,
   "id": "7d7e0c95",
   "metadata": {},
   "outputs": [
    {
     "name": "stdout",
     "output_type": "stream",
     "text": [
      "b\n",
      "l\n",
      "u\n",
      "s\n",
      "h\n"
     ]
    }
   ],
   "source": [
    "s = 'blush'\n",
    "for c in s:\n",
    "    print(c)"
   ]
  },
  {
   "cell_type": "code",
   "execution_count": 3,
   "id": "c684f57e",
   "metadata": {},
   "outputs": [
    {
     "name": "stdout",
     "output_type": "stream",
     "text": [
      "5\n",
      "0 1 2 3 4 5 "
     ]
    }
   ],
   "source": [
    "#All 3 values start, stop and stride given to range\n",
    "n = int(input())\n",
    "for i in range (0,n+1,1):\n",
    "    print(i, end=' ')"
   ]
  },
  {
   "cell_type": "code",
   "execution_count": 6,
   "id": "167e033b",
   "metadata": {},
   "outputs": [
    {
     "name": "stdout",
     "output_type": "stream",
     "text": [
      "5\n",
      "0\n",
      "1\n",
      "2\n",
      "3\n",
      "4\n",
      "5\n"
     ]
    }
   ],
   "source": [
    "#only stop value given, start by default is 0, stride by default is 1\n",
    "n = int(input())\n",
    "for i in range(n+1):\n",
    "    print(i)"
   ]
  },
  {
   "cell_type": "code",
   "execution_count": 7,
   "id": "ff1c3681",
   "metadata": {},
   "outputs": [
    {
     "name": "stdout",
     "output_type": "stream",
     "text": [
      "4\n",
      "1\n",
      "2\n",
      "3\n",
      "4\n"
     ]
    }
   ],
   "source": [
    "#2 values given, takes it as start and stop, stride by default is 1\n",
    "n = int(input())\n",
    "for i in range(1, n+1):\n",
    "    print(i)"
   ]
  },
  {
   "cell_type": "code",
   "execution_count": 8,
   "id": "b690dc2f",
   "metadata": {},
   "outputs": [
    {
     "name": "stdout",
     "output_type": "stream",
     "text": [
      "4\n"
     ]
    }
   ],
   "source": [
    "#2 values given, takes it as start and stop, stride by default is 1\n",
    "n = int(input())\n",
    "for i in range(n+1, 1):\n",
    "    print(i)\n",
    "#this won't work since it can't go from n+1 to 1"
   ]
  },
  {
   "cell_type": "code",
   "execution_count": 11,
   "id": "a2778f55",
   "metadata": {},
   "outputs": [
    {
     "name": "stdout",
     "output_type": "stream",
     "text": [
      "5\n",
      "5\n",
      "4\n",
      "3\n",
      "2\n",
      "1\n"
     ]
    }
   ],
   "source": [
    "n = int(input())\n",
    "for i in range (n, 0, -1):\n",
    "    print(i)"
   ]
  },
  {
   "cell_type": "code",
   "execution_count": 12,
   "id": "069a0cc2",
   "metadata": {},
   "outputs": [
    {
     "name": "stdout",
     "output_type": "stream",
     "text": [
      "3\n",
      "10\n",
      "3\n",
      "6\n",
      "9\n"
     ]
    }
   ],
   "source": [
    "#multiples of 3\n",
    "a = int(input())\n",
    "b = int(input())\n",
    "for i in range(a, b+1, 1):\n",
    "    if i % 3 == 0:\n",
    "        print(i)"
   ]
  },
  {
   "cell_type": "code",
   "execution_count": 14,
   "id": "5382dce0",
   "metadata": {},
   "outputs": [
    {
     "name": "stdout",
     "output_type": "stream",
     "text": [
      "2\n",
      "50\n",
      "4\n",
      "8\n",
      "12\n",
      "16\n",
      "20\n",
      "24\n",
      "28\n",
      "32\n",
      "36\n",
      "40\n",
      "44\n",
      "48\n"
     ]
    }
   ],
   "source": [
    "#multiples of 4\n",
    "a = int(input())\n",
    "b = int(input())\n",
    "if a % 4 == 0:\n",
    "    s = a\n",
    "elif a % 4 == 1:\n",
    "    s = a + 3\n",
    "elif a % 4 == 2:\n",
    "    s = a + 2\n",
    "else:\n",
    "    s = a + 1\n",
    "for i in range (s, b+1, 4):\n",
    "    print(i)"
   ]
  },
  {
   "cell_type": "code",
   "execution_count": 28,
   "id": "7dadeabf",
   "metadata": {},
   "outputs": [
    {
     "name": "stdout",
     "output_type": "stream",
     "text": [
      "79\n",
      "prime\n"
     ]
    }
   ],
   "source": [
    "n = int(input())\n",
    "for i in range (2, n, 1):\n",
    "    if n % i == 0:\n",
    "        print('not prime')\n",
    "        break\n",
    "else:\n",
    "    print('prime')\n"
   ]
  },
  {
   "cell_type": "code",
   "execution_count": 14,
   "id": "c679370e",
   "metadata": {},
   "outputs": [
    {
     "name": "stdout",
     "output_type": "stream",
     "text": [
      "4\n",
      "   1\n",
      "  232\n",
      " 34543\n",
      "4567654\n"
     ]
    }
   ],
   "source": [
    "#Pattern using for and range functions\n",
    "n = int(input())\n",
    "for i in range (1, n+1, 1):\n",
    "    for s in range (n-i):\n",
    "        print(' ', end='')\n",
    "    for j in range (i, 2*i, 1):\n",
    "        print(j, end='')\n",
    "    for j in range (2*i-2, i-1, -1):\n",
    "        print(j, end='')\n",
    "    print()"
   ]
  },
  {
   "cell_type": "markdown",
   "id": "8615f644",
   "metadata": {},
   "source": [
    "### Break Keyword"
   ]
  },
  {
   "cell_type": "code",
   "execution_count": 19,
   "id": "d7613228",
   "metadata": {},
   "outputs": [
    {
     "name": "stdout",
     "output_type": "stream",
     "text": [
      "9\n",
      "2\n",
      "3\n",
      "5\n",
      "7\n"
     ]
    }
   ],
   "source": [
    "#Print prime numbers till n\n",
    "n = int(input())\n",
    "k = 2\n",
    "while k <= n:\n",
    "    d = 2\n",
    "    flag = False\n",
    "    while d < k:\n",
    "        if k % d == 0:\n",
    "            flag = True\n",
    "            break\n",
    "        d = d + 1\n",
    "    if(not(flag)):\n",
    "        print(k)\n",
    "    k = k + 1"
   ]
  },
  {
   "cell_type": "markdown",
   "id": "1e089784",
   "metadata": {},
   "source": [
    "### Else with While"
   ]
  },
  {
   "cell_type": "code",
   "execution_count": 26,
   "id": "1414501e",
   "metadata": {},
   "outputs": [
    {
     "name": "stdout",
     "output_type": "stream",
     "text": [
      "0\n",
      "1\n",
      "2\n",
      "3\n",
      "4\n"
     ]
    }
   ],
   "source": [
    "#else doesn't run if break is hit\n",
    "for i in range(10):\n",
    "    print(i)\n",
    "    if i == 4:\n",
    "        break\n",
    "else:\n",
    "    print('here')"
   ]
  },
  {
   "cell_type": "markdown",
   "id": "03d6ca93",
   "metadata": {},
   "source": [
    "### Assignment Questions"
   ]
  },
  {
   "cell_type": "code",
   "execution_count": 31,
   "id": "afa51d80",
   "metadata": {},
   "outputs": [
    {
     "name": "stdout",
     "output_type": "stream",
     "text": [
      "5\n",
      "11111\n",
      "0000\n",
      "111\n",
      "00\n",
      "1\n"
     ]
    }
   ],
   "source": [
    "n = int(input())\n",
    "for i in range (1, n+1, 1):\n",
    "    j = n-i+1\n",
    "    while j >= 1:\n",
    "        if i % 2 == 0:\n",
    "            print(0, end='')\n",
    "        else:\n",
    "            print(1, end='')\n",
    "        j-=1\n",
    "    print()\n",
    "        "
   ]
  },
  {
   "cell_type": "code",
   "execution_count": 37,
   "id": "e63913e8",
   "metadata": {},
   "outputs": [
    {
     "name": "stdout",
     "output_type": "stream",
     "text": [
      "4\n",
      "1234\n",
      " 234\n",
      "  34\n",
      "   4\n",
      "  34\n",
      " 234\n",
      "1234\n"
     ]
    }
   ],
   "source": [
    "n = int(input())\n",
    "n1 = n\n",
    "n2 = n-1\n",
    "for i in range(1,n1+1,1):\n",
    "    s = 1\n",
    "    while s <= i-1:\n",
    "        print(' ', end='')\n",
    "        s+=1\n",
    "    j = 1\n",
    "    while j <= n-i+1:\n",
    "        print(i+j-1, end='')\n",
    "        j+=1\n",
    "    print()\n",
    "for i in range(1,n2+1,1):\n",
    "    s = 1\n",
    "    while s <= n2-i:\n",
    "        print(' ',end='')\n",
    "        s+=1\n",
    "    for j in range(n2-i+1, n2+2,1):\n",
    "        print(j, end='')\n",
    "    print()"
   ]
  },
  {
   "cell_type": "code",
   "execution_count": 44,
   "id": "964ffb32",
   "metadata": {},
   "outputs": [
    {
     "name": "stdout",
     "output_type": "stream",
     "text": [
      "5\n",
      "  *\n",
      " ***\n",
      "*****\n",
      " ***\n",
      "  *\n"
     ]
    }
   ],
   "source": [
    "n = int(input())\n",
    "n1 = (n+1)//2\n",
    "n2 = n//2\n",
    "for i in range(1, n1+1, 1):\n",
    "    for s in range(1, n1-i+1, 1):\n",
    "        print(' ', end='')\n",
    "    for j in range(1,i+1,1):\n",
    "        print('*', end='')\n",
    "    for j in range(1,i,1):\n",
    "        print('*', end='')\n",
    "    print()\n",
    "for i in range(1, n2+1, 1):\n",
    "    for s in range(1, i+1, 1):\n",
    "        print(' ', end='')\n",
    "    for j in range(1, n2-i+2, 1):\n",
    "        print('*', end='')\n",
    "    for j in range(1,n2-i+1,1):\n",
    "        print('*', end='')\n",
    "    print()\n",
    "        "
   ]
  },
  {
   "cell_type": "code",
   "execution_count": 97,
   "id": "e3d79092",
   "metadata": {},
   "outputs": [
    {
     "name": "stdout",
     "output_type": "stream",
     "text": [
      "6\n",
      "66666666666\n",
      "65555555556\n",
      "65444444456\n",
      "65433333456\n",
      "65432223456\n",
      "65432123456\n",
      "65432223456\n",
      "65433333456\n",
      "65444444456\n",
      "65555555556\n",
      "66666666666\n"
     ]
    }
   ],
   "source": [
    "m = int(input())\n",
    "n1 = m\n",
    "n2 = m-1\n",
    "for i in range(1,n1+1,1):\n",
    "    for j in range(1,i+1,1):\n",
    "        print(n1-j+1, end='')\n",
    "    for j in range(n1-i,0,-1):\n",
    "        print(n1-i+1,end='')\n",
    "    for j in range(1,n1-i+1,1):\n",
    "        print(n1-i+1,end='')\n",
    "    for j in range(n1-i+2,n1+1,1):\n",
    "        print(j,end='')\n",
    "    print()\n",
    "for i in range(1,n2+1,1):\n",
    "    for j in range(1,n2-i+2,1):\n",
    "        print(n1-j+1, end='')\n",
    "    for j in range(1,i+1,1):\n",
    "        print(i+1, end='')\n",
    "    for j in range(1,i+1,1):\n",
    "        print(i+1, end='')\n",
    "    for j in range(1,n2-i+1,1):\n",
    "        print(i+j+1, end='')\n",
    "    print()"
   ]
  },
  {
   "cell_type": "code",
   "execution_count": 111,
   "id": "daa976bb",
   "metadata": {},
   "outputs": [
    {
     "name": "stdout",
     "output_type": "stream",
     "text": [
      "6\n",
      "1 2 3 4 5 6 \n",
      "13 14 15 16 17 18 \n",
      "25 26 27 28 29 30 \n",
      "31 32 33 34 35 36 \n",
      "19 20 21 22 23 24 \n",
      "7 8 9 10 11 12 \n"
     ]
    }
   ],
   "source": [
    "n = int(input())\n",
    "if n % 2 == 0:\n",
    "    n1 = n//2\n",
    "    n2 = n//2\n",
    "else:\n",
    "    n1 = (n+1)//2\n",
    "    n2 = n//2\n",
    "for i in range(1,n1+1,1):\n",
    "    count = 1\n",
    "    for j in range(1,n+1,1):\n",
    "        print(count+n*2*(i-1), end=' ')\n",
    "        count+=1\n",
    "    print()\n",
    "for i in range(1,n2+1,1):\n",
    "    count = 1\n",
    "    #print(n2)\n",
    "    for j in range(1,n+1,1):\n",
    "        print(count+n*(2*(n2-i)+1), end=' ')\n",
    "        count+=1\n",
    "    print()"
   ]
  },
  {
   "cell_type": "code",
   "execution_count": null,
   "id": "1605d9b9",
   "metadata": {},
   "outputs": [],
   "source": []
  }
 ],
 "metadata": {
  "kernelspec": {
   "display_name": "Python 3",
   "language": "python",
   "name": "python3"
  },
  "language_info": {
   "codemirror_mode": {
    "name": "ipython",
    "version": 3
   },
   "file_extension": ".py",
   "mimetype": "text/x-python",
   "name": "python",
   "nbconvert_exporter": "python",
   "pygments_lexer": "ipython3",
   "version": "3.8.8"
  }
 },
 "nbformat": 4,
 "nbformat_minor": 5
}
