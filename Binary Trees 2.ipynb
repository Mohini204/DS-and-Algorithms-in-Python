{
 "cells": [
  {
   "cell_type": "code",
   "execution_count": 8,
   "id": "b1ff5164",
   "metadata": {},
   "outputs": [],
   "source": [
    "class BinaryTreeNode:\n",
    "    \n",
    "    def __init__(self,data):\n",
    "        self.data = data\n",
    "        self.right = None\n",
    "        self.left = None "
   ]
  },
  {
   "cell_type": "code",
   "execution_count": 76,
   "id": "38b6ab68",
   "metadata": {},
   "outputs": [],
   "source": [
    "def inputTree():\n",
    "    \n",
    "    rootdata = int(input())\n",
    "    \n",
    "    if rootdata == -1:\n",
    "        return None\n",
    "    \n",
    "    root = BinaryTreeNode(rootdata)\n",
    "    lefttree = inputTree()\n",
    "    righttree = inputTree()\n",
    "    \n",
    "    root.left = lefttree\n",
    "    root.right = righttree\n",
    "    \n",
    "    return root"
   ]
  },
  {
   "cell_type": "code",
   "execution_count": 10,
   "id": "daaffe2c",
   "metadata": {},
   "outputs": [],
   "source": [
    "def printTree(root):\n",
    "    \n",
    "    if root is None:\n",
    "        return\n",
    "    \n",
    "    print(root.data,end=':')\n",
    "    if root.left is not None:\n",
    "        print(root.left.data, end=',')\n",
    "    if root.right is not None:\n",
    "        print(root.right.data,end='')\n",
    "    print()\n",
    "    \n",
    "    printTree(root.left)\n",
    "    printTree(root.right)"
   ]
  },
  {
   "cell_type": "markdown",
   "id": "0b099241",
   "metadata": {},
   "source": [
    "#### Remove Leaf Nodes"
   ]
  },
  {
   "cell_type": "code",
   "execution_count": 25,
   "id": "5c738a3b",
   "metadata": {},
   "outputs": [],
   "source": [
    "def removeLeaves(root):\n",
    "    \n",
    "    if root is None:\n",
    "        return None\n",
    "    \n",
    "    if root.left is None and root.right is None:\n",
    "        return None\n",
    "    \n",
    "    root.left = removeLeaves(root.left)\n",
    "    root.right = removeLeaves(root.right)\n"
   ]
  },
  {
   "cell_type": "code",
   "execution_count": 26,
   "id": "989f2929",
   "metadata": {},
   "outputs": [
    {
     "name": "stdout",
     "output_type": "stream",
     "text": [
      "1\n",
      "2\n",
      "-1\n",
      "-1\n",
      "3\n",
      "-1\n",
      "-1\n",
      "1:\n"
     ]
    }
   ],
   "source": [
    "root = inputTree()\n",
    "removeLeaves(root)\n",
    "printTree(root)"
   ]
  },
  {
   "cell_type": "markdown",
   "id": "8385fd4d",
   "metadata": {},
   "source": [
    "#### Mirror Binary Tree"
   ]
  },
  {
   "cell_type": "code",
   "execution_count": 33,
   "id": "0b20020f",
   "metadata": {},
   "outputs": [],
   "source": [
    "def mirrorBinaryTree(root) :\n",
    "    \n",
    "    if root is None:\n",
    "        return\n",
    "    \n",
    "    if root.left is not None and root.right is not None:\n",
    "        root.left,root.right = root.right,root.left\n",
    "        \n",
    "    if root.left is None and root.right is not None:\n",
    "        root.left = root.right\n",
    "        root.right = None\n",
    "        \n",
    "    if root.right is None and root.left is not None:\n",
    "        root.right = root.left\n",
    "        root.left = None\n",
    "        \n",
    "    mirrorBinaryTree(root.left)\n",
    "    mirrorBinaryTree(root.right)"
   ]
  },
  {
   "cell_type": "code",
   "execution_count": 34,
   "id": "ac0b979c",
   "metadata": {},
   "outputs": [
    {
     "name": "stdout",
     "output_type": "stream",
     "text": [
      "1\n",
      "2\n",
      "-1\n",
      "-1\n",
      "3\n",
      "-1\n",
      "-1\n",
      "1:3,2\n",
      "3:\n",
      "2:\n"
     ]
    }
   ],
   "source": [
    "root = inputTree()\n",
    "mirrorBinaryTree(root)\n",
    "printTree(root)"
   ]
  },
  {
   "cell_type": "markdown",
   "id": "768d2674",
   "metadata": {},
   "source": [
    "#### Check if Tree is Balanced"
   ]
  },
  {
   "cell_type": "code",
   "execution_count": 37,
   "id": "25bdf4b1",
   "metadata": {},
   "outputs": [],
   "source": [
    "def height(root):\n",
    "    if root is None:\n",
    "        return 0\n",
    "    \n",
    "    return 1 + max(height(root.left),height(root.right))"
   ]
  },
  {
   "cell_type": "code",
   "execution_count": 40,
   "id": "18de978b",
   "metadata": {},
   "outputs": [],
   "source": [
    "#This code has O(n^2) time complexity since we traverse to each node twice\n",
    "\n",
    "def treeBalanced(root):\n",
    "    \n",
    "    if root is None:\n",
    "        return True\n",
    "\n",
    "    lh = height(root.left)\n",
    "    rh= height(root.right)\n",
    "    if lh-rh>1 or rh-lh>1:\n",
    "        return False\n",
    "    \n",
    "    isBalancedleft = treeBalanced(root.left)\n",
    "    isbalancedright = treeBalanced(root.right)\n",
    "    \n",
    "    if isBalancedleft and isbalancedright:\n",
    "        return True\n",
    "    else:\n",
    "        return False"
   ]
  },
  {
   "cell_type": "code",
   "execution_count": 43,
   "id": "ebd54e26",
   "metadata": {},
   "outputs": [
    {
     "name": "stdout",
     "output_type": "stream",
     "text": [
      "1\n",
      "2\n",
      "4\n",
      "6\n",
      "-1\n",
      "-1\n",
      "-1\n",
      "-1\n",
      "3\n",
      "-1\n",
      "5\n",
      "-1\n",
      "-1\n",
      "False\n"
     ]
    }
   ],
   "source": [
    "root = inputTree()\n",
    "print(treeBalanced(root))"
   ]
  },
  {
   "cell_type": "code",
   "execution_count": 46,
   "id": "b31fe9d0",
   "metadata": {},
   "outputs": [],
   "source": [
    "#Improved version of isBalanced with O(n) time complexity but returns height as well :( \n",
    "\n",
    "def isBalancedBetter(root):\n",
    "    \n",
    "    if root is None:\n",
    "        return 0, True\n",
    "    \n",
    "    lh, isbalancedl = isBalancedBetter(root.left)\n",
    "    rh, isbalancedr = isBalancedBetter(root.right)\n",
    "    \n",
    "    h = 1 + max(lh,rh)\n",
    "    \n",
    "    if isbalancedl and isbalancedr:\n",
    "        return h, True\n",
    "    else:\n",
    "        return h, False"
   ]
  },
  {
   "cell_type": "code",
   "execution_count": 47,
   "id": "d7c3050a",
   "metadata": {},
   "outputs": [
    {
     "name": "stdout",
     "output_type": "stream",
     "text": [
      "1\n",
      "2\n",
      "3\n",
      "-1\n",
      "-1\n",
      "-1\n",
      "4\n",
      "-1\n",
      "5\n",
      "-1\n",
      "-1\n",
      "(3, True)\n"
     ]
    }
   ],
   "source": [
    "root = inputTree()\n",
    "print(isBalancedBetter(root))"
   ]
  },
  {
   "cell_type": "code",
   "execution_count": 48,
   "id": "c60e6bf5",
   "metadata": {},
   "outputs": [],
   "source": [
    "#Improving result by adding anoher function that will return only True or false for the above one\n",
    "\n",
    "def onlyIsBalanced(root):\n",
    "    \n",
    "    h, isBalanced = isBalancedBetter(root)\n",
    "    \n",
    "    if isBalanced:\n",
    "        return True\n",
    "    return False"
   ]
  },
  {
   "cell_type": "code",
   "execution_count": 49,
   "id": "9df2c3c5",
   "metadata": {},
   "outputs": [
    {
     "name": "stdout",
     "output_type": "stream",
     "text": [
      "1\n",
      "2\n",
      "-1\n",
      "-1\n",
      "3\n",
      "-1\n",
      "-1\n",
      "True\n"
     ]
    }
   ],
   "source": [
    "root = inputTree()\n",
    "print(onlyIsBalanced(root))"
   ]
  },
  {
   "cell_type": "markdown",
   "id": "199f38c6",
   "metadata": {},
   "source": [
    "#### Diameter of Binary Tree"
   ]
  },
  {
   "cell_type": "code",
   "execution_count": 69,
   "id": "1a93c620",
   "metadata": {},
   "outputs": [],
   "source": [
    "def diameterOfBinaryTree(root) :\n",
    "    \n",
    "    if root is None:\n",
    "        return 0,0\n",
    "    \n",
    "    lh , ldia = diameterOfBinaryTree(root.left)\n",
    "    rh, rdia = diameterOfBinaryTree(root.left)\n",
    "    \n",
    "    h = 1 + max(lh,rh)\n",
    "    dia = lh + rh\n",
    "\n",
    "    \n",
    "    if dia >= ldia and dia >= rdia:\n",
    "        #print('root ',root.data,'h ',h,'d ',dia)\n",
    "        return h, dia\n",
    "    elif ldia > dia and ldia > rdia:\n",
    "        return h, ldia\n",
    "    elif rdia > dia and rdia > ldia:\n",
    "        return h, rdia"
   ]
  },
  {
   "cell_type": "code",
   "execution_count": 71,
   "id": "2a020c86",
   "metadata": {},
   "outputs": [
    {
     "name": "stdout",
     "output_type": "stream",
     "text": [
      "1\n",
      "2\n",
      "-1\n",
      "-1\n",
      "3\n",
      "-1\n",
      "-1\n",
      "dia  0 ldia  0 rdia  0\n",
      "root  2 h  1 d  0\n",
      "dia  0 ldia  0 rdia  0\n",
      "root  2 h  1 d  0\n",
      "dia  2 ldia  0 rdia  0\n",
      "root  1 h  2 d  2\n",
      "(2, 2)\n",
      "1:2,3\n",
      "2:\n",
      "3:\n"
     ]
    }
   ],
   "source": [
    "root = inputTree()\n",
    "print(diameterOfBinaryTree(root))\n",
    "printTree(root)"
   ]
  },
  {
   "cell_type": "code",
   "execution_count": 78,
   "id": "690bdc6b",
   "metadata": {},
   "outputs": [],
   "source": [
    "#this is a better version which will just return the diameter and not the height with it\n",
    "\n",
    "def diameterOfBinaryTreeMethod(root) :\n",
    "    \n",
    "    if root is None:\n",
    "        return 0,0\n",
    "    \n",
    "    lh , ldia = diameterOfBinaryTreeMethod(root.left)\n",
    "    rh, rdia = diameterOfBinaryTreeMethod(root.right)\n",
    "    \n",
    "    h = 1 + max(lh,rh)\n",
    "    dia = lh + rh\n",
    "\n",
    "    \n",
    "    if dia >= ldia and dia >= rdia:\n",
    "        print('root ',root.data,'h ',h,'d ',dia)\n",
    "        return h, dia\n",
    "    elif ldia > dia and ldia > rdia:\n",
    "        return h, ldia\n",
    "    elif rdia > dia and rdia > ldia:\n",
    "        return h, rdia\n",
    "\n",
    "\n",
    "def diameterOfBinaryTree(root) :\n",
    "    # Your code goes here\n",
    "    h , dia = diameterOfBinaryTreeMethod(root)\n",
    "    \n",
    "    return dia"
   ]
  },
  {
   "cell_type": "code",
   "execution_count": 80,
   "id": "e5fafa61",
   "metadata": {},
   "outputs": [
    {
     "name": "stdout",
     "output_type": "stream",
     "text": [
      "1\n",
      "2\n",
      "3\n",
      "-1\n",
      "-1\n",
      "-1\n",
      "4\n",
      "-1\n",
      "-1\n",
      "root  3 h  1 d  0\n",
      "root  2 h  2 d  1\n",
      "root  4 h  1 d  0\n",
      "root  1 h  3 d  3\n",
      "3\n",
      "1:2,4\n",
      "2:3,\n",
      "3:\n",
      "4:\n"
     ]
    }
   ],
   "source": [
    "root = inputTree()\n",
    "print(diameterOfBinaryTree(root))\n",
    "printTree(root)"
   ]
  },
  {
   "cell_type": "markdown",
   "id": "6b237704",
   "metadata": {},
   "source": [
    "#### Take Input Levelwise"
   ]
  },
  {
   "cell_type": "code",
   "execution_count": 3,
   "id": "302da990",
   "metadata": {},
   "outputs": [],
   "source": [
    "import queue\n",
    "\n",
    "def levelwiseInput():\n",
    "    \n",
    "    q = queue.Queue()\n",
    "    print('Enter root')\n",
    "    rootdata = int(input())\n",
    "    if rootdata == -1:\n",
    "        return None\n",
    "    \n",
    "    root = BinaryTreeNode(rootdata)    \n",
    "    q.put(root)\n",
    "    \n",
    "    while not q.empty():\n",
    "        \n",
    "        curr = q.get()\n",
    "        \n",
    "        print('Enter left of ', curr.data)\n",
    "        leftchilddata = int(input())\n",
    "        if leftchilddata != -1:\n",
    "            leftchild = BinaryTreeNode(leftchilddata)\n",
    "            curr.left = leftchild\n",
    "            q.put(leftchild)\n",
    "        \n",
    "        print('Enter right of ', curr.data)\n",
    "        rightchilddata = int(input())\n",
    "        if rightchilddata != -1:\n",
    "            rightchild = BinaryTreeNode(rightchilddata)\n",
    "            curr.right = rightchild\n",
    "            q.put(rightchild)\n",
    "    \n",
    "    return root"
   ]
  },
  {
   "cell_type": "markdown",
   "id": "8b3c0b46",
   "metadata": {},
   "source": [
    "#### Print Binary Tree Levelwise"
   ]
  },
  {
   "cell_type": "code",
   "execution_count": 91,
   "id": "27da7537",
   "metadata": {},
   "outputs": [],
   "source": [
    "import queue\n",
    "\n",
    "def levelwisePrint(root):\n",
    "    \n",
    "    q = queue.Queue()\n",
    "    \n",
    "    if root is None:\n",
    "        return\n",
    "    \n",
    "    q.put(root)\n",
    "    \n",
    "    while not q.empty():\n",
    "        \n",
    "        curr = q.get()\n",
    "        print(curr.data, end=':')\n",
    "        \n",
    "        if curr.left is not None:\n",
    "            print('L:',end='')\n",
    "            print(curr.left.data, end = ',')\n",
    "            q.put(curr.left)\n",
    "        else:\n",
    "            print('L:',end='')\n",
    "            print(-1, end = ',')\n",
    "        if curr.right is not None:\n",
    "            print('R:',end='')\n",
    "            print(curr.right.data, end = '')\n",
    "            q.put(curr.right)\n",
    "        else:\n",
    "            print('R:',end = '')\n",
    "            print(-1,end='')\n",
    "        print()           "
   ]
  },
  {
   "cell_type": "code",
   "execution_count": 92,
   "id": "ab0ab760",
   "metadata": {},
   "outputs": [
    {
     "name": "stdout",
     "output_type": "stream",
     "text": [
      "Enter root\n",
      "1\n",
      "Enter left of  1\n",
      "2\n",
      "Enter right of  1\n",
      "3\n",
      "Enter left of  2\n",
      "-1\n",
      "Enter right of  2\n",
      "-1\n",
      "Enter left of  3\n",
      "-1\n",
      "Enter right of  3\n",
      "-1\n",
      "1:L:2,R:3\n",
      "2:L:-1,R:-1\n",
      "3:L:-1,R:-1\n"
     ]
    }
   ],
   "source": [
    "root = levelwiseInput()\n",
    "levelwisePrint(root)"
   ]
  },
  {
   "cell_type": "markdown",
   "id": "9d7209bd",
   "metadata": {},
   "source": [
    "#### Construct Binary Tree Using Preorder and Inorder"
   ]
  },
  {
   "cell_type": "code",
   "execution_count": 104,
   "id": "a879b87b",
   "metadata": {},
   "outputs": [],
   "source": [
    "import queue\n",
    "\n",
    "def buildTree(preOrder, inOrder, n) :\n",
    "    \n",
    "    #base case\n",
    "    if len(preOrder) == 0 or len(inOrder) == 0:\n",
    "        return None\n",
    "    \n",
    "    #induction step\n",
    "    rootdata = preOrder[0]\n",
    "    \n",
    "    root = BinaryTreeNode(rootdata)\n",
    "    \n",
    "    for i in range(n):\n",
    "        if inOrder[i] == rootdata:\n",
    "            index = i\n",
    "            break\n",
    "    \n",
    "    inleft = inOrder[:index]\n",
    "    inright = inOrder[index+1:]\n",
    "    \n",
    "    preleft = preOrder[1:len(inleft)+1]\n",
    "    preright = preOrder[len(inleft)+1:]\n",
    "    \n",
    "    #induction hypothesis\n",
    "    lefttree = buildTree(preleft, inleft, len(preleft))\n",
    "    righttree = buildTree(preright, inright, len(preright))\n",
    "    \n",
    "    root.left = lefttree\n",
    "    root.right = righttree\n",
    "    \n",
    "    return root"
   ]
  },
  {
   "cell_type": "code",
   "execution_count": 105,
   "id": "c3a9fb40",
   "metadata": {},
   "outputs": [
    {
     "name": "stdout",
     "output_type": "stream",
     "text": [
      "1 2 4 5 3 6 7 \n",
      "4 2 5 1 6 3 7\n",
      "1:L:2,R:3\n",
      "2:L:4,R:5\n",
      "3:L:6,R:7\n",
      "4:L:-1,R:-1\n",
      "5:L:-1,R:-1\n",
      "6:L:-1,R:-1\n",
      "7:L:-1,R:-1\n"
     ]
    }
   ],
   "source": [
    "preOrder = [int(x) for x in input().split()]\n",
    "inOrder = [int(x) for x in input().split()]\n",
    "n = len(preOrder)\n",
    "root = buildTree(preOrder, inOrder, n)\n",
    "levelwisePrint(root)"
   ]
  },
  {
   "cell_type": "markdown",
   "id": "1cd60c24",
   "metadata": {},
   "source": [
    "#### Construct Binary Tree Using Postorder and Inorder"
   ]
  },
  {
   "cell_type": "code",
   "execution_count": 125,
   "id": "164a0d91",
   "metadata": {},
   "outputs": [],
   "source": [
    "def buildTree1(postOrder, inOrder, n) :\n",
    "    \n",
    "    if len(postOrder) == 0 or len(inOrder) == 0:\n",
    "        return None\n",
    "    \n",
    "    rootdata = postOrder[-1]\n",
    "    root = BinaryTreeNode(rootdata)\n",
    "    index = -1\n",
    "    for i in range(n):\n",
    "        if inOrder[i] == rootdata:\n",
    "            index = i\n",
    "            break\n",
    "            \n",
    "    inleft = inOrder[:index]\n",
    "    inright = inOrder[index+1:]\n",
    "    print('inleft ',inleft,'inright ',inright)\n",
    "    \n",
    "    posleft = postOrder[:len(inleft)]\n",
    "    posright = postOrder[len(posleft):len(postOrder)-1:1]\n",
    "    print('posleft ',posleft,'posright ',posright)\n",
    "    \n",
    "    lefttree = buildTree1(posleft, inleft, len(posleft))\n",
    "    righttree = buildTree1(posright, inright, len(posright))\n",
    "    \n",
    "    root.left = lefttree\n",
    "    root.right = righttree\n",
    "    \n",
    "    return root"
   ]
  },
  {
   "cell_type": "code",
   "execution_count": null,
   "id": "cd062c9d",
   "metadata": {
    "scrolled": true
   },
   "outputs": [],
   "source": [
    "postOrder = [int(x) for x in input().split()]\n",
    "inOrder = [int(x) for x in input().split()]\n",
    "n = len(postOrder)\n",
    "root = buildTree1(postOrder, inOrder, n)\n",
    "levelwisePrint(root)"
   ]
  },
  {
   "cell_type": "markdown",
   "id": "1f7297cd",
   "metadata": {},
   "source": [
    "### Assignment Questions"
   ]
  },
  {
   "cell_type": "markdown",
   "id": "69473289",
   "metadata": {},
   "source": [
    "#### Create and Insert Duplicate Node"
   ]
  },
  {
   "cell_type": "code",
   "execution_count": 141,
   "id": "591371de",
   "metadata": {},
   "outputs": [],
   "source": [
    "def insertDuplicateNode(root):\n",
    "    \n",
    "    if root is None:\n",
    "        return\n",
    "    \n",
    "    insertDuplicateNode(root.left)\n",
    "    insertDuplicateNode(root.right)\n",
    "    \n",
    "    newNode = BinaryTreeNode(root.data)\n",
    "    \n",
    "    temp = root.left\n",
    "    root.left = newNode\n",
    "    newNode.left = temp\n",
    "    \n",
    "    return root"
   ]
  },
  {
   "cell_type": "code",
   "execution_count": 142,
   "id": "a245654b",
   "metadata": {},
   "outputs": [
    {
     "name": "stdout",
     "output_type": "stream",
     "text": [
      "Enter root\n",
      "1\n",
      "Enter left of  1\n",
      "2\n",
      "Enter right of  1\n",
      "3\n",
      "Enter left of  2\n",
      "4\n",
      "Enter right of  2\n",
      "5\n",
      "Enter left of  3\n",
      "6\n",
      "Enter right of  3\n",
      "-1\n",
      "Enter left of  4\n",
      "-1\n",
      "Enter right of  4\n",
      "-1\n",
      "Enter left of  5\n",
      "-1\n",
      "Enter right of  5\n",
      "-1\n",
      "Enter left of  6\n",
      "-1\n",
      "Enter right of  6\n",
      "-1\n",
      "1:L:1,R:3\n",
      "1:L:2,R:-1\n",
      "3:L:3,R:-1\n",
      "2:L:2,R:5\n",
      "3:L:6,R:-1\n",
      "2:L:4,R:-1\n",
      "5:L:5,R:-1\n",
      "6:L:6,R:-1\n",
      "4:L:4,R:-1\n",
      "5:L:-1,R:-1\n",
      "6:L:-1,R:-1\n",
      "4:L:-1,R:-1\n"
     ]
    }
   ],
   "source": [
    "root = levelwiseInput()\n",
    "insertDuplicateNode(root)\n",
    "levelwisePrint(root)"
   ]
  },
  {
   "cell_type": "markdown",
   "id": "facce354",
   "metadata": {},
   "source": [
    "#### Find min and Max in a Binary Tree"
   ]
  },
  {
   "cell_type": "code",
   "execution_count": 145,
   "id": "b6253fb3",
   "metadata": {},
   "outputs": [],
   "source": [
    "import sys\n",
    "\n",
    "class Pair :\n",
    "\n",
    "    def __init__(self, minimum, maximum) :\n",
    "        self.minimum = minimum\n",
    "        self.maximum = maximum\n",
    "\n",
    "def getMinAndMax(root) :\n",
    "    \n",
    "    if root is None:\n",
    "        p = Pair(sys.maxsize,-1)\n",
    "        return p\n",
    "    \n",
    "    pairleft = getMinAndMax(root.left)\n",
    "    pairright = getMinAndMax(root.right)\n",
    "    \n",
    "    rmin = min(root.data,pairleft.minimum,pairright.minimum)\n",
    "    rmax = max(root.data,pairright.maximum,pairleft.maximum)\n",
    "    \n",
    "    p = Pair(rmin,rmax)\n",
    "    \n",
    "    return p"
   ]
  },
  {
   "cell_type": "code",
   "execution_count": 146,
   "id": "20bfdf95",
   "metadata": {},
   "outputs": [
    {
     "name": "stdout",
     "output_type": "stream",
     "text": [
      "Enter root\n",
      "8\n",
      "Enter left of  8\n",
      "3\n",
      "Enter right of  8\n",
      "10\n",
      "Enter left of  3\n",
      "1\n",
      "Enter right of  3\n",
      "6\n",
      "Enter left of  10\n",
      "-1\n",
      "Enter right of  10\n",
      "14\n",
      "Enter left of  1\n",
      "-1\n",
      "Enter right of  1\n",
      "-1\n",
      "Enter left of  6\n",
      "4\n",
      "Enter right of  6\n",
      "7\n",
      "Enter left of  14\n",
      "13\n",
      "Enter right of  14\n",
      "-1\n",
      "Enter left of  4\n",
      "-1\n",
      "Enter right of  4\n",
      "-1\n",
      "Enter left of  7\n",
      "-1\n",
      "Enter right of  7\n",
      "-1\n",
      "Enter left of  13\n",
      "-1\n",
      "Enter right of  13\n",
      "-1\n",
      "1 14\n"
     ]
    }
   ],
   "source": [
    "root = levelwiseInput()\n",
    "pair = getMinAndMax(root)\n",
    "print(pair.minimum, pair.maximum)"
   ]
  },
  {
   "cell_type": "markdown",
   "id": "7095ab21",
   "metadata": {},
   "source": [
    "#### Print Binary Tree LevelWise (Different Version)"
   ]
  },
  {
   "cell_type": "code",
   "execution_count": 10,
   "id": "e9b726a8",
   "metadata": {},
   "outputs": [],
   "source": [
    "import queue\n",
    "\n",
    "def printLevelwise(root):\n",
    "    \n",
    "    if root is None:\n",
    "        return\n",
    "    \n",
    "    q = queue.Queue()\n",
    "        \n",
    "    curr = root\n",
    "    \n",
    "    q.put(curr)\n",
    "    q.put(None)\n",
    "    \n",
    "    while not q.empty():\n",
    "        \n",
    "        curr = q.get()\n",
    "        \n",
    "        if curr == None and not q.empty():\n",
    "            print()\n",
    "            q.put(None)\n",
    "        elif curr is not None:\n",
    "            print(curr.data,end = ' ')\n",
    "            if curr.left is not None:\n",
    "                q.put(curr.left)\n",
    "            if curr.right is not None:\n",
    "                q.put(curr.right)\n",
    "        elif curr == None and q.empty():\n",
    "            break\n",
    "        "
   ]
  },
  {
   "cell_type": "code",
   "execution_count": 11,
   "id": "373c6e1c",
   "metadata": {},
   "outputs": [
    {
     "name": "stdout",
     "output_type": "stream",
     "text": [
      "Enter root\n",
      "1\n",
      "Enter left of  1\n",
      "2\n",
      "Enter right of  1\n",
      "3\n",
      "Enter left of  2\n",
      "4\n",
      "Enter right of  2\n",
      "5\n",
      "Enter left of  3\n",
      "6\n",
      "Enter right of  3\n",
      "7\n",
      "Enter left of  4\n",
      "-1\n",
      "Enter right of  4\n",
      "-1\n",
      "Enter left of  5\n",
      "-1\n",
      "Enter right of  5\n",
      "-1\n",
      "Enter left of  6\n",
      "-1\n",
      "Enter right of  6\n",
      "-1\n",
      "Enter left of  7\n",
      "-1\n",
      "Enter right of  7\n",
      "-1\n",
      "1 \n",
      "2 3 \n",
      "4 5 6 7 "
     ]
    }
   ],
   "source": [
    "root = levelwiseInput()\n",
    "printLevelwise(root)"
   ]
  },
  {
   "cell_type": "code",
   "execution_count": 21,
   "id": "1f1b58cd",
   "metadata": {},
   "outputs": [],
   "source": [
    "def rootToLeaf(root,k,string):\n",
    "    \n",
    "    if root is None:\n",
    "        return\n",
    "\n",
    "    string = string + str(root.data)\n",
    "    \n",
    "    rootToLeaf(root.left,k-root.data,string)\n",
    "    rootToLeaf(root.right,k-root.data,string)\n",
    "    \n",
    "    if root.left == None and root.right == None:\n",
    "        if root.data == k:\n",
    "            print(string)\n",
    "        return\n",
    "    \n",
    "    return\n",
    "\n",
    "def rootToLeafPathsSumToK(root, k):\n",
    "    string = ''\n",
    "    rootToLeaf(root,k,string)"
   ]
  },
  {
   "cell_type": "code",
   "execution_count": 22,
   "id": "538335c7",
   "metadata": {},
   "outputs": [
    {
     "name": "stdout",
     "output_type": "stream",
     "text": [
      "Enter root\n",
      "2\n",
      "Enter left of  2\n",
      "3\n",
      "Enter right of  2\n",
      "9\n",
      "Enter left of  3\n",
      "4\n",
      "Enter right of  3\n",
      "8\n",
      "Enter left of  9\n",
      "-1\n",
      "Enter right of  9\n",
      "2\n",
      "Enter left of  4\n",
      "4\n",
      "Enter right of  4\n",
      "-1\n",
      "Enter left of  8\n",
      "-1\n",
      "Enter right of  8\n",
      "-1\n",
      "Enter left of  2\n",
      "6\n",
      "Enter right of  2\n",
      "-1\n",
      "Enter left of  4\n",
      "-1\n",
      "Enter right of  4\n",
      "-1\n",
      "Enter left of  6\n",
      "-1\n",
      "Enter right of  6\n",
      "-1\n",
      "2344 4\n",
      "2344\n",
      "238 8\n",
      "238\n",
      "2926 0\n"
     ]
    }
   ],
   "source": [
    "root = levelwiseInput()\n",
    "rootToLeafPathsSumToK(root, 13)"
   ]
  },
  {
   "cell_type": "code",
   "execution_count": 4,
   "id": "c2dd48de",
   "metadata": {},
   "outputs": [],
   "source": [
    "def printnodesatdepth(root,k):\n",
    "    \n",
    "    if root is None:\n",
    "        return\n",
    "    \n",
    "    if k == 0:\n",
    "        print(root.data)\n",
    "        return\n",
    "    \n",
    "    printnodesatdepth(root.left,k-1)\n",
    "    printnodesatdepth(root.right,k-1)"
   ]
  },
  {
   "cell_type": "markdown",
   "id": "bace7951",
   "metadata": {},
   "source": [
    " "
   ]
  },
  {
   "cell_type": "code",
   "execution_count": 9,
   "id": "43c3d363",
   "metadata": {},
   "outputs": [
    {
     "name": "stdout",
     "output_type": "stream",
     "text": [
      "Enter root\n",
      "1\n",
      "Enter left of  1\n",
      "2\n",
      "Enter right of  1\n",
      "3\n",
      "Enter left of  2\n",
      "-1\n",
      "Enter right of  2\n",
      "-1\n",
      "Enter left of  3\n",
      "-1\n",
      "Enter right of  3\n",
      "-1\n"
     ]
    }
   ],
   "source": [
    "root = levelwiseInput()\n",
    "printnodesatdepth(root,2)"
   ]
  },
  {
   "cell_type": "code",
   "execution_count": 10,
   "id": "d39ef5dd",
   "metadata": {},
   "outputs": [],
   "source": [
    "def nodesAtDistanceK(root, node, k) :\n",
    "    \n",
    "    if root is None:\n",
    "        return -1\n",
    "    \n",
    "    if root.data == node:\n",
    "        printnodesatdepth(root,k)\n",
    "        return 0\n",
    "    \n",
    "    ld = nodesAtDistanceK(root.left, node, k)\n",
    "    \n",
    "    if ld == -1:\n",
    "        rd = nodesAtDistanceK(root.right, node, k)\n",
    "    else:\n",
    "        if ld+1 == k:\n",
    "            print(root.data)\n",
    "        else:\n",
    "            printnodesatdepth(root.right,k-ld-2)\n",
    "        return ld+1\n",
    "    \n",
    "    if rd == -1:\n",
    "        return -1\n",
    "    else:\n",
    "        if rd+1 == k:\n",
    "            print(root.data)\n",
    "        else:\n",
    "            printnodesatdepth(root.left,k-rd-2)\n",
    "        return rd+1"
   ]
  },
  {
   "cell_type": "code",
   "execution_count": 11,
   "id": "531ef628",
   "metadata": {
    "scrolled": true
   },
   "outputs": [
    {
     "name": "stdout",
     "output_type": "stream",
     "text": [
      "Enter root\n",
      "3\n",
      "Enter left of  3\n",
      "5\n",
      "Enter right of  3\n",
      "1\n",
      "Enter left of  5\n",
      "6\n",
      "Enter right of  5\n",
      "2\n",
      "Enter left of  1\n",
      "0\n",
      "Enter right of  1\n",
      "8\n",
      "Enter left of  6\n",
      "-1\n",
      "Enter right of  6\n",
      "-1\n",
      "Enter left of  2\n",
      "7\n",
      "Enter right of  2\n",
      "4\n",
      "Enter left of  0\n",
      "-1\n",
      "Enter right of  0\n",
      "-1\n",
      "Enter left of  8\n",
      "-1\n",
      "Enter right of  8\n",
      "-1\n",
      "Enter left of  7\n",
      "-1\n",
      "Enter right of  7\n",
      "-1\n",
      "Enter left of  4\n",
      "-1\n",
      "Enter right of  4\n",
      "-1\n",
      "7\n",
      "4\n",
      "1\n"
     ]
    },
    {
     "data": {
      "text/plain": [
       "1"
      ]
     },
     "execution_count": 11,
     "metadata": {},
     "output_type": "execute_result"
    }
   ],
   "source": [
    "root = levelwiseInput()\n",
    "nodesAtDistanceK(root, 5, 2)"
   ]
  },
  {
   "cell_type": "code",
   "execution_count": null,
   "id": "c430a162",
   "metadata": {},
   "outputs": [],
   "source": []
  }
 ],
 "metadata": {
  "kernelspec": {
   "display_name": "Python 3",
   "language": "python",
   "name": "python3"
  },
  "language_info": {
   "codemirror_mode": {
    "name": "ipython",
    "version": 3
   },
   "file_extension": ".py",
   "mimetype": "text/x-python",
   "name": "python",
   "nbconvert_exporter": "python",
   "pygments_lexer": "ipython3",
   "version": "3.8.8"
  }
 },
 "nbformat": 4,
 "nbformat_minor": 5
}
