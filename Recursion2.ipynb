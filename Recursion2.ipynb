{
 "cells": [
  {
   "cell_type": "markdown",
   "id": "86bf4307",
   "metadata": {},
   "source": [
    "#### Recursion on Strings"
   ]
  },
  {
   "cell_type": "code",
   "execution_count": 13,
   "id": "1a92a0cb",
   "metadata": {},
   "outputs": [
    {
     "name": "stdout",
     "output_type": "stream",
     "text": [
      "d\n",
      "cd\n",
      "xcd\n",
      "dxcd\n",
      "cdxcd\n",
      "acdxcd\n",
      "dacdxcd\n"
     ]
    },
    {
     "data": {
      "text/plain": [
       "'daxdxxd'"
      ]
     },
     "execution_count": 13,
     "metadata": {},
     "output_type": "execute_result"
    }
   ],
   "source": [
    "#Replace a char in string with another char\n",
    "\n",
    "def replaceChar(string,a,b):\n",
    "    if len(string) == 0:\n",
    "        return string\n",
    "    \n",
    "    smallOutput = replaceChar(string[1:],a,b)\n",
    "    print(string)\n",
    "    \n",
    "    if string[0] == a:\n",
    "        return b + smallOutput\n",
    "    else:\n",
    "        return string[0] + smallOutput\n",
    "\n",
    "\n",
    "replaceChar(\"dacdxcd\",'c','x')"
   ]
  },
  {
   "cell_type": "code",
   "execution_count": 16,
   "id": "91140994",
   "metadata": {},
   "outputs": [
    {
     "name": "stdout",
     "output_type": "stream",
     "text": [
      "axxdcxx\n"
     ]
    },
    {
     "data": {
      "text/plain": [
       "'adc'"
      ]
     },
     "execution_count": 16,
     "metadata": {},
     "output_type": "execute_result"
    }
   ],
   "source": [
    "#remove char x from the string\n",
    "\n",
    "def removeX(string):\n",
    "    if len(string) == 0:\n",
    "        return string\n",
    "    \n",
    "    smallOutput = removeX(string[1:])\n",
    "    \n",
    "    if string[0] == 'x':\n",
    "        return smallOutput\n",
    "    else:\n",
    "        return string[0]+smallOutput\n",
    "    \n",
    "string = input()\n",
    "removeX(string)"
   ]
  },
  {
   "cell_type": "code",
   "execution_count": 20,
   "id": "f64db3ac",
   "metadata": {},
   "outputs": [],
   "source": [
    "#Replcase 'pi' with 3.14 in a string\n",
    "\n",
    "def replacePi(s):\n",
    "    l = len(s)\n",
    "    if l == 1 or l == 0:\n",
    "        return s\n",
    "    \n",
    "    \n",
    "    if s[0] == 'p' and s[1] == 'i':\n",
    "        smallOutput = replacePi(s[2:]) \n",
    "        return '3.14' + smallOutput\n",
    "    else:\n",
    "        smallOutput = replacePi(s[1:])\n",
    "        return s[0] + smallOutput"
   ]
  },
  {
   "cell_type": "code",
   "execution_count": 21,
   "id": "9502584a",
   "metadata": {},
   "outputs": [
    {
     "data": {
      "text/plain": [
       "'3.14lop3.14'"
      ]
     },
     "execution_count": 21,
     "metadata": {},
     "output_type": "execute_result"
    }
   ],
   "source": [
    "replacePi('piloppi')"
   ]
  },
  {
   "cell_type": "code",
   "execution_count": 22,
   "id": "201d6965",
   "metadata": {},
   "outputs": [
    {
     "name": "stdout",
     "output_type": "stream",
     "text": [
      "aabbcdff\n",
      "abcdf\n"
     ]
    }
   ],
   "source": [
    "#Remove consecutive duplicates\n",
    "\n",
    "def removeConsecutiveDuplicates(string):\n",
    "    l = len(string)\n",
    "    if l == 0 or l == 1:\n",
    "        return string\n",
    "    \n",
    "    if string[0] == string[1]:\n",
    "        smallOutput = removeConsecutiveDuplicates(string[1:])\n",
    "        return smallOutput\n",
    "    else:\n",
    "        smallOutput = removeConsecutiveDuplicates(string[1:])\n",
    "        return string[0] + smallOutput\n",
    "\n",
    "# Main\n",
    "string = input().strip()\n",
    "print(removeConsecutiveDuplicates(string))"
   ]
  },
  {
   "cell_type": "markdown",
   "id": "631b2eba",
   "metadata": {},
   "source": [
    "#### Binary Search"
   ]
  },
  {
   "cell_type": "code",
   "execution_count": 23,
   "id": "8e0de2ab",
   "metadata": {},
   "outputs": [],
   "source": [
    "def binarySearch(l,x,si,ei):\n",
    "    if si > ei:\n",
    "        return -1\n",
    "    \n",
    "    mid = (si+ei)//2\n",
    "    \n",
    "    if l[mid] == x:\n",
    "        return mid\n",
    "    elif l[mid] > x:\n",
    "        return binarySearch(l,x,si,mid-1)\n",
    "    else:\n",
    "        return binarySearch(l,x,mid+1,ei)"
   ]
  },
  {
   "cell_type": "code",
   "execution_count": 25,
   "id": "8b0ec7d2",
   "metadata": {},
   "outputs": [
    {
     "data": {
      "text/plain": [
       "-1"
      ]
     },
     "execution_count": 25,
     "metadata": {},
     "output_type": "execute_result"
    }
   ],
   "source": [
    "l = [2,3,4,5,6,7,8,9]\n",
    "x = 10\n",
    "si = 0\n",
    "ei = len(l)-1\n",
    "binarySearch(l,x,si,ei)"
   ]
  },
  {
   "cell_type": "markdown",
   "id": "277eba01",
   "metadata": {},
   "source": [
    "### Merge Sort"
   ]
  },
  {
   "cell_type": "code",
   "execution_count": 37,
   "id": "4b6001ae",
   "metadata": {},
   "outputs": [],
   "source": [
    "def merge(s1,s2,l):\n",
    "    i,j,k = 0,0,0\n",
    "    \n",
    "    while i < len(s1) and j < len(s2):\n",
    "        \n",
    "        if s1[i] <= s2[j]:\n",
    "            l[k] = s1[i]\n",
    "            i+=1\n",
    "            \n",
    "        else:\n",
    "            l[k] = s2[j]\n",
    "            j+=1\n",
    "            \n",
    "        k+=1\n",
    "        \n",
    "    while i < len(s1):\n",
    "        l[k] = s1[i]\n",
    "        k+=1\n",
    "        i+=1\n",
    "        \n",
    "    while j < len(s2):\n",
    "        l[k] = s2[j]\n",
    "        k+=1\n",
    "        j+=1\n",
    "    \n",
    "                     \n",
    "\n",
    "def mergeSort(l):\n",
    "    if len(l) == 0 or len(l) == 1:\n",
    "        return\n",
    "    \n",
    "    mid = len(l)//2\n",
    "    \n",
    "    s1 = l[:mid]\n",
    "    s2 = l[mid:]\n",
    "    \n",
    "    mergeSort(s1)\n",
    "    mergeSort(s2)\n",
    "    \n",
    "    merge(s1,s2,l)"
   ]
  },
  {
   "cell_type": "code",
   "execution_count": 38,
   "id": "458ad9ed",
   "metadata": {},
   "outputs": [
    {
     "data": {
      "text/plain": [
       "[0, 1, 2, 3, 4]"
      ]
     },
     "execution_count": 38,
     "metadata": {},
     "output_type": "execute_result"
    }
   ],
   "source": [
    "l = [3,4,2,1,0]\n",
    "mergeSort(l)\n",
    "l"
   ]
  },
  {
   "cell_type": "markdown",
   "id": "8220f176",
   "metadata": {},
   "source": [
    "### Quick Sort"
   ]
  },
  {
   "cell_type": "code",
   "execution_count": 111,
   "id": "209d3e3e",
   "metadata": {},
   "outputs": [],
   "source": [
    "def partition(l,si,ei):\n",
    "    \n",
    "    p = l[si]\n",
    "    i,count = si,0\n",
    "    \n",
    "    while i < ei:\n",
    "        \n",
    "        if l[i] < p:\n",
    "            count+=1\n",
    "            \n",
    "        i+=1\n",
    "            \n",
    "    l[si],l[si+count] = l[si+count],l[si]\n",
    "    \n",
    "    pivot_index = si+count\n",
    "    \n",
    "    i,j = si,ei-1\n",
    "    \n",
    "    while i < j:\n",
    "        \n",
    "        if l[i] < p:\n",
    "            i+=1\n",
    "        elif l[j] >= p:\n",
    "            j-=1\n",
    "        else:\n",
    "            l[i],l[j] = l[j],l[i]\n",
    "            i+=1\n",
    "            j-=1\n",
    "\n",
    "            \n",
    "    return pivot_index\n",
    "\n",
    "\n",
    "def quickSort(l,si,ei):\n",
    "    \n",
    "    #base case\n",
    "    if si >= ei-1:\n",
    "        return\n",
    "    \n",
    "    #I.S.\n",
    "    index = partition(l,si,ei)\n",
    "    \n",
    "    #H.I.\n",
    "    quickSort(l,si,index)\n",
    "    quickSort(l,index+1,ei)\n",
    "    "
   ]
  },
  {
   "cell_type": "code",
   "execution_count": 112,
   "id": "aa4a3969",
   "metadata": {},
   "outputs": [
    {
     "name": "stdout",
     "output_type": "stream",
     "text": [
      "4325 3416 1061 4007 4217 3298 4250 1636 1107 4118 1632 1230 2571 1352 3407 1874 4381 3429 4094 1334 451 2698 986 732 3170 866 4364 1034 960 539 3692 3656 4579 3520 1564 49 297 3871 4215 3457 1830 4332 3995 183 3594 3595 336 2581 628 4109 1367 1726 314 527 3544 4123 2857 2667 1343 4123 1314 3844 3333 1707 2875 770 4703 4139 988 4746 4632 4563 2892 779 4716 1006 4078 1372 2061 414 205 156 2511 4258 3073 2259 950 8 275 3258 1542 1231 3291 1871 1312 3392 914 3049 435 2458 4041 2989 2217 4292 4086 678 4800 4421 491 1996 246 176 3057 2044 4827 397 2120 4342 1988 1862 3924 1786 1719 1348 4876 3721 1744 2763 1763 1355 2287 106 436 4753 1905 4113 2893 4058 2278 3297 2178 195 4677 3784 1031 1260 236 1754 3753 4982 105 2530 1319 143 4984 1367 2390 610 1582 2753 2492 4668 1022 2614 304 4673 1291 1159 3689 2684 2430 3223 3838 1568 4255 2872 3647 3310 2065 4717 1228 1660 965 883 1310 17 4150 4780 1100 2451 4743 908 3074 1072 4538 3699 99 1523 1315 3021 3196 246 4249 4332 4269 2300 4256 2640 113 1948 3075 1337 55 4911 1270 4740 2669 1203 1325 1626 2076 692 2484 1362 1518 122 4028 4277 1024 107 3206 3786 2191 3783 3168 4369 1344 126 4827 1961 2589 4681 4745 1458 4547 3350 3821 30 3913 1156 3756 4686 306 2406 29 3062 267 1459 1391 2720 3701 4414 1664 1330 3454 1366 23 3013 3254 1539 735 4732 710 4505 2803 1106 616 4939 3829 1209 4389 798 924 1931 4053 623 4443 4254 3837 4683 2881 1361 4094 2015 4304 853 976 1031 1277 2449 988 254 2376 2473 2346 2902 4011 2115 4823 4520 1484 2921 1596 1570 2892 217 467 920 3760 3199 2706 468 4023 4259 685 4714 2341 4674 414 955 489 4190 2071 1919 3016 3185 621 4079 4193 3019 4673 2584 761 2918 4771 3744 4895 230 2445 4258 2357 161 3463 2931 766 1207 2892 446 2530 3268 791 889 1032 2146 549 79 2299 1449 2182 466 2523 1181 168 297 4490 1222 4715 973 3186 2684 1742 1068 2582 628 191 3248 1887 2983 746 1426 353 2558 2454 4840 64 1948 3225 3384 997 4781 1713 4457 2051 1178 1598 775 669 540 4870 1098 2134 769 3327 1586 2630 4793 2114 4528 2656 2871 812 3552 4461 2452 1275 1 3749 1516 2141 4057 2008 1231 2700 1402 1490 4435 3594 1607 21 2932 3653 3208 2563 3843 1002 2444 666 3278 2488 2924 4736 4409 3360 2050 2358 1637 4107 1928 3723 2884 3319 2597 2609 3239 4452 3852 3245 108 425 3631 4816 2720 3030 937 1353 2382 4253 4506 203 4115 3740 8 2345 405 794 3374 2343 3618 490 977 4819 268 1741 3751 2957 2736 365 2050 2696 2219 2544 958 3929 662 3350 2030 2280 4174 1367 1952 1730 972 3863 1382 4661 3190 2316 3359 1696 4004 600 4979 4030 4390 2586 3719 840 2497 2437 678 3733 3040 4388 2244 4155 4357 4419 4140 3114 1766 3789 2615 585 2632 4056 1553 4479 1133 4858 1616 1117 4054 4456 3175 737 3049 3719 3616 2677 3744 2040 1846 534 2724 3422 3218 2772 4919 2834 1887 3959 1163 1735 4575 1081 3718 2613 46 3120 1395 248 2185 417 463 2376 1393 3170 2937 4421 4190 770 4994 1929 4337 601 191 444 456 1356 4886 559 167 1854 1767 1047 3984 1884 1671 70 3776 1585 3939 3635 433 453 1404 1679 3481 1136 2720 375 1776 1804 2171 4516 4101 4040 264 1124 1402 844 2387 4754 3701 1614 2583 1311 4165 2637 4981 593 663 2966 1790 3163 1201 1317 3816 4636 3987 4980 2350 4907 515 1601 4949 1383 996 4091 2046 3811 646 2845 1557 3856 2846 2923 4656 211 941 1837 2659 4620 4503 1102 2543 895 3208 1778 1948 2682 2090 814 3643 1464 808 1116 4360 4046 1783 3917 3562 3571 2447 2206 4204 4908 648 3684 4775 4143 4223 963 4970 2752 1082 485 1121 4979 4698 4966 2143 1862 1779 1980 2094 2354 4038 3691 1643 979 4370 4630 2638 2495 4508 825 2720 2135 1148 4609 414 73 851 4846 406 899 551 2418 3785 3081 337 313 3884 4539 3288 1771 4957 3730 3522 3557 3353 871 3301 4575 4033 1238 2999 2716 4249 1778 3940 67 931 3649 3676 3302 3917 1664 1036 2422 3391 2049 4368 1740 2080 2350 771 2403 555 1825 1729 582 2703 2153 1504 4863 2830 1824 3832 319 1101 3168 4972 175 14 3560 1901 4003 1386 1992 3513 3894 904 3841 5 2098 609 404 1235 234 3863 438 3742 1273 2178 3755 3281 1155 4061 1688 188 2065 2418 1058 3607 4146 4374 2150 2663 1605 359 2056 2922 3013 3148 2696 87 3853 2106 2744 4723 2231 3319 4669 1965 1030 2379 2130 3553 1688 3598 3978 1286 1191 2088 4204 924 4884 3697 2271 3876 3125 2020 402 538 4899 1822 3557 3973 1028 4003 4044 742 3693 3903 904 2090 2643 2130 4515 3352 1564 282 4100 2415 802 2911 189 4277 4826 1837 402 3312 4564 4420 340 2586 1019 3758 1744 695 2388 819 2566 943 2220 1454 3051 306 1044 4829 3453 1565 3280 4309 2520 1199 184 \n",
      "1 5 8 8 14 17 21 23 29 30 46 49 55 64 67 70 73 79 87 99 105 106 107 108 113 122 126 143 156 161 167 168 175 176 183 184 188 189 191 191 195 203 205 211 217 230 234 236 246 246 248 254 264 267 268 275 282 297 297 304 306 306 313 314 319 336 337 340 353 359 365 375 397 402 402 404 405 406 414 414 414 417 425 433 435 436 438 444 446 451 453 456 463 466 467 468 485 489 490 491 515 527 534 538 539 540 549 551 555 559 582 585 593 600 601 609 610 616 621 623 628 628 646 648 662 663 666 669 678 678 685 692 695 710 732 735 737 742 746 761 766 769 770 770 771 775 779 791 794 798 802 808 812 814 819 825 840 844 851 853 866 871 883 889 895 899 904 904 908 914 920 924 924 931 937 941 943 950 955 958 960 963 965 972 973 976 977 979 986 988 988 996 997 1002 1006 1019 1022 1024 1028 1030 1031 1031 1032 1034 1036 1044 1047 1058 1061 1068 1072 1081 1082 1098 1100 1101 1102 1106 1107 1116 1117 1121 1124 1133 1136 1148 1155 1156 1159 1163 1178 1181 1191 1199 1201 1203 1207 1209 1222 1228 1230 1231 1231 1235 1238 1260 1270 1273 1275 1277 1286 1291 1310 1311 1312 1314 1315 1317 1319 1325 1330 1334 1337 1343 1344 1348 1352 1353 1355 1356 1361 1362 1366 1367 1367 1367 1372 1382 1383 1386 1391 1393 1395 1402 1402 1404 1426 1449 1454 1458 1459 1464 1484 1490 1504 1516 1518 1523 1539 1542 1553 1557 1564 1564 1565 1568 1570 1582 1585 1586 1596 1598 1601 1605 1607 1614 1616 1626 1632 1636 1637 1643 1660 1664 1664 1671 1679 1688 1688 1696 1707 1713 1719 1726 1729 1730 1735 1740 1741 1742 1744 1744 1754 1763 1766 1767 1771 1776 1778 1778 1779 1783 1786 1790 1804 1822 1824 1825 1830 1837 1837 1846 1854 1862 1862 1871 1874 1884 1887 1887 1901 1905 1919 1928 1929 1931 1948 1948 1948 1952 1961 1965 1980 1988 1992 1996 2008 2015 2020 2030 2040 2044 2046 2049 2050 2050 2051 2056 2061 2065 2065 2071 2076 2080 2088 2090 2090 2094 2098 2106 2114 2115 2120 2130 2130 2134 2135 2141 2143 2146 2150 2153 2171 2178 2178 2182 2185 2191 2206 2217 2219 2220 2231 2244 2259 2271 2278 2280 2287 2299 2300 2316 2341 2343 2345 2346 2350 2350 2354 2357 2358 2376 2376 2379 2382 2387 2388 2390 2403 2406 2415 2418 2418 2422 2430 2437 2444 2445 2447 2449 2451 2452 2454 2458 2473 2484 2488 2492 2495 2497 2511 2520 2523 2530 2530 2543 2544 2558 2563 2566 2571 2581 2582 2583 2584 2586 2586 2589 2597 2609 2613 2614 2615 2630 2632 2637 2638 2640 2643 2656 2659 2663 2667 2669 2677 2682 2684 2684 2696 2696 2698 2700 2703 2706 2716 2720 2720 2720 2720 2724 2736 2744 2752 2753 2763 2772 2803 2830 2834 2845 2846 2857 2871 2872 2875 2881 2884 2892 2892 2892 2893 2902 2911 2918 2921 2922 2923 2924 2931 2932 2937 2957 2966 2983 2989 2999 3013 3013 3016 3019 3021 3030 3040 3049 3049 3051 3057 3062 3073 3074 3075 3081 3114 3120 3125 3148 3163 3168 3168 3170 3170 3175 3185 3186 3190 3196 3199 3206 3208 3208 3218 3223 3225 3239 3245 3248 3254 3258 3268 3278 3280 3281 3288 3291 3297 3298 3301 3302 3310 3312 3319 3319 3327 3333 3350 3350 3352 3353 3359 3360 3374 3384 3391 3392 3407 3416 3422 3429 3453 3454 3457 3463 3481 3513 3520 3522 3544 3552 3553 3557 3557 3560 3562 3571 3594 3594 3595 3598 3607 3616 3618 3631 3635 3643 3647 3649 3653 3656 3676 3684 3689 3691 3692 3693 3697 3699 3701 3701 3718 3719 3719 3721 3723 3730 3733 3740 3742 3744 3744 3749 3751 3753 3755 3756 3758 3760 3776 3783 3784 3785 3786 3789 3811 3816 3821 3829 3832 3837 3838 3841 3843 3844 3852 3853 3856 3863 3863 3871 3876 3884 3894 3903 3913 3917 3917 3924 3929 3939 3940 3959 3973 3978 3984 3987 3995 4003 4003 4004 4007 4011 4023 4028 4030 4033 4038 4040 4041 4044 4046 4053 4054 4056 4057 4058 4061 4078 4079 4086 4091 4094 4094 4100 4101 4107 4109 4113 4115 4118 4123 4123 4139 4140 4143 4146 4150 4155 4165 4174 4190 4190 4193 4204 4204 4215 4217 4223 4249 4249 4250 4253 4254 4255 4256 4258 4258 4259 4269 4277 4277 4292 4304 4309 4325 4332 4332 4337 4342 4357 4360 4364 4368 4369 4370 4374 4381 4388 4389 4390 4409 4414 4419 4420 4421 4421 4435 4443 4452 4456 4457 4461 4479 4490 4503 4505 4506 4508 4515 4516 4520 4528 4538 4539 4547 4563 4564 4575 4575 4579 4609 4620 4630 4632 4636 4656 4661 4668 4669 4673 4673 4674 4677 4681 4683 4686 4698 4703 4714 4715 4716 4717 4723 4732 4736 4740 4743 4745 4746 4753 4754 4771 4775 4780 4781 4793 4800 4816 4819 4823 4826 4827 4827 4829 4840 4846 4858 4863 4870 4876 4884 4886 4895 4899 4907 4908 4911 4919 4939 4949 4957 4966 4970 4972 4979 4979 4980 4981 4982 4984 4994\n"
     ]
    }
   ],
   "source": [
    "arr=list(int(i) for i in input().strip().split(' '))\n",
    "quickSort(arr, 0, len(arr))\n",
    "print(*arr)"
   ]
  },
  {
   "cell_type": "code",
   "execution_count": 117,
   "id": "e4cf5f4a",
   "metadata": {},
   "outputs": [
    {
     "name": "stdout",
     "output_type": "stream",
     "text": [
      "4\n",
      "move 1st disc from  a to  b\n",
      "move  2 th disc from  a to  c\n",
      "move 1st disc from  b to  c\n",
      "move  3 th disc from  a to  b\n",
      "move 1st disc from  c to  a\n",
      "move  2 th disc from  c to  b\n",
      "move 1st disc from  a to  b\n",
      "move  4 th disc from  a to  c\n",
      "move 1st disc from  b to  c\n",
      "move  2 th disc from  b to  a\n",
      "move 1st disc from  c to  a\n",
      "move  3 th disc from  b to  c\n",
      "move 1st disc from  a to  b\n",
      "move  2 th disc from  a to  c\n",
      "move 1st disc from  b to  c\n"
     ]
    }
   ],
   "source": [
    "#Tower of Hanoi\n",
    "\n",
    "def towerofhanoi(n, source, aux, dest):\n",
    "    #base case\n",
    "    if n == 1:\n",
    "        print('move 1st disc from ',source,'to ',dest)\n",
    "        return\n",
    "        \n",
    "    #H.I.\n",
    "    towerofhanoi(n-1,source,dest,aux)\n",
    "    \n",
    "    print('move ',n,'th disc from ',source,'to ',dest)\n",
    "    \n",
    "    towerofhanoi(n-1,aux,source,dest)\n",
    "\n",
    "    \n",
    "\n",
    "n=int(input())\n",
    "towerofhanoi(n, 'a', 'b', 'c')"
   ]
  },
  {
   "cell_type": "markdown",
   "id": "ea36b18d",
   "metadata": {},
   "source": [
    "### Assignment Questions"
   ]
  },
  {
   "cell_type": "code",
   "execution_count": 122,
   "id": "44490d19",
   "metadata": {},
   "outputs": [
    {
     "name": "stdout",
     "output_type": "stream",
     "text": [
      "5\n",
      "1.96875\n"
     ]
    }
   ],
   "source": [
    "#Geometric Sum (1+1/2+1/4+1/(2^k))\n",
    "\n",
    "def geoSum(k):\n",
    "    \n",
    "    #base case\n",
    "    if k == 0:\n",
    "        return 1\n",
    "    \n",
    "    return 1+(1/2)*(geoSum(k-1))\n",
    "\n",
    "k = int(input())\n",
    "print(format(geoSum(k),'.5f'))"
   ]
  },
  {
   "cell_type": "code",
   "execution_count": 124,
   "id": "4a4feeb0",
   "metadata": {},
   "outputs": [
    {
     "name": "stdout",
     "output_type": "stream",
     "text": [
      "string\n",
      "false\n"
     ]
    }
   ],
   "source": [
    "#check Palindrome\n",
    "\n",
    "def checkPal(string,si,ei):\n",
    "    if si >= ei:\n",
    "        return True\n",
    "    \n",
    "    if string[si] == string[ei]:\n",
    "        return checkPal(string,si+1,ei-1)\n",
    "    else:\n",
    "        return False\n",
    "\n",
    "string = input()\n",
    "if checkPal(string,0,len(string)-1):\n",
    "    print('true')\n",
    "else:\n",
    "    print('false')"
   ]
  },
  {
   "cell_type": "code",
   "execution_count": 126,
   "id": "368a576b",
   "metadata": {},
   "outputs": [
    {
     "name": "stdout",
     "output_type": "stream",
     "text": [
      "12345\n",
      "15\n"
     ]
    }
   ],
   "source": [
    "#Sum of digits\n",
    "\n",
    "def sumD(n):\n",
    "    \n",
    "    #base case\n",
    "    if n%10 == 0:\n",
    "        return 0\n",
    "    \n",
    "    d = n%10\n",
    "    return d + sumD(n//10)\n",
    "\n",
    "n = int(input())\n",
    "print(sumD(n))"
   ]
  },
  {
   "cell_type": "code",
   "execution_count": 128,
   "id": "49bfc9ac",
   "metadata": {},
   "outputs": [
    {
     "name": "stdout",
     "output_type": "stream",
     "text": [
      "3\n",
      "5\n",
      "15\n"
     ]
    }
   ],
   "source": [
    "#multiplication\n",
    "\n",
    "def multi(m,n):\n",
    "    \n",
    "    #base case:\n",
    "    if m == 0 or n == 0:\n",
    "        return 0\n",
    "    \n",
    "    return m + multi(m,n-1)\n",
    "\n",
    "m = int(input())\n",
    "n = int(input())\n",
    "print(multi(m,n))"
   ]
  },
  {
   "cell_type": "code",
   "execution_count": 139,
   "id": "76de155f",
   "metadata": {},
   "outputs": [
    {
     "name": "stdout",
     "output_type": "stream",
     "text": [
      "0\n",
      "1\n"
     ]
    }
   ],
   "source": [
    "#count zeroes\n",
    "\n",
    "def count0(n):\n",
    "    \n",
    "    #base case\n",
    "    #when n = 0\n",
    "    if n == 0:\n",
    "        return 1\n",
    "    #to terminate recursion for cases like 00700\n",
    "    if n%10 != 0 and n//10 == 0:\n",
    "        return 0\n",
    "\n",
    "    \n",
    "    if n%10 != 0:\n",
    "        return count0(n//10)\n",
    "    else:\n",
    "        return 1 + count0(n//10)\n",
    "\n",
    "n = int(input())\n",
    "print(count0(n))"
   ]
  },
  {
   "cell_type": "code",
   "execution_count": 149,
   "id": "5d8fb9ef",
   "metadata": {},
   "outputs": [
    {
     "name": "stdout",
     "output_type": "stream",
     "text": [
      "45\n",
      "5\n",
      "45\n"
     ]
    }
   ],
   "source": [
    "#convert string to integer\n",
    "\n",
    "def convStr(s,si):\n",
    "    \n",
    "    #base case\n",
    "    if si == len(s)-1:\n",
    "        return int(s[si])\n",
    "    \n",
    "    num = int(s[si])*10**(len(s)-si-1) + convStr(s,si+1)\n",
    "    \n",
    "    return num\n",
    "    \n",
    "    \n",
    "\n",
    "s = input()\n",
    "print(convStr(s,0))"
   ]
  },
  {
   "cell_type": "code",
   "execution_count": 153,
   "id": "c940a9b2",
   "metadata": {},
   "outputs": [
    {
     "name": "stdout",
     "output_type": "stream",
     "text": [
      "aaaa\n",
      "a*a*a*a\n"
     ]
    }
   ],
   "source": [
    "#add star between same consecutive letters in a string\n",
    "\n",
    "def pairStar(s,si):\n",
    "    \n",
    "    #base case\n",
    "    if si == len(s)-1:\n",
    "        return s[si]\n",
    "    \n",
    "    #H.I\n",
    "    if s[si] == s[si+1]:\n",
    "        return s[si] + '*' + pairStar(s,si+1)\n",
    "    else:\n",
    "        return s[si] + pairStar(s,si+1)\n",
    "\n",
    "\n",
    "string = input()\n",
    "print(pairStar(string,0))"
   ]
  },
  {
   "cell_type": "code",
   "execution_count": 159,
   "id": "0c886ed8",
   "metadata": {},
   "outputs": [
    {
     "name": "stdout",
     "output_type": "stream",
     "text": [
      "abb\n",
      "true\n"
     ]
    }
   ],
   "source": [
    "#Check a. The string begins with an 'a'\n",
    "#b. Each 'a' is followed by nothing or an 'a' or \"bb\"\n",
    "#c. Each \"bb\" is followed by nothing or an 'a'\n",
    "\n",
    "def checkab(s,si):\n",
    "    \n",
    "    #base case\n",
    "    if si > len(s) - 1:\n",
    "        return True\n",
    "    \n",
    "    if s[0] != 'a':\n",
    "        return False\n",
    "    \n",
    "    \n",
    "    \n",
    "    #H.I. and I.S.\n",
    "    if s[si] == 'a':\n",
    "        return checkab(s,si+1)\n",
    "    \n",
    "    elif s[si] == 'b' and s[si+1] == 'b':\n",
    "        return checkab(s,si+2)\n",
    "    \n",
    "    else:\n",
    "        return False\n",
    "\n",
    "\n",
    "\n",
    "string = input()\n",
    "if checkab(string,0):\n",
    "    print('true')\n",
    "else:\n",
    "    print('false')"
   ]
  },
  {
   "cell_type": "code",
   "execution_count": 160,
   "id": "f50033b5",
   "metadata": {},
   "outputs": [
    {
     "name": "stdout",
     "output_type": "stream",
     "text": [
      "4\n"
     ]
    },
    {
     "data": {
      "text/plain": [
       "7"
      ]
     },
     "execution_count": 160,
     "metadata": {},
     "output_type": "execute_result"
    }
   ],
   "source": [
    "def sc(n):\n",
    "    #base case\n",
    "    if n < 0:\n",
    "        return 0\n",
    "    \n",
    "    if n == 0:\n",
    "        return 1\n",
    "    \n",
    "    w = sc(n-1) + sc(n-2) + sc(n-3)\n",
    "    \n",
    "    return w\n",
    "        \n",
    "n = int(input())\n",
    "sc(n)"
   ]
  },
  {
   "cell_type": "code",
   "execution_count": null,
   "id": "4e33c6e2",
   "metadata": {},
   "outputs": [],
   "source": []
  }
 ],
 "metadata": {
  "kernelspec": {
   "display_name": "Python 3",
   "language": "python",
   "name": "python3"
  },
  "language_info": {
   "codemirror_mode": {
    "name": "ipython",
    "version": 3
   },
   "file_extension": ".py",
   "mimetype": "text/x-python",
   "name": "python",
   "nbconvert_exporter": "python",
   "pygments_lexer": "ipython3",
   "version": "3.8.8"
  }
 },
 "nbformat": 4,
 "nbformat_minor": 5
}
