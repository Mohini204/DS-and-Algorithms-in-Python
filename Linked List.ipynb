{
 "cells": [
  {
   "cell_type": "markdown",
   "id": "9f4556c5",
   "metadata": {},
   "source": [
    "### Introduction"
   ]
  },
  {
   "cell_type": "code",
   "execution_count": 7,
   "id": "77acfc28",
   "metadata": {},
   "outputs": [
    {
     "name": "stdout",
     "output_type": "stream",
     "text": [
      "<__main__.Node object at 0x0000023226604F70>\n",
      "<__main__.Node object at 0x0000023226604F70>\n",
      "13\n",
      "15\n",
      "15\n"
     ]
    }
   ],
   "source": [
    "class Node1:\n",
    "    \n",
    "    def __init__(self,data):\n",
    "        self.data = data\n",
    "        self.next = None\n",
    "        \n",
    "a = Node(13)\n",
    "b = Node(15)\n",
    "a.next = b\n",
    "print(a.next)\n",
    "print(b)\n",
    "print(a.data)\n",
    "print(b.data)\n",
    "print(a.next.data)"
   ]
  },
  {
   "cell_type": "markdown",
   "id": "a7e47fb3",
   "metadata": {},
   "source": [
    "#### Taking Input \n",
    "\n",
    "The following is the first method to take input and is not at all efficient with time complexity being O(n^2).\n",
    "This method basically explains traversing through a linked list."
   ]
  },
  {
   "cell_type": "code",
   "execution_count": 55,
   "id": "f2fbdb9e",
   "metadata": {},
   "outputs": [],
   "source": [
    "#1st method to take input\n",
    "\n",
    "class Node:\n",
    "    \n",
    "    def __init__(self,data):\n",
    "        self.data = data\n",
    "        self.next = None\n",
    "        \n",
    "        \n",
    "def printLL(head):\n",
    "        \n",
    "    while head is not None:\n",
    "            \n",
    "        print(str(head.data) + ' -->',end=' ')\n",
    "        head = head.next\n",
    "        \n",
    "    print('None')\n",
    "    return\n",
    "            \n",
    "def takeInput():\n",
    "        \n",
    "    inputList = [int(x) for x in input().split()]\n",
    "        #toggle point is if head is not None that means more elements are already there\n",
    "    head = None #(in case there is no element in the linked list)\n",
    "        \n",
    "    for currdata in inputList:\n",
    "        if currdata == -1:\n",
    "            break\n",
    "                \n",
    "        newNode = Node(currdata)\n",
    "            \n",
    "            \n",
    "            #following if block should only be for the 1st node\n",
    "        if head is None:\n",
    "            head = newNode\n",
    "        else:\n",
    "            curr = head\n",
    "            while curr.next is not None:\n",
    "                curr = curr.next\n",
    "                #as soon as curr.next = None, i.e we reached the last ele of the list which needs to be connected\n",
    "            curr.next = newNode\n",
    "                \n",
    "    return head\n"
   ]
  },
  {
   "cell_type": "code",
   "execution_count": 48,
   "id": "eaff2976",
   "metadata": {},
   "outputs": [
    {
     "name": "stdout",
     "output_type": "stream",
     "text": [
      "\n",
      "None\n"
     ]
    }
   ],
   "source": [
    "head = takeInput() #this is main method's head\n",
    "printLL(head) \n",
    "\n",
    "\n",
    "#as soon as printLL is called, printLL.head = reference of the first ele in the list we passed in takeInput()\n",
    "#so if we call printLL again, it will print the entire LL again since head that is passed is local variable to printLL\n",
    "#and head = takeInput()- this head is local to main function\n",
    "#concept of immutability of variables"
   ]
  },
  {
   "cell_type": "markdown",
   "id": "64e6bf4d",
   "metadata": {},
   "source": [
    "#### Method 2 of taking input\n",
    "\n",
    "This method has time complexity of O(n), better than the 1st method. Here we keep the reference of last element that has been inserted in the list so that traversing the entire list is not required.\n",
    "\n",
    "The following code block also has questions:  1) Finding the length of LL  2) Finding element at the ith position  3) Inserting a new element at the ith position"
   ]
  },
  {
   "cell_type": "code",
   "execution_count": 135,
   "id": "b98721be",
   "metadata": {},
   "outputs": [],
   "source": [
    "class Node:\n",
    "    \n",
    "    def __init__(self,data):\n",
    "        self.data = data\n",
    "        self.next = None\n",
    "        \n",
    "\n",
    "def takeInput1():\n",
    "        \n",
    "    inputList = [int(x) for x in input().split()]\n",
    "        #toggle point is if head is not None that means more elements are already there\n",
    "    head = None #(in case there is no element in the linked list)\n",
    "        \n",
    "    for currdata in inputList:\n",
    "        if currdata == -1:\n",
    "            break\n",
    "                \n",
    "        newNode = Node(currdata)\n",
    "            \n",
    "            \n",
    "            #following if block should only be for the 1st node\n",
    "        if head is None:\n",
    "            head = newNode\n",
    "            #curr = newNode is also correct\n",
    "            curr = head\n",
    "        else:\n",
    "            curr.next = newNode\n",
    "            #curr = newNode is also correct\n",
    "            curr = curr.next\n",
    "                \n",
    "    return head\n",
    "\n",
    "#Finding the length of the LL\n",
    "\n",
    "def length(head):\n",
    "    \n",
    "    count=0\n",
    "    \n",
    "    while head is not None:\n",
    "        \n",
    "        count+=1\n",
    "        head = head.next\n",
    "        \n",
    "    return count\n",
    "\n",
    "#printing ith position node\n",
    "\n",
    "def printIthNode(head, i):\n",
    "    \n",
    "    #count is -1 so that when the first element is encountered, count i.e. the index starts from 0\n",
    "    count=-1\n",
    "    \n",
    "    while head is not None:\n",
    "        \n",
    "        count+=1\n",
    "        \n",
    "        if count == i:\n",
    "            print(head.data)\n",
    "            \n",
    "        head = head.next    \n",
    "\n",
    "#insert an element at the ith position        \n",
    "        \n",
    "def position(head,i,data):\n",
    "    \n",
    "    if i<0 or i>length(head):\n",
    "        return head\n",
    "    \n",
    "    count = 0\n",
    "    curr = head\n",
    "    prev = None\n",
    "    \n",
    "    while count<i: #as soon as count=i, the inner block will not run and count will remain as per the index\n",
    "        prev = curr\n",
    "        curr = curr.next\n",
    "        count+=1    \n",
    "        \n",
    "    #now we have reached the ith position\n",
    "    newNode = Node(data)\n",
    "    #for cases where ith position is the 1st one in the LL\n",
    "    if prev is not None:\n",
    "        prev.next = newNode\n",
    "    else:\n",
    "        head = newNode\n",
    "    newNode.next = curr\n",
    "    \n",
    "    \n",
    "    return head\n",
    "   "
   ]
  },
  {
   "cell_type": "code",
   "execution_count": 134,
   "id": "412ba748",
   "metadata": {
    "scrolled": true
   },
   "outputs": [
    {
     "name": "stdout",
     "output_type": "stream",
     "text": [
      "1 2 3 4 5 -1\n",
      "1 --> 2 --> 3 --> 4 --> 5 --> None\n",
      "5\n",
      "1 --> 2 --> 3 --> 4 --> 5 --> 6 --> None\n",
      "9 --> 1 --> 2 --> 3 --> 4 --> 5 --> 6 --> None\n",
      "9 --> 1 --> 2 --> 7 --> 3 --> 4 --> 5 --> 6 --> None\n"
     ]
    }
   ],
   "source": [
    "head = takeInput1()\n",
    "printLL(head)\n",
    "#print(length(head))\n",
    "printIthNode(head, 4)\n",
    "head = position(head,5,6)\n",
    "printLL(head)\n",
    "head = position(head,0,9)\n",
    "printLL(head)\n",
    "head = position(head,3,7)\n",
    "printLL(head)"
   ]
  },
  {
   "cell_type": "code",
   "execution_count": 157,
   "id": "5724e5ca",
   "metadata": {},
   "outputs": [],
   "source": [
    "#delete a node in a LL\n",
    "\n",
    "def deleteNode(head, pos) :\n",
    "    \n",
    "    if pos<0 or pos>=length(head):\n",
    "        return head\n",
    "    \n",
    "    count = 0\n",
    "    prev = None\n",
    "    curr = head\n",
    "    \n",
    "    while count<pos:\n",
    "        prev = curr\n",
    "        curr = curr.next\n",
    "        count+=1\n",
    "        \n",
    "    if prev is None:\n",
    "        head = curr.next\n",
    "    else:\n",
    "        prev.next = curr.next\n",
    "        \n",
    "    return head"
   ]
  },
  {
   "cell_type": "code",
   "execution_count": 158,
   "id": "1fd871d5",
   "metadata": {},
   "outputs": [
    {
     "name": "stdout",
     "output_type": "stream",
     "text": [
      "1 2 3 4 -1\n",
      "1 --> 2 --> 4 --> None\n"
     ]
    }
   ],
   "source": [
    "head = takeInput1()\n",
    "head = deleteNode(head, 2)\n",
    "printLL(head)"
   ]
  },
  {
   "cell_type": "code",
   "execution_count": 140,
   "id": "b968b39c",
   "metadata": {},
   "outputs": [],
   "source": [
    "#Find the length of the LL recursively\n",
    "\n",
    "def lengthrec(head):\n",
    "    \n",
    "    if head is None:\n",
    "        return 0\n",
    "    \n",
    "    if head is not None:\n",
    "        return 1 + lengthrec(head.next)"
   ]
  },
  {
   "cell_type": "code",
   "execution_count": 141,
   "id": "8d56098d",
   "metadata": {},
   "outputs": [
    {
     "name": "stdout",
     "output_type": "stream",
     "text": [
      "1 2 3 4 -1\n",
      "4\n"
     ]
    }
   ],
   "source": [
    "head = takeInput1()\n",
    "print(lengthrec(head))"
   ]
  },
  {
   "cell_type": "code",
   "execution_count": 150,
   "id": "5010e501",
   "metadata": {},
   "outputs": [],
   "source": [
    "#Insert node at ith position recursively\n",
    "\n",
    "def insertRec(head,i,data):\n",
    "\n",
    "    if i<0:\n",
    "        return head \n",
    "    \n",
    "    if i == 0:\n",
    "        newNode = Node(data)\n",
    "        newNode.next = head\n",
    "        #newNode will be returned as the head from the smallest sub problem\n",
    "        return newNode\n",
    "    \n",
    "    #this base case is here so that we can insert element at the end of the list\n",
    "    if head is None:\n",
    "        return None    \n",
    "      \n",
    "    else:\n",
    "        smallhead = insertRec(head.next,(i-1),data)\n",
    "        #head.next will be updated when subproblems will recursively return the smallhead\n",
    "        head.next = smallhead\n",
    "        return head"
   ]
  },
  {
   "cell_type": "code",
   "execution_count": 152,
   "id": "b2def861",
   "metadata": {},
   "outputs": [
    {
     "name": "stdout",
     "output_type": "stream",
     "text": [
      "1 2 3 4 -1\n",
      "1 --> 2 --> 3 --> 4 --> None\n"
     ]
    }
   ],
   "source": [
    "head = takeInput1()\n",
    "head = insertRec(head,5,9)\n",
    "printLL(head)"
   ]
  },
  {
   "cell_type": "code",
   "execution_count": 153,
   "id": "6f9b7269",
   "metadata": {},
   "outputs": [],
   "source": [
    "#Delete node recursively\n",
    "\n",
    "def deleteNodeRec(head, pos) :\n",
    "    \n",
    "    if pos<0:\n",
    "        return head\n",
    "    \n",
    "    if head is None:\n",
    "        return None\n",
    "    \n",
    "    if pos == 0:\n",
    "        head = head.next\n",
    "        return head\n",
    "    smallhead = deleteNodeRec(head.next, pos-1)\n",
    "    head.next = smallhead\n",
    "    return head"
   ]
  },
  {
   "cell_type": "code",
   "execution_count": 156,
   "id": "98f3acb7",
   "metadata": {},
   "outputs": [
    {
     "name": "stdout",
     "output_type": "stream",
     "text": [
      "1 2 3 4 -1\n",
      "1 --> 2 --> 3 --> 4 --> None\n"
     ]
    }
   ],
   "source": [
    "head = takeInput1()\n",
    "head = deleteNodeRec(head, 4)\n",
    "printLL(head)"
   ]
  },
  {
   "cell_type": "markdown",
   "id": "4b949fa2",
   "metadata": {},
   "source": [
    "### Assignment Questions"
   ]
  },
  {
   "cell_type": "code",
   "execution_count": 162,
   "id": "1005f561",
   "metadata": {},
   "outputs": [],
   "source": [
    "#Find a node in the LL\n",
    "\n",
    "def findNode(head, n) :\n",
    "    \n",
    "    count = 0\n",
    "    \n",
    "    while head is not None:\n",
    "        \n",
    "        if head.data == n:\n",
    "            return count\n",
    "        \n",
    "        count+=1\n",
    "        head = head.next\n",
    "        \n",
    "    return -1"
   ]
  },
  {
   "cell_type": "code",
   "execution_count": 164,
   "id": "fcee8f25",
   "metadata": {},
   "outputs": [
    {
     "name": "stdout",
     "output_type": "stream",
     "text": [
      "1 2 5 6 -1\n",
      "3\n"
     ]
    }
   ],
   "source": [
    "head = takeInput1()\n",
    "print(findNode(head, 6))"
   ]
  },
  {
   "cell_type": "code",
   "execution_count": 176,
   "id": "5e65071b",
   "metadata": {},
   "outputs": [],
   "source": [
    "def length(head):\n",
    "    \n",
    "    count = 0\n",
    "    \n",
    "    while head is not None:\n",
    "        count+=1\n",
    "        head = head.next\n",
    "        \n",
    "    return count\n",
    "\n",
    "def appendLastNToFirst(head, n) :\n",
    "    \n",
    "    index = length(head)-n\n",
    "    #print('index ',index)\n",
    "    tail = head\n",
    "    #print('head ',head.data,'tail',tail.data)\n",
    "    \n",
    "    while tail.next is not None:\n",
    "        \n",
    "        tail = tail.next\n",
    "        \n",
    "    #print('tail ',tail.data)\n",
    "        \n",
    "    for i in range(index):\n",
    "        tail.next = head\n",
    "        tail = tail.next\n",
    "        head = head.next\n",
    "        \n",
    "    tail.next = None\n",
    "        \n",
    "    return head\n",
    "    "
   ]
  },
  {
   "cell_type": "code",
   "execution_count": 178,
   "id": "06e9e63f",
   "metadata": {},
   "outputs": [
    {
     "name": "stdout",
     "output_type": "stream",
     "text": [
      "1 2 3 4 5 -1\n",
      "index  2\n",
      "head  1 tail 1\n",
      "tail  5\n",
      "3 --> 4 --> 5 --> 1 --> 2 --> None\n"
     ]
    }
   ],
   "source": [
    "head = takeInput1()\n",
    "head = appendLastNToFirst(head, 3)\n",
    "printLL(head)"
   ]
  },
  {
   "cell_type": "code",
   "execution_count": 189,
   "id": "d2908048",
   "metadata": {},
   "outputs": [],
   "source": [
    "#Remove consecutive duplicates in a sorted linked list\n",
    "\n",
    "def removeDuplicates(head) :\n",
    "    \n",
    "    head1 = head\n",
    "    head2 = head.next\n",
    "    \n",
    "    while head2 is not None:\n",
    "        \n",
    "        if head1.data == head2.data:\n",
    "                \n",
    "            head1.next = head2.next\n",
    "            head2 = head2.next\n",
    "            \n",
    "        else:\n",
    "            head1 = head1.next\n",
    "            head2 = head2.next\n",
    "            \n",
    "    return head"
   ]
  },
  {
   "cell_type": "code",
   "execution_count": 192,
   "id": "a244bbde",
   "metadata": {},
   "outputs": [
    {
     "name": "stdout",
     "output_type": "stream",
     "text": [
      "3 3 3 3 3 -1\n",
      "3 --> None\n"
     ]
    }
   ],
   "source": [
    "head = takeInput1()\n",
    "head = removeDuplicates(head)\n",
    "printLL(head)"
   ]
  },
  {
   "cell_type": "code",
   "execution_count": 239,
   "id": "d71a5801",
   "metadata": {},
   "outputs": [],
   "source": [
    "#print linked list in reverse - horrible method O(n^2) time complexity\n",
    "\n",
    "def printReverse(head) :\n",
    "    \n",
    "    if length(head) == 0:\n",
    "        return\n",
    "\n",
    "    \n",
    "    for count in range(length(head)):\n",
    "        \n",
    "        head1 = head\n",
    "        i = 0\n",
    "        \n",
    "        for i in range(length(head)-count):\n",
    "            \n",
    "            if i == length(head)-count-1:\n",
    "                print(head1.data, end=' ')\n",
    "            \n",
    "            head1 = head1.next\n",
    "        \n",
    "            "
   ]
  },
  {
   "cell_type": "code",
   "execution_count": 240,
   "id": "5df1ffaf",
   "metadata": {},
   "outputs": [
    {
     "name": "stdout",
     "output_type": "stream",
     "text": [
      "1 2 3 4 -1\n",
      "4 3 2 1 "
     ]
    }
   ],
   "source": [
    "head = takeInput1()\n",
    "printReverse(head)"
   ]
  },
  {
   "cell_type": "code",
   "execution_count": 244,
   "id": "17f762b1",
   "metadata": {},
   "outputs": [],
   "source": [
    "#print linked list in reverse (code made by me) - O(n) time complexity\n",
    "\n",
    "def printReverse(head) :\n",
    "    \n",
    "    if length(head) == 0:\n",
    "        return\n",
    "\n",
    "    if head is None:\n",
    "        return None\n",
    "    \n",
    "    smallhead = printReverse(head.next)\n",
    "    \n",
    "    if head is None:\n",
    "        return smallhead\n",
    "    else:\n",
    "        return print(head.data,end=' ')"
   ]
  },
  {
   "cell_type": "code",
   "execution_count": 245,
   "id": "137f040d",
   "metadata": {},
   "outputs": [
    {
     "name": "stdout",
     "output_type": "stream",
     "text": [
      "1 2 3 4 -1\n",
      "4 3 2 1 "
     ]
    }
   ],
   "source": [
    "head = takeInput1()\n",
    "printReverse(head)"
   ]
  },
  {
   "cell_type": "code",
   "execution_count": 340,
   "id": "444c1600",
   "metadata": {},
   "outputs": [],
   "source": [
    "#print linked list in reverse (code by Coding Ninjas TA) - O(n) time complexity - less complex\n",
    "\n",
    "def printReverse(head) :\n",
    "\n",
    "    if head is None:\n",
    "        return head\n",
    "    \n",
    "    printReverse(head.next)\n",
    "    print(head.data,end=' ')\n",
    "    \n",
    "    #return head"
   ]
  },
  {
   "cell_type": "code",
   "execution_count": 341,
   "id": "82548584",
   "metadata": {},
   "outputs": [
    {
     "name": "stdout",
     "output_type": "stream",
     "text": [
      "1 2 3 -1\n",
      "3 2 1 "
     ]
    }
   ],
   "source": [
    "head = takeInput1()\n",
    "printReverse(head)"
   ]
  },
  {
   "cell_type": "code",
   "execution_count": 389,
   "id": "b618b49e",
   "metadata": {},
   "outputs": [],
   "source": [
    "def ReverseLL(head):\n",
    "    \n",
    "    if head.next is None or head is None:\n",
    "        return head\n",
    "    \n",
    "    smallhead = ReverseLL(head.next)\n",
    "    \n",
    "    printLL(head)\n",
    "    head.next.next = head\n",
    "    head.next = None\n",
    "    printLL(smallhead)\n",
    "    printLL(head)\n",
    "    \n",
    "    return smallhead\n",
    "    "
   ]
  },
  {
   "cell_type": "code",
   "execution_count": 390,
   "id": "21b4da86",
   "metadata": {},
   "outputs": [
    {
     "name": "stdout",
     "output_type": "stream",
     "text": [
      "1 2 3 4 5 -1\n",
      "head  5\n",
      "4 --> 5 --> None\n",
      "5 --> 4 --> None\n",
      "4 --> None\n",
      "3 --> 4 --> None\n",
      "5 --> 4 --> 3 --> None\n",
      "3 --> None\n",
      "2 --> 3 --> None\n",
      "5 --> 4 --> 3 --> 2 --> None\n",
      "2 --> None\n",
      "1 --> 2 --> None\n",
      "5 --> 4 --> 3 --> 2 --> 1 --> None\n",
      "1 --> None\n",
      "5 --> 4 --> 3 --> 2 --> 1 --> None\n"
     ]
    }
   ],
   "source": [
    "head = takeInput1()\n",
    "head = ReverseLL(head)\n",
    "printLL(head)"
   ]
  },
  {
   "cell_type": "code",
   "execution_count": null,
   "id": "0ecd05ba",
   "metadata": {},
   "outputs": [],
   "source": [
    "#Palindrome linked list\n",
    "\n",
    "def isPalindrome(head) :\n",
    "    \n",
    "    head1 = head\n",
    "    head2 = None\n",
    "    \n",
    "    if length(head)%2 == 0:\n",
    "        l1 = length(head)//2\n",
    "    else:\n",
    "        l1 = length(head)//2+1\n",
    "        \n",
    "    for i in range(l1):\n",
    "        \n",
    "        if i == l1-1:\n",
    "            head2 = head.next\n",
    "            head.next = None\n",
    "            \n",
    "        head = head.next\n",
    "        \n",
    "    head2 = ReverseLL(head2)\n",
    "    \n",
    "    printLL(head1)\n",
    "    printLL(head2)\n",
    "    \n",
    "    i=0\n",
    "    \n",
    "    while i<l1:\n",
    "        \n",
    "        if head2.next is None:\n",
    "            return True\n",
    "        \n",
    "        if head1.data != head2.data:\n",
    "            return False\n",
    "        \n",
    "        head1 = head1.next\n",
    "        head2 = head2.next\n",
    "        i+=1\n",
    "    \n",
    "    return True"
   ]
  },
  {
   "cell_type": "code",
   "execution_count": 335,
   "id": "6ae98bff",
   "metadata": {
    "scrolled": true
   },
   "outputs": [
    {
     "name": "stdout",
     "output_type": "stream",
     "text": [
      "1 2 3 2 1 -1\n",
      "1 --> 2 --> 3 --> None\n",
      "1 --> 2 --> None\n",
      "head1.data  1\n",
      "head2.data  1\n",
      "head1.data  2\n",
      "head2.data  2\n",
      "True\n"
     ]
    }
   ],
   "source": [
    "head = takeInput1()\n",
    "print(isPalindrome(head))"
   ]
  },
  {
   "cell_type": "code",
   "execution_count": 369,
   "id": "53e3366b",
   "metadata": {},
   "outputs": [],
   "source": [
    "#Reverse LL CN brilliant method - iterative\n",
    "\n",
    "def revcn(head):\n",
    "    \n",
    "    curr = head \n",
    "    fwd = None\n",
    "    prev = None\n",
    "    \n",
    "    while curr is not None:\n",
    "        \n",
    "        fwd = curr.next\n",
    "        curr.next = prev\n",
    "        prev = curr\n",
    "        curr = fwd\n",
    "        \n",
    "    return prev"
   ]
  },
  {
   "cell_type": "code",
   "execution_count": null,
   "id": "796030a4",
   "metadata": {},
   "outputs": [],
   "source": []
  }
 ],
 "metadata": {
  "kernelspec": {
   "display_name": "Python 3",
   "language": "python",
   "name": "python3"
  },
  "language_info": {
   "codemirror_mode": {
    "name": "ipython",
    "version": 3
   },
   "file_extension": ".py",
   "mimetype": "text/x-python",
   "name": "python",
   "nbconvert_exporter": "python",
   "pygments_lexer": "ipython3",
   "version": "3.8.8"
  }
 },
 "nbformat": 4,
 "nbformat_minor": 5
}
