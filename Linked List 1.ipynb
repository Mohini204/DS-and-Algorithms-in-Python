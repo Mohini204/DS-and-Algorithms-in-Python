{
 "cells": [
  {
   "cell_type": "markdown",
   "id": "7887c0f6",
   "metadata": {},
   "source": [
    "### Reversing a Linked List"
   ]
  },
  {
   "cell_type": "code",
   "execution_count": 9,
   "id": "c48e5014",
   "metadata": {},
   "outputs": [],
   "source": [
    "#Node class and all the basic methods\n",
    "\n",
    "class Node:\n",
    "    \n",
    "    def __init__(self, data):\n",
    "        \n",
    "        self.data = data\n",
    "        self.next = None\n",
    "\n",
    "\n",
    "def takeInput():\n",
    "    \n",
    "    inputlist = [int(x) for x in input().split()]\n",
    "    head = None\n",
    "    \n",
    "    for currdata in inputlist:\n",
    "        if currdata == -1:\n",
    "            break\n",
    "            \n",
    "        newNode = Node(currdata)\n",
    "        \n",
    "        if head is None:\n",
    "            head = newNode\n",
    "            curr = head\n",
    "        else:\n",
    "            curr.next= newNode\n",
    "            curr = curr.next\n",
    "            \n",
    "    return head\n",
    "\n",
    "def printLL(head):\n",
    "    \n",
    "    while head is not None:\n",
    "        \n",
    "        print(str(head.data) + ' -->',end=' ')\n",
    "        head = head.next\n",
    "        \n",
    "    print(None)\n",
    "    return"
   ]
  },
  {
   "cell_type": "markdown",
   "id": "6129b406",
   "metadata": {},
   "source": [
    "#### Reversing the LL - method1\n",
    "\n",
    "1) We traverse the reversed part from the recursion to reach the tail\n",
    "2) Then add 1st node to the tail and remove link/ref of the 2nd node in the head by replacing with None\n",
    "3) Horrible time complexity of O(n^2)"
   ]
  },
  {
   "cell_type": "code",
   "execution_count": 10,
   "id": "fe8a995b",
   "metadata": {},
   "outputs": [],
   "source": [
    "def reversell1(head):\n",
    "    \n",
    "    if head is None or head.next is None:\n",
    "        return head\n",
    "    \n",
    "    smallhead = reversell1(head.next)\n",
    "    \n",
    "    curr = smallhead\n",
    "    \n",
    "    while curr.next is not None:\n",
    "        curr = curr.next\n",
    "    \n",
    "    curr.next = head\n",
    "    head.next = None\n",
    "    \n",
    "    return smallhead"
   ]
  },
  {
   "cell_type": "code",
   "execution_count": 11,
   "id": "d632e98d",
   "metadata": {
    "scrolled": true
   },
   "outputs": [
    {
     "name": "stdout",
     "output_type": "stream",
     "text": [
      "1 2 3 -1\n",
      "1 --> 2 --> 3 --> None\n",
      "3 --> 2 --> 1 --> None\n"
     ]
    }
   ],
   "source": [
    "head = takeInput()\n",
    "printLL(head)\n",
    "head = reversell1(head)\n",
    "printLL(head)"
   ]
  },
  {
   "cell_type": "code",
   "execution_count": 42,
   "id": "113647ed",
   "metadata": {},
   "outputs": [],
   "source": [
    "def length(head):\n",
    "    \n",
    "    count = 0\n",
    "    \n",
    "    while head is not None:\n",
    "        \n",
    "        count+=1\n",
    "        head = head.next\n",
    "        \n",
    "    return count"
   ]
  },
  {
   "cell_type": "markdown",
   "id": "38705a75",
   "metadata": {},
   "source": [
    "#### Reversing the LL - method2\n",
    "\n",
    "1) We pass the tail in this one which will be the head itself of the previous recursion stack\n",
    "2) This has time complexity of O(n)."
   ]
  },
  {
   "cell_type": "code",
   "execution_count": 56,
   "id": "d7caa07b",
   "metadata": {},
   "outputs": [],
   "source": [
    "def reversell2(head):\n",
    "    \n",
    "    if head is None or head.next is None:\n",
    "        return head,head\n",
    "    \n",
    "    smallhead,tail = reversell2(head.next)\n",
    "    \n",
    "    tail.next = head\n",
    "    head.next = None\n",
    "    \n",
    "    return smallhead,head"
   ]
  },
  {
   "cell_type": "code",
   "execution_count": 58,
   "id": "acc97fac",
   "metadata": {},
   "outputs": [
    {
     "name": "stdout",
     "output_type": "stream",
     "text": [
      "1 2 3 4 -1\n",
      "1 --> 2 --> 3 --> 4 --> None\n",
      "4 --> 3 --> 2 --> 1 --> None\n"
     ]
    }
   ],
   "source": [
    "head = takeInput()\n",
    "printLL(head)\n",
    "head,tail = reversell2(head)\n",
    "printLL(head)"
   ]
  },
  {
   "cell_type": "markdown",
   "id": "db3c44c9",
   "metadata": {},
   "source": [
    "#### Reversing the LL - method3 - Most Favorite!\n",
    "\n",
    "1) This is a brilliant approach :)\n",
    "2) The tail was with us all along, head.next is the last node in the reversed LL returned from recursion; head.next.next will be None which needs to be replaced by head and then head.next will be made None.\n",
    "3) Time complexity is O(n)."
   ]
  },
  {
   "cell_type": "code",
   "execution_count": 59,
   "id": "f0071d1a",
   "metadata": {},
   "outputs": [],
   "source": [
    "def reversell3(head):\n",
    "    \n",
    "    if head is None or head.next is None:\n",
    "        return head\n",
    "    \n",
    "    smallhead = reversell3(head.next)\n",
    "    \n",
    "    head.next.next = head\n",
    "    head.next = None\n",
    "    \n",
    "    return smallhead"
   ]
  },
  {
   "cell_type": "code",
   "execution_count": 60,
   "id": "60d278df",
   "metadata": {},
   "outputs": [
    {
     "name": "stdout",
     "output_type": "stream",
     "text": [
      "1 2 3 4 -1\n",
      "1 --> 2 --> 3 --> 4 --> None\n",
      "4 --> 3 --> 2 --> 1 --> None\n"
     ]
    }
   ],
   "source": [
    "head = takeInput()\n",
    "printLL(head)\n",
    "head = reversell3(head)\n",
    "printLL(head)"
   ]
  },
  {
   "cell_type": "code",
   "execution_count": 65,
   "id": "362e5dca",
   "metadata": {},
   "outputs": [],
   "source": [
    "#Iterative approach - equally elegant :)\n",
    "\n",
    "def reversell4(head):\n",
    "    \n",
    "    curr = head\n",
    "    fwd = None\n",
    "    prev = None\n",
    "    \n",
    "    while curr is not None:\n",
    "        \n",
    "        fwd = curr.next #to maintain next of curr\n",
    "        curr.next = prev #to point the curr to prev (for 1st node it will be None)\n",
    "        prev = curr\n",
    "        curr = fwd\n",
    "    \n",
    "    return prev"
   ]
  },
  {
   "cell_type": "code",
   "execution_count": 66,
   "id": "8bf82a47",
   "metadata": {
    "scrolled": true
   },
   "outputs": [
    {
     "name": "stdout",
     "output_type": "stream",
     "text": [
      "1 2 3 -1\n",
      "1 --> 2 --> 3 --> None\n",
      "3 --> 2 --> 1 --> None\n"
     ]
    }
   ],
   "source": [
    "head = takeInput()\n",
    "printLL(head)\n",
    "head = reversell4(head)\n",
    "printLL(head)"
   ]
  },
  {
   "cell_type": "markdown",
   "id": "2618aed7",
   "metadata": {},
   "source": [
    "#### Mid-point of Linked List in One Iteration"
   ]
  },
  {
   "cell_type": "code",
   "execution_count": 78,
   "id": "008a2e00",
   "metadata": {},
   "outputs": [],
   "source": [
    "def midpoint(head):\n",
    "    \n",
    "    slow = head\n",
    "    fast = head\n",
    "    \n",
    "    while fast.next is not None and fast.next.next is not None:\n",
    "        \n",
    "        fast = fast.next.next\n",
    "        slow = slow.next\n",
    "        \n",
    "    return slow.data"
   ]
  },
  {
   "cell_type": "code",
   "execution_count": 79,
   "id": "a5d28ec8",
   "metadata": {},
   "outputs": [
    {
     "name": "stdout",
     "output_type": "stream",
     "text": [
      "1 2 3 4 -1\n",
      "1 --> 2 --> 3 --> 4 --> None\n",
      "2\n"
     ]
    }
   ],
   "source": [
    "head = takeInput()\n",
    "printLL(head)\n",
    "print(midpoint(head))"
   ]
  },
  {
   "cell_type": "markdown",
   "id": "cf3b6155",
   "metadata": {},
   "source": [
    "#### Merge Two sorted Linked Lists"
   ]
  },
  {
   "cell_type": "code",
   "execution_count": 141,
   "id": "79369d24",
   "metadata": {},
   "outputs": [],
   "source": [
    "def twosorted(h1,h2):\n",
    "    \n",
    "    fh = None\n",
    "    ft = None\n",
    "    \n",
    "    \n",
    "    while h1 is not None and h2 is not None:\n",
    "        \n",
    "        \n",
    "        if h1.data <= h2.data:\n",
    "        \n",
    "            if fh is None:\n",
    "                fh = h1\n",
    "                ft = fh\n",
    "            else:\n",
    "                ft.next = h1\n",
    "                ft = ft.next\n",
    "            h1 = h1.next\n",
    "        \n",
    "        else:\n",
    "        \n",
    "            if fh is None:\n",
    "                fh = h2\n",
    "                ft = fh\n",
    "            else:\n",
    "                ft.next = h2\n",
    "                ft = ft.next\n",
    "            h2 = h2.next\n",
    "            \n",
    "         \n",
    "        \n",
    "            \n",
    "    if h1 is not None:\n",
    "        \n",
    "        ft = fh\n",
    "        while ft.next is not None:\n",
    "            ft = ft.next\n",
    "        ft.next = h1\n",
    "        \n",
    "    if h2 is not None:\n",
    "        \n",
    "        ft = fh        \n",
    "        while ft.next is not None:\n",
    "            ft = ft.next        \n",
    "        ft.next = h2\n",
    "\n",
    "      \n",
    "    return fh "
   ]
  },
  {
   "cell_type": "code",
   "execution_count": 143,
   "id": "5bb58e19",
   "metadata": {},
   "outputs": [
    {
     "name": "stdout",
     "output_type": "stream",
     "text": [
      "10 40 60 60 80 -1\n",
      "10 20 30 40 50 60 90 100 -1\n",
      "10 --> 40 --> 60 --> 60 --> 80 --> None\n",
      "10 --> 20 --> 30 --> 40 --> 50 --> 60 --> 90 --> 100 --> None\n",
      "here\n",
      "80 --> 90 --> 100 --> None\n",
      "10 --> 10 --> 20 --> 30 --> 40 --> 40 --> 50 --> 60 --> 60 --> 60 --> 80 --> 90 --> 100 --> None\n"
     ]
    }
   ],
   "source": [
    "head1 = takeInput()\n",
    "head2 = takeInput()\n",
    "printLL(head1)\n",
    "printLL(head2)\n",
    "head = twosorted(head1,head2)\n",
    "printLL(head)"
   ]
  },
  {
   "cell_type": "markdown",
   "id": "e8523e9a",
   "metadata": {},
   "source": [
    "#### Merge Sort"
   ]
  },
  {
   "cell_type": "code",
   "execution_count": 202,
   "id": "2a423fd5",
   "metadata": {},
   "outputs": [],
   "source": [
    "def merging(h1,h2):\n",
    "    \n",
    "    fh = None\n",
    "    ft = None\n",
    "    \n",
    "    while h1 is not None and h2 is not None:\n",
    "        \n",
    "        if h1.data <= h2.data:\n",
    "            \n",
    "            if fh is None:\n",
    "                fh = h1\n",
    "                ft = h1\n",
    "            else:\n",
    "                ft.next = h1\n",
    "                ft = ft.next\n",
    "            h1 = h1.next\n",
    "            \n",
    "        else:\n",
    "            \n",
    "            if fh is None:\n",
    "                fh = h2\n",
    "                ft = fh\n",
    "            else:\n",
    "                ft.next = h2\n",
    "                ft = ft.next\n",
    "            h2 = h2.next\n",
    "        \n",
    "    if h1 is not None:\n",
    "            \n",
    "        ft = fh             \n",
    "        while ft.next is not None:\n",
    "            ft = ft.next                \n",
    "        ft.next = h1\n",
    "            \n",
    "    if h2 is not None:\n",
    "            \n",
    "        ft = fh \n",
    "        while ft.next is not None:\n",
    "            ft = ft.next                \n",
    "        ft.next = h2\n",
    "        \n",
    "    return fh\n",
    "\n",
    "\n",
    "def mergesort(head):\n",
    "    \n",
    "    if head.next is None:\n",
    "        return head\n",
    "    \n",
    "    #find midpoint\n",
    "    slow, fast = head,head\n",
    "    \n",
    "    while fast.next is not None and fast.next.next is not None:\n",
    "        \n",
    "        fast = fast.next.next\n",
    "        slow = slow.next\n",
    "    \n",
    "    head2 = slow.next\n",
    "    slow.next = None    \n",
    "    head1 = head\n",
    "    \n",
    "    \n",
    "    head1 = mergesort(head1)\n",
    "    head2 = mergesort(head2)\n",
    "    \n",
    "    head = merging(head1,head2)\n",
    "    \n",
    "    return head"
   ]
  },
  {
   "cell_type": "code",
   "execution_count": 203,
   "id": "fd548852",
   "metadata": {
    "scrolled": true
   },
   "outputs": [
    {
     "name": "stdout",
     "output_type": "stream",
     "text": [
      "6 7 2 3 4 1 -1\n",
      "1 --> 2 --> 3 --> 4 --> 6 --> 7 --> None\n"
     ]
    }
   ],
   "source": [
    "head = takeInput()\n",
    "head = mergesort(head)\n",
    "printLL(head)"
   ]
  },
  {
   "cell_type": "markdown",
   "id": "4f4a76bd",
   "metadata": {},
   "source": [
    "### Assignment Questions"
   ]
  },
  {
   "cell_type": "markdown",
   "id": "0b263fd3",
   "metadata": {},
   "source": [
    "#### Find a Node - Recursive"
   ]
  },
  {
   "cell_type": "code",
   "execution_count": 212,
   "id": "f6b6d894",
   "metadata": {},
   "outputs": [],
   "source": [
    "def findNodeRec(head, n) :\n",
    "    \n",
    "    if head is None:\n",
    "        return -1\n",
    "    \n",
    "    if head.data == n:\n",
    "        return 0\n",
    "    \n",
    "    smallhead = findNodeRec(head.next, n)\n",
    "    \n",
    "    if smallhead == -1:\n",
    "        return -1\n",
    "    else:\n",
    "        return smallhead + 1"
   ]
  },
  {
   "cell_type": "code",
   "execution_count": 213,
   "id": "e7c96bda",
   "metadata": {},
   "outputs": [
    {
     "name": "stdout",
     "output_type": "stream",
     "text": [
      "41 20 13 12 34 29 40 32 1 42 29 -1\n",
      "7\n",
      "-1\n"
     ]
    }
   ],
   "source": [
    "head = takeInput()\n",
    "n = int(input())\n",
    "print(findNodeRec(head, n))"
   ]
  },
  {
   "cell_type": "markdown",
   "id": "6297d202",
   "metadata": {},
   "source": [
    "#### Even After Odd in LL"
   ]
  },
  {
   "cell_type": "code",
   "execution_count": 230,
   "id": "6765775a",
   "metadata": {},
   "outputs": [],
   "source": [
    "def evenAfterOdd(head) :\n",
    "    \n",
    "    oddh,oddt,evenh,event = None,None,None,None\n",
    "    \n",
    "    while head is not None:\n",
    "      \n",
    "        if head.data%2 != 0:\n",
    "            \n",
    "            if oddh is None:\n",
    "                oddh = head\n",
    "                oddt = head\n",
    "            else:\n",
    "                oddt.next = head\n",
    "                oddt = oddt.next\n",
    "            head = head.next\n",
    "        \n",
    "        else:\n",
    "            \n",
    "            if evenh is None:\n",
    "                evenh = head\n",
    "                event = head\n",
    "            else:\n",
    "                event.next = head\n",
    "                event = event.next\n",
    "            head = head.next\n",
    "        \n",
    "    if oddh is None:\n",
    "        event.next = None\n",
    "        return evenh\n",
    "    \n",
    "    elif evenh is None:\n",
    "        oddt.next = None\n",
    "        return oddh\n",
    "    \n",
    "    oddt.next = None\n",
    "    event.next = None\n",
    "    \n",
    "    oddt.next = evenh\n",
    "            \n",
    "    return oddh"
   ]
  },
  {
   "cell_type": "code",
   "execution_count": 231,
   "id": "1199c62f",
   "metadata": {},
   "outputs": [
    {
     "name": "stdout",
     "output_type": "stream",
     "text": [
      "1 4 5 2 -1\n",
      "4 --> 5 --> 2 --> None\n",
      "4 --> 2 --> None\n",
      "1 --> 5 --> 4 --> 2 --> None\n"
     ]
    }
   ],
   "source": [
    "head = takeInput()\n",
    "head = evenAfterOdd(head)\n",
    "printLL(head)"
   ]
  },
  {
   "cell_type": "markdown",
   "id": "72880c9d",
   "metadata": {},
   "source": [
    "#### Delete every N nodes"
   ]
  },
  {
   "cell_type": "code",
   "execution_count": 272,
   "id": "26a4ad79",
   "metadata": {},
   "outputs": [],
   "source": [
    "def skipMdeleteN(head, M, N) :\n",
    "    \n",
    "    if M == 0:\n",
    "        return \n",
    "    \n",
    "    if N == 0:\n",
    "        return head\n",
    "    \n",
    "    curr = head\n",
    "    countM,countN = 0,0\n",
    "    \n",
    "    while curr is not None:\n",
    "        \n",
    "        countM = 1\n",
    "        while countM < M and curr is not None:\n",
    "            countM+=1\n",
    "            curr = curr.next\n",
    "            \n",
    "        connM = curr\n",
    "        countN = 0\n",
    "        \n",
    "        while countN<N and curr is not None:\n",
    "            countN+=1\n",
    "            connM.next = connM.next.next\n",
    "            curr = curr.next\n",
    "            #printLL(head)\n",
    "        \n",
    "    return head\n",
    "            "
   ]
  },
  {
   "cell_type": "code",
   "execution_count": 271,
   "id": "f77c4d7b",
   "metadata": {},
   "outputs": [
    {
     "name": "stdout",
     "output_type": "stream",
     "text": [
      "1 2 3 4 5 6 7 8 -1\n",
      "curr.data  2\n",
      "1 --> 2 --> 4 --> 5 --> 6 --> 7 --> 8 --> None\n",
      "1 --> 2 --> 5 --> 6 --> 7 --> 8 --> None\n",
      "1 --> 2 --> 6 --> 7 --> 8 --> None\n",
      "curr.data  7\n",
      "1 --> 2 --> 6 --> 7 --> None\n",
      "1 --> 2 --> 6 --> 7 --> None\n"
     ]
    }
   ],
   "source": [
    "head = takeInput()\n",
    "head = skipMdeleteN(head, 2, 3)\n",
    "printLL(head)"
   ]
  },
  {
   "cell_type": "markdown",
   "id": "e71a34ea",
   "metadata": {},
   "source": [
    "#### Swap two Nodes"
   ]
  },
  {
   "cell_type": "code",
   "execution_count": 305,
   "id": "f4babb31",
   "metadata": {},
   "outputs": [],
   "source": [
    "#i can be > than j, since I had made the solution before checking the TCs,\n",
    "#did a small manipulation to run all the TCs successfully :) \n",
    "\n",
    "def swapNodes(head, i, j) :\n",
    "    \n",
    "    #that small manipulation\n",
    "    if i>j:\n",
    "        temp = i\n",
    "        i = j\n",
    "        j = temp\n",
    "    \n",
    "    prev1,prev2,swap1,swap2,next1,next2 = None,None,None,None,None,None\n",
    "    curr = head\n",
    "    count = 0\n",
    "    \n",
    "    while count<i-1 and curr is not None:\n",
    "        curr = curr.next\n",
    "        count+=1\n",
    "    \n",
    "    #if i = 0 i.e. head, prev value cannot be stored, hence the condition\n",
    "    if i != 0:\n",
    "        prev1 = curr\n",
    "        swap1 = curr.next\n",
    "        next1 = curr.next.next\n",
    "    \n",
    "    while count<j-1 and curr is not None:\n",
    "        curr = curr.next\n",
    "        count+=1\n",
    "        \n",
    "    prev2 = curr\n",
    "    swap2 = curr.next\n",
    "    next2 = curr.next.next\n",
    "    \n",
    "    #if first node to be swapped is head\n",
    "    if i == 0:\n",
    "        swap1 = head\n",
    "        swap2.next = swap1.next\n",
    "        prev2.next = swap1\n",
    "        swap1.next = next2\n",
    "        return swap2\n",
    "    \n",
    "    #if nodes are consecutive\n",
    "    if i+1==j:\n",
    "        prev1.next = swap2\n",
    "        swap2.next = swap1\n",
    "        swap1.next = next2\n",
    "        return head\n",
    "    \n",
    "    else:\n",
    "        prev1.next = swap2\n",
    "        prev2.next = swap1\n",
    "        swap1.next = next2\n",
    "        swap2.next = next1\n",
    "    \n",
    "    \n",
    "    return head"
   ]
  },
  {
   "cell_type": "code",
   "execution_count": 307,
   "id": "340cb9f3",
   "metadata": {},
   "outputs": [
    {
     "name": "stdout",
     "output_type": "stream",
     "text": [
      "3 4 5 6 7 8 9 -1\n",
      "3 --> 4 --> 5 --> 7 --> 6 --> 8 --> 9 --> None\n"
     ]
    }
   ],
   "source": [
    "head = takeInput()\n",
    "head = swapNodes(head, 4, 3)\n",
    "printLL(head)"
   ]
  },
  {
   "cell_type": "markdown",
   "id": "476f299b",
   "metadata": {},
   "source": [
    "#### kReverse"
   ]
  },
  {
   "cell_type": "code",
   "execution_count": 359,
   "id": "9a0c4c4b",
   "metadata": {},
   "outputs": [],
   "source": [
    "def kReverse(head, k) :\n",
    "    \n",
    "    curr,count = head,1\n",
    "    while curr is not None and count<k:\n",
    "        count+=1\n",
    "        curr = curr.next\n",
    "        \n",
    "    finalhead = curr\n",
    "    \n",
    "    curr = head\n",
    "    count = 0\n",
    "    prev = None\n",
    "    tail = None\n",
    "    \n",
    "    while curr is not None:\n",
    "        \n",
    "        prevtail = tail\n",
    "        tail = curr\n",
    "        count = 0\n",
    "        nextprev = prev\n",
    "        prev = None\n",
    "        fwd = None\n",
    "        \n",
    "        while count<k and curr is not None:\n",
    "            fwd = curr.next\n",
    "            curr.next = prev\n",
    "            prev = curr\n",
    "            curr = fwd\n",
    "            \n",
    "            count+=1\n",
    "            \n",
    "        if prevtail is not None:    \n",
    "            prevtail.next = prev\n",
    "        \n",
    "    return finalhead"
   ]
  },
  {
   "cell_type": "code",
   "execution_count": 360,
   "id": "66a01816",
   "metadata": {},
   "outputs": [
    {
     "name": "stdout",
     "output_type": "stream",
     "text": [
      "1 2 3 4 5 6 7 8 9 10 -1\n",
      "fhead  4\n",
      "4 --> 3 --> 2 --> 1 --> None\n",
      "ptail  1 prev  8\n",
      "8 --> 7 --> 6 --> 5 --> None\n",
      "ptail  5 prev  10\n",
      "10 --> 9 --> None\n",
      "4 --> 3 --> 2 --> 1 --> 8 --> 7 --> 6 --> 5 --> 10 --> 9 --> None\n"
     ]
    }
   ],
   "source": [
    "head = takeInput()\n",
    "head = kReverse(head, 4)\n",
    "printLL(head)"
   ]
  },
  {
   "cell_type": "markdown",
   "id": "338e1f27",
   "metadata": {},
   "source": [
    "#### Bubble Sort (Iterative)"
   ]
  },
  {
   "cell_type": "code",
   "execution_count": 446,
   "id": "5ca2b7d0",
   "metadata": {},
   "outputs": [],
   "source": [
    "def bubbleSort(head):\n",
    "    \n",
    "    count = 0\n",
    "    curr = head\n",
    "    while curr is not None:\n",
    "        count+=1\n",
    "        curr = curr.next\n",
    "    \n",
    "    curr = head\n",
    "        \n",
    "    for i in range(count):\n",
    "        \n",
    "        curr = head\n",
    "        prev = None\n",
    "        fwd = curr.next\n",
    "        \n",
    "        \n",
    "        for j in range(count-i-1):\n",
    "            \n",
    "            if curr.data>fwd.data:\n",
    "                if prev is not None:\n",
    "                    prev.next = fwd\n",
    "                else:\n",
    "                    head = fwd\n",
    "                curr.next = fwd.next\n",
    "                fwd.next = curr\n",
    "                \n",
    "                prev = fwd\n",
    "                fwd = curr.next\n",
    "                \n",
    "            else:    \n",
    "                prev = curr\n",
    "                curr = fwd\n",
    "                fwd = curr.next\n",
    "        \n",
    "    return head"
   ]
  },
  {
   "cell_type": "code",
   "execution_count": 447,
   "id": "8cd7cd6f",
   "metadata": {},
   "outputs": [
    {
     "name": "stdout",
     "output_type": "stream",
     "text": [
      "7 6 5 4 3 2 1 -1\n",
      "1 --> 2 --> 3 --> 4 --> 5 --> 6 --> 7 --> None\n"
     ]
    }
   ],
   "source": [
    "head = takeInput()\n",
    "head = bubbleSort(head)\n",
    "printLL(head)"
   ]
  },
  {
   "cell_type": "code",
   "execution_count": 1,
   "id": "25216b0a",
   "metadata": {},
   "outputs": [
    {
     "data": {
      "text/plain": [
       "1"
      ]
     },
     "execution_count": 1,
     "metadata": {},
     "output_type": "execute_result"
    }
   ],
   "source": [
    "#Add Two Numbers Leetcode\n",
    "\n",
    "def addNums(l1,l2):\n",
    "    \n",
    "    dhead = Node(0)\n",
    "    curr = dhead\n",
    "    c = 0\n",
    "    \n",
    "    while l1 or l2 or c: #if any of them are alive and not None or 0\n",
    "        \n",
    "        l1val = l1.data if l1 else 0\n",
    "        l2val = l2.data if l2 else 0\n",
    "        sums = l1val + l2val + c\n",
    "        c = sums//10\n",
    "        newNode = Node(sums%10)\n",
    "        curr.next = newNode\n",
    "        curr = newNode\n",
    "        \n",
    "        l1 = l1.next if l1 else None\n",
    "        l2 = l2.next if l2 else None\n",
    "        \n",
    "    return dhead.next"
   ]
  },
  {
   "cell_type": "code",
   "execution_count": null,
   "id": "fe97c361",
   "metadata": {},
   "outputs": [],
   "source": []
  }
 ],
 "metadata": {
  "kernelspec": {
   "display_name": "Python 3",
   "language": "python",
   "name": "python3"
  },
  "language_info": {
   "codemirror_mode": {
    "name": "ipython",
    "version": 3
   },
   "file_extension": ".py",
   "mimetype": "text/x-python",
   "name": "python",
   "nbconvert_exporter": "python",
   "pygments_lexer": "ipython3",
   "version": "3.8.8"
  }
 },
 "nbformat": 4,
 "nbformat_minor": 5
}
