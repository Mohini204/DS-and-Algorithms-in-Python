{
 "cells": [
  {
   "cell_type": "markdown",
   "id": "6ef0ca35",
   "metadata": {},
   "source": [
    "#### Dictionary Intro"
   ]
  },
  {
   "cell_type": "code",
   "execution_count": 2,
   "id": "8dca203c",
   "metadata": {},
   "outputs": [
    {
     "name": "stdout",
     "output_type": "stream",
     "text": [
      "{'the': 1, 'a': 5, 100: 'random'}\n"
     ]
    }
   ],
   "source": [
    "d = {'the':1, 'a':5, 100:'random'}\n",
    "print(d)"
   ]
  },
  {
   "cell_type": "code",
   "execution_count": 3,
   "id": "56dd6c6f",
   "metadata": {},
   "outputs": [
    {
     "name": "stdout",
     "output_type": "stream",
     "text": [
      "{'the': 1, 'a': 5, 100: 'random'}\n"
     ]
    }
   ],
   "source": [
    "b = d.copy()\n",
    "print(b)"
   ]
  },
  {
   "cell_type": "code",
   "execution_count": 7,
   "id": "9978bcbd",
   "metadata": {},
   "outputs": [
    {
     "name": "stdout",
     "output_type": "stream",
     "text": [
      "{'a': 100, 'b': 40}\n"
     ]
    }
   ],
   "source": [
    "l = [('a',100),('b',40)]\n",
    "ld = dict(l)\n",
    "print(ld)"
   ]
  },
  {
   "cell_type": "code",
   "execution_count": 8,
   "id": "5191ad15",
   "metadata": {},
   "outputs": [],
   "source": [
    "d = dict.fromkeys([1,2,5,6],['the','t2'])"
   ]
  },
  {
   "cell_type": "code",
   "execution_count": 9,
   "id": "9870d8ee",
   "metadata": {},
   "outputs": [
    {
     "name": "stdout",
     "output_type": "stream",
     "text": [
      "{1: ['the', 't2'], 2: ['the', 't2'], 5: ['the', 't2'], 6: ['the', 't2']}\n"
     ]
    }
   ],
   "source": [
    "print(d)"
   ]
  },
  {
   "cell_type": "markdown",
   "id": "972dd130",
   "metadata": {},
   "source": [
    "#### Accessing Data Using Inbuilt Functions"
   ]
  },
  {
   "cell_type": "code",
   "execution_count": 10,
   "id": "8eace195",
   "metadata": {},
   "outputs": [
    {
     "data": {
      "text/plain": [
       "['the', 't2']"
      ]
     },
     "execution_count": 10,
     "metadata": {},
     "output_type": "execute_result"
    }
   ],
   "source": [
    "d[5]"
   ]
  },
  {
   "cell_type": "code",
   "execution_count": 12,
   "id": "32c3caae",
   "metadata": {},
   "outputs": [
    {
     "data": {
      "text/plain": [
       "['the', 't2']"
      ]
     },
     "execution_count": 12,
     "metadata": {},
     "output_type": "execute_result"
    }
   ],
   "source": [
    "d.get(5)"
   ]
  },
  {
   "cell_type": "code",
   "execution_count": 13,
   "id": "3019dfbf",
   "metadata": {},
   "outputs": [],
   "source": [
    "#get() doesn't throw error on keys that aren't present in the dict\n",
    "d.get(0)"
   ]
  },
  {
   "cell_type": "code",
   "execution_count": 14,
   "id": "547a2fc1",
   "metadata": {},
   "outputs": [
    {
     "data": {
      "text/plain": [
       "'the'"
      ]
     },
     "execution_count": 14,
     "metadata": {},
     "output_type": "execute_result"
    }
   ],
   "source": [
    "#in case key is not present, this is what can be done\n",
    "d.get(0,'the')"
   ]
  },
  {
   "cell_type": "code",
   "execution_count": 15,
   "id": "4087e53a",
   "metadata": {},
   "outputs": [
    {
     "data": {
      "text/plain": [
       "dict_keys([1, 2, 5, 6])"
      ]
     },
     "execution_count": 15,
     "metadata": {},
     "output_type": "execute_result"
    }
   ],
   "source": [
    "d.keys()"
   ]
  },
  {
   "cell_type": "code",
   "execution_count": 16,
   "id": "8400b535",
   "metadata": {},
   "outputs": [
    {
     "data": {
      "text/plain": [
       "dict_values([['the', 't2'], ['the', 't2'], ['the', 't2'], ['the', 't2']])"
      ]
     },
     "execution_count": 16,
     "metadata": {},
     "output_type": "execute_result"
    }
   ],
   "source": [
    "d.values()"
   ]
  },
  {
   "cell_type": "code",
   "execution_count": 18,
   "id": "1b2995cd",
   "metadata": {},
   "outputs": [
    {
     "data": {
      "text/plain": [
       "dict_items([(1, ['the', 't2']), (2, ['the', 't2']), (5, ['the', 't2']), (6, ['the', 't2'])])"
      ]
     },
     "execution_count": 18,
     "metadata": {},
     "output_type": "execute_result"
    }
   ],
   "source": [
    "d.items()"
   ]
  },
  {
   "cell_type": "markdown",
   "id": "9e65086e",
   "metadata": {},
   "source": [
    "#### Using Loops on Dicts"
   ]
  },
  {
   "cell_type": "code",
   "execution_count": 22,
   "id": "e2ade807",
   "metadata": {},
   "outputs": [],
   "source": [
    "a = {'a':1,'the':(5,6)}"
   ]
  },
  {
   "cell_type": "code",
   "execution_count": 23,
   "id": "801479a9",
   "metadata": {
    "scrolled": true
   },
   "outputs": [
    {
     "name": "stdout",
     "output_type": "stream",
     "text": [
      "a 1\n",
      "the (5, 6)\n"
     ]
    }
   ],
   "source": [
    "for i in a:\n",
    "    print(i,a[i])"
   ]
  },
  {
   "cell_type": "code",
   "execution_count": 24,
   "id": "f6a9e678",
   "metadata": {},
   "outputs": [
    {
     "name": "stdout",
     "output_type": "stream",
     "text": [
      "1\n",
      "(5, 6)\n"
     ]
    }
   ],
   "source": [
    "for i in a.values():\n",
    "    print(i)"
   ]
  },
  {
   "cell_type": "code",
   "execution_count": 26,
   "id": "f539b6d5",
   "metadata": {},
   "outputs": [
    {
     "data": {
      "text/plain": [
       "True"
      ]
     },
     "execution_count": 26,
     "metadata": {},
     "output_type": "execute_result"
    }
   ],
   "source": [
    "#Check whether key exists in a dict\n",
    "'the' in a"
   ]
  },
  {
   "cell_type": "code",
   "execution_count": 27,
   "id": "25ccf0a2",
   "metadata": {},
   "outputs": [
    {
     "data": {
      "text/plain": [
       "False"
      ]
     },
     "execution_count": 27,
     "metadata": {},
     "output_type": "execute_result"
    }
   ],
   "source": [
    "1 in a #doesn't work for values"
   ]
  },
  {
   "cell_type": "markdown",
   "id": "b3791e69",
   "metadata": {},
   "source": [
    "#### Adding or Removing Data from Dicts"
   ]
  },
  {
   "cell_type": "code",
   "execution_count": 29,
   "id": "49fad1a8",
   "metadata": {},
   "outputs": [],
   "source": [
    "b = {1:2, 3:4, 'list':[3,4], 'dict':{1:2}}"
   ]
  },
  {
   "cell_type": "code",
   "execution_count": 30,
   "id": "57ebaa43",
   "metadata": {},
   "outputs": [],
   "source": [
    "#adding new key value pair\n",
    "b['tuple'] = (6,7)"
   ]
  },
  {
   "cell_type": "code",
   "execution_count": 31,
   "id": "6214f0e5",
   "metadata": {},
   "outputs": [
    {
     "data": {
      "text/plain": [
       "{1: 2, 3: 4, 'list': [3, 4], 'dict': {1: 2}, 'tuple': (6, 7)}"
      ]
     },
     "execution_count": 31,
     "metadata": {},
     "output_type": "execute_result"
    }
   ],
   "source": [
    "b"
   ]
  },
  {
   "cell_type": "code",
   "execution_count": 32,
   "id": "10f5589e",
   "metadata": {},
   "outputs": [
    {
     "data": {
      "text/plain": [
       "{1: 2, 3: 10, 'list': [3, 4], 'dict': {1: 2}, 'tuple': (6, 7)}"
      ]
     },
     "execution_count": 32,
     "metadata": {},
     "output_type": "execute_result"
    }
   ],
   "source": [
    "#Updating existing key values\n",
    "b[3] = 10\n",
    "b"
   ]
  },
  {
   "cell_type": "markdown",
   "id": "73d455af",
   "metadata": {},
   "source": [
    "#### Update Function"
   ]
  },
  {
   "cell_type": "code",
   "execution_count": null,
   "id": "b3af95e9",
   "metadata": {},
   "outputs": [],
   "source": [
    "a = {3:5, 'the':20, 2:100}\n",
    "a.update(b)\n",
    "b"
   ]
  },
  {
   "cell_type": "code",
   "execution_count": 34,
   "id": "12b6c7bb",
   "metadata": {},
   "outputs": [
    {
     "data": {
      "text/plain": [
       "{3: 10,\n",
       " 'the': 20,\n",
       " 2: 100,\n",
       " 1: 2,\n",
       " 'list': [3, 4],\n",
       " 'dict': {1: 2},\n",
       " 'tuple': (6, 7)}"
      ]
     },
     "execution_count": 34,
     "metadata": {},
     "output_type": "execute_result"
    }
   ],
   "source": [
    "a"
   ]
  },
  {
   "cell_type": "markdown",
   "id": "626b3b78",
   "metadata": {},
   "source": [
    "#### Removing Data"
   ]
  },
  {
   "cell_type": "code",
   "execution_count": 35,
   "id": "1d5e7dd4",
   "metadata": {
    "scrolled": true
   },
   "outputs": [
    {
     "data": {
      "text/plain": [
       "20"
      ]
     },
     "execution_count": 35,
     "metadata": {},
     "output_type": "execute_result"
    }
   ],
   "source": [
    "a.pop('the')"
   ]
  },
  {
   "cell_type": "code",
   "execution_count": 36,
   "id": "1d420038",
   "metadata": {
    "scrolled": true
   },
   "outputs": [
    {
     "ename": "KeyError",
     "evalue": "'t'",
     "output_type": "error",
     "traceback": [
      "\u001b[1;31m---------------------------------------------------------------------------\u001b[0m",
      "\u001b[1;31mKeyError\u001b[0m                                  Traceback (most recent call last)",
      "\u001b[1;32m<ipython-input-36-a17f7037e8bb>\u001b[0m in \u001b[0;36m<module>\u001b[1;34m\u001b[0m\n\u001b[1;32m----> 1\u001b[1;33m \u001b[0ma\u001b[0m\u001b[1;33m.\u001b[0m\u001b[0mpop\u001b[0m\u001b[1;33m(\u001b[0m\u001b[1;34m't'\u001b[0m\u001b[1;33m)\u001b[0m\u001b[1;33m\u001b[0m\u001b[1;33m\u001b[0m\u001b[0m\n\u001b[0m",
      "\u001b[1;31mKeyError\u001b[0m: 't'"
     ]
    }
   ],
   "source": [
    "a.pop('t') #will hrow error if key not present"
   ]
  },
  {
   "cell_type": "code",
   "execution_count": 42,
   "id": "4f21f573",
   "metadata": {},
   "outputs": [
    {
     "data": {
      "text/plain": [
       "{3: 10,\n",
       " 2: 100,\n",
       " 1: 2,\n",
       " 'list': [3, 4],\n",
       " 'dict': {1: 2},\n",
       " 'tuple': (6, 7),\n",
       " 't': (1, 2, 3)}"
      ]
     },
     "execution_count": 42,
     "metadata": {},
     "output_type": "execute_result"
    }
   ],
   "source": [
    "a['t'] = (1,2,3)\n",
    "a"
   ]
  },
  {
   "cell_type": "code",
   "execution_count": 43,
   "id": "12df3ec4",
   "metadata": {
    "scrolled": true
   },
   "outputs": [
    {
     "data": {
      "text/plain": [
       "{3: 10, 2: 100, 1: 2, 'list': [3, 4], 'dict': {1: 2}, 'tuple': (6, 7)}"
      ]
     },
     "execution_count": 43,
     "metadata": {},
     "output_type": "execute_result"
    }
   ],
   "source": [
    "del a['t']\n",
    "a"
   ]
  },
  {
   "cell_type": "code",
   "execution_count": 44,
   "id": "fe2b0ea4",
   "metadata": {},
   "outputs": [],
   "source": [
    "a.clear()"
   ]
  },
  {
   "cell_type": "code",
   "execution_count": 45,
   "id": "e011b03e",
   "metadata": {},
   "outputs": [
    {
     "data": {
      "text/plain": [
       "{}"
      ]
     },
     "execution_count": 45,
     "metadata": {},
     "output_type": "execute_result"
    }
   ],
   "source": [
    "a"
   ]
  },
  {
   "cell_type": "code",
   "execution_count": 46,
   "id": "76daa4f3",
   "metadata": {},
   "outputs": [],
   "source": [
    "#delete the dict itself\n",
    "del a"
   ]
  },
  {
   "cell_type": "markdown",
   "id": "85f62d14",
   "metadata": {},
   "source": [
    "#### Print All Words Wth Frequency K"
   ]
  },
  {
   "cell_type": "code",
   "execution_count": 57,
   "id": "e1ee9c18",
   "metadata": {},
   "outputs": [],
   "source": [
    "s = 'This is a word string having many many words'\n",
    "k = 2"
   ]
  },
  {
   "cell_type": "code",
   "execution_count": 58,
   "id": "711651b6",
   "metadata": {},
   "outputs": [],
   "source": [
    "words = s.split()"
   ]
  },
  {
   "cell_type": "code",
   "execution_count": 59,
   "id": "b434ec52",
   "metadata": {},
   "outputs": [],
   "source": [
    "d = {}\n",
    "for i in words:\n",
    "        d[i] = d.get(i,0) + 1"
   ]
  },
  {
   "cell_type": "code",
   "execution_count": 60,
   "id": "15989694",
   "metadata": {},
   "outputs": [
    {
     "name": "stdout",
     "output_type": "stream",
     "text": [
      "{'This': 1, 'is': 1, 'a': 1, 'word': 1, 'string': 1, 'having': 1, 'many': 2, 'words': 1}\n"
     ]
    }
   ],
   "source": [
    "print(d)"
   ]
  },
  {
   "cell_type": "code",
   "execution_count": 61,
   "id": "ff487a00",
   "metadata": {},
   "outputs": [
    {
     "name": "stdout",
     "output_type": "stream",
     "text": [
      "many\n"
     ]
    }
   ],
   "source": [
    "for w in d:\n",
    "    if d[w] == k:\n",
    "        print(w)"
   ]
  },
  {
   "cell_type": "markdown",
   "id": "84a46057",
   "metadata": {},
   "source": [
    "#### Maximum Frequency"
   ]
  },
  {
   "cell_type": "code",
   "execution_count": 1,
   "id": "c672e3e0",
   "metadata": {},
   "outputs": [],
   "source": [
    "def maxfreq(arr):\n",
    "    \n",
    "    d = {}\n",
    "    \n",
    "    for i in arr:\n",
    "        d[i] = d.get(i,0) + 1\n",
    "        \n",
    "    largest = 0\n",
    "    \n",
    "    for w in d:\n",
    "        if d[w] > largest:\n",
    "            largest = d[w]\n",
    "            num = w\n",
    "            \n",
    "    return num"
   ]
  },
  {
   "cell_type": "code",
   "execution_count": 2,
   "id": "f4561828",
   "metadata": {},
   "outputs": [
    {
     "name": "stdout",
     "output_type": "stream",
     "text": [
      "2\n"
     ]
    }
   ],
   "source": [
    "arr = [2, 12, 2, 11, 12, 2, 1, 2, 2, 11, 12, 2, 6]\n",
    "print(maxfreq(arr))"
   ]
  },
  {
   "cell_type": "markdown",
   "id": "a97a4fbe",
   "metadata": {},
   "source": [
    "#### Pair Sum to Zero"
   ]
  },
  {
   "cell_type": "code",
   "execution_count": 16,
   "id": "1a91d0a9",
   "metadata": {},
   "outputs": [],
   "source": [
    "#My code\n",
    "\n",
    "def pairSum0(l):\n",
    "    \n",
    "    d = {}\n",
    "    \n",
    "    for i in l:\n",
    "        d[i] = d.get(i,0) + 1\n",
    "\n",
    "    count = 0\n",
    "    \n",
    "    if d.get(0) == n:\n",
    "        n = n-1\n",
    "        while n > 0:\n",
    "            count = count + n\n",
    "            n-=1\n",
    "            \n",
    "        return count\n",
    "\n",
    "    \n",
    "    for w in d:\n",
    "        if d.get(0-w) != None:\n",
    "            count = count + (d[w]*d.get(0-w))\n",
    "            d[w] = 0\n",
    "            d[0-w] = 0\n",
    "            \n",
    "    return count"
   ]
  },
  {
   "cell_type": "code",
   "execution_count": 15,
   "id": "4c16806a",
   "metadata": {},
   "outputs": [
    {
     "name": "stdout",
     "output_type": "stream",
     "text": [
      "5\n"
     ]
    }
   ],
   "source": [
    "l = [-2,2,6,-2,2,-6,3]\n",
    "print(pairSum0(l))"
   ]
  },
  {
   "cell_type": "markdown",
   "id": "b6453c41",
   "metadata": {},
   "source": [
    "#### Pair Sum to Zero"
   ]
  },
  {
   "cell_type": "code",
   "execution_count": null,
   "id": "f85b6b78",
   "metadata": {},
   "outputs": [],
   "source": [
    "#Code by CN TA\n",
    "\n",
    "def pairSum0(l,n):\n",
    "    # Write your code here\n",
    "    d={}\n",
    "    sum=0\n",
    "    count=0\n",
    "    for i in range(len(l)):\n",
    "        if sum-l[i] in d:\n",
    "            count+=d[sum-l[i]]\n",
    "        if l[i] in d:\n",
    "            d[l[i]]+=1\n",
    "        else:\n",
    "            d[l[i]]=1\n",
    "    return count"
   ]
  },
  {
   "cell_type": "markdown",
   "id": "4862e237",
   "metadata": {},
   "source": [
    "#### Making Our Own Hashmap"
   ]
  },
  {
   "cell_type": "code",
   "execution_count": 24,
   "id": "e0c029f6",
   "metadata": {},
   "outputs": [],
   "source": [
    "class MapNode:\n",
    "    def __init__(self,key,value):\n",
    "        self.key = key\n",
    "        self.value = value\n",
    "        self.next = None\n",
    "        \n",
    "class Map:\n",
    "    def __init__(self):\n",
    "        self.bucketSize = 10\n",
    "        self.buckets = [None for i in range(self.bucketSize)]\n",
    "        self.count = 0\n",
    "        \n",
    "    def size(self):\n",
    "        return self.count\n",
    "    \n",
    "    #get compressed index\n",
    "    def getBucketIndex(self,hc):\n",
    "        return (abs(hc)%(self.bucketSize))\n",
    "    \n",
    "    def loadFactor(self):\n",
    "        return self.count/self.bucketSize\n",
    "    \n",
    "    def rehash(self):\n",
    "        temp = self.buckets\n",
    "        self.buckets = [None for i in range(2*self.bucketSize)]\n",
    "        self.bucketSize*=2\n",
    "        self.count = 0\n",
    "        \n",
    "        #Copy all the nodes from temp to the new address to which buckets is now pointing\n",
    "        #iterating through every index of the list copied in temp\n",
    "        for head in temp:\n",
    "            while head is not None:\n",
    "                self.insert(head.key,head.value)\n",
    "                head = head.next\n",
    "    \n",
    "    def insert(self,key,value):\n",
    "        \n",
    "        hc = hash(key)\n",
    "        index = self.getBucketIndex(hc)\n",
    "        head = self.buckets[index]\n",
    "        while head is not None:\n",
    "            if head.key == key:\n",
    "                head.value = value\n",
    "                return\n",
    "            head = head.next\n",
    "        \n",
    "        #change back head that's currently pointing to None\n",
    "        head = self.buckets[index]\n",
    "            \n",
    "        #element not in the LL at this index; add it to the LL\n",
    "        newNode = MapNode(key,value)\n",
    "        newNode.next = head\n",
    "        self.buckets[index] = newNode\n",
    "        self.count+=1\n",
    "        loadFactor = self.count/self.bucketSize\n",
    "        if loadFactor >= 0.7:\n",
    "            self.rehash()\n",
    "        \n",
    "    def getValue(self,key):\n",
    "        \n",
    "        hc = hash(key)\n",
    "        index = self.getBucketIndex(hc)\n",
    "        head = self.buckets[index]\n",
    "        while head is not None:\n",
    "            if head.key == key:\n",
    "                return head.value\n",
    "            head = head.next\n",
    "            \n",
    "        return\n",
    "            \n",
    "    def deleteKey(self,key):\n",
    "        \n",
    "        hc = hash(key)\n",
    "        index = self.getBucketIndex(hc)\n",
    "        head = self.buckets[index]\n",
    "        prev = None\n",
    "        while head is not None:\n",
    "            if head.key == key:\n",
    "                if prev is None:\n",
    "                    self.buckets[index] = head.next\n",
    "                else:    \n",
    "                    prev.next = head.next\n",
    "                self.count-=1\n",
    "                return head.value\n",
    "            prev = head\n",
    "            head = head.next\n",
    "                \n",
    "        return None\n",
    "            "
   ]
  },
  {
   "cell_type": "code",
   "execution_count": 25,
   "id": "65e5b5e1",
   "metadata": {},
   "outputs": [
    {
     "name": "stdout",
     "output_type": "stream",
     "text": [
      "1\n",
      "2\n",
      "6\n",
      "2\n"
     ]
    }
   ],
   "source": [
    "m = Map()\n",
    "m.insert('mo',1)\n",
    "print(m.size())\n",
    "m.insert('green',6)\n",
    "print(m.size())\n",
    "m.insert('mo',5)\n",
    "m.insert('pra',5)\n",
    "print(m.getValue('green'))\n",
    "m.deleteKey('mo')\n",
    "print(m.size())"
   ]
  },
  {
   "cell_type": "code",
   "execution_count": 17,
   "id": "7935b115",
   "metadata": {},
   "outputs": [
    {
     "name": "stdout",
     "output_type": "stream",
     "text": [
      "1\n",
      "6\n",
      "0\n"
     ]
    }
   ],
   "source": [
    "m = Map()\n",
    "m.insert('why',6)\n",
    "print(m.size())\n",
    "print(m.deleteKey('why'))\n",
    "print(m.size())"
   ]
  },
  {
   "cell_type": "code",
   "execution_count": 26,
   "id": "36d73297",
   "metadata": {},
   "outputs": [
    {
     "name": "stdout",
     "output_type": "stream",
     "text": [
      "0.1\n",
      "0.2\n",
      "0.3\n",
      "0.4\n",
      "0.5\n",
      "0.6\n",
      "0.35\n",
      "0.4\n",
      "0.45\n",
      "0.5\n"
     ]
    }
   ],
   "source": [
    "m = Map()\n",
    "for i in range(10):\n",
    "    m.insert('abc' + str(i), i+1)\n",
    "    print(m.loadFactor())"
   ]
  },
  {
   "cell_type": "markdown",
   "id": "c013e269",
   "metadata": {},
   "source": [
    "### Assignment Questions"
   ]
  },
  {
   "cell_type": "markdown",
   "id": "82425cea",
   "metadata": {},
   "source": [
    "#### Extract Unique Characters"
   ]
  },
  {
   "cell_type": "code",
   "execution_count": 27,
   "id": "8a14708f",
   "metadata": {},
   "outputs": [],
   "source": [
    "def uniqueChar(s): \n",
    "    \n",
    "    d = {}\n",
    "    out = ''\n",
    "    for ele in s:\n",
    "        if ele in d:\n",
    "            continue\n",
    "        else:\n",
    "            d[ele] = 1\n",
    "            out = out + ele\n",
    "    \n",
    "    return out"
   ]
  },
  {
   "cell_type": "code",
   "execution_count": 28,
   "id": "11115b46",
   "metadata": {},
   "outputs": [
    {
     "name": "stdout",
     "output_type": "stream",
     "text": [
      "abcd\n"
     ]
    }
   ],
   "source": [
    "s = 'ababacd'\n",
    "print(uniqueChar(s))"
   ]
  },
  {
   "cell_type": "markdown",
   "id": "15d95ce2",
   "metadata": {},
   "source": [
    "#### Longest Consecutive Sequence"
   ]
  },
  {
   "cell_type": "code",
   "execution_count": 30,
   "id": "e805c748",
   "metadata": {},
   "outputs": [],
   "source": [
    "def longestConsecutiveSubsequence(arr,n): \n",
    "    \n",
    "    d = {}\n",
    "    ans = [None]*2\n",
    "    maxlen = 0\n",
    "    for ele in arr:\n",
    "        d[ele] = True\n",
    "        \n",
    "    for ele in arr:\n",
    "        maxlenc = 1\n",
    "        start, end = ele, ele\n",
    "        if d[ele] == True:\n",
    "            print(ele)\n",
    "            temp = ele+1\n",
    "            while temp in d:\n",
    "                print(' temp+',temp)\n",
    "                maxlenc+=1\n",
    "                end = temp\n",
    "                d[temp] = False\n",
    "                temp+=1\n",
    "            temp = ele-1\n",
    "            while temp in d:\n",
    "                print(' temp-',temp)\n",
    "                maxlenc+=1\n",
    "                start = temp\n",
    "                d[temp] = False\n",
    "                temp-=1\n",
    "    \n",
    "            if maxlen < maxlenc:\n",
    "                print('maxlen',maxlen,'maxlenc', maxlenc)\n",
    "                maxlen = maxlenc\n",
    "                ans[0] = start\n",
    "                ans[1] = end\n",
    "                \n",
    "    return ans            "
   ]
  },
  {
   "cell_type": "code",
   "execution_count": 31,
   "id": "78edc64b",
   "metadata": {},
   "outputs": [
    {
     "name": "stdout",
     "output_type": "stream",
     "text": [
      "2\n",
      " temp+ 3\n",
      " temp- 1\n",
      "maxlen 0 maxlenc 3\n",
      "12\n",
      " temp- 11\n",
      " temp- 10\n",
      " temp- 9\n",
      " temp- 8\n",
      "maxlen 3 maxlenc 5\n",
      "16\n",
      "5\n",
      " temp+ 6\n",
      "20\n",
      "25\n",
      "[8, 12]\n"
     ]
    }
   ],
   "source": [
    "arr = [2,12,9,16,10,5,3,20,25,11,1,8,6]\n",
    "print(longestConsecutiveSubsequence(arr,len(arr)))"
   ]
  },
  {
   "cell_type": "markdown",
   "id": "d1d7fa5e",
   "metadata": {},
   "source": [
    "#### Pairs with difference K"
   ]
  },
  {
   "cell_type": "code",
   "execution_count": 36,
   "id": "826d1442",
   "metadata": {},
   "outputs": [],
   "source": [
    "def printPairDiffK(l, k):\n",
    "    \n",
    "    d = {}\n",
    "    count = 0\n",
    "    for i in range(len(l)):\n",
    "        if (-k+l[i]) in d:\n",
    "            count+=d[-k+l[i]]\n",
    "        if (k+l[i]) in d:\n",
    "            count+=d[k+l[i]]\n",
    "        #if (k-l[i]) in d:\n",
    "            #count+=d[k-l[i]]\n",
    "        #if (-k-l[i]) in d:\n",
    "            #count+=d[-k-l[i]]\n",
    "        if l[i] in d:\n",
    "            d[l[i]]+=1\n",
    "        else:\n",
    "            d[l[i]] = 1\n",
    "            \n",
    "    return count"
   ]
  },
  {
   "cell_type": "code",
   "execution_count": 37,
   "id": "563d92d4",
   "metadata": {},
   "outputs": [
    {
     "name": "stdout",
     "output_type": "stream",
     "text": [
      "2\n"
     ]
    }
   ],
   "source": [
    "l = [5,1,2,4]\n",
    "print(printPairDiffK(l, 3))"
   ]
  },
  {
   "cell_type": "markdown",
   "id": "0267800f",
   "metadata": {},
   "source": [
    "#### Longest Subset Zero Sum"
   ]
  },
  {
   "cell_type": "code",
   "execution_count": 39,
   "id": "3495d965",
   "metadata": {},
   "outputs": [],
   "source": [
    "def subsetSum(l):\n",
    "    \n",
    "    d= {}\n",
    "    \n",
    "    maxlen, maxlenc, sumo = 0, 0, 0\n",
    "    \n",
    "    for i in range(len(l)):\n",
    "        sumo = sumo + l[i]\n",
    "        if sumo == 0:\n",
    "            maxlenc = i+1\n",
    "        else:\n",
    "            if sumo not in d:\n",
    "                d[sumo] = i\n",
    "            else:\n",
    "                maxlenc = i - d[sumo]\n",
    "\n",
    "        if maxlenc > maxlen:\n",
    "            maxlen = maxlenc\n",
    "            \n",
    "    return maxlen               "
   ]
  },
  {
   "cell_type": "code",
   "execution_count": 40,
   "id": "50870dbe",
   "metadata": {},
   "outputs": [
    {
     "name": "stdout",
     "output_type": "stream",
     "text": [
      "5\n"
     ]
    }
   ],
   "source": [
    "l = [2, -2, 0, -2, 2]\n",
    "print(subsetSum(l))"
   ]
  },
  {
   "cell_type": "code",
   "execution_count": null,
   "id": "39d7c68c",
   "metadata": {},
   "outputs": [],
   "source": []
  }
 ],
 "metadata": {
  "kernelspec": {
   "display_name": "Python 3",
   "language": "python",
   "name": "python3"
  },
  "language_info": {
   "codemirror_mode": {
    "name": "ipython",
    "version": 3
   },
   "file_extension": ".py",
   "mimetype": "text/x-python",
   "name": "python",
   "nbconvert_exporter": "python",
   "pygments_lexer": "ipython3",
   "version": "3.8.8"
  }
 },
 "nbformat": 4,
 "nbformat_minor": 5
}
