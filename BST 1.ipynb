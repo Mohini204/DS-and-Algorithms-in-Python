{
 "cells": [
  {
   "cell_type": "markdown",
   "id": "57c79565",
   "metadata": {},
   "source": [
    "### Intro to BST"
   ]
  },
  {
   "cell_type": "markdown",
   "id": "23b6430e",
   "metadata": {},
   "source": [
    "#### Binary Tree Class"
   ]
  },
  {
   "cell_type": "code",
   "execution_count": 2,
   "id": "3e7b0d5b",
   "metadata": {},
   "outputs": [],
   "source": [
    "class BinaryTreeNode:\n",
    "    \n",
    "    def __init__(self,data):\n",
    "        self.data = data\n",
    "        self.right = None\n",
    "        self.left = None"
   ]
  },
  {
   "cell_type": "markdown",
   "id": "d21b813b",
   "metadata": {},
   "source": [
    "#### Levelwise Input"
   ]
  },
  {
   "cell_type": "code",
   "execution_count": 3,
   "id": "02088b2e",
   "metadata": {},
   "outputs": [],
   "source": [
    "import queue\n",
    "\n",
    "def levelwiseInput():\n",
    "    \n",
    "    q = queue.Queue()\n",
    "    print('Enter root')\n",
    "    rootdata = int(input())\n",
    "    if rootdata == -1:\n",
    "        return None\n",
    "    \n",
    "    root = BinaryTreeNode(rootdata)    \n",
    "    q.put(root)\n",
    "    \n",
    "    while not q.empty():\n",
    "        \n",
    "        curr = q.get()\n",
    "        \n",
    "        print('Enter left of ', curr.data)\n",
    "        leftchilddata = int(input())\n",
    "        if leftchilddata != -1:\n",
    "            leftchild = BinaryTreeNode(leftchilddata)\n",
    "            curr.left = leftchild\n",
    "            q.put(leftchild)\n",
    "        \n",
    "        print('Enter right of ', curr.data)\n",
    "        rightchilddata = int(input())\n",
    "        if rightchilddata != -1:\n",
    "            rightchild = BinaryTreeNode(rightchilddata)\n",
    "            curr.right = rightchild\n",
    "            q.put(rightchild)\n",
    "    \n",
    "    return root"
   ]
  },
  {
   "cell_type": "markdown",
   "id": "5b0516c0",
   "metadata": {},
   "source": [
    "#### Print Tree Levelwise"
   ]
  },
  {
   "cell_type": "code",
   "execution_count": 4,
   "id": "bc4bb8b1",
   "metadata": {},
   "outputs": [],
   "source": [
    "import queue\n",
    "\n",
    "def levelwisePrint(root):\n",
    "    \n",
    "    q = queue.Queue()\n",
    "    \n",
    "    if root is None:\n",
    "        return\n",
    "    \n",
    "    q.put(root)\n",
    "    \n",
    "    while not q.empty():\n",
    "        \n",
    "        curr = q.get()\n",
    "        print(curr.data, end=':')\n",
    "        \n",
    "        if curr.left is not None:\n",
    "            print('L:',end='')\n",
    "            print(curr.left.data, end = ',')\n",
    "            q.put(curr.left)\n",
    "        else:\n",
    "            print('L:',end='')\n",
    "            print(-1, end = ',')\n",
    "        if curr.right is not None:\n",
    "            print('R:',end='')\n",
    "            print(curr.right.data, end = '')\n",
    "            q.put(curr.right)\n",
    "        else:\n",
    "            print('R:',end = '')\n",
    "            print(-1,end='')\n",
    "        print()           "
   ]
  },
  {
   "cell_type": "markdown",
   "id": "54a5ff0a",
   "metadata": {},
   "source": [
    "#### Search x in a Binary Search Tree"
   ]
  },
  {
   "cell_type": "code",
   "execution_count": 14,
   "id": "b005a9ee",
   "metadata": {},
   "outputs": [],
   "source": [
    "def searchBin(root,x):\n",
    "    \n",
    "    if root is None:\n",
    "        return False\n",
    "    \n",
    "    if root.data > x:\n",
    "        l = searchBin(root.left,x)\n",
    "        return l\n",
    "    elif root.data < x:\n",
    "        r = searchBin(root.right,x)\n",
    "        return r\n",
    "    else:\n",
    "        return True\n",
    "    \n",
    "    return False"
   ]
  },
  {
   "cell_type": "code",
   "execution_count": 16,
   "id": "018368e2",
   "metadata": {},
   "outputs": [
    {
     "name": "stdout",
     "output_type": "stream",
     "text": [
      "Enter root\n",
      "8\n",
      "Enter left of  8\n",
      "5\n",
      "Enter right of  8\n",
      "10\n",
      "Enter left of  5\n",
      "2\n",
      "Enter right of  5\n",
      "6\n",
      "Enter left of  10\n",
      "-1\n",
      "Enter right of  10\n",
      "-1\n",
      "Enter left of  2\n",
      "-1\n",
      "Enter right of  2\n",
      "-1\n",
      "Enter left of  6\n",
      "-1\n",
      "Enter right of  6\n",
      "7\n",
      "Enter left of  7\n",
      "-1\n",
      "Enter right of  7\n",
      "-1\n",
      "here 8\n",
      "here 5\n",
      "true\n"
     ]
    }
   ],
   "source": [
    "root = levelwiseInput()\n",
    "ans = searchBin(root,2)\n",
    "if ans:\n",
    "    print('true')\n",
    "else:\n",
    "    print('false')"
   ]
  },
  {
   "cell_type": "markdown",
   "id": "fe6875e1",
   "metadata": {},
   "source": [
    "#### Print Elements Between Ranges k1 and k2"
   ]
  },
  {
   "cell_type": "code",
   "execution_count": 23,
   "id": "03fa07ce",
   "metadata": {},
   "outputs": [],
   "source": [
    "def elementsInRangeK1K2(root, k1, k2):\n",
    "    \n",
    "    if root is None:\n",
    "        return\n",
    "    \n",
    "    if root.data < k1:\n",
    "        elementsInRangeK1K2(root.right, k1, k2)\n",
    "    elif root.data > k2:\n",
    "        elementsInRangeK1K2(root.left, k1, k2)\n",
    "    else:\n",
    "        elementsInRangeK1K2(root.left, k1, k2)\n",
    "        print(root.data, end = ' ')\n",
    "        elementsInRangeK1K2(root.right, k1, k2)\n",
    "        \n",
    "    return"
   ]
  },
  {
   "cell_type": "code",
   "execution_count": 24,
   "id": "db622c18",
   "metadata": {},
   "outputs": [
    {
     "name": "stdout",
     "output_type": "stream",
     "text": [
      "Enter root\n",
      "8\n",
      "Enter left of  8\n",
      "5\n",
      "Enter right of  8\n",
      "10\n",
      "Enter left of  5\n",
      "2\n",
      "Enter right of  5\n",
      "6\n",
      "Enter left of  10\n",
      "-1\n",
      "Enter right of  10\n",
      "-1\n",
      "Enter left of  2\n",
      "-1\n",
      "Enter right of  2\n",
      "-1\n",
      "Enter left of  6\n",
      "-1\n",
      "Enter right of  6\n",
      "7\n",
      "Enter left of  7\n",
      "-1\n",
      "Enter right of  7\n",
      "-1\n",
      "6 7 8 10 "
     ]
    }
   ],
   "source": [
    "root = levelwiseInput()\n",
    "elementsInRangeK1K2(root, 6, 10)"
   ]
  },
  {
   "cell_type": "markdown",
   "id": "8cfc9195",
   "metadata": {},
   "source": [
    "#### Construct Binary Search Tree Using a Sorted Array"
   ]
  },
  {
   "cell_type": "code",
   "execution_count": 34,
   "id": "8dfb2e05",
   "metadata": {},
   "outputs": [],
   "source": [
    "def constructBST(lst):\n",
    "    \n",
    "    if len(lst) == 0:\n",
    "        return\n",
    "    \n",
    "    midindex = (len(lst)-1)//2  #len(lst//2 will also work)\n",
    "    mid = lst[midindex]\n",
    "    \n",
    "    leftl = lst[:midindex]\n",
    "    rightl = lst[midindex+1:]\n",
    "    print(leftl,rightl)\n",
    "    \n",
    "    root = BinaryTreeNode(mid)\n",
    "    \n",
    "    lt = constructBST(leftl)\n",
    "    rt = constructBST(rightl)\n",
    "    \n",
    "    root.left = lt\n",
    "    root.right = rt\n",
    "    \n",
    "    return root"
   ]
  },
  {
   "cell_type": "code",
   "execution_count": 33,
   "id": "7ca9d483",
   "metadata": {
    "scrolled": false
   },
   "outputs": [
    {
     "name": "stdout",
     "output_type": "stream",
     "text": [
      "[1, 2, 3] [5, 6, 7]\n",
      "[1] [3]\n",
      "[] []\n",
      "[] []\n",
      "[5] [7]\n",
      "[] []\n",
      "[] []\n",
      "4:L:2,R:6\n",
      "2:L:1,R:3\n",
      "6:L:5,R:7\n",
      "1:L:-1,R:-1\n",
      "3:L:-1,R:-1\n",
      "5:L:-1,R:-1\n",
      "7:L:-1,R:-1\n"
     ]
    }
   ],
   "source": [
    "lst = [1,2,3,4,5,6,7]\n",
    "root = constructBST(lst)\n",
    "levelwisePrint(root)"
   ]
  },
  {
   "cell_type": "markdown",
   "id": "ddc9164f",
   "metadata": {},
   "source": [
    "#### Is Binary Tree a BST?"
   ]
  },
  {
   "cell_type": "markdown",
   "id": "ef5c0c72",
   "metadata": {},
   "source": [
    "The following code is incorrect because it doesn't check if all the nodes on the left of root are lesser and all the nodes to the right of the root are greater."
   ]
  },
  {
   "cell_type": "code",
   "execution_count": 35,
   "id": "afcc2e14",
   "metadata": {},
   "outputs": [],
   "source": [
    "def checkBST(root):\n",
    "    \n",
    "    if root.left is None and root.right is None:\n",
    "        return True\n",
    "    \n",
    "    if root.left is None and root.right is not None:\n",
    "        return True\n",
    "    \n",
    "    if root.left is not None and root.right is None:\n",
    "        return False\n",
    "    \n",
    "    if root.data > root.right.data or root.data < root.left.data:\n",
    "        return False\n",
    "    \n",
    "    lt = checkBST(root.left)\n",
    "    rt = checkBST(root.right)\n",
    "    \n",
    "    return lt and rt"
   ]
  },
  {
   "cell_type": "code",
   "execution_count": 36,
   "id": "1c962743",
   "metadata": {},
   "outputs": [
    {
     "name": "stdout",
     "output_type": "stream",
     "text": [
      "Enter root\n",
      "8\n",
      "Enter left of  8\n",
      "5\n",
      "Enter right of  8\n",
      "10\n",
      "Enter left of  5\n",
      "2\n",
      "Enter right of  5\n",
      "6\n",
      "Enter left of  10\n",
      "-1\n",
      "Enter right of  10\n",
      "-1\n",
      "Enter left of  2\n",
      "-1\n",
      "Enter right of  2\n",
      "-1\n",
      "Enter left of  6\n",
      "-1\n",
      "Enter right of  6\n",
      "7\n",
      "Enter left of  7\n",
      "-1\n",
      "Enter right of  7\n",
      "-1\n",
      "True\n"
     ]
    }
   ],
   "source": [
    "root = levelwiseInput()\n",
    "print(checkBST(root))"
   ]
  },
  {
   "cell_type": "markdown",
   "id": "beda6924",
   "metadata": {},
   "source": [
    "We introduce min and max of the binary tree to check the missing condition in the above code"
   ]
  },
  {
   "cell_type": "code",
   "execution_count": 37,
   "id": "c8b24ac2",
   "metadata": {},
   "outputs": [],
   "source": [
    "def minTree(root):\n",
    "    \n",
    "    if root is None:\n",
    "        return 10000\n",
    "    \n",
    "    leftMin = minTree(root.left)\n",
    "    rightMin = minTree(root.right)\n",
    "    \n",
    "    return min(leftMin,root.data,rightMin)"
   ]
  },
  {
   "cell_type": "code",
   "execution_count": 38,
   "id": "c4a6f947",
   "metadata": {},
   "outputs": [],
   "source": [
    "def maxTree(root):\n",
    "    \n",
    "    if root is None:\n",
    "        return -10000\n",
    "    \n",
    "    leftMax = maxTree(root.left)\n",
    "    rightMax = maxTree(root.right)\n",
    "    \n",
    "    return max(leftMax, root.data, rightMax)"
   ]
  },
  {
   "cell_type": "code",
   "execution_count": 39,
   "id": "953d5533",
   "metadata": {},
   "outputs": [],
   "source": [
    "def checkBST(root):\n",
    "    \n",
    "    if root is None:\n",
    "        return True\n",
    "    \n",
    "    leftMax = maxTree(root.left)\n",
    "    rightMin = minTree(root.right)\n",
    "    \n",
    "    if root.data > rightMin or root.data <= leftMax:\n",
    "        return False\n",
    "    \n",
    "    isleftBST = checkBST(root.left)\n",
    "    isrightBST = checkBST(root.right)\n",
    "    \n",
    "    return isleftBST and isrightBST"
   ]
  },
  {
   "cell_type": "markdown",
   "id": "ace4b8ee",
   "metadata": {},
   "source": [
    "#### Better Approach with O(n) Time Complexity"
   ]
  },
  {
   "cell_type": "code",
   "execution_count": 40,
   "id": "f1399063",
   "metadata": {},
   "outputs": [],
   "source": [
    "def isBST1(root):\n",
    "    \n",
    "    if root is None:\n",
    "        return 10000, -10000, True\n",
    "    \n",
    "    leftMin, leftMax, isleftBST = isBST1(root.left)\n",
    "    rightMin, rightMax, isrightBST = isBST1(root.right)\n",
    "    \n",
    "    minimum = min(leftMin, rightMin, root.data)\n",
    "    maximum = max(rightMin, rightMax, root.data)\n",
    "    isTreeBST = True\n",
    "    \n",
    "    if root.data <= leftMax or root.data > rightMin:\n",
    "        isTreeBST = False\n",
    "        \n",
    "    if not(isleftBST) or not(isrightBST):\n",
    "        isTreeBST = False\n",
    "        \n",
    "    return minimum, maximum, isTreeBST"
   ]
  },
  {
   "cell_type": "markdown",
   "id": "68332a49",
   "metadata": {},
   "source": [
    "#### Another Approach Passing Range for Every Node"
   ]
  },
  {
   "cell_type": "code",
   "execution_count": null,
   "id": "3c958acb",
   "metadata": {},
   "outputs": [],
   "source": [
    "def isBST2(root, min_range, max_range):\n",
    "    \n",
    "    if root is None:\n",
    "        return True\n",
    "    \n",
    "    if root.data > max_range or root.data < min_range:\n",
    "        return False\n",
    "    \n",
    "    lt = isBST2(root.left, min_range, root.data-1)\n",
    "    rt = isBST2(root, root.data, max_range)\n",
    "    \n",
    "    return lt and rt"
   ]
  }
 ],
 "metadata": {
  "kernelspec": {
   "display_name": "Python 3",
   "language": "python",
   "name": "python3"
  },
  "language_info": {
   "codemirror_mode": {
    "name": "ipython",
    "version": 3
   },
   "file_extension": ".py",
   "mimetype": "text/x-python",
   "name": "python",
   "nbconvert_exporter": "python",
   "pygments_lexer": "ipython3",
   "version": "3.8.8"
  }
 },
 "nbformat": 4,
 "nbformat_minor": 5
}
