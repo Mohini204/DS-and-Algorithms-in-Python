{
 "cells": [
  {
   "cell_type": "markdown",
   "id": "909f9191",
   "metadata": {},
   "source": [
    "### BRIEF"
   ]
  },
  {
   "cell_type": "markdown",
   "id": "43f52924",
   "metadata": {},
   "source": [
    "- Array stores data of smilar type (Homogeneous)\n",
    "- List can store data of diff type (heterogeneous)"
   ]
  },
  {
   "cell_type": "markdown",
   "id": "cc8dac96",
   "metadata": {},
   "source": [
    "#### Performing Operations on the list"
   ]
  },
  {
   "cell_type": "code",
   "execution_count": 1,
   "id": "40d3ea71",
   "metadata": {},
   "outputs": [
    {
     "data": {
      "text/plain": [
       "list"
      ]
     },
     "execution_count": 1,
     "metadata": {},
     "output_type": "execute_result"
    }
   ],
   "source": [
    "#Creating a list\n",
    "li = []\n",
    "li = [1,2,'a', 1.2]\n",
    "type(li)"
   ]
  },
  {
   "cell_type": "markdown",
   "id": "e27750c6",
   "metadata": {},
   "source": [
    "#### Access and change elements in a list"
   ]
  },
  {
   "cell_type": "code",
   "execution_count": 2,
   "id": "e8a23e8f",
   "metadata": {},
   "outputs": [
    {
     "data": {
      "text/plain": [
       "[1, 2, 'a', 'Mohini']"
      ]
     },
     "execution_count": 2,
     "metadata": {},
     "output_type": "execute_result"
    }
   ],
   "source": [
    "#Only elements that have been indexed can be changed; list cannot be extended in the following way\n",
    "li[3] = 'Mohini'\n",
    "li"
   ]
  },
  {
   "cell_type": "markdown",
   "id": "2625f082",
   "metadata": {},
   "source": [
    "#### Slicing of a List"
   ]
  },
  {
   "cell_type": "code",
   "execution_count": 3,
   "id": "4e8d56ee",
   "metadata": {},
   "outputs": [
    {
     "data": {
      "text/plain": [
       "[2, 'a']"
      ]
     },
     "execution_count": 3,
     "metadata": {},
     "output_type": "execute_result"
    }
   ],
   "source": [
    "#starting from index 1 till 2\n",
    "li[1:3]"
   ]
  },
  {
   "cell_type": "code",
   "execution_count": 4,
   "id": "1f41d3dd",
   "metadata": {},
   "outputs": [
    {
     "data": {
      "text/plain": [
       "[2, 'a', 'Mohini']"
      ]
     },
     "execution_count": 4,
     "metadata": {},
     "output_type": "execute_result"
    }
   ],
   "source": [
    "#starting from 1 till end\n",
    "li[1:]"
   ]
  },
  {
   "cell_type": "code",
   "execution_count": 6,
   "id": "88e9c3a1",
   "metadata": {},
   "outputs": [
    {
     "data": {
      "text/plain": [
       "[2, 'a', 'Mohini', 'Linkin']"
      ]
     },
     "execution_count": 6,
     "metadata": {},
     "output_type": "execute_result"
    }
   ],
   "source": [
    "li[1:10]"
   ]
  },
  {
   "cell_type": "markdown",
   "id": "4e1204d3",
   "metadata": {},
   "source": [
    "#### Insert and Append Elements in the List"
   ]
  },
  {
   "cell_type": "code",
   "execution_count": 5,
   "id": "1d7d7b30",
   "metadata": {},
   "outputs": [
    {
     "data": {
      "text/plain": [
       "[1, 2, 'a', 'Mohini', 'Linkin']"
      ]
     },
     "execution_count": 5,
     "metadata": {},
     "output_type": "execute_result"
    }
   ],
   "source": [
    "li.append('Linkin')\n",
    "li"
   ]
  },
  {
   "cell_type": "code",
   "execution_count": 7,
   "id": "20b340a4",
   "metadata": {},
   "outputs": [
    {
     "data": {
      "text/plain": [
       "[1, 7, 2, 'a', 'Mohini', 'Linkin']"
      ]
     },
     "execution_count": 7,
     "metadata": {},
     "output_type": "execute_result"
    }
   ],
   "source": [
    "li.insert(1,7)\n",
    "li"
   ]
  },
  {
   "cell_type": "code",
   "execution_count": 9,
   "id": "2bcad293",
   "metadata": {},
   "outputs": [
    {
     "data": {
      "text/plain": [
       "[1, 7, 2, 'a', 'Mohini', 'Linkin', 'Park', 'Park']"
      ]
     },
     "execution_count": 9,
     "metadata": {},
     "output_type": "execute_result"
    }
   ],
   "source": [
    "#does not care if the index is out of bounds while inserting\n",
    "li.insert(10,'Park')\n",
    "li"
   ]
  },
  {
   "cell_type": "code",
   "execution_count": 10,
   "id": "5f7d3c0e",
   "metadata": {},
   "outputs": [
    {
     "data": {
      "text/plain": [
       "[1, 7, 2, 'a', 'Mohini', 'Linkin', 'Park', 'Park', [1, 4, 5]]"
      ]
     },
     "execution_count": 10,
     "metadata": {},
     "output_type": "execute_result"
    }
   ],
   "source": [
    "li.append([1,4,5])\n",
    "li"
   ]
  },
  {
   "cell_type": "code",
   "execution_count": 11,
   "id": "9ffd7ea3",
   "metadata": {},
   "outputs": [
    {
     "data": {
      "text/plain": [
       "[1, 7, 2, 'a', 'Mohini', 'Linkin', 'Park', 'Park', [1, 4, 5], 1, 2, 3]"
      ]
     },
     "execution_count": 11,
     "metadata": {},
     "output_type": "execute_result"
    }
   ],
   "source": [
    "#to add elements separately\n",
    "li.extend([1,2,3])\n",
    "li"
   ]
  },
  {
   "cell_type": "markdown",
   "id": "3ad11e98",
   "metadata": {},
   "source": [
    "#### Removing Elements from the List"
   ]
  },
  {
   "cell_type": "code",
   "execution_count": 12,
   "id": "53cf266d",
   "metadata": {},
   "outputs": [
    {
     "data": {
      "text/plain": [
       "[1, 2, 'a', 'Mohini', 'Linkin', 'Park', 'Park', [1, 4, 5], 1, 2, 3]"
      ]
     },
     "execution_count": 12,
     "metadata": {},
     "output_type": "execute_result"
    }
   ],
   "source": [
    "li.remove(7)\n",
    "li"
   ]
  },
  {
   "cell_type": "code",
   "execution_count": 13,
   "id": "623ec9ec",
   "metadata": {},
   "outputs": [
    {
     "data": {
      "text/plain": [
       "[1, 'a', 'Mohini', 'Linkin', 'Park', 'Park', [1, 4, 5], 1, 2, 3]"
      ]
     },
     "execution_count": 13,
     "metadata": {},
     "output_type": "execute_result"
    }
   ],
   "source": [
    "#if multiple elements of same value are present, the one present first is removed\n",
    "li.remove(2)\n",
    "li"
   ]
  },
  {
   "cell_type": "code",
   "execution_count": 14,
   "id": "343f471a",
   "metadata": {},
   "outputs": [
    {
     "data": {
      "text/plain": [
       "'Mohini'"
      ]
     },
     "execution_count": 14,
     "metadata": {},
     "output_type": "execute_result"
    }
   ],
   "source": [
    "#removing elements from a particular index\n",
    "li.pop(2)"
   ]
  },
  {
   "cell_type": "code",
   "execution_count": 15,
   "id": "89eee3d0",
   "metadata": {},
   "outputs": [
    {
     "data": {
      "text/plain": [
       "3"
      ]
     },
     "execution_count": 15,
     "metadata": {},
     "output_type": "execute_result"
    }
   ],
   "source": [
    "#this will pop the last element present\n",
    "li.pop()"
   ]
  },
  {
   "cell_type": "code",
   "execution_count": 16,
   "id": "94386e18",
   "metadata": {},
   "outputs": [
    {
     "data": {
      "text/plain": [
       "8"
      ]
     },
     "execution_count": 16,
     "metadata": {},
     "output_type": "execute_result"
    }
   ],
   "source": [
    "len(li)"
   ]
  },
  {
   "cell_type": "markdown",
   "id": "ed6d81b0",
   "metadata": {},
   "source": [
    "### How are Elements stored in a List?"
   ]
  },
  {
   "cell_type": "markdown",
   "id": "ca8b29a8",
   "metadata": {},
   "source": [
    "-List isn't storing the elements, it stores the elements of the list\n",
    "-when li[2] is called, it checks the reference at that index and goes to the reference to get the value\n",
    "-References are stored in a sequence with a size of 4 bytes each, e.g: if 1st reference is stored at 100, next is stored at 104."
   ]
  },
  {
   "cell_type": "markdown",
   "id": "ebdef5c6",
   "metadata": {},
   "source": [
    "#### Looping on Lists"
   ]
  },
  {
   "cell_type": "code",
   "execution_count": 18,
   "id": "0e1bd327",
   "metadata": {},
   "outputs": [
    {
     "name": "stdout",
     "output_type": "stream",
     "text": [
      "1\n",
      "a\n",
      "Linkin\n",
      "Park\n",
      "Park\n",
      "[1, 4, 5]\n",
      "1\n",
      "2\n"
     ]
    }
   ],
   "source": [
    "for i in range(len(li)):\n",
    "    print(li[i])"
   ]
  },
  {
   "cell_type": "code",
   "execution_count": 19,
   "id": "96971f0d",
   "metadata": {},
   "outputs": [
    {
     "name": "stdout",
     "output_type": "stream",
     "text": [
      "Linkin\n"
     ]
    }
   ],
   "source": [
    "for i in range(2,3):\n",
    "    print(li[i])"
   ]
  },
  {
   "cell_type": "code",
   "execution_count": 21,
   "id": "d41249c2",
   "metadata": {},
   "outputs": [
    {
     "name": "stdout",
     "output_type": "stream",
     "text": [
      "Park\n",
      "Park\n",
      "[1, 4, 5]\n",
      "1\n",
      "2\n"
     ]
    }
   ],
   "source": [
    "#if code doesn't require any index, even slicing can be done\n",
    "for i in li[3:]:\n",
    "    print(i)"
   ]
  },
  {
   "cell_type": "markdown",
   "id": "2047e78d",
   "metadata": {},
   "source": [
    "### Negative Indexing and Sequencing"
   ]
  },
  {
   "cell_type": "code",
   "execution_count": 23,
   "id": "0fdb99f6",
   "metadata": {},
   "outputs": [
    {
     "data": {
      "text/plain": [
       "2"
      ]
     },
     "execution_count": 23,
     "metadata": {},
     "output_type": "execute_result"
    }
   ],
   "source": [
    "li[-1]"
   ]
  },
  {
   "cell_type": "code",
   "execution_count": 24,
   "id": "feebb9f0",
   "metadata": {},
   "outputs": [],
   "source": [
    "li = [2,3,4,'Linkin','Park',7,[2,3,4],6]"
   ]
  },
  {
   "cell_type": "code",
   "execution_count": 25,
   "id": "10669a94",
   "metadata": {},
   "outputs": [
    {
     "data": {
      "text/plain": [
       "6"
      ]
     },
     "execution_count": 25,
     "metadata": {},
     "output_type": "execute_result"
    }
   ],
   "source": [
    "li[-1]"
   ]
  },
  {
   "cell_type": "code",
   "execution_count": 29,
   "id": "a65080ec",
   "metadata": {},
   "outputs": [
    {
     "data": {
      "text/plain": [
       "[3, 'Linkin', 7]"
      ]
     },
     "execution_count": 29,
     "metadata": {},
     "output_type": "execute_result"
    }
   ],
   "source": [
    "#1st-start, 2nd-end, 3rd-stepsize\n",
    "li[1:6:2]"
   ]
  },
  {
   "cell_type": "code",
   "execution_count": 30,
   "id": "4ab27950",
   "metadata": {},
   "outputs": [
    {
     "data": {
      "text/plain": [
       "[2, 3, 4]"
      ]
     },
     "execution_count": 30,
     "metadata": {},
     "output_type": "execute_result"
    }
   ],
   "source": [
    "li[:3]"
   ]
  },
  {
   "cell_type": "code",
   "execution_count": 31,
   "id": "85f09698",
   "metadata": {},
   "outputs": [
    {
     "data": {
      "text/plain": [
       "['Linkin', 'Park', 7, [2, 3, 4], 6]"
      ]
     },
     "execution_count": 31,
     "metadata": {},
     "output_type": "execute_result"
    }
   ],
   "source": [
    "li[3:]"
   ]
  },
  {
   "cell_type": "markdown",
   "id": "948f28da",
   "metadata": {},
   "source": [
    "#### Taking Input in a List"
   ]
  },
  {
   "cell_type": "markdown",
   "id": "7453f3ed",
   "metadata": {},
   "source": [
    "Two ways:\n",
    "1) Line separated\n",
    "2) Space separated "
   ]
  },
  {
   "cell_type": "code",
   "execution_count": 34,
   "id": "34022499",
   "metadata": {},
   "outputs": [
    {
     "name": "stdout",
     "output_type": "stream",
     "text": [
      "5\n",
      "2\n",
      "3\n",
      "4\n",
      "5\n",
      "6\n"
     ]
    }
   ],
   "source": [
    "#Line separated\n",
    "n = int(input())\n",
    "li = []\n",
    "for i in range(n):\n",
    "    curr = int(input())\n",
    "    li.append(curr)"
   ]
  },
  {
   "cell_type": "code",
   "execution_count": 35,
   "id": "11cf4af9",
   "metadata": {},
   "outputs": [
    {
     "data": {
      "text/plain": [
       "[2, 3, 4, 5, 6]"
      ]
     },
     "execution_count": 35,
     "metadata": {},
     "output_type": "execute_result"
    }
   ],
   "source": [
    "li"
   ]
  },
  {
   "cell_type": "code",
   "execution_count": 145,
   "id": "778e08c7",
   "metadata": {},
   "outputs": [
    {
     "name": "stdout",
     "output_type": "stream",
     "text": [
      "1 2 3 4 5\n"
     ]
    }
   ],
   "source": [
    "str = input()"
   ]
  },
  {
   "cell_type": "code",
   "execution_count": 146,
   "id": "927ab202",
   "metadata": {},
   "outputs": [
    {
     "data": {
      "text/plain": [
       "'1 2 3 4 5'"
      ]
     },
     "execution_count": 146,
     "metadata": {},
     "output_type": "execute_result"
    }
   ],
   "source": [
    "str"
   ]
  },
  {
   "cell_type": "code",
   "execution_count": 39,
   "id": "4d464f87",
   "metadata": {},
   "outputs": [
    {
     "data": {
      "text/plain": [
       "['1', '2', '3', '4', '5']"
      ]
     },
     "execution_count": 39,
     "metadata": {},
     "output_type": "execute_result"
    }
   ],
   "source": [
    "str_split = str.split()\n",
    "str_split"
   ]
  },
  {
   "cell_type": "code",
   "execution_count": 42,
   "id": "f47caaa9",
   "metadata": {},
   "outputs": [
    {
     "data": {
      "text/plain": [
       "[1, 2, 3, 4, 5]"
      ]
     },
     "execution_count": 42,
     "metadata": {},
     "output_type": "execute_result"
    }
   ],
   "source": [
    "l = []\n",
    "for ele in str_split:\n",
    "    l.append(int(ele))\n",
    "l"
   ]
  },
  {
   "cell_type": "code",
   "execution_count": 44,
   "id": "e186faf5",
   "metadata": {},
   "outputs": [
    {
     "name": "stdout",
     "output_type": "stream",
     "text": [
      "3 4 5 6 7 8\n"
     ]
    }
   ],
   "source": [
    "li = [int(x) for x in input().split()]"
   ]
  },
  {
   "cell_type": "code",
   "execution_count": 45,
   "id": "0983f667",
   "metadata": {},
   "outputs": [
    {
     "data": {
      "text/plain": [
       "[3, 4, 5, 6, 7, 8]"
      ]
     },
     "execution_count": 45,
     "metadata": {},
     "output_type": "execute_result"
    }
   ],
   "source": [
    "li"
   ]
  },
  {
   "cell_type": "markdown",
   "id": "3b2f0b8c",
   "metadata": {},
   "source": [
    "#### Questions "
   ]
  },
  {
   "cell_type": "code",
   "execution_count": 47,
   "id": "44abfdbe",
   "metadata": {},
   "outputs": [
    {
     "name": "stdout",
     "output_type": "stream",
     "text": [
      "5\n",
      "2 4 5 5\n",
      "16\n"
     ]
    }
   ],
   "source": [
    "n = int(input())\n",
    "li = [int(x) for x in input().split()]\n",
    "sum = 0\n",
    "for ele in li:\n",
    "    sum = sum + ele\n",
    "print(sum)"
   ]
  },
  {
   "cell_type": "markdown",
   "id": "13daed92",
   "metadata": {},
   "source": [
    "#### Linear Search"
   ]
  },
  {
   "cell_type": "code",
   "execution_count": 50,
   "id": "a4e0678b",
   "metadata": {},
   "outputs": [
    {
     "name": "stdout",
     "output_type": "stream",
     "text": [
      "3\n",
      "2 3 4\n",
      "4\n",
      "2\n"
     ]
    }
   ],
   "source": [
    "n = int(input())\n",
    "li = [int(x) for x in input().split()]\n",
    "ele = int(input())\n",
    "isFound = False\n",
    "for i in range(len(li)):\n",
    "    if li[i] == ele:\n",
    "        isFound = True\n",
    "        print(i)\n",
    "if isFound is False:\n",
    "    print(-1)"
   ]
  },
  {
   "cell_type": "markdown",
   "id": "30065640",
   "metadata": {},
   "source": [
    "#### Liner Search through Functions"
   ]
  },
  {
   "cell_type": "code",
   "execution_count": 54,
   "id": "4915440e",
   "metadata": {},
   "outputs": [
    {
     "name": "stdout",
     "output_type": "stream",
     "text": [
      "3\n",
      "3 4 5 6\n",
      "7\n",
      "-1\n"
     ]
    }
   ],
   "source": [
    "def linearSearch(li,ele):\n",
    "    isFound = False\n",
    "    for i in range(len(li)):\n",
    "        if ele == li[i]:\n",
    "            return i\n",
    "    return -1\n",
    "\n",
    "\n",
    "n = int(input())\n",
    "li = [int(x) for x in input().split()]\n",
    "i = int(input())\n",
    "index = linearSearch(li, i)\n",
    "print(index)"
   ]
  },
  {
   "cell_type": "code",
   "execution_count": 55,
   "id": "408a52e2",
   "metadata": {},
   "outputs": [
    {
     "name": "stdout",
     "output_type": "stream",
     "text": [
      "2\n"
     ]
    }
   ],
   "source": [
    "def increment(a):\n",
    "    a = a + 2\n",
    "    return\n",
    "\n",
    "a = 2\n",
    "increment(a)\n",
    "print(a)"
   ]
  },
  {
   "cell_type": "code",
   "execution_count": 59,
   "id": "0c932add",
   "metadata": {},
   "outputs": [
    {
     "name": "stdout",
     "output_type": "stream",
     "text": [
      "[0, 1, 2, 3, 4, 3, 4, 5, 6, 7]\n"
     ]
    }
   ],
   "source": [
    "def append(li):\n",
    "    for i in range(len(li)):\n",
    "        li.insert(i, i)\n",
    "    return li\n",
    "\n",
    "li = [3,4,5,6,7]\n",
    "li = append(li)\n",
    "print(li)"
   ]
  },
  {
   "cell_type": "markdown",
   "id": "8b3f142d",
   "metadata": {},
   "source": [
    "#### Reversing a List"
   ]
  },
  {
   "cell_type": "code",
   "execution_count": 66,
   "id": "c56aa4cb",
   "metadata": {},
   "outputs": [
    {
     "name": "stdout",
     "output_type": "stream",
     "text": [
      "[6, 5, 4, 3, 2, 1]\n"
     ]
    }
   ],
   "source": [
    "def reverse(li):\n",
    "    for i in range(len(li)//2):\n",
    "        #li[i],li[len(li)-i-1] = li[len(li)-i-1],li[i]\n",
    "        #with negative indexing\n",
    "        li[i],li[-i-1] = li[-i-1],li[i]\n",
    "        \n",
    "li = [1,2,3,4,5,6]\n",
    "reverse(li)\n",
    "print(li)"
   ]
  },
  {
   "cell_type": "markdown",
   "id": "871beb42",
   "metadata": {},
   "source": [
    "#### Swapping List in One Line!"
   ]
  },
  {
   "cell_type": "code",
   "execution_count": 67,
   "id": "818b6e8a",
   "metadata": {},
   "outputs": [
    {
     "data": {
      "text/plain": [
       "[1, 2, 3, 4, 5, 6]"
      ]
     },
     "execution_count": 67,
     "metadata": {},
     "output_type": "execute_result"
    }
   ],
   "source": [
    "li[len(li)-1::-1]"
   ]
  },
  {
   "cell_type": "code",
   "execution_count": 71,
   "id": "7cd54a40",
   "metadata": {},
   "outputs": [
    {
     "data": {
      "text/plain": [
       "[1, 2, 3]"
      ]
     },
     "execution_count": 71,
     "metadata": {},
     "output_type": "execute_result"
    }
   ],
   "source": [
    "li= [3,2,1]\n",
    "li[len(li)-1::-1]"
   ]
  },
  {
   "cell_type": "code",
   "execution_count": null,
   "id": "2df9fec3",
   "metadata": {},
   "outputs": [],
   "source": [
    "#find unique\n",
    "n = int(input())\n",
    "li = [int(x) for x in input().split()]\n",
    "count = 1\n",
    "    for i in range(len(li)-1):\n",
    "        for j in range(len(li)):\n",
    "            if i != j:\n",
    "                if li[i] == li[j]:\n",
    "                    break\n",
    "                else:\n",
    "                    j+=1\n",
    "        else:\n",
    "            return li[i]\n",
    "        i+=1\n",
    "    return li[i]"
   ]
  },
  {
   "cell_type": "code",
   "execution_count": 130,
   "id": "1426db57",
   "metadata": {},
   "outputs": [
    {
     "name": "stdout",
     "output_type": "stream",
     "text": [
      "3\n",
      "2 2 1\n",
      "2\n"
     ]
    }
   ],
   "source": [
    "#find duplicate\n",
    "def dup(li,n):\n",
    "    i=0\n",
    "    for i in range(n-1):\n",
    "        for j in range(n):\n",
    "            if i != j and li[i] != li[j]:\n",
    "                j+=1\n",
    "            elif i != j and li[i] == li[j]:\n",
    "                return li[i]\n",
    "            \n",
    "        i+=1\n",
    "    return li[i]\n",
    "\n",
    "n = int(input())\n",
    "li = [int(x) for x in input().split()]\n",
    "print(dup(li,n))"
   ]
  },
  {
   "cell_type": "code",
   "execution_count": 151,
   "id": "2f3f4ae6",
   "metadata": {},
   "outputs": [
    {
     "name": "stdout",
     "output_type": "stream",
     "text": [
      "2\n",
      "10 10\n",
      "1\n",
      "10\n",
      "10 \n"
     ]
    }
   ],
   "source": [
    "#Array intersection\n",
    "def intersections(arr1, n, arr2, m) :\n",
    "    li = []\n",
    "    i = 0\n",
    "    count = 0\n",
    "    for i in range(n):\n",
    "        for j in range(len(arr2)):\n",
    "            if arr1[i] == arr2[j]:\n",
    "                print(arr1[i], end=' ')\n",
    "                arr2.remove(arr2[j])\n",
    "                break\n",
    "            j+=1\n",
    "        i+=1\n",
    "    return\n",
    "\n",
    "n = int(input())\n",
    "arr1 = [int(x) for x in input().split()]\n",
    "m = int(input())\n",
    "arr2 = [int(x) for x in input().split()]\n",
    "intersections(arr1, n, arr2, m)\n",
    "print()\n",
    "            "
   ]
  },
  {
   "cell_type": "code",
   "execution_count": 9,
   "id": "30eda1fe",
   "metadata": {},
   "outputs": [
    {
     "name": "stdout",
     "output_type": "stream",
     "text": [
      "9\n",
      "1 3 6 2 5 4 3 2 4\n",
      "7\n",
      "7\n"
     ]
    }
   ],
   "source": [
    "#find number of pairs that sum up to X\n",
    "def pairSum(li, n, x):\n",
    "    count = 0\n",
    "    for i in range(n):\n",
    "        j=i+1\n",
    "        while j<n:\n",
    "            if li[i]+li[j] == x:\n",
    "                count+=1\n",
    "            j+=1\n",
    "    return count\n",
    "            \n",
    "            \n",
    "n = int(input())\n",
    "li = [int(x) for x in input().split()]\n",
    "x = int(input())\n",
    "print(pairSum(li, n, x))"
   ]
  },
  {
   "cell_type": "code",
   "execution_count": 10,
   "id": "cc400aa3",
   "metadata": {},
   "outputs": [
    {
     "name": "stdout",
     "output_type": "stream",
     "text": [
      "7\n",
      "1 2 3 4 5 6 7\n",
      "12\n",
      "5\n"
     ]
    }
   ],
   "source": [
    "#triplet sum\n",
    "def findTriplet(arr, n, x):\n",
    "    count = 0\n",
    "    for i in range(n):\n",
    "        j = i+1\n",
    "        for j in range(i+1,n):\n",
    "            k = j+1\n",
    "            for k in range(j+1,n):\n",
    "                if arr[i] + arr[j] + arr[k] == x:\n",
    "                    count+=1\n",
    "    return count\n",
    "\n",
    "n = int(input())\n",
    "li = [int(x) for x in input().split()]\n",
    "x = int(input())\n",
    "print(findTriplet(li, n, x))"
   ]
  },
  {
   "cell_type": "code",
   "execution_count": 18,
   "id": "bb246286",
   "metadata": {},
   "outputs": [
    {
     "name": "stdout",
     "output_type": "stream",
     "text": [
      "6\n",
      "1 1 0 0 1 0\n",
      "[0, 1, 0, 0, 1, 1]\n",
      "[0, 1, 0, 0, 1, 1]\n",
      "[0, 0, 0, 1, 1, 1]\n",
      "[0, 0, 0, 1, 1, 1]\n"
     ]
    }
   ],
   "source": [
    "#sort 0s and 1s (my method)\n",
    "def sortZeroesAndOne(arr, n):\n",
    "    i = 0\n",
    "    j = 0\n",
    "    size = n-1\n",
    "    while i < size-j :\n",
    "        if arr[i] < arr[size-j]:\n",
    "            i+=1\n",
    "            j+=1\n",
    "        elif arr[i] > arr[size-j]:\n",
    "            arr[i],arr[size-j] = arr[size-j],arr[i]\n",
    "            i+=1\n",
    "            j+=1\n",
    "        elif arr[i] > 0 and arr[size-j] > 0:\n",
    "            j+=1\n",
    "        elif arr[i] == 0 and arr[size-j] == 0:\n",
    "            i+=1\n",
    "        print(arr)\n",
    "    \n",
    "    return arr\n",
    "\n",
    "n = int(input())\n",
    "arr = [int(x) for x in input().split()]\n",
    "print(sortZeroesAndOne(arr, n))\n",
    "        "
   ]
  },
  {
   "cell_type": "code",
   "execution_count": 19,
   "id": "26794bce",
   "metadata": {},
   "outputs": [
    {
     "name": "stdout",
     "output_type": "stream",
     "text": [
      "5\n",
      "1 0 0 1 1\n",
      "[0, 0, 1, 1, 1]\n"
     ]
    }
   ],
   "source": [
    "#alternate approach more optimised (coding ninja method)\n",
    "def sortZeroesAndOne(arr, n):\n",
    "    nextzero = 0\n",
    "    for i in range(n):\n",
    "        if arr[i] == 0:\n",
    "            temp = arr[nextzero]\n",
    "            arr[nextzero] = arr[i]\n",
    "            arr[i] = temp\n",
    "            nextzero+=1\n",
    "    \n",
    "    return arr\n",
    "\n",
    "n = int(input())\n",
    "arr = [int(x) for x in input().split()]\n",
    "print(sortZeroesAndOne(arr, n))\n"
   ]
  },
  {
   "cell_type": "code",
   "execution_count": null,
   "id": "e3603173",
   "metadata": {},
   "outputs": [],
   "source": []
  }
 ],
 "metadata": {
  "kernelspec": {
   "display_name": "Python 3",
   "language": "python",
   "name": "python3"
  },
  "language_info": {
   "codemirror_mode": {
    "name": "ipython",
    "version": 3
   },
   "file_extension": ".py",
   "mimetype": "text/x-python",
   "name": "python",
   "nbconvert_exporter": "python",
   "pygments_lexer": "ipython3",
   "version": "3.8.8"
  }
 },
 "nbformat": 4,
 "nbformat_minor": 5
}
