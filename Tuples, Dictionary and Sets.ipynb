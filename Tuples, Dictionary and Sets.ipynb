{
 "cells": [
  {
   "cell_type": "markdown",
   "id": "b412e2ff",
   "metadata": {},
   "source": [
    "### Introduction\n",
    "\n",
    "- Tuples are IMMUTABLE, unlike lists.\n",
    "- In case of strings, tuples and lists we are able to use indexing cos there's an order to them."
   ]
  },
  {
   "cell_type": "markdown",
   "id": "1acd5377",
   "metadata": {},
   "source": [
    "### Tuple"
   ]
  },
  {
   "cell_type": "code",
   "execution_count": 1,
   "id": "df1ff211",
   "metadata": {},
   "outputs": [
    {
     "data": {
      "text/plain": [
       "tuple"
      ]
     },
     "execution_count": 1,
     "metadata": {},
     "output_type": "execute_result"
    }
   ],
   "source": [
    "#by default Python assumes a lot of things as a tuple\n",
    "a = (1,2)\n",
    "b = 1,2\n",
    "type(b)"
   ]
  },
  {
   "cell_type": "code",
   "execution_count": 10,
   "id": "153487c3",
   "metadata": {},
   "outputs": [
    {
     "data": {
      "text/plain": [
       "(2, 1)"
      ]
     },
     "execution_count": 10,
     "metadata": {},
     "output_type": "execute_result"
    }
   ],
   "source": [
    "#Slicing works the same way\n",
    "f = (1,2,3,4,5,6)\n",
    "f[-5::-1] #damn I forgot how -ve indexing works"
   ]
  },
  {
   "cell_type": "code",
   "execution_count": 12,
   "id": "953a631a",
   "metadata": {},
   "outputs": [
    {
     "data": {
      "text/plain": [
       "(6, 5, 4, 3, 2, 1)"
      ]
     },
     "execution_count": 12,
     "metadata": {},
     "output_type": "execute_result"
    }
   ],
   "source": [
    "#reverse :)\n",
    "f[len(f)::-1]"
   ]
  },
  {
   "cell_type": "code",
   "execution_count": 13,
   "id": "6c7552a2",
   "metadata": {},
   "outputs": [
    {
     "ename": "TypeError",
     "evalue": "'tuple' object does not support item assignment",
     "output_type": "error",
     "traceback": [
      "\u001b[1;31m---------------------------------------------------------------------------\u001b[0m",
      "\u001b[1;31mTypeError\u001b[0m                                 Traceback (most recent call last)",
      "\u001b[1;32m<ipython-input-13-364b66739aa1>\u001b[0m in \u001b[0;36m<module>\u001b[1;34m\u001b[0m\n\u001b[0;32m      1\u001b[0m \u001b[1;31m#items in tuple cannot be added, deleted or updated\u001b[0m\u001b[1;33m\u001b[0m\u001b[1;33m\u001b[0m\u001b[1;33m\u001b[0m\u001b[0m\n\u001b[1;32m----> 2\u001b[1;33m \u001b[0mf\u001b[0m\u001b[1;33m[\u001b[0m\u001b[1;36m2\u001b[0m\u001b[1;33m]\u001b[0m \u001b[1;33m=\u001b[0m \u001b[1;36m34\u001b[0m\u001b[1;33m\u001b[0m\u001b[1;33m\u001b[0m\u001b[0m\n\u001b[0m",
      "\u001b[1;31mTypeError\u001b[0m: 'tuple' object does not support item assignment"
     ]
    }
   ],
   "source": [
    "#Immutability: items in tuple cannot be added, deleted or updated\n",
    "f[2] = 34"
   ]
  },
  {
   "cell_type": "code",
   "execution_count": 14,
   "id": "f7b2d323",
   "metadata": {},
   "outputs": [
    {
     "name": "stdout",
     "output_type": "stream",
     "text": [
      "1\n",
      "2\n",
      "3\n",
      "4\n",
      "5\n",
      "6\n"
     ]
    }
   ],
   "source": [
    "#for loop\n",
    "for i in f:\n",
    "    print(i)"
   ]
  },
  {
   "cell_type": "code",
   "execution_count": 15,
   "id": "7622f6db",
   "metadata": {},
   "outputs": [
    {
     "data": {
      "text/plain": [
       "True"
      ]
     },
     "execution_count": 15,
     "metadata": {},
     "output_type": "execute_result"
    }
   ],
   "source": [
    "#membership check\n",
    "1 in f"
   ]
  },
  {
   "cell_type": "code",
   "execution_count": 16,
   "id": "5c88c1d2",
   "metadata": {},
   "outputs": [
    {
     "data": {
      "text/plain": [
       "False"
      ]
     },
     "execution_count": 16,
     "metadata": {},
     "output_type": "execute_result"
    }
   ],
   "source": [
    "9 in f"
   ]
  },
  {
   "cell_type": "code",
   "execution_count": 17,
   "id": "80026bfc",
   "metadata": {},
   "outputs": [
    {
     "data": {
      "text/plain": [
       "(1, 2, 3, 4, 5)"
      ]
     },
     "execution_count": 17,
     "metadata": {},
     "output_type": "execute_result"
    }
   ],
   "source": [
    "#concatenation\n",
    "a = (1,2)\n",
    "b = 3,4,5\n",
    "c = a + b\n",
    "c"
   ]
  },
  {
   "cell_type": "code",
   "execution_count": 19,
   "id": "52bc5027",
   "metadata": {},
   "outputs": [
    {
     "data": {
      "text/plain": [
       "(1, 2, 1, 2, 1, 2)"
      ]
     },
     "execution_count": 19,
     "metadata": {},
     "output_type": "execute_result"
    }
   ],
   "source": [
    "#tuple of tuples\n",
    "d = (a, b)\n",
    "d\n",
    "\n",
    "#multiplying elements - repetition\n",
    "e = a*3\n",
    "e"
   ]
  },
  {
   "cell_type": "code",
   "execution_count": 21,
   "id": "b06f5560",
   "metadata": {},
   "outputs": [
    {
     "ename": "TypeError",
     "evalue": "'<' not supported between instances of 'tuple' and 'int'",
     "output_type": "error",
     "traceback": [
      "\u001b[1;31m---------------------------------------------------------------------------\u001b[0m",
      "\u001b[1;31mTypeError\u001b[0m                                 Traceback (most recent call last)",
      "\u001b[1;32m<ipython-input-21-0e101104dab6>\u001b[0m in \u001b[0;36m<module>\u001b[1;34m\u001b[0m\n\u001b[0;32m      1\u001b[0m \u001b[0ma\u001b[0m \u001b[1;33m=\u001b[0m \u001b[1;33m(\u001b[0m\u001b[1;36m1\u001b[0m\u001b[1;33m,\u001b[0m\u001b[1;36m2\u001b[0m\u001b[1;33m,\u001b[0m\u001b[1;36m3\u001b[0m\u001b[1;33m,\u001b[0m\u001b[1;36m4\u001b[0m\u001b[1;33m,\u001b[0m\u001b[1;33m(\u001b[0m\u001b[1;36m1\u001b[0m\u001b[1;33m,\u001b[0m\u001b[1;36m2\u001b[0m\u001b[1;33m)\u001b[0m\u001b[1;33m)\u001b[0m\u001b[1;33m\u001b[0m\u001b[1;33m\u001b[0m\u001b[0m\n\u001b[1;32m----> 2\u001b[1;33m \u001b[0mmin\u001b[0m\u001b[1;33m(\u001b[0m\u001b[0ma\u001b[0m\u001b[1;33m)\u001b[0m\u001b[1;33m\u001b[0m\u001b[1;33m\u001b[0m\u001b[0m\n\u001b[0m",
      "\u001b[1;31mTypeError\u001b[0m: '<' not supported between instances of 'tuple' and 'int'"
     ]
    }
   ],
   "source": [
    "#min and max functions\n",
    "a = (1,2,3,4,(1,2))\n",
    "min(a)"
   ]
  },
  {
   "cell_type": "code",
   "execution_count": 22,
   "id": "daa9f939",
   "metadata": {},
   "outputs": [
    {
     "data": {
      "text/plain": [
       "(1, 2, 3, 4)"
      ]
     },
     "execution_count": 22,
     "metadata": {},
     "output_type": "execute_result"
    }
   ],
   "source": [
    "#list to tuple\n",
    "l = [1,2,3,4]\n",
    "tup = tuple(l)\n",
    "tup"
   ]
  },
  {
   "cell_type": "markdown",
   "id": "0ffa3de2",
   "metadata": {},
   "source": [
    "#### Variable length input and output\n",
    "- If * is given as input argument in function, the values given to the function act as a tuple\n",
    "- output will also be of type tuple if assignment variable is one but values returned are more than 1"
   ]
  },
  {
   "cell_type": "code",
   "execution_count": 25,
   "id": "e1e44308",
   "metadata": {},
   "outputs": [
    {
     "data": {
      "text/plain": [
       "27"
      ]
     },
     "execution_count": 25,
     "metadata": {},
     "output_type": "execute_result"
    }
   ],
   "source": [
    "#variable length input: \n",
    "def add(a,b,c=0, *more):\n",
    "    ans = a + b\n",
    "    for i in more:\n",
    "        ans = ans + i\n",
    "        \n",
    "    return ans\n",
    "\n",
    "ans = add(2,3,4,5,6,7)\n",
    "ans"
   ]
  },
  {
   "cell_type": "code",
   "execution_count": 26,
   "id": "d69d67a2",
   "metadata": {},
   "outputs": [
    {
     "data": {
      "text/plain": [
       "(11, -7)"
      ]
     },
     "execution_count": 26,
     "metadata": {},
     "output_type": "execute_result"
    }
   ],
   "source": [
    "def multi(a,b,c=0):\n",
    "    return a+b+c,a-b-c\n",
    "\n",
    "ans = multi(2,3,6)\n",
    "ans"
   ]
  },
  {
   "cell_type": "markdown",
   "id": "bd05eead",
   "metadata": {},
   "source": [
    "### Dictionary\n",
    "- a{key:value}\n",
    "- Key can be anything unlike lists and tuples where key to the value can only be the index\n",
    "- MUTABLE\n",
    "\n",
    "Advantage:\n",
    "- If we need 1000 to be an index in a list, we need 1001 elements in it, but dict can hold 1000 as a key in any number of elements"
   ]
  },
  {
   "cell_type": "code",
   "execution_count": 30,
   "id": "1deff436",
   "metadata": {},
   "outputs": [
    {
     "data": {
      "text/plain": [
       "3"
      ]
     },
     "execution_count": 30,
     "metadata": {},
     "output_type": "execute_result"
    }
   ],
   "source": [
    "a = {'the':2, 'cat':3, 20:'what'}\n",
    "a['cat']"
   ]
  },
  {
   "cell_type": "markdown",
   "id": "f08568bb",
   "metadata": {},
   "source": [
    "#### Ways of creating dicts\n",
    "- Copying another dict\n",
    "- Using dict function\n",
    "- Using fromkeys function, by default gives None to values"
   ]
  },
  {
   "cell_type": "code",
   "execution_count": 32,
   "id": "af626a14",
   "metadata": {},
   "outputs": [
    {
     "data": {
      "text/plain": [
       "{'the': 2, 'cat': 3, 20: 'what'}"
      ]
     },
     "execution_count": 32,
     "metadata": {},
     "output_type": "execute_result"
    }
   ],
   "source": [
    "#copy\n",
    "b = a.copy()\n",
    "b"
   ]
  },
  {
   "cell_type": "code",
   "execution_count": 33,
   "id": "6e127b1c",
   "metadata": {},
   "outputs": [],
   "source": [
    "#convert list to dict\n",
    "li = [('a',3),('b',4),(3,'what')]"
   ]
  },
  {
   "cell_type": "code",
   "execution_count": 34,
   "id": "73dceaf8",
   "metadata": {},
   "outputs": [
    {
     "data": {
      "text/plain": [
       "{'a': 3, 'b': 4, 3: 'what'}"
      ]
     },
     "execution_count": 34,
     "metadata": {},
     "output_type": "execute_result"
    }
   ],
   "source": [
    "d = dict(li)\n",
    "d"
   ]
  },
  {
   "cell_type": "code",
   "execution_count": 36,
   "id": "83072005",
   "metadata": {},
   "outputs": [
    {
     "data": {
      "text/plain": [
       "{'the': 10, 4: 10, 5: 10}"
      ]
     },
     "execution_count": 36,
     "metadata": {},
     "output_type": "execute_result"
    }
   ],
   "source": [
    "#Using fromkeys function\n",
    "d = dict.fromkeys(['the',4,5],10)\n",
    "d"
   ]
  },
  {
   "cell_type": "markdown",
   "id": "0db8c460",
   "metadata": {},
   "source": [
    "#### Manipulation inside dicts"
   ]
  },
  {
   "cell_type": "code",
   "execution_count": 62,
   "id": "213ba757",
   "metadata": {},
   "outputs": [
    {
     "data": {
      "text/plain": [
       "{1, 2}"
      ]
     },
     "execution_count": 62,
     "metadata": {},
     "output_type": "execute_result"
    }
   ],
   "source": [
    "a = {'the':2, 'cat':3, 20:'what', 9:{1,2}, 2.2:[6,7]}\n",
    "a.get(9)"
   ]
  },
  {
   "cell_type": "code",
   "execution_count": 39,
   "id": "446e125e",
   "metadata": {},
   "outputs": [
    {
     "name": "stdout",
     "output_type": "stream",
     "text": [
      "None\n"
     ]
    }
   ],
   "source": [
    "#get function will not return error if the key is not present\n",
    "print(a.get('love')) #xDxDxD"
   ]
  },
  {
   "cell_type": "code",
   "execution_count": 40,
   "id": "068ac7f8",
   "metadata": {},
   "outputs": [
    {
     "ename": "KeyError",
     "evalue": "'love'",
     "output_type": "error",
     "traceback": [
      "\u001b[1;31m---------------------------------------------------------------------------\u001b[0m",
      "\u001b[1;31mKeyError\u001b[0m                                  Traceback (most recent call last)",
      "\u001b[1;32m<ipython-input-40-638afea92c62>\u001b[0m in \u001b[0;36m<module>\u001b[1;34m\u001b[0m\n\u001b[1;32m----> 1\u001b[1;33m \u001b[0ma\u001b[0m\u001b[1;33m[\u001b[0m\u001b[1;34m'love'\u001b[0m\u001b[1;33m]\u001b[0m\u001b[1;33m\u001b[0m\u001b[1;33m\u001b[0m\u001b[0m\n\u001b[0m",
      "\u001b[1;31mKeyError\u001b[0m: 'love'"
     ]
    }
   ],
   "source": [
    "a['love']"
   ]
  },
  {
   "cell_type": "code",
   "execution_count": 45,
   "id": "921dd2a3",
   "metadata": {},
   "outputs": [
    {
     "data": {
      "text/plain": [
       "0"
      ]
     },
     "execution_count": 45,
     "metadata": {},
     "output_type": "execute_result"
    }
   ],
   "source": [
    "#In case key has no value and you don't want get to return none, 2nd argument is returned\n",
    "a.get('love', 0)"
   ]
  },
  {
   "cell_type": "code",
   "execution_count": 46,
   "id": "a643e10a",
   "metadata": {},
   "outputs": [
    {
     "data": {
      "text/plain": [
       "dict_keys(['the', 'cat', 20, 9, 2.2])"
      ]
     },
     "execution_count": 46,
     "metadata": {},
     "output_type": "execute_result"
    }
   ],
   "source": [
    "a.keys()"
   ]
  },
  {
   "cell_type": "code",
   "execution_count": 47,
   "id": "b3dbe495",
   "metadata": {},
   "outputs": [
    {
     "data": {
      "text/plain": [
       "dict_values([2, 3, 'what', {1, 2}, [6, 7]])"
      ]
     },
     "execution_count": 47,
     "metadata": {},
     "output_type": "execute_result"
    }
   ],
   "source": [
    "a.values()"
   ]
  },
  {
   "cell_type": "code",
   "execution_count": 48,
   "id": "04896472",
   "metadata": {},
   "outputs": [
    {
     "data": {
      "text/plain": [
       "dict_items([('the', 2), ('cat', 3), (20, 'what'), (9, {1, 2}), (2.2, [6, 7])])"
      ]
     },
     "execution_count": 48,
     "metadata": {},
     "output_type": "execute_result"
    }
   ],
   "source": [
    "a.items() #gives a list of tuples"
   ]
  },
  {
   "cell_type": "markdown",
   "id": "6feeedc2",
   "metadata": {},
   "source": [
    "#### Looping in dicts"
   ]
  },
  {
   "cell_type": "code",
   "execution_count": 49,
   "id": "2c75b09c",
   "metadata": {},
   "outputs": [
    {
     "name": "stdout",
     "output_type": "stream",
     "text": [
      "the 2\n",
      "cat 3\n",
      "20 what\n",
      "9 {1, 2}\n",
      "2.2 [6, 7]\n"
     ]
    }
   ],
   "source": [
    "for i in a:\n",
    "    print(i, a[i])"
   ]
  },
  {
   "cell_type": "code",
   "execution_count": 50,
   "id": "60515c6e",
   "metadata": {},
   "outputs": [
    {
     "name": "stdout",
     "output_type": "stream",
     "text": [
      "2\n",
      "3\n",
      "what\n",
      "{1, 2}\n",
      "[6, 7]\n"
     ]
    }
   ],
   "source": [
    "for i in a.values():\n",
    "    print(i)"
   ]
  },
  {
   "cell_type": "code",
   "execution_count": 51,
   "id": "9acc0113",
   "metadata": {},
   "outputs": [
    {
     "data": {
      "text/plain": [
       "True"
      ]
     },
     "execution_count": 51,
     "metadata": {},
     "output_type": "execute_result"
    }
   ],
   "source": [
    "#to check if key is present in a dict\n",
    "'the' in a"
   ]
  },
  {
   "cell_type": "markdown",
   "id": "da2f7439",
   "metadata": {},
   "source": [
    "#### Updating Dicts"
   ]
  },
  {
   "cell_type": "code",
   "execution_count": 52,
   "id": "c81c9d0f",
   "metadata": {},
   "outputs": [
    {
     "data": {
      "text/plain": [
       "{'the': 2, 'cat': 3, 20: 'what', 9: {1, 2}, 2.2: [6, 7], 't': 90}"
      ]
     },
     "execution_count": 52,
     "metadata": {},
     "output_type": "execute_result"
    }
   ],
   "source": [
    "a['t'] = 90\n",
    "a"
   ]
  },
  {
   "cell_type": "code",
   "execution_count": 53,
   "id": "522ca8c5",
   "metadata": {},
   "outputs": [],
   "source": [
    "b = {'a':89, 'the':120}\n",
    "a.update(b)"
   ]
  },
  {
   "cell_type": "code",
   "execution_count": 54,
   "id": "38f4b126",
   "metadata": {},
   "outputs": [
    {
     "data": {
      "text/plain": [
       "{'the': 120, 'cat': 3, 20: 'what', 9: {1, 2}, 2.2: [6, 7], 't': 90, 'a': 89}"
      ]
     },
     "execution_count": 54,
     "metadata": {},
     "output_type": "execute_result"
    }
   ],
   "source": [
    "#update will update all the values of keys given in b and add the new key value pairs to a\n",
    "a"
   ]
  },
  {
   "cell_type": "markdown",
   "id": "57d90b7f",
   "metadata": {},
   "source": [
    "#### Removing elements"
   ]
  },
  {
   "cell_type": "code",
   "execution_count": 55,
   "id": "00ec9496",
   "metadata": {},
   "outputs": [
    {
     "data": {
      "text/plain": [
       "3"
      ]
     },
     "execution_count": 55,
     "metadata": {},
     "output_type": "execute_result"
    }
   ],
   "source": [
    "a.pop('cat')"
   ]
  },
  {
   "cell_type": "code",
   "execution_count": 57,
   "id": "233e8336",
   "metadata": {},
   "outputs": [
    {
     "data": {
      "text/plain": [
       "{'the': 120, 9: {1, 2}, 2.2: [6, 7], 't': 90, 'a': 89}"
      ]
     },
     "execution_count": 57,
     "metadata": {},
     "output_type": "execute_result"
    }
   ],
   "source": [
    "del a[20]\n",
    "a"
   ]
  },
  {
   "cell_type": "code",
   "execution_count": 58,
   "id": "4696db62",
   "metadata": {},
   "outputs": [
    {
     "ename": "NameError",
     "evalue": "name 'a' is not defined",
     "output_type": "error",
     "traceback": [
      "\u001b[1;31m---------------------------------------------------------------------------\u001b[0m",
      "\u001b[1;31mNameError\u001b[0m                                 Traceback (most recent call last)",
      "\u001b[1;32m<ipython-input-58-88f0dc819981>\u001b[0m in \u001b[0;36m<module>\u001b[1;34m\u001b[0m\n\u001b[0;32m      1\u001b[0m \u001b[1;32mdel\u001b[0m \u001b[0ma\u001b[0m\u001b[1;33m\u001b[0m\u001b[1;33m\u001b[0m\u001b[0m\n\u001b[1;32m----> 2\u001b[1;33m \u001b[0ma\u001b[0m\u001b[1;33m\u001b[0m\u001b[1;33m\u001b[0m\u001b[0m\n\u001b[0m",
      "\u001b[1;31mNameError\u001b[0m: name 'a' is not defined"
     ]
    }
   ],
   "source": [
    "del a\n",
    "a"
   ]
  },
  {
   "cell_type": "code",
   "execution_count": 61,
   "id": "f45838fe",
   "metadata": {},
   "outputs": [
    {
     "data": {
      "text/plain": [
       "{}"
      ]
     },
     "execution_count": 61,
     "metadata": {},
     "output_type": "execute_result"
    }
   ],
   "source": [
    "a.clear()\n",
    "a"
   ]
  },
  {
   "cell_type": "code",
   "execution_count": 63,
   "id": "fdda0c19",
   "metadata": {},
   "outputs": [],
   "source": [
    "#Example ques: print the words with the highest frequency\n",
    "\n",
    "s = \"This is a word string having many many word\"\n",
    "k = 2"
   ]
  },
  {
   "cell_type": "code",
   "execution_count": 74,
   "id": "e76f6ae7",
   "metadata": {},
   "outputs": [
    {
     "name": "stdout",
     "output_type": "stream",
     "text": [
      "word\n",
      "many\n"
     ]
    }
   ],
   "source": [
    "words = s.split()\n",
    "d = {}\n",
    "for w in words:\n",
    "    d[w] = d.get(w,0) + 1\n",
    "    \n",
    "for w in d:\n",
    "    if d[w] == k:\n",
    "        print(w)"
   ]
  },
  {
   "cell_type": "markdown",
   "id": "14819aba",
   "metadata": {},
   "source": [
    "### Sets\n",
    "\n",
    "- Unordered collection of data\n",
    "- Important when something unique needs to be stored since already present data will not get stored again\n",
    "- Just like dicts except key-value pairs don't exist, just values exist.\n",
    "- For loop is similar to the rest"
   ]
  },
  {
   "cell_type": "code",
   "execution_count": 75,
   "id": "abeabdff",
   "metadata": {},
   "outputs": [],
   "source": [
    "a = {\"apple\", 'abc', 'blue'}"
   ]
  },
  {
   "cell_type": "code",
   "execution_count": 77,
   "id": "a25a1337",
   "metadata": {},
   "outputs": [
    {
     "data": {
      "text/plain": [
       "True"
      ]
     },
     "execution_count": 77,
     "metadata": {},
     "output_type": "execute_result"
    }
   ],
   "source": [
    "'apple' in a"
   ]
  },
  {
   "cell_type": "code",
   "execution_count": 83,
   "id": "713fbcf8",
   "metadata": {},
   "outputs": [],
   "source": [
    "a.add('temp')"
   ]
  },
  {
   "cell_type": "code",
   "execution_count": 88,
   "id": "2e32eb4b",
   "metadata": {},
   "outputs": [],
   "source": [
    "b = {'tempo', 'laddoo', 'abc'}\n",
    "a.update(b) #updates whatever's there in b to a (goes inside a)\n",
    "#b.update(a) - everything that a has will go inside b"
   ]
  },
  {
   "cell_type": "code",
   "execution_count": 85,
   "id": "9012a92e",
   "metadata": {},
   "outputs": [
    {
     "data": {
      "text/plain": [
       "{'abc', 'apple', 'blue', 'laddoo', 'temp', 'tempo'}"
      ]
     },
     "execution_count": 85,
     "metadata": {},
     "output_type": "execute_result"
    }
   ],
   "source": [
    "a "
   ]
  },
  {
   "cell_type": "code",
   "execution_count": 90,
   "id": "07336468",
   "metadata": {},
   "outputs": [
    {
     "data": {
      "text/plain": [
       "{'abc', 'apple', 'blue', 'laddoo'}"
      ]
     },
     "execution_count": 90,
     "metadata": {},
     "output_type": "execute_result"
    }
   ],
   "source": [
    "a.remove('tempo')\n",
    "a"
   ]
  },
  {
   "cell_type": "code",
   "execution_count": 91,
   "id": "a968ab02",
   "metadata": {},
   "outputs": [],
   "source": [
    "#discard function doesn't give error if key doesn't exist in set unlike remove function\n",
    "a.discard('rrr')"
   ]
  },
  {
   "cell_type": "code",
   "execution_count": 92,
   "id": "f80d3f16",
   "metadata": {},
   "outputs": [
    {
     "data": {
      "text/plain": [
       "'laddoo'"
      ]
     },
     "execution_count": 92,
     "metadata": {},
     "output_type": "execute_result"
    }
   ],
   "source": [
    "a.pop() #will remove any random element"
   ]
  },
  {
   "cell_type": "markdown",
   "id": "b5e0b4ae",
   "metadata": {},
   "source": [
    "#### Set Functions"
   ]
  },
  {
   "cell_type": "code",
   "execution_count": 106,
   "id": "0c51c0c0",
   "metadata": {},
   "outputs": [
    {
     "data": {
      "text/plain": [
       "{3, 4}"
      ]
     },
     "execution_count": 106,
     "metadata": {},
     "output_type": "execute_result"
    }
   ],
   "source": [
    "a = {1,2,3,4}\n",
    "b = {3,4,5,6}\n",
    "a.intersection(b)"
   ]
  },
  {
   "cell_type": "code",
   "execution_count": 94,
   "id": "18ec2af4",
   "metadata": {},
   "outputs": [
    {
     "data": {
      "text/plain": [
       "{1, 2, 3, 4, 5, 6}"
      ]
     },
     "execution_count": 94,
     "metadata": {},
     "output_type": "execute_result"
    }
   ],
   "source": [
    "a.union(b)"
   ]
  },
  {
   "cell_type": "code",
   "execution_count": 96,
   "id": "b586ca99",
   "metadata": {},
   "outputs": [
    {
     "data": {
      "text/plain": [
       "{5, 6}"
      ]
     },
     "execution_count": 96,
     "metadata": {},
     "output_type": "execute_result"
    }
   ],
   "source": [
    "a.difference(b) #gives leftover values in a that are not in b\n",
    "b.difference(a) #gives leftover values in b that are not in a"
   ]
  },
  {
   "cell_type": "code",
   "execution_count": 98,
   "id": "22fa4cca",
   "metadata": {},
   "outputs": [
    {
     "data": {
      "text/plain": [
       "{1, 2, 5, 6}"
      ]
     },
     "execution_count": 98,
     "metadata": {},
     "output_type": "execute_result"
    }
   ],
   "source": [
    "a.symmetric_difference(b)"
   ]
  },
  {
   "cell_type": "code",
   "execution_count": 100,
   "id": "966d0c1c",
   "metadata": {},
   "outputs": [
    {
     "data": {
      "text/plain": [
       "{3, 4}"
      ]
     },
     "execution_count": 100,
     "metadata": {},
     "output_type": "execute_result"
    }
   ],
   "source": [
    "#update a with intersectionelements of a and b\n",
    "a.intersection_update(b)\n",
    "a"
   ]
  },
  {
   "cell_type": "code",
   "execution_count": 104,
   "id": "29998726",
   "metadata": {},
   "outputs": [
    {
     "data": {
      "text/plain": [
       "{1, 2}"
      ]
     },
     "execution_count": 104,
     "metadata": {},
     "output_type": "execute_result"
    }
   ],
   "source": [
    "a.difference_update(b)\n",
    "a"
   ]
  },
  {
   "cell_type": "code",
   "execution_count": 108,
   "id": "e4c5f41c",
   "metadata": {},
   "outputs": [
    {
     "data": {
      "text/plain": [
       "{1, 2, 3, 4}"
      ]
     },
     "execution_count": 108,
     "metadata": {},
     "output_type": "execute_result"
    }
   ],
   "source": [
    "a.symmetric_difference_update(b)\n",
    "a"
   ]
  },
  {
   "cell_type": "code",
   "execution_count": 111,
   "id": "893857b3",
   "metadata": {},
   "outputs": [
    {
     "data": {
      "text/plain": [
       "False"
      ]
     },
     "execution_count": 111,
     "metadata": {},
     "output_type": "execute_result"
    }
   ],
   "source": [
    "a.issubset(b)"
   ]
  },
  {
   "cell_type": "code",
   "execution_count": 112,
   "id": "b237f05a",
   "metadata": {},
   "outputs": [
    {
     "data": {
      "text/plain": [
       "True"
      ]
     },
     "execution_count": 112,
     "metadata": {},
     "output_type": "execute_result"
    }
   ],
   "source": [
    "a = {3,4}\n",
    "a.issubset(b)"
   ]
  },
  {
   "cell_type": "code",
   "execution_count": 113,
   "id": "1c156201",
   "metadata": {},
   "outputs": [
    {
     "data": {
      "text/plain": [
       "True"
      ]
     },
     "execution_count": 113,
     "metadata": {},
     "output_type": "execute_result"
    }
   ],
   "source": [
    "b.issuperset(a)"
   ]
  },
  {
   "cell_type": "code",
   "execution_count": 114,
   "id": "c15f778d",
   "metadata": {},
   "outputs": [
    {
     "data": {
      "text/plain": [
       "True"
      ]
     },
     "execution_count": 114,
     "metadata": {},
     "output_type": "execute_result"
    }
   ],
   "source": [
    "d = {8,9}\n",
    "a.isdisjoint(d) #false if there's anything common"
   ]
  },
  {
   "cell_type": "code",
   "execution_count": 116,
   "id": "7aa796b5",
   "metadata": {},
   "outputs": [
    {
     "name": "stdout",
     "output_type": "stream",
     "text": [
      "5 5\n"
     ]
    }
   ],
   "source": [
    "s = {1,2,3,5,4,2,3,1}\n",
    "print(len(s),end= ' ')\n",
    "s.add(4)\n",
    "s.add(3)\n",
    "print(len(s))"
   ]
  },
  {
   "cell_type": "code",
   "execution_count": 119,
   "id": "22a7505a",
   "metadata": {},
   "outputs": [
    {
     "name": "stdout",
     "output_type": "stream",
     "text": [
      "10\n"
     ]
    }
   ],
   "source": [
    "#Example ques: add all the unique elements in a list\n",
    "\n",
    "def sumUnique(li):\n",
    "    s = set() #since s = {} will create an empty dict\n",
    "    for i in li:\n",
    "        s.add(i)\n",
    "    sum = 0\n",
    "    for i in s:\n",
    "        sum+=i\n",
    "    return sum\n",
    "\n",
    "li = {1,2,3,4,2,3,1,4}\n",
    "ans = sumUnique(li)\n",
    "print(ans)"
   ]
  },
  {
   "cell_type": "code",
   "execution_count": 6,
   "id": "d6392ec7",
   "metadata": {},
   "outputs": [
    {
     "name": "stdout",
     "output_type": "stream",
     "text": [
      "string\n",
      "grinst\n",
      "{'s': 1}\n",
      "{'s': 1, 't': 1}\n",
      "{'s': 1, 't': 1, 'r': 1}\n",
      "{'s': 1, 't': 1, 'r': 1, 'i': 1}\n",
      "{'s': 1, 't': 1, 'r': 1, 'i': 1, 'n': 1}\n",
      "{'s': 1, 't': 1, 'r': 1, 'i': 1, 'n': 1, 'g': 1}\n",
      "{'s': 1, 't': 1, 'r': 1, 'i': 1, 'n': 1, 'g': 0}\n",
      "{'s': 1, 't': 1, 'r': 0, 'i': 1, 'n': 1, 'g': 0}\n",
      "{'s': 1, 't': 1, 'r': 0, 'i': 0, 'n': 1, 'g': 0}\n",
      "{'s': 1, 't': 1, 'r': 0, 'i': 0, 'n': 0, 'g': 0}\n",
      "{'s': 0, 't': 1, 'r': 0, 'i': 0, 'n': 0, 'g': 0}\n",
      "{'s': 0, 't': 0, 'r': 0, 'i': 0, 'n': 0, 'g': 0}\n",
      "True\n"
     ]
    }
   ],
   "source": [
    "#Permutation using dicts - dayum so easy\n",
    "\n",
    "def isPermutation(string1, string2):\n",
    "    \n",
    "    if len(string1) != len(string2):\n",
    "        return False\n",
    "    \n",
    "    dict1 = {}\n",
    "    dict2 = {}\n",
    "    \n",
    "    for ele in string1:\n",
    "        dict1[ele] = dict1.get(ele,0) + 1\n",
    "        print(dict1)\n",
    "        \n",
    "    for ele in string2:\n",
    "        dict1[ele] = dict1.get(ele,0) - 1\n",
    "        print(dict1)\n",
    "        \n",
    "    if all(x == 0 for x in dict1.values()):\n",
    "        return True\n",
    "    \n",
    "    return False\n",
    "\n",
    "string1 = input()\n",
    "string2 = input()\n",
    "print(isPermutation(string1, string2))"
   ]
  },
  {
   "cell_type": "code",
   "execution_count": null,
   "id": "9d305aa7",
   "metadata": {},
   "outputs": [],
   "source": []
  }
 ],
 "metadata": {
  "kernelspec": {
   "display_name": "Python 3",
   "language": "python",
   "name": "python3"
  },
  "language_info": {
   "codemirror_mode": {
    "name": "ipython",
    "version": 3
   },
   "file_extension": ".py",
   "mimetype": "text/x-python",
   "name": "python",
   "nbconvert_exporter": "python",
   "pygments_lexer": "ipython3",
   "version": "3.8.8"
  }
 },
 "nbformat": 4,
 "nbformat_minor": 5
}
