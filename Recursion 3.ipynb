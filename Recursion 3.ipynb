{
 "cells": [
  {
   "cell_type": "markdown",
   "id": "a674c979",
   "metadata": {},
   "source": [
    "### Return All Subsequences"
   ]
  },
  {
   "cell_type": "code",
   "execution_count": 17,
   "id": "f0654876",
   "metadata": {},
   "outputs": [],
   "source": [
    "def subsequences(string,si):\n",
    "    \n",
    "    #base case\n",
    "    if si == len(string):\n",
    "        arr = ['']\n",
    "        return arr\n",
    "    \n",
    "    #induction hypothesis\n",
    "    ans = []\n",
    "    ans = subsequences(string,si+1)\n",
    "    \n",
    "    #Induction Step\n",
    "    for i in range(len(ans)):\n",
    "        \n",
    "        ans.append(ans[i]+string[len(string)-si-1])\n",
    "        \n",
    "    return ans\n",
    "    "
   ]
  },
  {
   "cell_type": "code",
   "execution_count": 18,
   "id": "7e5c621e",
   "metadata": {},
   "outputs": [
    {
     "name": "stdout",
     "output_type": "stream",
     "text": [
      "['', 'a', 'b', 'ab', 'c', 'ac', 'bc', 'abc']\n"
     ]
    }
   ],
   "source": [
    "string = 'abc'\n",
    "print(subsequences(string,0))"
   ]
  },
  {
   "cell_type": "markdown",
   "id": "22850777",
   "metadata": {},
   "source": [
    "### Return Keypad"
   ]
  },
  {
   "cell_type": "code",
   "execution_count": 26,
   "id": "d3a422cc",
   "metadata": {},
   "outputs": [],
   "source": [
    "def keypad(n):\n",
    "    d = {2:'abc', 3:'def', 4:'ghi', 5:'jkl', 6:'mno', 7:'pqrs', 8:'tuv', 9:'wxyz'}\n",
    "    ans = keypadHelper(n,d)\n",
    "    \n",
    "    return ans\n",
    "    \n",
    "def keypadHelper(n,d):\n",
    "    \n",
    "    #base case\n",
    "    if n == 0:\n",
    "        ans = ['']\n",
    "        return ans\n",
    "    \n",
    "    #induction hypothesis\n",
    "    output = []\n",
    "    output = keypadHelper(n//10,d)\n",
    "    \n",
    "    #induction step\n",
    "    curr_dig = n%10\n",
    "    ans = []\n",
    "    \n",
    "    \n",
    "    for i in range(len(d[curr_dig])):\n",
    "         for j in range(len(output)):\n",
    "                ans.append(output[j] + d[curr_dig][i])\n",
    "                \n",
    "    return ans"
   ]
  },
  {
   "cell_type": "code",
   "execution_count": 29,
   "id": "20e668a4",
   "metadata": {},
   "outputs": [
    {
     "name": "stdout",
     "output_type": "stream",
     "text": [
      "['ad', 'bd', 'cd', 'ae', 'be', 'ce', 'af', 'bf', 'cf']\n"
     ]
    }
   ],
   "source": [
    "print(keypad(23))"
   ]
  },
  {
   "cell_type": "markdown",
   "id": "8fbfcef4",
   "metadata": {},
   "source": [
    "### Print Output Instead of Returning\n",
    "\n",
    "Printing at the end will reduce storage needed to return a huge result after each function call"
   ]
  },
  {
   "cell_type": "code",
   "execution_count": 32,
   "id": "58f12b4c",
   "metadata": {},
   "outputs": [],
   "source": [
    "#print factorial of a number\n",
    "\n",
    "def printFact(n, ans = 1):\n",
    "    \n",
    "    #base case\n",
    "    if n == 1:\n",
    "        print(ans)\n",
    "        return\n",
    "    \n",
    "    ans = n*ans\n",
    "    printFact(n-1,ans)\n",
    "    "
   ]
  },
  {
   "cell_type": "code",
   "execution_count": 33,
   "id": "5a6ac8ae",
   "metadata": {},
   "outputs": [
    {
     "name": "stdout",
     "output_type": "stream",
     "text": [
      "24\n"
     ]
    }
   ],
   "source": [
    "printFact(4)"
   ]
  },
  {
   "cell_type": "code",
   "execution_count": 39,
   "id": "4b7698a5",
   "metadata": {},
   "outputs": [
    {
     "name": "stdout",
     "output_type": "stream",
     "text": [
      "-90\n"
     ]
    }
   ],
   "source": [
    "#return minimum in the list\n",
    "\n",
    "import sys\n",
    "from sys import maxsize\n",
    "\n",
    "def printMinimum(li, si, ans = sys.maxsize):\n",
    "    \n",
    "    if si == len(li):\n",
    "        print(ans)\n",
    "        return\n",
    "    \n",
    "    if li[si] < ans:\n",
    "        ans = li[si]\n",
    "        \n",
    "    printMinimum(li,si+1,ans)\n",
    "\n",
    "li = [1,2,-90,4]    \n",
    "printMinimum(li, 0, ans = sys.maxsize)"
   ]
  },
  {
   "cell_type": "code",
   "execution_count": 62,
   "id": "8ed30c0b",
   "metadata": {},
   "outputs": [],
   "source": [
    "#Print all subsequences; this code is still sending a huge array as an arg to every function call; CN is better and more intelligent\n",
    "\n",
    "def subsequencesPrint(string,si,ans = ['']):\n",
    "    \n",
    "    #base case\n",
    "    if si == len(string):\n",
    "        print(ans)\n",
    "        return\n",
    "    \n",
    "    #Induction Step\n",
    "    for i in range(len(ans)):\n",
    "        \n",
    "        ans.append(ans[i] + string[si])\n",
    "    \n",
    "    #induction hypothesis\n",
    "    subsequencesPrint(string,si+1,ans)\n",
    "        "
   ]
  },
  {
   "cell_type": "code",
   "execution_count": 63,
   "id": "076115d0",
   "metadata": {},
   "outputs": [
    {
     "name": "stdout",
     "output_type": "stream",
     "text": [
      "['', 'a', 'b', 'ab', 'c', 'ac', 'bc', 'abc']\n"
     ]
    }
   ],
   "source": [
    "string = 'abc'\n",
    "subsequencesPrint(string,0)"
   ]
  },
  {
   "cell_type": "code",
   "execution_count": 65,
   "id": "c2d5d661",
   "metadata": {},
   "outputs": [],
   "source": [
    "#CN version for printing subsequences\n",
    "\n",
    "def subseqCn(string,ans = ''):\n",
    "    \n",
    "    if len(string) == 0:\n",
    "        print(ans)\n",
    "        return\n",
    "    \n",
    "    #not including the 0th char\n",
    "    subseqCn(string[1:],ans)\n",
    "    \n",
    "    #including the 0th char\n",
    "    subseqCn(string[1:],ans+string[0])"
   ]
  },
  {
   "cell_type": "code",
   "execution_count": 66,
   "id": "f6aaa510",
   "metadata": {},
   "outputs": [
    {
     "name": "stdout",
     "output_type": "stream",
     "text": [
      "\n",
      "c\n",
      "b\n",
      "bc\n",
      "a\n",
      "ac\n",
      "ab\n",
      "abc\n"
     ]
    }
   ],
   "source": [
    "string = 'abc'\n",
    "subseqCn(string)"
   ]
  },
  {
   "cell_type": "code",
   "execution_count": 70,
   "id": "835b12bd",
   "metadata": {},
   "outputs": [
    {
     "name": "stdout",
     "output_type": "stream",
     "text": [
      "da\n",
      "db\n",
      "dc\n",
      "ea\n",
      "eb\n",
      "ec\n",
      "fa\n",
      "fb\n",
      "fc\n"
     ]
    }
   ],
   "source": [
    "def keypad(n):\n",
    "    d = {2:'abc', 3:'def', 4:'ghi', 5:'jkl', 6:'mno', 7:'pqrs', 8:'tuv', 9:'wxyz'}\n",
    "    ans = printKeypad(n,d)\n",
    "    \n",
    "    return ans\n",
    "\n",
    "def printKeypad(n,d,ans = ''):\n",
    "    \n",
    "    if n == 0:\n",
    "        print(ans)\n",
    "        return\n",
    "    \n",
    "    curr_dig = n%10\n",
    "    \n",
    "    for i in range(len(d[curr_dig])):\n",
    "        \n",
    "        printKeypad(n//10,d,ans+d[curr_dig][i])\n",
    "        \n",
    "keypad(23)    "
   ]
  },
  {
   "cell_type": "markdown",
   "id": "b946cb2c",
   "metadata": {},
   "source": [
    "### Assignment Questions"
   ]
  },
  {
   "cell_type": "markdown",
   "id": "7d00cc2c",
   "metadata": {},
   "source": [
    "#### Return Subsets of k"
   ]
  },
  {
   "cell_type": "code",
   "execution_count": 1,
   "id": "e30f3a7b",
   "metadata": {},
   "outputs": [],
   "source": [
    "def subsetsSumK(arr, k, si) :\n",
    "    \n",
    "    #base case\n",
    "    if si == len(arr):\n",
    "        if k == 0:\n",
    "            return [list()] #size is 1\n",
    "        else:\n",
    "            return list() #size is 0\n",
    "        \n",
    "    smallo1 = subsetsSumK(arr, k, si+1)\n",
    "    smallo2 = subsetsSumK(arr, k-arr[si], si+1)\n",
    "    \n",
    "    index = 0\n",
    "    output = [len(smallo1)+len(smallo2)]*[0]\n",
    "    \n",
    "    #filling smallo1 to main output\n",
    "    for i in range(len(smallo1)):\n",
    "        output[index] = smallo1[i]\n",
    "        index+=1\n",
    "        \n",
    "    for i in range(len(smallo2)):\n",
    "        output[index] = (len(smallo2)+1)*[0]\n",
    "        output[index][0] = arr[si] #adding si ele at the front\n",
    "        \n",
    "        for j in range(len(smallo2[i])):\n",
    "            output[index][j+1] = smallo2[i][j] #adding the rest of smallo2\n",
    "            \n",
    "        index+=1\n",
    "        \n",
    "    return output"
   ]
  },
  {
   "cell_type": "code",
   "execution_count": 2,
   "id": "db7ef10d",
   "metadata": {},
   "outputs": [
    {
     "name": "stdout",
     "output_type": "stream",
     "text": [
      "5 12 3 17 1 18 15 3 17\n",
      "6\n",
      "[5, 1]\n",
      "[5, 1, 3, 1, 3]\n"
     ]
    }
   ],
   "source": [
    "arr = [int(x) for x in input().split()]\n",
    "k = int(input())\n",
    "subsetsSumK(arr,k,0)"
   ]
  },
  {
   "cell_type": "markdown",
   "id": "4fa19d5a",
   "metadata": {},
   "source": [
    "#### Return Subsequences of Array"
   ]
  },
  {
   "cell_type": "code",
   "execution_count": 10,
   "id": "8fa5362a",
   "metadata": {},
   "outputs": [],
   "source": [
    "def retSubseqArr(n,arr,si):\n",
    "    \n",
    "    #base case\n",
    "    if si == len(arr):\n",
    "        return [list()]\n",
    "    \n",
    "    #induction hypothesis\n",
    "    ans = retSubseqArr(n,arr,si+1)\n",
    "    \n",
    "    output = (len(ans)*2)*[0]\n",
    "    idx = 0\n",
    "    \n",
    "    for i in range(len(ans)):\n",
    "        output[idx] = ans[i]\n",
    "        idx+=1\n",
    "        \n",
    "    for i in range(len(ans)):\n",
    "        output[idx] = (len(ans[i])+1)*[0]\n",
    "        output[idx][0] = arr[si]\n",
    "        \n",
    "        for j in range(len(ans[i])):\n",
    "            output[idx][j+1] = ans[i][j]\n",
    "            \n",
    "        idx+=1\n",
    "        \n",
    "    return output"
   ]
  },
  {
   "cell_type": "code",
   "execution_count": 19,
   "id": "435dfe6f",
   "metadata": {},
   "outputs": [
    {
     "name": "stdout",
     "output_type": "stream",
     "text": [
      "\n",
      "12 \n",
      "20 \n",
      "20 12 \n",
      "15 \n",
      "15 12 \n",
      "15 20 \n",
      "15 20 12 \n"
     ]
    }
   ],
   "source": [
    "n = 3\n",
    "arr = [15,20,12]\n",
    "ans = retSubseqArr(n,arr,0)\n",
    "for i in range(len(ans)):\n",
    "    for j in range(len(ans[i])):\n",
    "        print(ans[i][j], end=' ')\n",
    "    print()"
   ]
  },
  {
   "cell_type": "markdown",
   "id": "e6b042a6",
   "metadata": {},
   "source": [
    "#### Return Permutations of a String"
   ]
  },
  {
   "cell_type": "code",
   "execution_count": 72,
   "id": "5d8949a8",
   "metadata": {},
   "outputs": [],
   "source": [
    "def permutations(s):\n",
    "    \n",
    "    #base case\n",
    "    if len(s) == 1:\n",
    "        output = [list()]\n",
    "        output[0] = s\n",
    "        return output\n",
    "    \n",
    "    output = []\n",
    "    \n",
    "    for i in range(len(s)):\n",
    "        \n",
    "        #taking this approach to avoid errors in edge cases like 'abcdb' where a letter comes more than once in the str\n",
    "        first = s[:i]\n",
    "        last = s[i+1:]\n",
    "        news = first+last\n",
    "\n",
    "        ans = permutations(news)\n",
    "        \n",
    "        #print(ans)\n",
    "        \n",
    "        for j in range(len(ans)):\n",
    "            \n",
    "            output.append(s[i]+ans[j])\n",
    "            \n",
    "    return output"
   ]
  },
  {
   "cell_type": "code",
   "execution_count": 74,
   "id": "55d4a1bd",
   "metadata": {},
   "outputs": [
    {
     "name": "stdout",
     "output_type": "stream",
     "text": [
      "abc\n",
      "6\n",
      "abc\n",
      "acb\n",
      "bac\n",
      "bca\n",
      "cab\n",
      "cba\n"
     ]
    }
   ],
   "source": [
    "string = input()\n",
    "ans = permutations(string)\n",
    "print(len(ans))\n",
    "for s in ans:\n",
    "    print(s)"
   ]
  },
  {
   "cell_type": "markdown",
   "id": "d4b567b6",
   "metadata": {},
   "source": [
    "#### Print subsets of Array"
   ]
  },
  {
   "cell_type": "code",
   "execution_count": 112,
   "id": "4327894e",
   "metadata": {},
   "outputs": [],
   "source": [
    "def printSubsetsArr(arr,si,ans=[]):\n",
    "    \n",
    "    if si == len(arr):\n",
    "        for sub in ans:\n",
    "            print(sub, end=' ')\n",
    "        print()\n",
    "        return\n",
    "    \n",
    "    printSubsetsArr(arr,si+1,ans)\n",
    "    \n",
    "    newans = (len(ans))*[0] #initialization is imp since lists are immutable\n",
    "    for i in range(len(ans)):\n",
    "        newans[i] = ans[i]\n",
    "        \n",
    "    newans.append(arr[si])\n",
    "    \n",
    "    printSubsetsArr(arr,si+1,newans)"
   ]
  },
  {
   "cell_type": "code",
   "execution_count": 113,
   "id": "4e864c05",
   "metadata": {},
   "outputs": [
    {
     "name": "stdout",
     "output_type": "stream",
     "text": [
      "15 20 12\n",
      "\n",
      "12 \n",
      "12 20 \n",
      "12 20 12 \n",
      "12 20 12 15 \n",
      "12 20 12 15 12 \n",
      "12 20 12 15 12 20 \n",
      "12 20 12 15 12 20 12 \n"
     ]
    }
   ],
   "source": [
    "arr = [int(x) for x in input().split()]\n",
    "printSubsetsArr(arr,0)"
   ]
  },
  {
   "cell_type": "markdown",
   "id": "36e2d386",
   "metadata": {},
   "source": [
    "#### Print Subsets Sum to K"
   ]
  },
  {
   "cell_type": "code",
   "execution_count": 123,
   "id": "2b9c52db",
   "metadata": {},
   "outputs": [],
   "source": [
    "def printSubsetsK(arr,k,si,ans=[]):\n",
    "    \n",
    "    #base case\n",
    "    if si == len(arr):\n",
    "        \n",
    "        if k == 0:\n",
    "            for sub in ans:\n",
    "                print(sub, end=' ')\n",
    "            print()\n",
    "        return\n",
    "    \n",
    "    \n",
    "    printSubsetsK(arr,k,si+1,ans)\n",
    "    \n",
    "    if arr[si] <= k:\n",
    "        \n",
    "        newans = (len(ans))*[0]\n",
    "        for i in range(len(ans)):\n",
    "            \n",
    "            newans[i] = ans[i]\n",
    "            \n",
    "        newans.append(arr[si])\n",
    "    \n",
    "        printSubsetsK(arr,k-arr[si],si+1,newans)\n",
    "   "
   ]
  },
  {
   "cell_type": "code",
   "execution_count": 124,
   "id": "2a231a1c",
   "metadata": {},
   "outputs": [
    {
     "name": "stdout",
     "output_type": "stream",
     "text": [
      "5 12 3 17 1 18 15 3 17\n",
      "6\n",
      "3 3 \n",
      "5 1 \n"
     ]
    }
   ],
   "source": [
    "arr = [int(x) for x in input().split()]\n",
    "k = int(input())\n",
    "printSubsetsK(arr,k,0)"
   ]
  },
  {
   "cell_type": "markdown",
   "id": "8a7109e1",
   "metadata": {},
   "source": [
    "#### Print Permutations of a String"
   ]
  },
  {
   "cell_type": "code",
   "execution_count": 150,
   "id": "e0b33ae8",
   "metadata": {},
   "outputs": [],
   "source": [
    "def printPermutations(string,ans=''):\n",
    "    \n",
    "    #base case\n",
    "    if string == '':\n",
    "        print(ans)\n",
    "        return\n",
    "    \n",
    "    \n",
    "    for i in range(len(string)):\n",
    "        \n",
    "        newstr = string[:i] + string[i+1:]\n",
    "        \n",
    "        printPermutations(newstr,ans+string[i])"
   ]
  },
  {
   "cell_type": "code",
   "execution_count": 151,
   "id": "cf17d5de",
   "metadata": {},
   "outputs": [
    {
     "name": "stdout",
     "output_type": "stream",
     "text": [
      "abc\n",
      "abc\n",
      "acb\n",
      "bac\n",
      "bca\n",
      "cab\n",
      "cba\n"
     ]
    }
   ],
   "source": [
    "string = input()\n",
    "printPermutations(string)"
   ]
  },
  {
   "cell_type": "code",
   "execution_count": 153,
   "id": "a167fc18",
   "metadata": {},
   "outputs": [],
   "source": [
    "#with a different base case, CN executed the code in round abt same time\n",
    "\n",
    "def printPermutations1(string,ans=''):\n",
    "    \n",
    "    #base case\n",
    "    if len(string) == 2:\n",
    "        print(string[0]+string[1]+ans)\n",
    "        print(string[1]+string[0]+ans)\n",
    "        return\n",
    "    \n",
    "    \n",
    "    for i in range(len(string)):\n",
    "        \n",
    "        newstr = string[:i] + string[i+1:]\n",
    "        \n",
    "        printPermutations1(newstr,ans+string[i])"
   ]
  },
  {
   "cell_type": "code",
   "execution_count": 155,
   "id": "69079cd5",
   "metadata": {},
   "outputs": [
    {
     "name": "stdout",
     "output_type": "stream",
     "text": [
      "abcd\n",
      "cdab\n",
      "dcab\n",
      "bdac\n",
      "dbac\n",
      "bcad\n",
      "cbad\n",
      "cdba\n",
      "dcba\n",
      "adbc\n",
      "dabc\n",
      "acbd\n",
      "cabd\n",
      "bdca\n",
      "dbca\n",
      "adcb\n",
      "dacb\n",
      "abcd\n",
      "bacd\n",
      "bcda\n",
      "cbda\n",
      "acdb\n",
      "cadb\n",
      "abdc\n",
      "badc\n"
     ]
    }
   ],
   "source": [
    "string = input()\n",
    "printPermutations1(string)"
   ]
  },
  {
   "cell_type": "code",
   "execution_count": 159,
   "id": "1b3b4a5e",
   "metadata": {},
   "outputs": [],
   "source": [
    "#wrong answer since string is not changing in every for loop for a particular recursion level\n",
    "\n",
    "def printPermutations1(string,ans=''):\n",
    "    \n",
    "    #base case\n",
    "    if len(string) == 2:\n",
    "        print(string[0]+string[1]+ans)\n",
    "        print(string[1]+string[0]+ans)\n",
    "        return\n",
    "    \n",
    "    \n",
    "    for i in range(len(string)):\n",
    "        \n",
    "        ans = ans+string[i] #this is adding 'a' to ans then 'b' to ans in the for loop of the same recursion stack\n",
    "        newstr = string[:i] + string[i+1:]\n",
    "        \n",
    "        printPermutations1(newstr,ans)"
   ]
  },
  {
   "cell_type": "code",
   "execution_count": 160,
   "id": "a9f4cc33",
   "metadata": {},
   "outputs": [
    {
     "name": "stdout",
     "output_type": "stream",
     "text": [
      "abc\n",
      "bca\n",
      "cba\n",
      "acab\n",
      "caab\n",
      "ababc\n",
      "baabc\n"
     ]
    }
   ],
   "source": [
    "string = input()\n",
    "printPermutations1(string)"
   ]
  },
  {
   "cell_type": "code",
   "execution_count": null,
   "id": "280e355c",
   "metadata": {},
   "outputs": [],
   "source": []
  }
 ],
 "metadata": {
  "kernelspec": {
   "display_name": "Python 3",
   "language": "python",
   "name": "python3"
  },
  "language_info": {
   "codemirror_mode": {
    "name": "ipython",
    "version": 3
   },
   "file_extension": ".py",
   "mimetype": "text/x-python",
   "name": "python",
   "nbconvert_exporter": "python",
   "pygments_lexer": "ipython3",
   "version": "3.8.8"
  }
 },
 "nbformat": 4,
 "nbformat_minor": 5
}
