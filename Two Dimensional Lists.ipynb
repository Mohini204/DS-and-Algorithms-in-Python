{
 "cells": [
  {
   "cell_type": "markdown",
   "id": "e27f143a",
   "metadata": {},
   "source": [
    "### Introduction"
   ]
  },
  {
   "cell_type": "code",
   "execution_count": 1,
   "id": "5fd70a62",
   "metadata": {},
   "outputs": [],
   "source": [
    "li = [[1,2,3,4],[5,6,7,8],[9,10,11,12],[13,14,15,16]]"
   ]
  },
  {
   "cell_type": "code",
   "execution_count": 2,
   "id": "668b435a",
   "metadata": {},
   "outputs": [
    {
     "data": {
      "text/plain": [
       "11"
      ]
     },
     "execution_count": 2,
     "metadata": {},
     "output_type": "execute_result"
    }
   ],
   "source": [
    "li[2][2]"
   ]
  },
  {
   "cell_type": "code",
   "execution_count": 3,
   "id": "3206fd41",
   "metadata": {},
   "outputs": [
    {
     "data": {
      "text/plain": [
       "[[1, 2, 3, 4], [5, 6, 7, 8], [9, 10, 11, 20], [13, 14, 15, 16]]"
      ]
     },
     "execution_count": 3,
     "metadata": {},
     "output_type": "execute_result"
    }
   ],
   "source": [
    "#changing is easy since lists are mutable\n",
    "li[2][3] = 20\n",
    "li"
   ]
  },
  {
   "cell_type": "markdown",
   "id": "6cb9f1cf",
   "metadata": {},
   "source": [
    "### How are lists stored?\n",
    "- In the main list, references of the sublists are stored.\n",
    "- In the sublist, elements are stored"
   ]
  },
  {
   "cell_type": "code",
   "execution_count": 4,
   "id": "2a3c431d",
   "metadata": {},
   "outputs": [
    {
     "data": {
      "text/plain": [
       "2878641280576"
      ]
     },
     "execution_count": 4,
     "metadata": {},
     "output_type": "execute_result"
    }
   ],
   "source": [
    "#how are lists stored\n",
    "id(li[0])"
   ]
  },
  {
   "cell_type": "code",
   "execution_count": 5,
   "id": "1bc0cb12",
   "metadata": {},
   "outputs": [
    {
     "data": {
      "text/plain": [
       "2878641251520"
      ]
     },
     "execution_count": 5,
     "metadata": {},
     "output_type": "execute_result"
    }
   ],
   "source": [
    "id(li)"
   ]
  },
  {
   "cell_type": "markdown",
   "id": "587853a2",
   "metadata": {},
   "source": [
    "#### Jagged Lists"
   ]
  },
  {
   "cell_type": "code",
   "execution_count": 6,
   "id": "640d4621",
   "metadata": {},
   "outputs": [
    {
     "data": {
      "text/plain": [
       "5"
      ]
     },
     "execution_count": 6,
     "metadata": {},
     "output_type": "execute_result"
    }
   ],
   "source": [
    "#individual list size is not same i.e. number of columns are not same\n",
    "li = [[1,2,3],[4,5],[6,7,8,9]]\n",
    "li[1][1]"
   ]
  },
  {
   "cell_type": "code",
   "execution_count": 7,
   "id": "d782edc0",
   "metadata": {},
   "outputs": [
    {
     "data": {
      "text/plain": [
       "[4, 5]"
      ]
     },
     "execution_count": 7,
     "metadata": {},
     "output_type": "execute_result"
    }
   ],
   "source": [
    "li[1]"
   ]
  },
  {
   "cell_type": "markdown",
   "id": "6a0a48a1",
   "metadata": {},
   "source": [
    "### List Comprehension\n",
    "\n",
    "[output for expression condition]"
   ]
  },
  {
   "cell_type": "code",
   "execution_count": 10,
   "id": "e1789f88",
   "metadata": {},
   "outputs": [
    {
     "data": {
      "text/plain": [
       "[1, 4, 9, 16]"
      ]
     },
     "execution_count": 10,
     "metadata": {},
     "output_type": "execute_result"
    }
   ],
   "source": [
    "li = [1,2,3,4]\n",
    "li_new = []\n",
    "for ele in li:\n",
    "    li_new.append(ele**2)\n",
    "li_new"
   ]
  },
  {
   "cell_type": "code",
   "execution_count": 11,
   "id": "a0cc6962",
   "metadata": {},
   "outputs": [
    {
     "data": {
      "text/plain": [
       "[1, 4, 9, 16]"
      ]
     },
     "execution_count": 11,
     "metadata": {},
     "output_type": "execute_result"
    }
   ],
   "source": [
    "#list comprehension method\n",
    "li_new_c = [ele**2 for ele in li]\n",
    "li_new_c"
   ]
  },
  {
   "cell_type": "code",
   "execution_count": 12,
   "id": "b4b6bff0",
   "metadata": {},
   "outputs": [
    {
     "data": {
      "text/plain": [
       "[1, 9]"
      ]
     },
     "execution_count": 12,
     "metadata": {},
     "output_type": "execute_result"
    }
   ],
   "source": [
    "li_odd_square = [ele**2 for ele in li if ele%2 != 0]\n",
    "li_odd_square"
   ]
  },
  {
   "cell_type": "code",
   "execution_count": 13,
   "id": "8f84d4be",
   "metadata": {},
   "outputs": [
    {
     "data": {
      "text/plain": [
       "[16, 64]"
      ]
     },
     "execution_count": 13,
     "metadata": {},
     "output_type": "execute_result"
    }
   ],
   "source": [
    "#multiple conditions\n",
    "li = [1,2,3,4,5,6,7,8,9]\n",
    "li_new1 = [ele**2 for ele in li if ele%2 == 0 if ele%4 == 0]\n",
    "li_new1"
   ]
  },
  {
   "cell_type": "code",
   "execution_count": 16,
   "id": "2db89419",
   "metadata": {},
   "outputs": [
    {
     "data": {
      "text/plain": [
       "[4, 9, 16, 16, 25, 36, 64]"
      ]
     },
     "execution_count": 16,
     "metadata": {},
     "output_type": "execute_result"
    }
   ],
   "source": [
    "#multiple for loops that can act as nested\n",
    "#example for printing intersection elements of 2 lists\n",
    "li1 = [2,3,4,5,6,4,8]\n",
    "li_new2 = [ele**2 for ele in li for ele2 in li1 if ele==ele2]\n",
    "li_new2"
   ]
  },
  {
   "cell_type": "code",
   "execution_count": 17,
   "id": "c01962b9",
   "metadata": {},
   "outputs": [
    {
     "data": {
      "text/plain": [
       "[4, 3, 16, 5, 36, 16, 64]"
      ]
     },
     "execution_count": 17,
     "metadata": {},
     "output_type": "execute_result"
    }
   ],
   "source": [
    "#example for list that will have squared ele of li1 if ele is multiple of 2 else just ele\n",
    "li_inter = [ele**2 if ele%2 == 0 else ele for ele in li1]\n",
    "li_inter"
   ]
  },
  {
   "cell_type": "code",
   "execution_count": 21,
   "id": "304514df",
   "metadata": {},
   "outputs": [
    {
     "data": {
      "text/plain": [
       "['Parikh', 'Parikh', 'Parikh', 'Parikh', 'Parikh', 'Parikh']"
      ]
     },
     "execution_count": 21,
     "metadata": {},
     "output_type": "execute_result"
    }
   ],
   "source": [
    "string = 'Parikh'\n",
    "li_str = [string for ele in string]\n",
    "li_str"
   ]
  },
  {
   "cell_type": "code",
   "execution_count": 22,
   "id": "f119650a",
   "metadata": {},
   "outputs": [
    {
     "data": {
      "text/plain": [
       "[['P', 'a', 'r', 'i', 'k', 'h'],\n",
       " ['A', 'n', 'k', 'u', 's', 'h'],\n",
       " ['J', 'a', 's', 'o', 'n']]"
      ]
     },
     "execution_count": 22,
     "metadata": {},
     "output_type": "execute_result"
    }
   ],
   "source": [
    "#Create 2d lists\n",
    "li_str = ['Parikh', 'Ankush','Jason']\n",
    "li_str2d = [[i for i in ele] for ele in li_str]\n",
    "li_str2d"
   ]
  },
  {
   "cell_type": "code",
   "execution_count": 23,
   "id": "ed4cbdc8",
   "metadata": {},
   "outputs": [
    {
     "data": {
      "text/plain": [
       "[[0, 0, 0], [0, 1, 2], [0, 2, 4]]"
      ]
     },
     "execution_count": 23,
     "metadata": {},
     "output_type": "execute_result"
    }
   ],
   "source": [
    "#example for creating 2d list using range function\n",
    "li_2dr = [[i*j for j in range(3)]for i in range(3)]\n",
    "li_2dr"
   ]
  },
  {
   "cell_type": "markdown",
   "id": "38723aea",
   "metadata": {},
   "source": [
    "### Taking Input in a 2D List"
   ]
  },
  {
   "cell_type": "code",
   "execution_count": 6,
   "id": "b0ab48c7",
   "metadata": {},
   "outputs": [
    {
     "name": "stdout",
     "output_type": "stream",
     "text": [
      "3 3\n",
      "1 2 3\n",
      "12 34 56\n",
      "12 34 56\n"
     ]
    }
   ],
   "source": [
    "#1st way - taking input for a 2d list\n",
    "\n",
    "string = input().split()\n",
    "n,m = int(string[0]),int(string[1])\n",
    "li = [[int(j) for j in input().split()] for i in range(n)]"
   ]
  },
  {
   "cell_type": "code",
   "execution_count": 7,
   "id": "e6645b11",
   "metadata": {},
   "outputs": [
    {
     "data": {
      "text/plain": [
       "[[1, 2, 3], [12, 34, 56], [12, 34, 56]]"
      ]
     },
     "execution_count": 7,
     "metadata": {},
     "output_type": "execute_result"
    }
   ],
   "source": [
    "li"
   ]
  },
  {
   "cell_type": "code",
   "execution_count": 27,
   "id": "33e18eb0",
   "metadata": {},
   "outputs": [
    {
     "name": "stdout",
     "output_type": "stream",
     "text": [
      "2 3\n",
      "1 2 3 4 5 6\n"
     ]
    },
    {
     "data": {
      "text/plain": [
       "[[1, 2, 3], [4, 5, 6]]"
      ]
     },
     "execution_count": 27,
     "metadata": {},
     "output_type": "execute_result"
    }
   ],
   "source": [
    "#2nd way - taking input for a 2d list\n",
    "\n",
    "string = input().split()\n",
    "n,m = int(string[0]),int(string[1])\n",
    "b = input().split()\n",
    "li = [[int(b[m*i+j]) for j in range(m)] for i in range(n)]\n",
    "li"
   ]
  },
  {
   "cell_type": "code",
   "execution_count": 30,
   "id": "acdb6847",
   "metadata": {},
   "outputs": [
    {
     "name": "stdout",
     "output_type": "stream",
     "text": [
      "3 4 1 2 3 4 3 4 5 6 4 5 6 7\n"
     ]
    },
    {
     "data": {
      "text/plain": [
       "[[1, 2, 3, 4], [3, 4, 5, 6], [4, 5, 6, 7]]"
      ]
     },
     "execution_count": 30,
     "metadata": {},
     "output_type": "execute_result"
    }
   ],
   "source": [
    "#if the entire input including number of rows and columns is given in one string\n",
    "\n",
    "string = input().split()\n",
    "n,m = int(string[0]),int(string[1])\n",
    "b = string[2:]\n",
    "li = [[int(b[m*i+j]) for j in range(m)] for i in range(n)]\n",
    "li"
   ]
  },
  {
   "cell_type": "markdown",
   "id": "e454ea19",
   "metadata": {},
   "source": [
    "### Printing a 2D List"
   ]
  },
  {
   "cell_type": "code",
   "execution_count": 31,
   "id": "20b7ce3b",
   "metadata": {},
   "outputs": [
    {
     "name": "stdout",
     "output_type": "stream",
     "text": [
      "1 2 3 4 \n",
      "3 4 5 6 \n",
      "4 5 6 7 \n"
     ]
    }
   ],
   "source": [
    "#when n and m are fixed\n",
    "li = [[1, 2, 3, 4], [3, 4, 5, 6], [4, 5, 6, 7]]\n",
    "n,m = 3,4\n",
    "for i in range(n):\n",
    "    for j in range(m):\n",
    "        print(li[i][j], end = ' ')\n",
    "    print()"
   ]
  },
  {
   "cell_type": "code",
   "execution_count": 33,
   "id": "ca1d56cb",
   "metadata": {},
   "outputs": [
    {
     "name": "stdout",
     "output_type": "stream",
     "text": [
      "1 2 3 \n",
      "5 6 \n",
      "4 5 6 7 \n"
     ]
    }
   ],
   "source": [
    "#when m is not know - jagged lists\n",
    "\n",
    "li = [[1, 2, 3], [5, 6], [4, 5, 6, 7]]\n",
    "for row in li:\n",
    "    for ele in row:\n",
    "        print(ele, end = ' ')\n",
    "    print()"
   ]
  },
  {
   "cell_type": "markdown",
   "id": "3c0b9c76",
   "metadata": {},
   "source": [
    "#### Using Join Function to Print 2D List:\n",
    "- join function works by multiplying every ele inside brackets (except the last one) with the one outside join.\n",
    "- Only strings can be joined, hence eles in the list need to be converted to string"
   ]
  },
  {
   "cell_type": "code",
   "execution_count": 39,
   "id": "c18b09e1",
   "metadata": {},
   "outputs": [
    {
     "data": {
      "text/plain": [
       "'1ab2ab3ab4'"
      ]
     },
     "execution_count": 39,
     "metadata": {},
     "output_type": "execute_result"
    }
   ],
   "source": [
    "#Example\n",
    "\n",
    "'ab'.join('1234')"
   ]
  },
  {
   "cell_type": "code",
   "execution_count": 34,
   "id": "83dec7e2",
   "metadata": {},
   "outputs": [
    {
     "name": "stdout",
     "output_type": "stream",
     "text": [
      "1 2 3\n",
      "5 6\n",
      "4 5 6 7\n"
     ]
    }
   ],
   "source": [
    "#Using JOIN function\n",
    "\n",
    "for row in li:\n",
    "    output = ' '.join(str(ele) for ele in row)\n",
    "    print(output)"
   ]
  },
  {
   "cell_type": "markdown",
   "id": "8518e158",
   "metadata": {},
   "source": [
    "#### Assignment Ques in Lecture"
   ]
  },
  {
   "cell_type": "code",
   "execution_count": 47,
   "id": "b2ad5319",
   "metadata": {},
   "outputs": [
    {
     "name": "stdout",
     "output_type": "stream",
     "text": [
      "4 2\n",
      "1 2 3 4 5 6 7 8\n",
      "3 7 11 15 "
     ]
    }
   ],
   "source": [
    "#print sum of every element in a row of 2D list\n",
    "\n",
    "def rowWiseSum(mat, nRows, mCols):\n",
    "    for row in mat:\n",
    "        sum = 0\n",
    "        for ele in row:\n",
    "            sum+=ele\n",
    "        print(sum, end=' ')\n",
    "\n",
    "string = input().split()\n",
    "n,m = int(string[0]),int(string[1])\n",
    "b = input().split()\n",
    "mat = [[int(b[m*row+ele]) for ele in range(m)] for row in range(n)]\n",
    "rowWiseSum(mat, n, m)"
   ]
  },
  {
   "cell_type": "code",
   "execution_count": 51,
   "id": "fce1eeea",
   "metadata": {},
   "outputs": [
    {
     "name": "stdout",
     "output_type": "stream",
     "text": [
      "3 4 \n",
      "1 2 3 4 8 7 6 5 13 14 15 16\n",
      "3\n"
     ]
    }
   ],
   "source": [
    "###### Largest column sum in 2D list\n",
    "\n",
    "def largestColSum(li, n, m):\n",
    "    #getting the sum of cols in a list\n",
    "    count = 0\n",
    "    output = []\n",
    "    while count < m:\n",
    "        sum = 0\n",
    "        for i in range(n):\n",
    "            sum += li[i][count]\n",
    "        output.append(sum)\n",
    "        count+=1\n",
    "    \n",
    "    #finding the largest sum in the sum list\n",
    "    largest = 0\n",
    "    index = 0\n",
    "    for i in range(len(output)):\n",
    "        if largest < output[i]:\n",
    "            largest = output[i]\n",
    "            index = i\n",
    "        \n",
    "    return index\n",
    "\n",
    "string = input().split()\n",
    "n,m = int(string[0]),int(string[1])\n",
    "b = input().split()\n",
    "li = [[int(b[m*row+ele]) for ele in range(m)] for row in range(n)]\n",
    "ans = largestColSum(li, n, m)\n",
    "print(ans)"
   ]
  },
  {
   "cell_type": "code",
   "execution_count": 56,
   "id": "6642f5cf",
   "metadata": {},
   "outputs": [
    {
     "name": "stdout",
     "output_type": "stream",
     "text": [
      "2 2\n",
      "1 1 2 3\n",
      "row 1 5\n"
     ]
    }
   ],
   "source": [
    "#Largest sum in rows and cols\n",
    "\n",
    "def findLargestCol(li, n, m):\n",
    "    \n",
    "    largest, index = 0,0\n",
    "    for j in range(m):\n",
    "        \n",
    "        sum = 0\n",
    "        for ele in li:\n",
    "            sum += ele[j]\n",
    "            \n",
    "        if sum > largest:\n",
    "            largest = sum\n",
    "            index = j\n",
    "            \n",
    "    return largest,index\n",
    "\n",
    "def findLargestRow(li, n, m):\n",
    "    \n",
    "    largest, index = 0, 0\n",
    "    for i in range(n):\n",
    "        sum = 0\n",
    "        for j in range(m):\n",
    "            sum += li[i][j]\n",
    "            \n",
    "        if sum > largest:\n",
    "            largest = sum\n",
    "            index = i\n",
    "            \n",
    "    return largest,index\n",
    "\n",
    "def findLargest(arr, nRows, mCols):\n",
    "    \n",
    "    MIN_VALUE = -2147483648\n",
    "    \n",
    "    if nRows<=1 and mCols<=1:\n",
    "        largestr = MIN_VALUE\n",
    "        indexr = 0\n",
    "    \n",
    "    largestc, indexc = findLargestCol(arr, nRows, mCols)\n",
    "    largestr, indexr = findLargestRow(arr, nRows, mCols)\n",
    "    \n",
    "    if largestc > largestr:\n",
    "        print('col', indexc, largestc)\n",
    "    else:\n",
    "        print('row', indexr, largestr)\n",
    "        \n",
    "        \n",
    "#main    \n",
    "string = input().split()\n",
    "nRows,mCols = int(string[0]),int(string[1])\n",
    "b = input().split()\n",
    "arr = [[int(b[mCols*i+j]) for j in range(mCols)] for i in range(nRows)]\n",
    "findLargest(arr, nRows, mCols)"
   ]
  },
  {
   "cell_type": "code",
   "execution_count": 59,
   "id": "6cd44d6c",
   "metadata": {},
   "outputs": [
    {
     "name": "stdout",
     "output_type": "stream",
     "text": [
      "3 4\n",
      "1 2 3 4 5 6 7 8 9 10 11 12\n",
      "1 5 9 10 6 2 3 7 11 12 8 4 "
     ]
    }
   ],
   "source": [
    "#Print elements of 2D list in a sine wave order\n",
    "\n",
    "def wavePrint(li, n, m):\n",
    "    \n",
    "    for j in range(m):\n",
    "        if j%2 == 0:\n",
    "            for ele in li:\n",
    "                print(ele[j], end = ' ')\n",
    "        else:\n",
    "            ele = n-1\n",
    "            while ele >= 0:\n",
    "                print(li[ele][j], end=' ')\n",
    "                ele-=1\n",
    "                \n",
    "\n",
    "string = input().split()\n",
    "n,m = int(string[0]),int(string[1])\n",
    "b = input().split()\n",
    "li = [[int(b[m*i+j]) for j in range(m)] for i in range(n)]\n",
    "wavePrint(li, n, m)"
   ]
  },
  {
   "cell_type": "code",
   "execution_count": 70,
   "id": "668fbf69",
   "metadata": {},
   "outputs": [
    {
     "name": "stdout",
     "output_type": "stream",
     "text": [
      "4 3\n",
      "1 2 3 4 5 6 7 8 9 10 11 12\n",
      "1 2 3 6 9 12 11 10 7 4 5 8 "
     ]
    }
   ],
   "source": [
    "#Print 2D array in spiral order\n",
    "\n",
    "def spiralPrint(li, n, m):\n",
    "    rs, cs, count = 0,0,0\n",
    "    re, ce = n,m\n",
    "    \n",
    "    while count <= m*n and re >= 0 and ce >= 0:\n",
    "        \n",
    "        for i in range(cs,ce,1):\n",
    "            print(li[rs][i], end = ' ')\n",
    "            count+=1\n",
    "        rs+=1\n",
    "        for i in range(rs,re,1):\n",
    "            print(li[i][ce-1], end = ' ')\n",
    "            count+=1\n",
    "        ce-=1\n",
    "        for i in range(ce-1,cs-1,-1):\n",
    "            print(li[re-1][i], end = ' ')\n",
    "            count+=1\n",
    "        re-=1\n",
    "        for i in range(re-1,rs-1,-1):\n",
    "            print(li[i][cs], end = ' ')\n",
    "            count+=1\n",
    "        cs+=1\n",
    "        \n",
    "            \n",
    "\n",
    "string = input().split()\n",
    "n,m = int(string[0]),int(string[1])\n",
    "b = input().split()\n",
    "li = [[int(b[m*i+j]) for j in range(m)] for i in range(n)]\n",
    "spiralPrint(li, n, m)"
   ]
  },
  {
   "cell_type": "markdown",
   "id": "bc20a080",
   "metadata": {},
   "source": [
    "#### TEST2"
   ]
  },
  {
   "cell_type": "code",
   "execution_count": 9,
   "id": "bbe268e5",
   "metadata": {},
   "outputs": [
    {
     "name": "stdout",
     "output_type": "stream",
     "text": [
      "4 4\n",
      "1 2 3 4\n",
      "2 3 4 5\n",
      "3 4 5 6\n",
      "4 5 6 7\n",
      "5 6 7 8\n",
      "2 3 4 5 \n",
      "2 3 4 5 \n",
      "2 3 4 5 \n",
      "2 3 4 5 \n",
      "3 4 5 6 \n",
      "3 4 5 6 \n",
      "3 4 5 6 \n",
      "4 5 6 7 \n",
      "4 5 6 7 \n",
      "5 6 7 8 \n"
     ]
    }
   ],
   "source": [
    "#ques-1\n",
    "\n",
    "def print2d(li, n, m):\n",
    "    i = n-1\n",
    "    count = i+1\n",
    "    while i >= 0 and count >= 0:\n",
    "        for j in range(m):\n",
    "            print(li[n-1-i][j], end = ' ')\n",
    "        \n",
    "        print()    \n",
    "        count-=1\n",
    "        if count == 0:\n",
    "            i-=1\n",
    "            count = i+1\n",
    "\n",
    "string = input().split()\n",
    "n,m = int(string[0]),int(string[1])\n",
    "li = [[int(j) for j in input().split()] for i in range(n)]\n",
    "print2d(li, n, m)"
   ]
  },
  {
   "cell_type": "code",
   "execution_count": 18,
   "id": "e3048b83",
   "metadata": {},
   "outputs": [
    {
     "name": "stdout",
     "output_type": "stream",
     "text": [
      "this is a string\n",
      "a\n"
     ]
    }
   ],
   "source": [
    "#Ques-2\n",
    "\n",
    "import sys\n",
    "\n",
    "li = input().split()\n",
    "smallest = sys.maxsize\n",
    "ans = ''\n",
    "for ele in li:\n",
    "    if len(ele) < smallest:\n",
    "        ans = ele\n",
    "        smallest = len(ele)\n",
    "print(ans)"
   ]
  },
  {
   "cell_type": "code",
   "execution_count": 34,
   "id": "b644abcd",
   "metadata": {},
   "outputs": [
    {
     "name": "stdout",
     "output_type": "stream",
     "text": [
      "6\n",
      "3 12 34 2 0 -1\n",
      "34 2 0 -1 "
     ]
    }
   ],
   "source": [
    "#Ques-3\n",
    "\n",
    "n = int(input())\n",
    "li = [int(x) for x in input().split()]\n",
    "currmax = li[n-1]\n",
    "ans = [li[n-1]]\n",
    "for i in range(n-2,-1,-1):\n",
    "    if li[i] >= currmax:\n",
    "        ans.append(li[i])\n",
    "        currmax = li[i]\n",
    "        \n",
    "for ele in range(len(ans)-1,-1,-1):\n",
    "    print(ans[ele], end=' ')"
   ]
  },
  {
   "cell_type": "code",
   "execution_count": null,
   "id": "038dc386",
   "metadata": {},
   "outputs": [],
   "source": []
  }
 ],
 "metadata": {
  "kernelspec": {
   "display_name": "Python 3",
   "language": "python",
   "name": "python3"
  },
  "language_info": {
   "codemirror_mode": {
    "name": "ipython",
    "version": 3
   },
   "file_extension": ".py",
   "mimetype": "text/x-python",
   "name": "python",
   "nbconvert_exporter": "python",
   "pygments_lexer": "ipython3",
   "version": "3.8.8"
  }
 },
 "nbformat": 4,
 "nbformat_minor": 5
}
