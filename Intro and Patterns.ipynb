{
 "cells": [
  {
   "cell_type": "markdown",
   "id": "b2da5a1a",
   "metadata": {},
   "source": [
    "### Print Hello World!"
   ]
  },
  {
   "cell_type": "code",
   "execution_count": 2,
   "id": "e6d616aa",
   "metadata": {},
   "outputs": [
    {
     "name": "stdout",
     "output_type": "stream",
     "text": [
      "Hello World!\n"
     ]
    }
   ],
   "source": [
    "print('Hello World!')"
   ]
  },
  {
   "cell_type": "code",
   "execution_count": 3,
   "id": "d9bac531",
   "metadata": {},
   "outputs": [
    {
     "name": "stdout",
     "output_type": "stream",
     "text": [
      "Hello world!\n"
     ]
    }
   ],
   "source": [
    "print(\"Hello world!\")"
   ]
  },
  {
   "cell_type": "markdown",
   "id": "dc069fe9",
   "metadata": {},
   "source": [
    "### Variable"
   ]
  },
  {
   "cell_type": "code",
   "execution_count": 6,
   "id": "559b309a",
   "metadata": {},
   "outputs": [
    {
     "data": {
      "text/plain": [
       "40"
      ]
     },
     "execution_count": 6,
     "metadata": {},
     "output_type": "execute_result"
    }
   ],
   "source": [
    "a = 10\n",
    "b = 30\n",
    "\n",
    "sum = a + b\n",
    "sum"
   ]
  },
  {
   "cell_type": "code",
   "execution_count": 7,
   "id": "c170de6b",
   "metadata": {},
   "outputs": [
    {
     "name": "stdout",
     "output_type": "stream",
     "text": [
      "40\n"
     ]
    }
   ],
   "source": [
    "print(sum)"
   ]
  },
  {
   "cell_type": "markdown",
   "id": "55880d25",
   "metadata": {},
   "source": [
    "### Assigning different type of data to a variable"
   ]
  },
  {
   "cell_type": "code",
   "execution_count": 8,
   "id": "8f550732",
   "metadata": {},
   "outputs": [
    {
     "data": {
      "text/plain": [
       "'abc'"
      ]
     },
     "execution_count": 8,
     "metadata": {},
     "output_type": "execute_result"
    }
   ],
   "source": [
    "a = 10\n",
    "a = 20\n",
    "a = 'abc'\n",
    "a"
   ]
  },
  {
   "cell_type": "code",
   "execution_count": 9,
   "id": "ae3bbc87",
   "metadata": {},
   "outputs": [
    {
     "data": {
      "text/plain": [
       "str"
      ]
     },
     "execution_count": 9,
     "metadata": {},
     "output_type": "execute_result"
    }
   ],
   "source": [
    "type(a)"
   ]
  },
  {
   "cell_type": "code",
   "execution_count": 10,
   "id": "68623020",
   "metadata": {},
   "outputs": [
    {
     "name": "stdout",
     "output_type": "stream",
     "text": [
      "<class 'int'>\n",
      "<class 'str'>\n"
     ]
    }
   ],
   "source": [
    "a = 25\n",
    "print(type(a))\n",
    "a = 'bot'\n",
    "print(type(a))"
   ]
  },
  {
   "cell_type": "code",
   "execution_count": 11,
   "id": "1d9c93e3",
   "metadata": {},
   "outputs": [
    {
     "data": {
      "text/plain": [
       "11"
      ]
     },
     "execution_count": 11,
     "metadata": {},
     "output_type": "execute_result"
    }
   ],
   "source": [
    "a = 10\n",
    "a = a + 1\n",
    "a"
   ]
  },
  {
   "cell_type": "code",
   "execution_count": 12,
   "id": "0008109d",
   "metadata": {},
   "outputs": [
    {
     "data": {
      "text/plain": [
       "140716381317232"
      ]
     },
     "execution_count": 12,
     "metadata": {},
     "output_type": "execute_result"
    }
   ],
   "source": [
    "id(a)"
   ]
  },
  {
   "cell_type": "code",
   "execution_count": 13,
   "id": "ad810ab8",
   "metadata": {},
   "outputs": [
    {
     "data": {
      "text/plain": [
       "140716381317200"
      ]
     },
     "execution_count": 13,
     "metadata": {},
     "output_type": "execute_result"
    }
   ],
   "source": [
    "a = 10\n",
    "id(a)"
   ]
  },
  {
   "cell_type": "code",
   "execution_count": 14,
   "id": "30d3c34e",
   "metadata": {},
   "outputs": [
    {
     "name": "stdout",
     "output_type": "stream",
     "text": [
      "23\n",
      "34\n",
      "57\n"
     ]
    }
   ],
   "source": [
    "a = int(input())\n",
    "b = int(input())\n",
    "sum = a + b\n",
    "print(sum)"
   ]
  },
  {
   "cell_type": "code",
   "execution_count": 13,
   "id": "f640b0f3",
   "metadata": {},
   "outputs": [
    {
     "name": "stdout",
     "output_type": "stream",
     "text": [
      "345\n",
      "false\n"
     ]
    }
   ],
   "source": [
    "#check if the input number is palindrome or not\n",
    "def checkPalindrome(num):\n",
    "#Implement Your Code Here\n",
    "    og = num\n",
    "    rev = 0\n",
    "    n = 0\n",
    "    while(og//10 != 0):\n",
    "        n = og%10\n",
    "        rev = rev*10 + n\n",
    "        og = og//10\n",
    "    n = og % 10\n",
    "    rev = rev*10 + n\n",
    "    if (rev == num):\n",
    "        return True\n",
    "    return False\n",
    "\n",
    "\n",
    "num = int(input())\n",
    "isPalindrome = checkPalindrome(num)\n",
    "if(isPalindrome):\n",
    "    print('true')\n",
    "else:\n",
    "    print('false')"
   ]
  },
  {
   "cell_type": "code",
   "execution_count": 15,
   "id": "cfede452",
   "metadata": {},
   "outputs": [
    {
     "name": "stdout",
     "output_type": "stream",
     "text": [
      "3456\n",
      "10   8\n"
     ]
    }
   ],
   "source": [
    "n = int(input())\n",
    "odd = 0\n",
    "even = 0\n",
    "num = 0\n",
    "while(n//10 != 0):\n",
    "    num = n % 10\n",
    "    if (num % 2 == 0):\n",
    "        even = even + num\n",
    "    else:\n",
    "        odd = odd + num\n",
    "    n = n // 10\n",
    "if (n % 2 == 0):\n",
    "    even = even + n\n",
    "else:\n",
    "    odd = odd + n\n",
    "print(even, \" \", odd)"
   ]
  },
  {
   "cell_type": "code",
   "execution_count": 9,
   "id": "4616fb47",
   "metadata": {},
   "outputs": [
    {
     "name": "stdout",
     "output_type": "stream",
     "text": [
      "4\n",
      "3\n"
     ]
    }
   ],
   "source": [
    "#Nth fibonacci number\n",
    "n = int(input())\n",
    "curr = 0\n",
    "prev1 = 1\n",
    "prev2 = 0\n",
    "i = 0\n",
    "while (i<n):\n",
    "        curr = prev2 + prev1\n",
    "        prev2 = prev1\n",
    "        prev1 = curr\n",
    "        i+=1\n",
    "print(prev2)"
   ]
  },
  {
   "cell_type": "markdown",
   "id": "49c6bf4a",
   "metadata": {},
   "source": [
    "## Patterns"
   ]
  },
  {
   "cell_type": "code",
   "execution_count": 25,
   "id": "1e711010",
   "metadata": {},
   "outputs": [
    {
     "name": "stdout",
     "output_type": "stream",
     "text": [
      "4\n",
      "4444\n",
      "4444\n",
      "4444\n",
      "4444\n"
     ]
    }
   ],
   "source": [
    "n = int(input())\n",
    "i = 1 \n",
    "while (i<=n):\n",
    "    j = 1\n",
    "    while (j<=n):\n",
    "        print(n, end='')\n",
    "        j+=1\n",
    "    print()    \n",
    "    i+=1    "
   ]
  },
  {
   "cell_type": "code",
   "execution_count": 26,
   "id": "8d42e039",
   "metadata": {},
   "outputs": [
    {
     "name": "stdout",
     "output_type": "stream",
     "text": [
      "4\n",
      "1234\n",
      "1234\n",
      "1234\n",
      "1234\n"
     ]
    }
   ],
   "source": [
    "n = int(input())\n",
    "i = 1 \n",
    "while (i<=n):\n",
    "    j = 1\n",
    "    while (j<=n):\n",
    "        print(j, end='')\n",
    "        j+=1\n",
    "    print()    \n",
    "    i+=1"
   ]
  },
  {
   "cell_type": "code",
   "execution_count": 27,
   "id": "b654c229",
   "metadata": {},
   "outputs": [
    {
     "name": "stdout",
     "output_type": "stream",
     "text": [
      "4\n",
      "4321\n",
      "4321\n",
      "4321\n",
      "4321\n"
     ]
    }
   ],
   "source": [
    "n = int(input())\n",
    "i = 1 \n",
    "while (i<=n):\n",
    "    j = n\n",
    "    while (j>=1):\n",
    "        print(j, end='')\n",
    "        j-=1\n",
    "    print()    \n",
    "    i+=1"
   ]
  },
  {
   "cell_type": "code",
   "execution_count": 1,
   "id": "3ab3e185",
   "metadata": {},
   "outputs": [
    {
     "name": "stdout",
     "output_type": "stream",
     "text": [
      "4\n",
      "1\n",
      "12\n",
      "123\n",
      "1234\n"
     ]
    }
   ],
   "source": [
    "n = int(input())\n",
    "i = 1\n",
    "while i <= n:\n",
    "    j = 1\n",
    "    while j <= i:\n",
    "        print(j, end=\"\")\n",
    "        j+=1\n",
    "    print()\n",
    "    i+=1"
   ]
  },
  {
   "cell_type": "code",
   "execution_count": 4,
   "id": "4d2f23e3",
   "metadata": {},
   "outputs": [
    {
     "name": "stdout",
     "output_type": "stream",
     "text": [
      "4\n",
      "1\n",
      "23\n",
      "345\n",
      "4567\n"
     ]
    }
   ],
   "source": [
    "n = int(input())\n",
    "i = 1\n",
    "count = 0\n",
    "while i <= n:\n",
    "    j = 1\n",
    "    while j <= i:\n",
    "        print(j + count, end='')\n",
    "        j+=1\n",
    "    print()\n",
    "    i+=1\n",
    "    count+=1    "
   ]
  },
  {
   "cell_type": "code",
   "execution_count": 13,
   "id": "b24e0335",
   "metadata": {},
   "outputs": [
    {
     "name": "stdout",
     "output_type": "stream",
     "text": [
      "4\n",
      "2\n",
      "34\n",
      "456\n",
      "5678\n"
     ]
    }
   ],
   "source": [
    "n = int(input())\n",
    "i = 1\n",
    "while i <= n:\n",
    "    j = 1\n",
    "    while j <= i:\n",
    "        print(i+j, end='')\n",
    "        j+=1\n",
    "    print()\n",
    "    i+=1"
   ]
  },
  {
   "cell_type": "code",
   "execution_count": 14,
   "id": "71a49877",
   "metadata": {},
   "outputs": [
    {
     "name": "stdout",
     "output_type": "stream",
     "text": [
      "4\n",
      "1\n",
      "23\n",
      "456\n",
      "78910\n"
     ]
    }
   ],
   "source": [
    "n = int(input())\n",
    "i = 1\n",
    "count = 1\n",
    "while i <= n:\n",
    "    j = 1\n",
    "    while j <= i:\n",
    "        print(count, end='')\n",
    "        j+=1\n",
    "        count+=1\n",
    "    print()\n",
    "    i+=1"
   ]
  },
  {
   "cell_type": "code",
   "execution_count": 15,
   "id": "e9ceb8ed",
   "metadata": {},
   "outputs": [
    {
     "name": "stdout",
     "output_type": "stream",
     "text": [
      "4\n",
      "*\n",
      "**\n",
      "***\n",
      "****\n"
     ]
    }
   ],
   "source": [
    "n = int(input())\n",
    "i = 1\n",
    "while i <= n:\n",
    "    j = 1\n",
    "    while j <= i:\n",
    "        print('*', end='')\n",
    "        j+=1\n",
    "    print()\n",
    "    i+=1"
   ]
  },
  {
   "cell_type": "code",
   "execution_count": 16,
   "id": "92437c1d",
   "metadata": {},
   "outputs": [
    {
     "name": "stdout",
     "output_type": "stream",
     "text": [
      "4\n",
      "1\n",
      "22\n",
      "333\n",
      "4444\n"
     ]
    }
   ],
   "source": [
    "n = int(input())\n",
    "i = 1\n",
    "while i <= n:\n",
    "    j = 1\n",
    "    while j <= i:\n",
    "        print(i, end='')\n",
    "        j+=1\n",
    "    print()\n",
    "    i+=1"
   ]
  },
  {
   "cell_type": "code",
   "execution_count": 19,
   "id": "c0d33089",
   "metadata": {},
   "outputs": [
    {
     "name": "stdout",
     "output_type": "stream",
     "text": [
      "5\n",
      "1\n",
      "21\n",
      "321\n",
      "4321\n",
      "54321\n"
     ]
    }
   ],
   "source": [
    "n = int(input())\n",
    "i = 1\n",
    "while i <= n:\n",
    "    j = 1\n",
    "    while j <= i:\n",
    "        print(i-j+1, end='')\n",
    "        j+=1\n",
    "    print()\n",
    "    i+=1"
   ]
  },
  {
   "cell_type": "code",
   "execution_count": 20,
   "id": "3f3a9247",
   "metadata": {},
   "outputs": [
    {
     "name": "stdout",
     "output_type": "stream",
     "text": [
      "4\n"
     ]
    },
    {
     "data": {
      "text/plain": [
       "'D'"
      ]
     },
     "execution_count": 20,
     "metadata": {},
     "output_type": "execute_result"
    }
   ],
   "source": [
    "#Printing characters in Python using ord() and chr() methods\n",
    "k = int(input())\n",
    "x = ord('A')\n",
    "asciitarget = x + k - 1\n",
    "targetchar = chr(asciitarget)\n",
    "targetchar"
   ]
  },
  {
   "cell_type": "code",
   "execution_count": 26,
   "id": "c13c57e9",
   "metadata": {},
   "outputs": [
    {
     "name": "stdout",
     "output_type": "stream",
     "text": [
      "4\n",
      "ABCD\n",
      "ABCD\n",
      "ABCD\n",
      "ABCD\n"
     ]
    }
   ],
   "source": [
    "n = int(input())\n",
    "i = 1\n",
    "while i <= n:\n",
    "    j = 1\n",
    "    x = ord('A')\n",
    "    while j <= n: \n",
    "        print(chr(x + j - 1), end='')\n",
    "        j+=1\n",
    "    print()\n",
    "    i+=1"
   ]
  },
  {
   "cell_type": "code",
   "execution_count": 28,
   "id": "e4794a13",
   "metadata": {},
   "outputs": [
    {
     "name": "stdout",
     "output_type": "stream",
     "text": [
      "4\n",
      "ABCD\n",
      "BCDE\n",
      "CDEF\n",
      "DEFG\n"
     ]
    }
   ],
   "source": [
    "n = int(input())\n",
    "i = 1\n",
    "x = ord('A')\n",
    "while i <= n:\n",
    "    j = 1\n",
    "    while j <= n:\n",
    "        print(chr(j + x - 1), end='')\n",
    "        j+=1\n",
    "    print()\n",
    "    i+=1\n",
    "    x+=1"
   ]
  },
  {
   "cell_type": "code",
   "execution_count": 29,
   "id": "4230f9b9",
   "metadata": {},
   "outputs": [
    {
     "name": "stdout",
     "output_type": "stream",
     "text": [
      "4\n",
      "A\n",
      "BC\n",
      "CDE\n",
      "DEFG\n"
     ]
    }
   ],
   "source": [
    "n = int(input())\n",
    "i = 1\n",
    "x = ord('A')\n",
    "while i <= n:\n",
    "    j = 1\n",
    "    while j <= i:\n",
    "        print(chr(j + x - 1), end='')\n",
    "        j+=1\n",
    "    print()\n",
    "    i+=1\n",
    "    x+=1"
   ]
  },
  {
   "cell_type": "code",
   "execution_count": 35,
   "id": "0870ffb8",
   "metadata": {},
   "outputs": [
    {
     "name": "stdout",
     "output_type": "stream",
     "text": [
      "5\n",
      "E\n",
      "DE\n",
      "CDE\n",
      "BCDE\n",
      "ABCDE\n"
     ]
    }
   ],
   "source": [
    "n = int(input())\n",
    "i = 1\n",
    "while i <= n:\n",
    "    j = 1\n",
    "    x = ord('A') + n - i\n",
    "    while j <= i:\n",
    "        print(chr(x), end='')\n",
    "        j+=1\n",
    "        x+=1\n",
    "    print()\n",
    "    i+=1"
   ]
  },
  {
   "cell_type": "code",
   "execution_count": 36,
   "id": "d85cec81",
   "metadata": {},
   "outputs": [
    {
     "name": "stdout",
     "output_type": "stream",
     "text": [
      "4\n",
      "1\n",
      "11\n",
      "111\n",
      "1111\n"
     ]
    }
   ],
   "source": [
    "n = int(input())\n",
    "i = 1\n",
    "while i <= n:\n",
    "    j = 1\n",
    "    while j <= i:\n",
    "        print(1, end='')\n",
    "        j+=1\n",
    "    print()\n",
    "    i+=1"
   ]
  },
  {
   "cell_type": "code",
   "execution_count": 39,
   "id": "2ff839ab",
   "metadata": {},
   "outputs": [
    {
     "name": "stdout",
     "output_type": "stream",
     "text": [
      "4\n",
      "A\n",
      "BB\n",
      "CCC\n",
      "DDDD\n"
     ]
    }
   ],
   "source": [
    "n = int(input())\n",
    "i = 1\n",
    "while i <= n:\n",
    "    j = 1\n",
    "    x = ord('A') + i - 1\n",
    "    while j <= i:\n",
    "        print(chr(x), end='')\n",
    "        j+=1\n",
    "    print()\n",
    "    i+=1"
   ]
  },
  {
   "cell_type": "code",
   "execution_count": 56,
   "id": "976ff2ae",
   "metadata": {},
   "outputs": [
    {
     "name": "stdout",
     "output_type": "stream",
     "text": [
      "3\n",
      "1\n",
      "11\n",
      "202\n"
     ]
    }
   ],
   "source": [
    "n = int(input())\n",
    "i = 1\n",
    "while i <= n:\n",
    "    j = 1\n",
    "    if i <= 2:\n",
    "        while j <= i:\n",
    "            print(1, end='')\n",
    "            j+=1\n",
    "    else:\n",
    "        while j < i:\n",
    "            print(i-1, end='')\n",
    "            k = 1\n",
    "            while (k <= (i-2)):\n",
    "                print(0, end='')\n",
    "                k+=1\n",
    "                j+=1\n",
    "            print(i-1, end='')\n",
    "            j+=1 \n",
    "    print()\n",
    "    i+=1            "
   ]
  },
  {
   "cell_type": "markdown",
   "id": "01f30fa2",
   "metadata": {},
   "source": [
    "## Advanced Patterns"
   ]
  },
  {
   "cell_type": "code",
   "execution_count": 57,
   "id": "78badb81",
   "metadata": {},
   "outputs": [
    {
     "name": "stdout",
     "output_type": "stream",
     "text": [
      "4\n",
      "1234\n",
      "123\n",
      "12\n",
      "1\n"
     ]
    }
   ],
   "source": [
    "n = int(input())\n",
    "i = 1\n",
    "while i <= n:\n",
    "    j = 1\n",
    "    while (j <= (n - i) + 1):\n",
    "        print(j, end='')\n",
    "        j+=1\n",
    "    print()\n",
    "    i+=1"
   ]
  },
  {
   "cell_type": "code",
   "execution_count": 59,
   "id": "0046e592",
   "metadata": {},
   "outputs": [
    {
     "name": "stdout",
     "output_type": "stream",
     "text": [
      "4\n",
      "4444\n",
      "333\n",
      "22\n",
      "1\n"
     ]
    }
   ],
   "source": [
    "n = int(input())\n",
    "i = 1\n",
    "while i <= n:\n",
    "    j = 1\n",
    "    while j <= (n - i + 1):\n",
    "        print(n-i+1, end='')\n",
    "        j+=1\n",
    "    print()\n",
    "    i+=1"
   ]
  },
  {
   "cell_type": "code",
   "execution_count": 60,
   "id": "40021eda",
   "metadata": {},
   "outputs": [
    {
     "name": "stdout",
     "output_type": "stream",
     "text": [
      "4\n",
      "   *\n",
      "  **\n",
      " ***\n",
      "****\n"
     ]
    }
   ],
   "source": [
    "n = int(input())\n",
    "i = 1\n",
    "while i <= n:\n",
    "    s = 1\n",
    "    while s <= n-i:\n",
    "        print(' ', end='')\n",
    "        s+=1\n",
    "    stars = 1\n",
    "    while stars <= i:\n",
    "        print('*', end='')\n",
    "        stars+=1\n",
    "    print()\n",
    "    i+=1"
   ]
  },
  {
   "cell_type": "code",
   "execution_count": 61,
   "id": "3980b211",
   "metadata": {},
   "outputs": [
    {
     "name": "stdout",
     "output_type": "stream",
     "text": [
      "4\n",
      "   1\n",
      "  12\n",
      " 123\n",
      "1234\n"
     ]
    }
   ],
   "source": [
    "n = int(input())\n",
    "i = 1\n",
    "while i <= n:\n",
    "    s = 1\n",
    "    while s <= n-i:\n",
    "        print(' ', end='')\n",
    "        s+=1\n",
    "    j = 1\n",
    "    while j <= i:\n",
    "        print(j, end='')\n",
    "        j+=1\n",
    "    print()\n",
    "    i+=1"
   ]
  },
  {
   "cell_type": "code",
   "execution_count": 66,
   "id": "9c98a0fa",
   "metadata": {},
   "outputs": [
    {
     "name": "stdout",
     "output_type": "stream",
     "text": [
      "4\n",
      "   *\n",
      "  ***\n",
      " *****\n",
      "*******\n"
     ]
    }
   ],
   "source": [
    "n = int(input())\n",
    "i = 1\n",
    "while i <= n:\n",
    "    s = 1\n",
    "    while s <= n-i:\n",
    "        print(' ', end='')\n",
    "        s+=1\n",
    "    j = 1\n",
    "    while j <= i:\n",
    "        print('*', end='')\n",
    "        j+=1\n",
    "    if i > 1:\n",
    "        k = i-1\n",
    "        while k >= 1:\n",
    "            print('*', end='')\n",
    "            k-=1\n",
    "    print()\n",
    "    i+=1"
   ]
  },
  {
   "cell_type": "code",
   "execution_count": 84,
   "id": "14b6b3c8",
   "metadata": {},
   "outputs": [
    {
     "name": "stdout",
     "output_type": "stream",
     "text": [
      "4\n",
      "   1\n",
      "  232\n",
      " 34543\n",
      "4567654\n"
     ]
    }
   ],
   "source": [
    "#METHOD1 with IF condition (MY OWN METHOD)\n",
    "n = int(input())\n",
    "i = 1\n",
    "while i <= n:\n",
    "    sp = 1\n",
    "    while sp <= n-i:\n",
    "        print(' ', end='')\n",
    "        sp+=1\n",
    "    j = 1\n",
    "    while j <= i:\n",
    "        print(j+i-1, end='')\n",
    "        j+=1\n",
    "    if i > 1:\n",
    "        k = i-1\n",
    "        while k >= 1:\n",
    "            print(k+i-1, end='')\n",
    "            k-=1\n",
    "    print()\n",
    "    i+=1"
   ]
  },
  {
   "cell_type": "code",
   "execution_count": 69,
   "id": "c857ebe6",
   "metadata": {},
   "outputs": [
    {
     "name": "stdout",
     "output_type": "stream",
     "text": [
      "4\n",
      "   1\n",
      "  232\n",
      " 34543\n",
      "4567654\n"
     ]
    }
   ],
   "source": [
    "#METHOD2 without any IF condition (CODING NINJA METHOD)\n",
    "n = int(input())\n",
    "i = 1\n",
    "while i <= n:\n",
    "    sp = 1\n",
    "    while sp <= n-i:\n",
    "        print(' ', end='')\n",
    "        sp+=1\n",
    "    j = 1\n",
    "    p = 1\n",
    "    while j <= i:\n",
    "        print(p+i-1, end='')\n",
    "        j+=1\n",
    "        p+=1\n",
    "    p = i-1\n",
    "    while p >= 1:\n",
    "        print(p+i-1, end='')\n",
    "        p-=1\n",
    "    print()\n",
    "    i+=1"
   ]
  },
  {
   "cell_type": "code",
   "execution_count": 94,
   "id": "3957e665",
   "metadata": {},
   "outputs": [
    {
     "name": "stdout",
     "output_type": "stream",
     "text": [
      "5\n",
      "  *\n",
      " ***\n",
      "*****\n",
      " ***\n",
      "  *\n"
     ]
    }
   ],
   "source": [
    "#Diamond of Stars\n",
    "n = int(input())\n",
    "i = 1\n",
    "n1 = (n+1)//2\n",
    "while i <= n1:\n",
    "    s = 1\n",
    "    while s <= n1-i:\n",
    "        print(\" \", end='')\n",
    "        s+=1\n",
    "    j = 1\n",
    "    while j <= i:\n",
    "        print('*', end='')\n",
    "        j+=1\n",
    "    j = 1\n",
    "    while j <= i-1:\n",
    "        print('*', end='')\n",
    "        j+=1\n",
    "    print()\n",
    "    i+=1\n",
    "n2 = n//2\n",
    "i = 1\n",
    "while i <= n2:\n",
    "    s = 1\n",
    "    while s <= i:\n",
    "        print(\" \", end='')\n",
    "        s+=1\n",
    "    j = n2-i+1\n",
    "    while j >= 1:\n",
    "        print('*', end='')\n",
    "        j-=1\n",
    "    k = n2-i\n",
    "    while k >= 1:\n",
    "        print('*', end='')\n",
    "        k-=1\n",
    "    print()\n",
    "    i+=1\n",
    "        "
   ]
  },
  {
   "cell_type": "code",
   "execution_count": 98,
   "id": "1520c031",
   "metadata": {},
   "outputs": [
    {
     "name": "stdout",
     "output_type": "stream",
     "text": [
      "5\n",
      "1        1\n",
      "12      21\n",
      "123    321\n",
      "1234  4321\n",
      "1234554321\n"
     ]
    }
   ],
   "source": [
    "n = int(input())\n",
    "i = 1\n",
    "while i <= n:\n",
    "    j = 1\n",
    "    while j <= i:\n",
    "        print(j,end='')\n",
    "        j+=1\n",
    "    s = n-i\n",
    "    while s >= 1:\n",
    "        print(' ', end='')\n",
    "        s-=1\n",
    "    s = n-i\n",
    "    while s >= 1:\n",
    "        print(' ', end='')\n",
    "        s-=1\n",
    "    k = 1\n",
    "    while k <= i:\n",
    "        print(i-k+1, end='')\n",
    "        k+=1\n",
    "    print()\n",
    "    i+=1"
   ]
  },
  {
   "cell_type": "code",
   "execution_count": 101,
   "id": "06e26a61",
   "metadata": {},
   "outputs": [
    {
     "name": "stdout",
     "output_type": "stream",
     "text": [
      "4\n",
      "*000*000*\n",
      "0*00*00*0\n",
      "00*0*0*00\n",
      "000***000\n"
     ]
    }
   ],
   "source": [
    "n = int(input())\n",
    "i = 1\n",
    "while i <= n:\n",
    "    j = 1\n",
    "    while j <= n:\n",
    "        if j == i:\n",
    "            print('*', end='')\n",
    "        else:\n",
    "            print('0', end='')\n",
    "        j+=1\n",
    "    print('*', end='')\n",
    "    k = 1\n",
    "    while k <= n:\n",
    "        if k == (n-i+1):\n",
    "            print('*', end='')\n",
    "        else:\n",
    "            print('0', end='')\n",
    "        k+=1\n",
    "        \n",
    "    print()\n",
    "    i+=1"
   ]
  },
  {
   "cell_type": "code",
   "execution_count": 106,
   "id": "c78034d1",
   "metadata": {},
   "outputs": [
    {
     "name": "stdout",
     "output_type": "stream",
     "text": [
      "4\n",
      "   1\n",
      "  212\n",
      " 32123\n",
      "4321234\n"
     ]
    }
   ],
   "source": [
    "n = int(input())\n",
    "i = 1\n",
    "while i <= n:\n",
    "    s = 1\n",
    "    while s <= n-i:\n",
    "        print(' ', end='')\n",
    "        s+=1\n",
    "    j = 1\n",
    "    while j <= i:\n",
    "        print(i-j+1, end='')\n",
    "        j+=1\n",
    "    if (i >= 2):\n",
    "        j = 1\n",
    "        while j <= i-1:\n",
    "            print(j+1, end='')\n",
    "            j+=1\n",
    "    print()\n",
    "    i+=1"
   ]
  },
  {
   "cell_type": "code",
   "execution_count": 110,
   "id": "120d4ee4",
   "metadata": {},
   "outputs": [
    {
     "name": "stdout",
     "output_type": "stream",
     "text": [
      "9\n",
      "* \n",
      "  * * \n",
      "   * * * \n",
      "    * * * * \n",
      "     * * * * * \n",
      "   * * * * \n",
      "  * * * \n",
      " * * \n",
      "* \n"
     ]
    }
   ],
   "source": [
    "n = int(input())\n",
    "i = 1\n",
    "n1 = (n+1)//2\n",
    "while i <= n1:\n",
    "    s = 1\n",
    "    if i != 1:\n",
    "        while s <= i:\n",
    "            print(' ', end='')\n",
    "            s+=1\n",
    "    j = 1\n",
    "    while j <= i:\n",
    "        print('* ', end='')\n",
    "        j+=1\n",
    "    print()\n",
    "    i+=1\n",
    "n2 = n//2\n",
    "i = 1\n",
    "while i <= n2:\n",
    "    s = 1\n",
    "    while s <= n2-i:\n",
    "        print(' ', end='')\n",
    "        s+=1\n",
    "    j = 1\n",
    "    while j <= n2-i+1:\n",
    "        print('* ', end='')\n",
    "        j+=1\n",
    "    print()\n",
    "    i+=1"
   ]
  },
  {
   "cell_type": "code",
   "execution_count": null,
   "id": "be07f19a",
   "metadata": {},
   "outputs": [],
   "source": []
  }
 ],
 "metadata": {
  "kernelspec": {
   "display_name": "Python 3",
   "language": "python",
   "name": "python3"
  },
  "language_info": {
   "codemirror_mode": {
    "name": "ipython",
    "version": 3
   },
   "file_extension": ".py",
   "mimetype": "text/x-python",
   "name": "python",
   "nbconvert_exporter": "python",
   "pygments_lexer": "ipython3",
   "version": "3.8.8"
  }
 },
 "nbformat": 4,
 "nbformat_minor": 5
}
