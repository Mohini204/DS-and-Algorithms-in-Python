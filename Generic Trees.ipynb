{
 "cells": [
  {
   "cell_type": "markdown",
   "id": "0037c7e8",
   "metadata": {},
   "source": [
    "#### Introduction"
   ]
  },
  {
   "cell_type": "code",
   "execution_count": 1,
   "id": "200ec446",
   "metadata": {},
   "outputs": [],
   "source": [
    "#Generic Tree Class\n",
    "\n",
    "class TreeNode:\n",
    "    \n",
    "    def __init__(self,data):\n",
    "        self.data = data\n",
    "        self.children = list()"
   ]
  },
  {
   "cell_type": "code",
   "execution_count": 2,
   "id": "515cc863",
   "metadata": {},
   "outputs": [],
   "source": [
    "n1 = TreeNode(5)\n",
    "n2 = TreeNode(2)\n",
    "n3 = TreeNode(9)\n",
    "n4 = TreeNode(8)\n",
    "n5 = TreeNode(7)\n",
    "n6 = TreeNode(15)\n",
    "n7 = TreeNode(1)\n",
    "\n",
    "n1.children.append(n2)\n",
    "n1.children.append(n3)\n",
    "n1.children.append(n4)\n",
    "n1.children.append(n5)\n",
    "n3.children.append(n6)\n",
    "n3.children.append(n7)"
   ]
  },
  {
   "cell_type": "markdown",
   "id": "1fe49e06",
   "metadata": {},
   "source": [
    "#### Printing Generic Tree"
   ]
  },
  {
   "cell_type": "code",
   "execution_count": 9,
   "id": "75e5c0b7",
   "metadata": {},
   "outputs": [],
   "source": [
    "def printTree(root):\n",
    "    \n",
    "    #edge case not a base case\n",
    "    if root is None:\n",
    "        return\n",
    "    \n",
    "    print(root.data, end = ' ')\n",
    "    for child in root.children:\n",
    "        printTree(child)\n",
    "    \n",
    "    return"
   ]
  },
  {
   "cell_type": "code",
   "execution_count": 10,
   "id": "fcccf180",
   "metadata": {},
   "outputs": [
    {
     "name": "stdout",
     "output_type": "stream",
     "text": [
      "5 2 9 15 1 8 7 "
     ]
    }
   ],
   "source": [
    "printTree(n1)"
   ]
  },
  {
   "cell_type": "code",
   "execution_count": 14,
   "id": "35388af2",
   "metadata": {},
   "outputs": [],
   "source": [
    "#better version of the code above which gives clarity of how the tree looks like\n",
    "\n",
    "def printTreeBetter(root):\n",
    "    \n",
    "    if root is None:\n",
    "        return\n",
    "    \n",
    "    print(root.data, ':', end = ' ')\n",
    "    for child in root.children:\n",
    "        print(child.data, ',', end=' ')\n",
    "        \n",
    "    print() \n",
    "    \n",
    "    for child in root.children:\n",
    "        printTreeBetter(child)\n",
    "   "
   ]
  },
  {
   "cell_type": "code",
   "execution_count": 15,
   "id": "3d3fe2f3",
   "metadata": {},
   "outputs": [
    {
     "name": "stdout",
     "output_type": "stream",
     "text": [
      "5 : 2 , 9 , 8 , 7 , \n",
      "2 : \n",
      "9 : 15 , 1 , \n",
      "15 : \n",
      "1 : \n",
      "8 : \n",
      "7 : \n"
     ]
    }
   ],
   "source": [
    "printTreeBetter(n1)"
   ]
  },
  {
   "cell_type": "markdown",
   "id": "3ce2f299",
   "metadata": {},
   "source": [
    "#### Taking Input"
   ]
  },
  {
   "cell_type": "code",
   "execution_count": 16,
   "id": "71db3558",
   "metadata": {},
   "outputs": [],
   "source": [
    "def takeInput():\n",
    "    \n",
    "    print('Enter root: ')\n",
    "    data = int(input())\n",
    "    if data == -1:\n",
    "        return None\n",
    "    \n",
    "    root = TreeNode(data)\n",
    "    \n",
    "    print('how many children?')\n",
    "    n = int(input())\n",
    "    \n",
    "    while n>0:\n",
    "        \n",
    "        child = takeInput()\n",
    "        root.children.append(child)\n",
    "        n-=1\n",
    "        \n",
    "    return root"
   ]
  },
  {
   "cell_type": "code",
   "execution_count": 19,
   "id": "9eeca352",
   "metadata": {
    "scrolled": true
   },
   "outputs": [
    {
     "name": "stdout",
     "output_type": "stream",
     "text": [
      "Enter root: \n",
      "1\n",
      "how many children?\n",
      "3\n",
      "Enter root: \n",
      "2\n",
      "how many children?\n",
      "0\n",
      "Enter root: \n",
      "3\n",
      "how many children?\n",
      "0\n",
      "Enter root: \n",
      "4\n",
      "how many children?\n",
      "0\n",
      "1 : 2 , 3 , 4 , \n",
      "2 : \n",
      "3 : \n",
      "4 : \n"
     ]
    }
   ],
   "source": [
    "root = takeInput()\n",
    "printTreeBetter(root)"
   ]
  },
  {
   "cell_type": "markdown",
   "id": "be4f050c",
   "metadata": {},
   "source": [
    "#### Count Nodes"
   ]
  },
  {
   "cell_type": "code",
   "execution_count": 28,
   "id": "b913bdf3",
   "metadata": {},
   "outputs": [],
   "source": [
    "def countNodes(root):\n",
    "    \n",
    "    if root is None:\n",
    "        return 0\n",
    "    \n",
    "    count = 1\n",
    "    \n",
    "    for child in root.children:\n",
    "        count = count + countNodes(child)\n",
    "    \n",
    "    return count"
   ]
  },
  {
   "cell_type": "code",
   "execution_count": 29,
   "id": "289c3a9a",
   "metadata": {},
   "outputs": [
    {
     "name": "stdout",
     "output_type": "stream",
     "text": [
      "Enter root: \n",
      "1\n",
      "how many children?\n",
      "3\n",
      "Enter root: \n",
      "2\n",
      "how many children?\n",
      "0\n",
      "Enter root: \n",
      "3\n",
      "how many children?\n",
      "0\n",
      "Enter root: \n",
      "4\n",
      "how many children?\n",
      "0\n",
      "1 : 2 , 3 , 4 , \n",
      "2 : \n",
      "3 : \n",
      "4 : \n",
      "4\n"
     ]
    }
   ],
   "source": [
    "root = takeInput()\n",
    "printTreeBetter(root)\n",
    "print(countNodes(root))"
   ]
  },
  {
   "cell_type": "markdown",
   "id": "bf1ffc7c",
   "metadata": {},
   "source": [
    "#### Sum of All Nodes"
   ]
  },
  {
   "cell_type": "code",
   "execution_count": 30,
   "id": "ffc5d932",
   "metadata": {},
   "outputs": [],
   "source": [
    "def sumOfAllNodes(root) :\n",
    "    \n",
    "    if root is None:\n",
    "        return 0\n",
    "    \n",
    "    sumnode = root.data\n",
    "    \n",
    "    for child in root.children:\n",
    "        sumnode = sumnode + sumOfAllNodes(child)\n",
    "        \n",
    "    return sumnode"
   ]
  },
  {
   "cell_type": "code",
   "execution_count": 31,
   "id": "2fb58d3f",
   "metadata": {},
   "outputs": [
    {
     "name": "stdout",
     "output_type": "stream",
     "text": [
      "Enter root: \n",
      "10\n",
      "how many children?\n",
      "3\n",
      "Enter root: \n",
      "20\n",
      "how many children?\n",
      "2\n",
      "Enter root: \n",
      "40\n",
      "how many children?\n",
      "0\n",
      "Enter root: \n",
      "50\n",
      "how many children?\n",
      "0\n",
      "Enter root: \n",
      "30\n",
      "how many children?\n",
      "0\n",
      "Enter root: \n",
      "40\n",
      "how many children?\n",
      "0\n",
      "10 : 20 , 30 , 40 , \n",
      "20 : 40 , 50 , \n",
      "40 : \n",
      "50 : \n",
      "30 : \n",
      "40 : \n",
      "190\n"
     ]
    }
   ],
   "source": [
    "root = takeInput()\n",
    "printTreeBetter(root)\n",
    "print(sumOfAllNodes(root))"
   ]
  },
  {
   "cell_type": "markdown",
   "id": "4ac0796c",
   "metadata": {},
   "source": [
    "#### Largest Node in a Generic Tree"
   ]
  },
  {
   "cell_type": "code",
   "execution_count": 36,
   "id": "c8c9e85c",
   "metadata": {},
   "outputs": [],
   "source": [
    "def maxDataNodeHelper(root,largest):\n",
    "    \n",
    "    if root is None:\n",
    "        return None\n",
    "    \n",
    "    if root.data > largest:\n",
    "        largest = root.data\n",
    "        \n",
    "    for child in root.children:\n",
    "        return maxDataNodeHelper(child,largest)\n",
    "    \n",
    "    return largest\n",
    "\n",
    "def maxDataNode(tree):\n",
    "    return maxDataNodeHelper(tree,-10000)"
   ]
  },
  {
   "cell_type": "code",
   "execution_count": 37,
   "id": "92f37654",
   "metadata": {},
   "outputs": [
    {
     "name": "stdout",
     "output_type": "stream",
     "text": [
      "Enter root: \n",
      "10\n",
      "how many children?\n",
      "3\n",
      "Enter root: \n",
      "20\n",
      "how many children?\n",
      "2\n",
      "Enter root: \n",
      "40\n",
      "how many children?\n",
      "0\n",
      "Enter root: \n",
      "50\n",
      "how many children?\n",
      "0\n",
      "Enter root: \n",
      "30\n",
      "how many children?\n",
      "0\n",
      "Enter root: \n",
      "40\n",
      "how many children?\n",
      "0\n",
      "10 : 20 , 30 , 40 , \n",
      "20 : 40 , 50 , \n",
      "40 : \n",
      "50 : \n",
      "30 : \n",
      "40 : \n",
      "40\n"
     ]
    }
   ],
   "source": [
    "root = takeInput()\n",
    "printTreeBetter(root)\n",
    "print(maxDataNode(root))"
   ]
  },
  {
   "cell_type": "markdown",
   "id": "9b6c29d6",
   "metadata": {},
   "source": [
    "#### Way Better Version of the Above Code"
   ]
  },
  {
   "cell_type": "code",
   "execution_count": 38,
   "id": "041980af",
   "metadata": {},
   "outputs": [],
   "source": [
    "def maxDataNode(tree):\n",
    "    if tree == None:\n",
    "        return -1\n",
    "    largest = tree.data\n",
    "    for child in tree.children:\n",
    "        childlarge = maxDataNode(child)\n",
    "        largest = max(childlarge,largest)\n",
    "    return largest"
   ]
  },
  {
   "cell_type": "markdown",
   "id": "682fbad7",
   "metadata": {},
   "source": [
    "#### Height of a Generic Tree"
   ]
  },
  {
   "cell_type": "code",
   "execution_count": 41,
   "id": "1b014f3a",
   "metadata": {},
   "outputs": [],
   "source": [
    "def height(root):\n",
    "    \n",
    "    if root is None:\n",
    "        return 0\n",
    "    \n",
    "    h = 1\n",
    "    l = list()\n",
    "    \n",
    "    for child in root.children:\n",
    "        h = 1 + height(child)\n",
    "        l.append(h)\n",
    "    \n",
    "    ch = max(l,default = 0)\n",
    "    \n",
    "    return max(h,ch)"
   ]
  },
  {
   "cell_type": "code",
   "execution_count": 43,
   "id": "2a15080f",
   "metadata": {},
   "outputs": [
    {
     "name": "stdout",
     "output_type": "stream",
     "text": [
      "Enter root: \n",
      "10\n",
      "how many children?\n",
      "2\n",
      "Enter root: \n",
      "20\n",
      "how many children?\n",
      "3\n",
      "Enter root: \n",
      "30\n",
      "how many children?\n",
      "0\n",
      "Enter root: \n",
      "40\n",
      "how many children?\n",
      "1\n",
      "Enter root: \n",
      "20\n",
      "how many children?\n",
      "0\n",
      "Enter root: \n",
      "45\n",
      "how many children?\n",
      "0\n",
      "Enter root: \n",
      "30\n",
      "how many children?\n",
      "0\n",
      "10 : 20 , 30 , \n",
      "20 : 30 , 40 , 45 , \n",
      "30 : \n",
      "40 : 20 , \n",
      "20 : \n",
      "45 : \n",
      "30 : \n",
      "4\n"
     ]
    }
   ],
   "source": [
    "root = takeInput()\n",
    "printTreeBetter(root)\n",
    "print(height(root))"
   ]
  },
  {
   "cell_type": "markdown",
   "id": "e740c634",
   "metadata": {},
   "source": [
    "#### Levelwise Input"
   ]
  },
  {
   "cell_type": "code",
   "execution_count": 46,
   "id": "19c90867",
   "metadata": {},
   "outputs": [],
   "source": [
    "import queue\n",
    "def levelwiseInput():\n",
    "    \n",
    "    q = queue.Queue()\n",
    "    print('Enter root:')\n",
    "    rootdata = int(input())\n",
    "    \n",
    "    if rootdata == -1:\n",
    "        return None\n",
    "    \n",
    "    root = TreeNode(rootdata)\n",
    "    q.put(root)\n",
    "    \n",
    "    while not q.empty():\n",
    "        \n",
    "        curr = q.get()\n",
    "        print('how many children for', curr.data)\n",
    "        n = int(input())\n",
    "        \n",
    "        while n>0:\n",
    "            print('Enter child for ', curr.data)\n",
    "            childdata = int(input())\n",
    "            child = TreeNode(childdata)\n",
    "            q.put(child)\n",
    "            curr.children.append(child)\n",
    "            n-=1\n",
    "        \n",
    "    return root"
   ]
  },
  {
   "cell_type": "code",
   "execution_count": 47,
   "id": "45d30893",
   "metadata": {},
   "outputs": [
    {
     "name": "stdout",
     "output_type": "stream",
     "text": [
      "Enter root:\n",
      "1\n",
      "how many children for 1\n",
      "3\n",
      "Enter child for  1\n",
      "2\n",
      "Enter child for  1\n",
      "3\n",
      "Enter child for  1\n",
      "4\n",
      "how many children for 2\n",
      "0\n",
      "how many children for 3\n",
      "2\n",
      "Enter child for  3\n",
      "5\n",
      "Enter child for  3\n",
      "6\n",
      "how many children for 4\n",
      "0\n",
      "how many children for 5\n",
      "0\n",
      "how many children for 6\n",
      "0\n",
      "1 : 2 , 3 , 4 , \n",
      "2 : \n",
      "3 : 5 , 6 , \n",
      "5 : \n",
      "6 : \n",
      "4 : \n"
     ]
    }
   ],
   "source": [
    "root = levelwiseInput()\n",
    "printTreeBetter(root)"
   ]
  },
  {
   "cell_type": "markdown",
   "id": "c3a3169a",
   "metadata": {},
   "source": [
    "#### Print Levelwise"
   ]
  },
  {
   "cell_type": "code",
   "execution_count": 58,
   "id": "4bfc6d33",
   "metadata": {},
   "outputs": [],
   "source": [
    "def printLevelwise(root):\n",
    "    \n",
    "    if root is None:\n",
    "        return None\n",
    "    \n",
    "    q = queue.Queue()\n",
    "    q.put(root)\n",
    "    \n",
    "    while not q.empty():\n",
    "        \n",
    "        curr = q.get()\n",
    "        print(curr.data,end=':')\n",
    "        \n",
    "        for i in range(len(curr.children)):\n",
    "            print(curr.children[i].data,end='')\n",
    "            if i<len(curr.children)-1:\n",
    "                print(',',end='')\n",
    "            q.put(curr.children[i])\n",
    "            \n",
    "        print()"
   ]
  },
  {
   "cell_type": "code",
   "execution_count": 59,
   "id": "b21193d2",
   "metadata": {},
   "outputs": [
    {
     "name": "stdout",
     "output_type": "stream",
     "text": [
      "Enter root:\n",
      "1\n",
      "how many children for 1\n",
      "3\n",
      "Enter child for  1\n",
      "2\n",
      "Enter child for  1\n",
      "3\n",
      "Enter child for  1\n",
      "4\n",
      "how many children for 2\n",
      "0\n",
      "how many children for 3\n",
      "0\n",
      "how many children for 4\n",
      "0\n",
      "1:2,3,4\n",
      "2:\n",
      "3:\n",
      "4:\n"
     ]
    }
   ],
   "source": [
    "root = levelwiseInput()\n",
    "printLevelwise(root)"
   ]
  },
  {
   "cell_type": "markdown",
   "id": "fac408e7",
   "metadata": {},
   "source": [
    "#### CN Code for Height of Tree\n",
    "Does not use list like my code"
   ]
  },
  {
   "cell_type": "code",
   "execution_count": 60,
   "id": "b8e3f223",
   "metadata": {},
   "outputs": [],
   "source": [
    "def heightBetter(root):\n",
    "    \n",
    "    if root is None:\n",
    "        return 0\n",
    "    \n",
    "    h = 0\n",
    "    \n",
    "    for child in root.children:\n",
    "        ch = heightBetter(child)\n",
    "        if ch > h:\n",
    "            h = ch\n",
    "    \n",
    "    return h+1"
   ]
  },
  {
   "cell_type": "code",
   "execution_count": 62,
   "id": "019e11f3",
   "metadata": {},
   "outputs": [
    {
     "name": "stdout",
     "output_type": "stream",
     "text": [
      "Enter root:\n",
      "1\n",
      "how many children for 1\n",
      "3\n",
      "Enter child for  1\n",
      "2\n",
      "Enter child for  1\n",
      "3\n",
      "Enter child for  1\n",
      "4\n",
      "how many children for 2\n",
      "0\n",
      "how many children for 3\n",
      "2\n",
      "Enter child for  3\n",
      "5\n",
      "Enter child for  3\n",
      "6\n",
      "how many children for 4\n",
      "0\n",
      "how many children for 5\n",
      "0\n",
      "how many children for 6\n",
      "0\n",
      "3\n"
     ]
    }
   ],
   "source": [
    "root = levelwiseInput()\n",
    "print(heightBetter(root))"
   ]
  },
  {
   "cell_type": "markdown",
   "id": "9ab5a5cf",
   "metadata": {},
   "source": [
    "#### CN Code for Print Levelwise\n",
    "Does not use queue like my code, uses list instead"
   ]
  },
  {
   "cell_type": "code",
   "execution_count": 65,
   "id": "fd71e61e",
   "metadata": {},
   "outputs": [],
   "source": [
    "def printLevelwiseCN(root):\n",
    "    \n",
    "    q = [root]\n",
    "    while q:\n",
    "        parent = q.pop()\n",
    "        print(parent.data, ':', ','.join(str(num.data) for num in parent.children), sep='')\n",
    "        \n",
    "        for child in parent.children:\n",
    "            q.append(child)"
   ]
  },
  {
   "cell_type": "code",
   "execution_count": 66,
   "id": "caa9fe3d",
   "metadata": {},
   "outputs": [
    {
     "name": "stdout",
     "output_type": "stream",
     "text": [
      "Enter root:\n",
      "1\n",
      "how many children for 1\n",
      "3\n",
      "Enter child for  1\n",
      "2\n",
      "Enter child for  1\n",
      "3\n",
      "Enter child for  1\n",
      "4\n",
      "how many children for 2\n",
      "0\n",
      "how many children for 3\n",
      "0\n",
      "how many children for 4\n",
      "0\n",
      "1:2,3,4\n",
      "4:\n",
      "3:\n",
      "2:\n",
      "None\n"
     ]
    }
   ],
   "source": [
    "root = levelwiseInput()\n",
    "printLevelwiseCN(root)"
   ]
  },
  {
   "cell_type": "markdown",
   "id": "5336b0d6",
   "metadata": {},
   "source": [
    "##### Assignment Questions"
   ]
  },
  {
   "cell_type": "markdown",
   "id": "5cddf822",
   "metadata": {},
   "source": [
    "Check if Tree Contains x"
   ]
  },
  {
   "cell_type": "code",
   "execution_count": 76,
   "id": "fc621cea",
   "metadata": {},
   "outputs": [],
   "source": [
    "def containsX(root, x):\n",
    "\n",
    "    if root.data == x:\n",
    "        return True\n",
    "    \n",
    "    for child in root.children:\n",
    "        ans = containsX(child,x)\n",
    "        if ans:\n",
    "            return True\n",
    "            \n",
    "    return False"
   ]
  },
  {
   "cell_type": "code",
   "execution_count": 77,
   "id": "775f201f",
   "metadata": {},
   "outputs": [
    {
     "name": "stdout",
     "output_type": "stream",
     "text": [
      "Enter root:\n",
      "1\n",
      "how many children for 1\n",
      "3\n",
      "Enter child for  1\n",
      "2\n",
      "Enter child for  1\n",
      "3\n",
      "Enter child for  1\n",
      "4\n",
      "how many children for 2\n",
      "0\n",
      "how many children for 3\n",
      "2\n",
      "Enter child for  3\n",
      "5\n",
      "Enter child for  3\n",
      "6\n",
      "how many children for 4\n",
      "0\n",
      "how many children for 5\n",
      "0\n",
      "how many children for 6\n",
      "0\n",
      "1:2,3,4\n",
      "4:\n",
      "3:5,6\n",
      "6:\n",
      "5:\n",
      "2:\n",
      "1\n",
      "2\n",
      "3\n",
      "5\n",
      "6\n",
      "4\n",
      "True\n"
     ]
    }
   ],
   "source": [
    "root = levelwiseInput()\n",
    "printLevelwiseCN(root)\n",
    "print(containsX(root,4))"
   ]
  },
  {
   "cell_type": "markdown",
   "id": "d91df14b",
   "metadata": {},
   "source": [
    "Count Leaf Nodes"
   ]
  },
  {
   "cell_type": "code",
   "execution_count": 81,
   "id": "1727adcc",
   "metadata": {},
   "outputs": [],
   "source": [
    "def leafNodeCount(root):\n",
    "    \n",
    "    if root is None:\n",
    "        return 0\n",
    "    \n",
    "    ans = 0\n",
    "    \n",
    "    if len(root.children) == 0:\n",
    "        return 1\n",
    "    else:\n",
    "        for child in root.children:\n",
    "            ans = ans + leafNodeCount(child)\n",
    "        return ans"
   ]
  },
  {
   "cell_type": "code",
   "execution_count": 82,
   "id": "da59ed53",
   "metadata": {},
   "outputs": [
    {
     "name": "stdout",
     "output_type": "stream",
     "text": [
      "Enter root:\n",
      "1\n",
      "how many children for 1\n",
      "3\n",
      "Enter child for  1\n",
      "2\n",
      "Enter child for  1\n",
      "3\n",
      "Enter child for  1\n",
      "4\n",
      "how many children for 2\n",
      "0\n",
      "how many children for 3\n",
      "0\n",
      "how many children for 4\n",
      "0\n",
      "1:2,3,4\n",
      "4:\n",
      "3:\n",
      "2:\n",
      "3\n"
     ]
    }
   ],
   "source": [
    "root = levelwiseInput()\n",
    "printLevelwiseCN(root)\n",
    "print(leafNodeCount(root))"
   ]
  },
  {
   "cell_type": "markdown",
   "id": "25508c08",
   "metadata": {},
   "source": [
    "Maximum Sum Node"
   ]
  },
  {
   "cell_type": "code",
   "execution_count": 96,
   "id": "c3897da6",
   "metadata": {},
   "outputs": [],
   "source": [
    "def maxSumNode(root):\n",
    "    \n",
    "    if root is None:\n",
    "        return 0, 0\n",
    "    \n",
    "    nodesum = root.data\n",
    "    node = root\n",
    "    \n",
    "    for child in root.children:\n",
    "        nodesum = nodesum + child.data\n",
    "    \n",
    "    for child in root.children:\n",
    "        child, chsum = maxSumNode(child)\n",
    "        if chsum > nodesum:\n",
    "            nodesum = chsum\n",
    "            node = child\n",
    "        \n",
    "    return node, nodesum"
   ]
  },
  {
   "cell_type": "code",
   "execution_count": 97,
   "id": "2dea6ab4",
   "metadata": {},
   "outputs": [
    {
     "name": "stdout",
     "output_type": "stream",
     "text": [
      "Enter root:\n",
      "1\n",
      "how many children for 1\n",
      "3\n",
      "Enter child for  1\n",
      "1\n",
      "Enter child for  1\n",
      "2\n",
      "Enter child for  1\n",
      "3\n",
      "how many children for 1\n",
      "1\n",
      "Enter child for  1\n",
      "15\n",
      "how many children for 2\n",
      "2\n",
      "Enter child for  2\n",
      "4\n",
      "Enter child for  2\n",
      "5\n",
      "how many children for 3\n",
      "1\n",
      "Enter child for  3\n",
      "6\n",
      "how many children for 15\n",
      "0\n",
      "how many children for 4\n",
      "0\n",
      "how many children for 5\n",
      "0\n",
      "how many children for 6\n",
      "0\n",
      "1:1,2,3\n",
      "3:6\n",
      "6:\n",
      "2:4,5\n",
      "5:\n",
      "4:\n",
      "1:15\n",
      "15:\n",
      "1\n"
     ]
    }
   ],
   "source": [
    "root = levelwiseInput()\n",
    "printLevelwiseCN(root)\n",
    "ansroot, ans = maxSumNode(root)\n",
    "print(ansroot.data)"
   ]
  },
  {
   "cell_type": "markdown",
   "id": "9a89960d",
   "metadata": {},
   "source": [
    "Structurally Identical"
   ]
  },
  {
   "cell_type": "code",
   "execution_count": 101,
   "id": "1c7656f6",
   "metadata": {},
   "outputs": [],
   "source": [
    "def isIdentical(root1, root2):\n",
    "    \n",
    "    if root1.data != root2.data:\n",
    "        return False\n",
    "    \n",
    "    if len(root1.children) != len(root2.children):\n",
    "        return False\n",
    "    \n",
    "    for child1, child2 in zip(root1.children, root2.children):\n",
    "        ans = isIdentical(child1, child2)\n",
    "        if not ans:\n",
    "            return ans\n",
    "        \n",
    "    return True"
   ]
  },
  {
   "cell_type": "code",
   "execution_count": 102,
   "id": "03b7ae73",
   "metadata": {},
   "outputs": [
    {
     "name": "stdout",
     "output_type": "stream",
     "text": [
      "Enter root:\n",
      "1\n",
      "how many children for 1\n",
      "3\n",
      "Enter child for  1\n",
      "2\n",
      "Enter child for  1\n",
      "3\n",
      "Enter child for  1\n",
      "4\n",
      "how many children for 2\n",
      "2\n",
      "Enter child for  2\n",
      "4\n",
      "Enter child for  2\n",
      "5\n",
      "how many children for 3\n",
      "0\n",
      "how many children for 4\n",
      "0\n",
      "how many children for 4\n",
      "0\n",
      "how many children for 5\n",
      "0\n",
      "1:2,3,4\n",
      "4:\n",
      "3:\n",
      "2:4,5\n",
      "5:\n",
      "4:\n",
      "Enter root:\n",
      "1\n",
      "how many children for 1\n",
      "3\n",
      "Enter child for  1\n",
      "2\n",
      "Enter child for  1\n",
      "3\n",
      "Enter child for  1\n",
      "4\n",
      "how many children for 2\n",
      "2\n",
      "Enter child for  2\n",
      "4\n",
      "Enter child for  2\n",
      "5\n",
      "how many children for 3\n",
      "0\n",
      "how many children for 4\n",
      "0\n",
      "how many children for 4\n",
      "0\n",
      "how many children for 5\n",
      "0\n",
      "1:2,3,4\n",
      "4:\n",
      "3:\n",
      "2:4,5\n",
      "5:\n",
      "4:\n",
      "True\n"
     ]
    }
   ],
   "source": [
    "root1 = levelwiseInput()\n",
    "printLevelwiseCN(root1)\n",
    "root2 = levelwiseInput()\n",
    "printLevelwiseCN(root2)\n",
    "print(isIdentical(root1, root2))"
   ]
  },
  {
   "cell_type": "markdown",
   "id": "8ac7ae7e",
   "metadata": {},
   "source": [
    "Immediate Larger Node than n"
   ]
  },
  {
   "cell_type": "code",
   "execution_count": 118,
   "id": "e94ecdb7",
   "metadata": {},
   "outputs": [],
   "source": [
    "def nextLargest(root, n):\n",
    "    \n",
    "    if root is None:\n",
    "        return None\n",
    "    \n",
    "    larger = None\n",
    "    \n",
    "    if root.data > n:\n",
    "        larger = root\n",
    "        \n",
    "    for child in root.children:\n",
    "        ans = nextLargest(child, n)\n",
    "        if larger is None or larger.data > ans.data:\n",
    "            larger = ans\n",
    "    \n",
    "    return larger"
   ]
  },
  {
   "cell_type": "code",
   "execution_count": 120,
   "id": "3223b030",
   "metadata": {},
   "outputs": [
    {
     "name": "stdout",
     "output_type": "stream",
     "text": [
      "Enter root:\n",
      "10\n",
      "how many children for 10\n",
      "3\n",
      "Enter child for  10\n",
      "20\n",
      "Enter child for  10\n",
      "30\n",
      "Enter child for  10\n",
      "40\n",
      "how many children for 20\n",
      "2\n",
      "Enter child for  20\n",
      "40\n",
      "Enter child for  20\n",
      "50\n",
      "how many children for 30\n",
      "0\n",
      "how many children for 40\n",
      "0\n",
      "how many children for 40\n",
      "0\n",
      "how many children for 50\n",
      "0\n",
      "10:20,30,40\n",
      "40:\n",
      "30:\n",
      "20:40,50\n",
      "50:\n",
      "40:\n",
      "20\n"
     ]
    }
   ],
   "source": [
    "root = levelwiseInput()\n",
    "printLevelwiseCN(root)\n",
    "print(nextLargest(root, 18).data)"
   ]
  },
  {
   "cell_type": "markdown",
   "id": "4cb84b49",
   "metadata": {},
   "source": [
    "Replace Node With Depth"
   ]
  },
  {
   "cell_type": "code",
   "execution_count": null,
   "id": "0fe8afa1",
   "metadata": {},
   "outputs": [],
   "source": [
    "def replacewithDepthHelper(root, d=0):\n",
    "    \n",
    "    root.data = d\n",
    "    \n",
    "    for child in root.children:\n",
    "        replacewithDepthHelper(child, d+1)"
   ]
  }
 ],
 "metadata": {
  "kernelspec": {
   "display_name": "Python 3",
   "language": "python",
   "name": "python3"
  },
  "language_info": {
   "codemirror_mode": {
    "name": "ipython",
    "version": 3
   },
   "file_extension": ".py",
   "mimetype": "text/x-python",
   "name": "python",
   "nbconvert_exporter": "python",
   "pygments_lexer": "ipython3",
   "version": "3.8.8"
  }
 },
 "nbformat": 4,
 "nbformat_minor": 5
}
